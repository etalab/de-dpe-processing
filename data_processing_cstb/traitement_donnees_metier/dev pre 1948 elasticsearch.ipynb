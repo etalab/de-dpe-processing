{
 "cells": [
  {
   "cell_type": "markdown",
   "metadata": {},
   "source": [
    "# tootltips"
   ]
  },
  {
   "cell_type": "code",
   "execution_count": null,
   "metadata": {},
   "outputs": [],
   "source": [
    "!curl http://localhost:9200/dpe_pre_1948_td005/_count"
   ]
  },
  {
   "cell_type": "markdown",
   "metadata": {},
   "source": [
    "# Imports"
   ]
  },
  {
   "cell_type": "code",
   "execution_count": 2,
   "metadata": {},
   "outputs": [],
   "source": [
    "from elasticsearch import Elasticsearch"
   ]
  },
  {
   "cell_type": "markdown",
   "metadata": {},
   "source": [
    "# Client Elasticsearch"
   ]
  },
  {
   "cell_type": "code",
   "execution_count": 3,
   "metadata": {},
   "outputs": [],
   "source": [
    "es_client = Elasticsearch()"
   ]
  },
  {
   "cell_type": "markdown",
   "metadata": {},
   "source": [
    "# Preparer la base de données pour l'analyse au moment de la sauvegarde"
   ]
  },
  {
   "cell_type": "code",
   "execution_count": 73,
   "metadata": {},
   "outputs": [],
   "source": [
    "index_name = \"dpe_pre_1948_td005\"\n",
    "index_configurations = {\n",
    "    \"settings\": {\n",
    "        \"index\": {\n",
    "            \"number_of_shards\": 1,\n",
    "            \"number_of_replicas\": 0,\n",
    "            \"max_result_window\": 500000,\n",
    "\n",
    "        }\n",
    "    },\n",
    "    \"mappings\": {\n",
    "        \"properties\": {\n",
    "            \"id\": {\"type\": \"keyword\"},\n",
    "            \"text_to_analyze\": {\n",
    "                \"type\": \"text\",\n",
    "                \"analyzer\": \"french\"      \n",
    "            },\n",
    "            \"category_index\":{\n",
    "                'type':'keyword'\n",
    "            }\n",
    "        }\n",
    "    }\n",
    "}"
   ]
  },
  {
   "cell_type": "code",
   "execution_count": 18,
   "metadata": {},
   "outputs": [
    {
     "data": {
      "text/plain": [
       "{'acknowledged': True}"
      ]
     },
     "execution_count": 18,
     "metadata": {},
     "output_type": "execute_result"
    }
   ],
   "source": [
    "es_client.indices.delete(\n",
    "    index=index_name,\n",
    ")"
   ]
  },
  {
   "cell_type": "code",
   "execution_count": 19,
   "metadata": {},
   "outputs": [
    {
     "data": {
      "text/plain": [
       "{'acknowledged': True,\n",
       " 'shards_acknowledged': True,\n",
       " 'index': 'dpe_pre_1948_td005'}"
      ]
     },
     "execution_count": 19,
     "metadata": {},
     "output_type": "execute_result"
    }
   ],
   "source": [
    "es_client.indices.create(\n",
    "    index=index_name,\n",
    "    body=index_configurations\n",
    ")"
   ]
  },
  {
   "cell_type": "markdown",
   "metadata": {},
   "source": [
    "# load tables"
   ]
  },
  {
   "cell_type": "code",
   "execution_count": 8,
   "metadata": {},
   "outputs": [
    {
     "name": "stdout",
     "output_type": "stream",
     "text": [
      "D:\\data\\dpe_full\\depts\\1\n"
     ]
    }
   ],
   "source": [
    "import numpy as np\n",
    "\n",
    "import pandas as pd\n",
    "from pathlib import Path\n",
    "import json\n",
    "from generate_dpe_annexes_scripts.utils import round_float_cols, unique_ordered\n",
    "from config import paths\n",
    "\n",
    "\n",
    "if __name__ == '__main__':\n",
    "\n",
    "    data_dir = paths['DPE_DEPT_PATH']\n",
    "    annexe_dir = paths['DPE_DEPT_ANNEXE_PATH']\n",
    "    annexe_dir = Path(annexe_dir)\n",
    "    annexe_dir.mkdir(exist_ok=True, parents=True)\n",
    "    for dept_dir in Path(data_dir).iterdir():\n",
    "        print(dept_dir)\n",
    "        annexe_dept_dir = annexe_dir / dept_dir.name\n",
    "        annexe_dept_dir.mkdir(exist_ok=True, parents=True)\n",
    "        # LOAD TABLES\n",
    "        td001 = pd.read_csv(dept_dir / 'td001_dpe.csv', dtype=str)\n",
    "        td003 = pd.read_csv(dept_dir / 'td003_descriptif.csv', dtype=str)\n",
    "        td005 = pd.read_csv(dept_dir / 'td005_fiche_technique.csv', dtype=str)\n",
    "        td006 = pd.read_csv(dept_dir / 'td001_dpe.csv', dtype=str)\n",
    "\n",
    "        break\n",
    "        # ENVELOPPE PROCESSING\n"
   ]
  },
  {
   "cell_type": "code",
   "execution_count": 37,
   "metadata": {},
   "outputs": [],
   "source": [
    "mixte = ('mixte', 'combine', 'chauffage + ecs','chauffage et ecs','lie ','combine ',\"idem\")\n",
    "mixte = ('mixte', 'combine', 'chauffage ecs','lie ','combine ',\"idem\")\n",
    "\n",
    "\n",
    "gen_ecs_normalized_lib_matching_dict_ft = {\n",
    "    \"ECS thermodynamique electrique(PAC ou ballon)\": [\n",
    "        ('pompe a chaleur', 'pac', 'thermodynamique', 'air extrait', 'air exterieur', 'air ambiant')],\n",
    "    \n",
    "    \"ballon a accumulation electrique\": [('ballon', 'classique', 'accumulation'), ('electricite', 'electrique','elec.')],\n",
    "    \"ecs electrique indeterminee\": [('electricite', 'electrique','elec.')],\n",
    "    \"ecs instantanee electrique\": ['instantanee', ('electricite', 'electrique','elec.')],\n",
    "\n",
    "    'chaudiere mixte gaz': [\"chaudiere\", mixte, \"gaz\"],\n",
    "    'chaudiere mixte fioul': [\"chaudiere\", mixte, \"fioul\"],\n",
    "    'chaudiere mixte bois': [(\"bois\", \"biomasse\")],\n",
    "\n",
    "    'chauffe-eau gaz independant': [(\"individuelle ballon\", \"chauffe-eau\", \"accumulateur\", \"chauffe bain\"), \"gaz\"],\n",
    "    'chauffe-eau gpl independant': [(\"individuelle ballon\", \"chauffe-eau\", \"accumulateur\", \"chauffe bain\"), \"gpl\"],\n",
    "\n",
    "    'chauffe-eau fioul independant': [(\"individuelle ballon\", \"chauffe-eau\", \"accumulateur\", \"chauffe bain\"),\n",
    "                                      \"fioul\"],\n",
    "    \"ecs collective reseau chaleur\": [\"reseau\", \"chaleur\"],\n",
    "\n",
    "    'chaudiere gaz': [\"chaudiere\", \"gaz\"],\n",
    "    'chaudiere gpl': [\"chaudiere\", \"gpl\"],\n",
    "\n",
    "    'chaudiere fioul': [\"chaudiere\", \"fioul\"],\n",
    "    'chaudiere non déterminee': [\"chaudiere\"],\n",
    "    'production mixte indeterminee': [ mixte],\n",
    "\n",
    "}"
   ]
  },
  {
   "cell_type": "code",
   "execution_count": 10,
   "metadata": {},
   "outputs": [],
   "source": [
    "from generate_dpe_annexes_scripts.utils import strip_accents"
   ]
  },
  {
   "cell_type": "code",
   "execution_count": 42,
   "metadata": {},
   "outputs": [
    {
     "data": {
      "text/html": [
       "<div>\n",
       "<style scoped>\n",
       "    .dataframe tbody tr th:only-of-type {\n",
       "        vertical-align: middle;\n",
       "    }\n",
       "\n",
       "    .dataframe tbody tr th {\n",
       "        vertical-align: top;\n",
       "    }\n",
       "\n",
       "    .dataframe thead th {\n",
       "        text-align: right;\n",
       "    }\n",
       "</style>\n",
       "<table border=\"1\" class=\"dataframe\">\n",
       "  <thead>\n",
       "    <tr style=\"text-align: right;\">\n",
       "      <th></th>\n",
       "      <th>id</th>\n",
       "      <th>td001_dpe_id</th>\n",
       "      <th>tr011_sous_categorie_fiche_technique_id</th>\n",
       "      <th>valeur_renseignee</th>\n",
       "      <th>est_efface</th>\n",
       "    </tr>\n",
       "  </thead>\n",
       "  <tbody>\n",
       "    <tr>\n",
       "      <th>0</th>\n",
       "      <td>3390</td>\n",
       "      <td>178</td>\n",
       "      <td>1</td>\n",
       "      <td>01  Ain</td>\n",
       "      <td>0</td>\n",
       "    </tr>\n",
       "    <tr>\n",
       "      <th>1</th>\n",
       "      <td>3391</td>\n",
       "      <td>178</td>\n",
       "      <td>2</td>\n",
       "      <td>520</td>\n",
       "      <td>0</td>\n",
       "    </tr>\n",
       "    <tr>\n",
       "      <th>2</th>\n",
       "      <td>3392</td>\n",
       "      <td>178</td>\n",
       "      <td>3</td>\n",
       "      <td>Maison Individuelle</td>\n",
       "      <td>0</td>\n",
       "    </tr>\n",
       "    <tr>\n",
       "      <th>3</th>\n",
       "      <td>3393</td>\n",
       "      <td>178</td>\n",
       "      <td>4</td>\n",
       "      <td>2001 - 2005</td>\n",
       "      <td>0</td>\n",
       "    </tr>\n",
       "    <tr>\n",
       "      <th>4</th>\n",
       "      <td>3394</td>\n",
       "      <td>178</td>\n",
       "      <td>5</td>\n",
       "      <td>190</td>\n",
       "      <td>0</td>\n",
       "    </tr>\n",
       "    <tr>\n",
       "      <th>...</th>\n",
       "      <td>...</td>\n",
       "      <td>...</td>\n",
       "      <td>...</td>\n",
       "      <td>...</td>\n",
       "      <td>...</td>\n",
       "    </tr>\n",
       "    <tr>\n",
       "      <th>2100215</th>\n",
       "      <td>174105056</td>\n",
       "      <td>9431386</td>\n",
       "      <td>16</td>\n",
       "      <td>Panneaux rayonnants NFC (système individuel)&lt;br/&gt;</td>\n",
       "      <td>0</td>\n",
       "    </tr>\n",
       "    <tr>\n",
       "      <th>2100216</th>\n",
       "      <td>174105057</td>\n",
       "      <td>9431386</td>\n",
       "      <td>17</td>\n",
       "      <td>Chauffe-eau électrique (système individuel)&lt;br...</td>\n",
       "      <td>0</td>\n",
       "    </tr>\n",
       "    <tr>\n",
       "      <th>2100217</th>\n",
       "      <td>174105058</td>\n",
       "      <td>9431386</td>\n",
       "      <td>13</td>\n",
       "      <td>Porte(s) bois avec double vitrage&lt;br/&gt;Surface ...</td>\n",
       "      <td>0</td>\n",
       "    </tr>\n",
       "    <tr>\n",
       "      <th>2100218</th>\n",
       "      <td>174105059</td>\n",
       "      <td>9431386</td>\n",
       "      <td>12</td>\n",
       "      <td>Portes-fenêtres battantes PVC double vitrage 1...</td>\n",
       "      <td>0</td>\n",
       "    </tr>\n",
       "    <tr>\n",
       "      <th>2100219</th>\n",
       "      <td>174105060</td>\n",
       "      <td>9431386</td>\n",
       "      <td>15</td>\n",
       "      <td>Naturelle par conduit</td>\n",
       "      <td>0</td>\n",
       "    </tr>\n",
       "  </tbody>\n",
       "</table>\n",
       "<p>2100220 rows × 5 columns</p>\n",
       "</div>"
      ],
      "text/plain": [
       "                id td001_dpe_id tr011_sous_categorie_fiche_technique_id  \\\n",
       "0             3390          178                                       1   \n",
       "1             3391          178                                       2   \n",
       "2             3392          178                                       3   \n",
       "3             3393          178                                       4   \n",
       "4             3394          178                                       5   \n",
       "...            ...          ...                                     ...   \n",
       "2100215  174105056      9431386                                      16   \n",
       "2100216  174105057      9431386                                      17   \n",
       "2100217  174105058      9431386                                      13   \n",
       "2100218  174105059      9431386                                      12   \n",
       "2100219  174105060      9431386                                      15   \n",
       "\n",
       "                                         valeur_renseignee est_efface  \n",
       "0                                                  01  Ain          0  \n",
       "1                                                      520          0  \n",
       "2                                      Maison Individuelle          0  \n",
       "3                                              2001 - 2005          0  \n",
       "4                                                      190          0  \n",
       "...                                                    ...        ...  \n",
       "2100215  Panneaux rayonnants NFC (système individuel)<br/>          0  \n",
       "2100216  Chauffe-eau électrique (système individuel)<br...          0  \n",
       "2100217  Porte(s) bois avec double vitrage<br/>Surface ...          0  \n",
       "2100218  Portes-fenêtres battantes PVC double vitrage 1...          0  \n",
       "2100219                              Naturelle par conduit          0  \n",
       "\n",
       "[2100220 rows x 5 columns]"
      ]
     },
     "execution_count": 42,
     "metadata": {},
     "output_type": "execute_result"
    }
   ],
   "source": [
    "td005"
   ]
  },
  {
   "cell_type": "code",
   "execution_count": 11,
   "metadata": {},
   "outputs": [
    {
     "name": "stderr",
     "output_type": "stream",
     "text": [
      "C:\\ProgramData\\Anaconda3\\lib\\site-packages\\pandas\\core\\generic.py:5303: SettingWithCopyWarning: \n",
      "A value is trying to be set on a copy of a slice from a DataFrame.\n",
      "Try using .loc[row_indexer,col_indexer] = value instead\n",
      "\n",
      "See the caveats in the documentation: https://pandas.pydata.org/pandas-docs/stable/user_guide/indexing.html#returning-a-view-versus-a-copy\n",
      "  self[name] = value\n"
     ]
    }
   ],
   "source": [
    "td005_ecs = td005.loc[td005.tr011_sous_categorie_fiche_technique_id == '17']\n",
    "td005_ecs.valeur_renseignee = td005_ecs.valeur_renseignee.str.lower().apply(lambda x: strip_accents(x))\n"
   ]
  },
  {
   "cell_type": "markdown",
   "metadata": {},
   "source": [
    "# feed es"
   ]
  },
  {
   "cell_type": "code",
   "execution_count": 20,
   "metadata": {},
   "outputs": [],
   "source": [
    "from elasticsearch.helpers import bulk,parallel_bulk"
   ]
  },
  {
   "cell_type": "code",
   "execution_count": 21,
   "metadata": {},
   "outputs": [],
   "source": [
    "# TODO : optimize"
   ]
  },
  {
   "cell_type": "code",
   "execution_count": 22,
   "metadata": {},
   "outputs": [
    {
     "data": {
      "text/plain": [
       "(92242, [])"
      ]
     },
     "execution_count": 22,
     "metadata": {},
     "output_type": "execute_result"
    }
   ],
   "source": [
    "def gendata():\n",
    "    for id_,vr in zip(td005_ecs.td001_dpe_id,td005_ecs.valeur_renseignee):\n",
    "        yield {\n",
    "            \"_index\": index_name,\n",
    "    \"id\": id_,\n",
    "    \"text_to_analyze\": vr.split('\\n')\n",
    "        }\n",
    "\n",
    "bulk(es_client, gendata())"
   ]
  },
  {
   "cell_type": "markdown",
   "metadata": {},
   "source": [
    "# catégoriser mes documents"
   ]
  },
  {
   "cell_type": "code",
   "execution_count": 38,
   "metadata": {},
   "outputs": [
    {
     "data": {
      "text/plain": [
       "'chaudiere AND (mixte OR combine OR chauffage ecs OR lie  OR combine  OR idem) AND gaz'"
      ]
     },
     "execution_count": 38,
     "metadata": {},
     "output_type": "execute_result"
    }
   ],
   "source": [
    "char_list=gen_ecs_normalized_lib_matching_dict_ft['chaudiere mixte gaz']\n",
    "new_char_list=list()\n",
    "for char in char_list:\n",
    "    if isinstance(char,str):\n",
    "        new_char_list.append(char)\n",
    "    if isinstance(char,tuple):\n",
    "        new_char_list.append('('+' OR '.join(char)+')')\n",
    "search_instruction = ' AND '.join(new_char_list)\n",
    "search_instruction"
   ]
  },
  {
   "cell_type": "code",
   "execution_count": 48,
   "metadata": {},
   "outputs": [
    {
     "data": {
      "text/plain": [
       "{'count': 22049,\n",
       " '_shards': {'total': 1, 'successful': 1, 'skipped': 0, 'failed': 0}}"
      ]
     },
     "execution_count": 48,
     "metadata": {},
     "output_type": "execute_result"
    }
   ],
   "source": [
    "search_body = {\n",
    "    \"query\": {\n",
    "        \"query_string\": {\n",
    "            \"query\": search_instruction,\n",
    "            \"default_field\": \"text_to_analyze\"\n",
    "        },\n",
    "\n",
    "    },\n",
    "\n",
    "}\n",
    "\n",
    "es_client.count(index=index_name, body=search_body)"
   ]
  },
  {
   "cell_type": "code",
   "execution_count": 54,
   "metadata": {},
   "outputs": [],
   "source": [
    "es_client.search?"
   ]
  },
  {
   "cell_type": "code",
   "execution_count": 58,
   "metadata": {},
   "outputs": [],
   "source": [
    "a_dict=es_client.search(index=index_name, body=search_body,size=500000)"
   ]
  },
  {
   "cell_type": "code",
   "execution_count": 66,
   "metadata": {},
   "outputs": [],
   "source": [
    "hits = a_dict['hits']['hits']"
   ]
  },
  {
   "cell_type": "code",
   "execution_count": 71,
   "metadata": {},
   "outputs": [
    {
     "name": "stderr",
     "output_type": "stream",
     "text": [
      "C:\\ProgramData\\Anaconda3\\lib\\site-packages\\ipykernel_launcher.py:1: DeprecationWarning: The default dtype for empty Series will be 'object' instead of 'float64' in a future version. Specify a dtype explicitly to silence this warning.\n",
      "  \"\"\"Entry point for launching an IPython kernel.\n"
     ]
    }
   ],
   "source": [
    "s=pd.Series(index=[el['_source']['id'] for el in hits])\n",
    "s[:]='chaudiere mixte gaz'"
   ]
  },
  {
   "cell_type": "code",
   "execution_count": 72,
   "metadata": {},
   "outputs": [
    {
     "data": {
      "text/plain": [
       "1092714    chaudiere mixte gaz\n",
       "4758732    chaudiere mixte gaz\n",
       "262543     chaudiere mixte gaz\n",
       "2044262    chaudiere mixte gaz\n",
       "2754776    chaudiere mixte gaz\n",
       "                  ...         \n",
       "371016     chaudiere mixte gaz\n",
       "2317526    chaudiere mixte gaz\n",
       "1305371    chaudiere mixte gaz\n",
       "923505     chaudiere mixte gaz\n",
       "1777301    chaudiere mixte gaz\n",
       "Length: 22049, dtype: object"
      ]
     },
     "execution_count": 72,
     "metadata": {},
     "output_type": "execute_result"
    }
   ],
   "source": [
    "s"
   ]
  },
  {
   "cell_type": "markdown",
   "metadata": {},
   "source": [
    "# Sauvegarder un document"
   ]
  },
  {
   "cell_type": "code",
   "execution_count": 6,
   "metadata": {},
   "outputs": [],
   "source": [
    "document = {\n",
    "    \"id\": \"some_id-1\",\n",
    "    \"text_to_analyze\": [\n",
    "        \"pompe à chaleur pac geothermique\"\n",
    "    ]\n",
    "}\n",
    "\n",
    "es_client.index(index=index_name, body=document)"
   ]
  },
  {
   "cell_type": "markdown",
   "metadata": {},
   "source": [
    "# Recherche"
   ]
  },
  {
   "cell_type": "code",
   "execution_count": 55,
   "metadata": {},
   "outputs": [],
   "source": [
    "search_body = {\n",
    "    \"query\": {\n",
    "        \"query_string\": {\n",
    "            \"query\": '\"pompe chaleur\"~3 AND *therm*',\n",
    "            \"default_field\": \"text_to_analyze\"\n",
    "        }\n",
    "    }\n",
    "}\n",
    "\n",
    "es_client.search(index=index_name, body=search_body)"
   ]
  },
  {
   "cell_type": "code",
   "execution_count": null,
   "metadata": {},
   "outputs": [],
   "source": []
  }
 ],
 "metadata": {
  "kernelspec": {
   "display_name": "Python 3",
   "language": "python",
   "name": "python3"
  },
  "language_info": {
   "codemirror_mode": {
    "name": "ipython",
    "version": 3
   },
   "file_extension": ".py",
   "mimetype": "text/x-python",
   "name": "python",
   "nbconvert_exporter": "python",
   "pygments_lexer": "ipython3",
   "version": "3.6.5"
  },
  "toc": {
   "base_numbering": 1,
   "nav_menu": {},
   "number_sections": true,
   "sideBar": true,
   "skip_h1_title": false,
   "title_cell": "Table of Contents",
   "title_sidebar": "Contents",
   "toc_cell": false,
   "toc_position": {},
   "toc_section_display": true,
   "toc_window_display": false
  }
 },
 "nbformat": 4,
 "nbformat_minor": 4
}
