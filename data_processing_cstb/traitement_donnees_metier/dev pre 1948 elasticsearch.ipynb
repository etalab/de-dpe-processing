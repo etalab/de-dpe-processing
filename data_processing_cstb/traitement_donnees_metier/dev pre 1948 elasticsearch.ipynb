{
 "cells": [
  {
   "cell_type": "markdown",
   "metadata": {},
   "source": [
    "# tootltips"
   ]
  },
  {
   "cell_type": "code",
   "execution_count": null,
   "metadata": {},
   "outputs": [],
   "source": [
    "!curl http://localhost:9200/dpe_pre_1948_td005/_count"
   ]
  },
  {
   "cell_type": "markdown",
   "metadata": {},
   "source": [
    "# Imports"
   ]
  },
  {
   "cell_type": "code",
   "execution_count": null,
   "metadata": {},
   "outputs": [],
   "source": [
    "from elasticsearch import Elasticsearch\n",
    "from elasticsearch.helpers import bulk,parallel_bulk\n",
    "import time"
   ]
  },
  {
   "cell_type": "markdown",
   "metadata": {},
   "source": [
    "# Preparer la base de données pour l'analyse au moment de la sauvegarde"
   ]
  },
  {
   "cell_type": "code",
   "execution_count": null,
   "metadata": {},
   "outputs": [],
   "source": [
    "def clean_desc_txt(x):\n",
    "    bad_chars_to_space = ['\"', \"'\", \"''\", '\"\"',  # these char in addr field generate errors on addok\n",
    "                      \",\",  # removed by precaution since we dump comma sep csv and we dont want quotechar\n",
    "                      \"\\\\n\", \"\\\\t\",\"\\\\r\",\"\\\\r\\\\n\"  #\n",
    "                      \"\\n\", \"\\t\",  # remove carriage return/tab\n",
    "                      \"/\", \"\\\\\", \"(\", \")\"  # remove special separators characters and ()\n",
    "                                      \"[\", \"]\", \"_\", \"°\", \"^\",\"<br>\", \">\", \"<\"\n",
    "                                                                    '«', '»',\n",
    "\n",
    "                      ]\n",
    "    for bad_char in bad_chars_to_space:\n",
    "        x=x.replace(bad_char,' ')\n",
    "    return x"
   ]
  },
  {
   "cell_type": "code",
   "execution_count": null,
   "metadata": {
    "scrolled": true
   },
   "outputs": [],
   "source": [
    "def setup_es_client(index_name):\n",
    "    es_client = Elasticsearch()\n",
    "\n",
    "    index_name = index_name\n",
    "    index_configurations = {\n",
    "        \"settings\": {\n",
    "            \"index\": {\n",
    "                \"number_of_shards\": 4,\n",
    "                \"number_of_replicas\": 0,\n",
    "                \"max_result_window\": 5000000,\n",
    "\n",
    "            }\n",
    "        },\n",
    "        \"mappings\": {\n",
    "            \"properties\": {\n",
    "                \"id\": {\"type\": \"keyword\"},\n",
    "                \"text_to_analyze\": {\n",
    "                    \"type\": \"text\",\n",
    "                    #\"analyzer\": \"french\"      \n",
    "                },\n",
    "                \"category_index\":{\n",
    "                    'type':'keyword'\n",
    "                }\n",
    "            }\n",
    "        }\n",
    "    }\n",
    "\n",
    "    try:\n",
    "        es_client.indices.delete(\n",
    "            index=index_name,\n",
    "        )\n",
    "    except:\n",
    "        pass\n",
    "    es_client.indices.create(\n",
    "        index=index_name,\n",
    "        body=index_configurations\n",
    "    )\n",
    "    return es_client"
   ]
  },
  {
   "cell_type": "markdown",
   "metadata": {},
   "source": [
    "# fonctions"
   ]
  },
  {
   "cell_type": "code",
   "execution_count": null,
   "metadata": {},
   "outputs": [],
   "source": [
    "import uuid"
   ]
  },
  {
   "cell_type": "code",
   "execution_count": null,
   "metadata": {},
   "outputs": [],
   "source": [
    "from generate_dpe_annexes_scripts.utils import strip_accents\n",
    "\n",
    "sleepers = {'after_bulk':1,\n",
    "           'after_search':0.2}\n",
    "def gendata(index_name,id_data,data):\n",
    "    for id_,vr in zip(id_data,data):\n",
    "        yield {\n",
    "            \"_index\": index_name,\n",
    "    \"id\": id_,\n",
    "    \"text_to_analyze\": vr\n",
    "        }\n",
    "\n",
    "def generate_instruction_from_list(char_list):\n",
    "    \n",
    "    new_char_list=list()\n",
    "    for char in char_list:\n",
    "        if isinstance(char,str):\n",
    "            new_char_list.append(char)\n",
    "        elif isinstance(char,tuple):\n",
    "            new_char_list.append('('+') OR ('.join(char)+')')\n",
    "            \n",
    "    search_instruction = '('+') AND ('.join(new_char_list) +')'\n",
    "    search_instruction = search_instruction.replace('AND (NOT) AND','AND NOT')\n",
    "    search_instruction = search_instruction.replace('(NOT) AND','NOT')\n",
    "\n",
    "    return search_instruction\n",
    "\n",
    "def search_from_search_dict(es_client,search_dict,index_name):\n",
    "    s_list = list()\n",
    "    for label,char_list in  search_dict.items():\n",
    "        time.sleep(sleepers['after_search'])\n",
    "        search_instruction =generate_instruction_from_list(char_list)\n",
    "        search_body = {\n",
    "            \"query\": {\n",
    "                \"query_string\": {\n",
    "                    \"query\": search_instruction,\n",
    "                    \"default_field\": \"text_to_analyze\"\n",
    "                },\n",
    "\n",
    "            },\n",
    "\n",
    "        }\n",
    "        #es_client.count(index=index_name, body=search_body)\n",
    "        a_dict=es_client.search(index=index_name, body=search_body,size=5000000)\n",
    "\n",
    "        hits = a_dict['hits']['hits']\n",
    "\n",
    "        s=pd.Series(index=[el['_source']['id'] for el in hits],dtype='str')\n",
    "        s[:]=label\n",
    "        s_list.append(s)\n",
    "    s_all=pd.concat(s_list)\n",
    "    return s_all\n",
    "\n",
    "def search_and_affect(data_to_search,id_col,val_col,search_dict):\n",
    "    index_name = uuid.uuid4()\n",
    "    es_client = setup_es_client(index_name)\n",
    "    L=data_to_search.shape[0]\n",
    "    bulk(es_client, gendata(index_name,data_to_search[id_col],data_to_search[val_col]))\n",
    "    count_r = es_client.count(index=index_name)['count']\n",
    "    \n",
    "    while L!=count_r:\n",
    "        time.sleep(0.1)\n",
    "        count_r = es_client.count(index=index_name)['count']\n",
    "\n",
    "    res_serie = search_from_search_dict(es_client,search_dict,index_name=index_name)\n",
    "\n",
    "    res_table=res_serie.to_frame('label')\n",
    "\n",
    "    res_table.index.name = 'id'\n",
    "    res_table=res_table.reset_index()\n",
    "    # destroy index a la fin\n",
    "    try:\n",
    "        es_client.indices.delete(\n",
    "            index=index_name,\n",
    "        )\n",
    "    except:\n",
    "        pass\n",
    "\n",
    "# #     grp = df_drop.groupby('id').label.apply(lambda x: ' + '.join(sorted(list(set(x))))).reset_index()\n",
    "# #     m=data.merge(grp,on='id',how='left')\n",
    "\n",
    "#     m.label=m.label.fillna('indetermine')\n",
    "    return res_table\n",
    "def categorize_search_res(table,label_cat=None,category_dict=None):\n",
    "    \n",
    "    if category_dict is not None:\n",
    "        table['category']=table.label.replace(category_dict)\n",
    "    \n",
    "    if label_cat is not None:\n",
    "        table['label']=pd.Categorical(table.label,categories=label_cat,ordered=True)\n",
    "\n",
    "    #df_drop = df.sort_values('label').drop_duplicates(subset=['id','category'])\n",
    "    \n",
    "    table.label = table.label.fillna('indetermine')\n",
    "    return table\n",
    "\n",
    "def agg_concat_label_text(table,col_label='label',col_vr='valeur_renseignee'):\n",
    "    table[[col_label,col_vr]]=table[[col_label,col_vr]].fillna('indetermine')\n",
    "    agg = table.groupby('td001_dpe_id').agg({\n",
    "\n",
    "    col_label:lambda x: ' + '.join(sorted(list(set(x)))),\n",
    "    col_vr:lambda x: ' + '.join(sorted(list(set(x))))\n",
    "    })\n",
    "\n",
    "    for col in agg:\n",
    "        agg[col] =  agg[col].apply(lambda x:' + '.join(sorted(list(set([el for el in x.split(' + ') if el!='indetermine'])))))\n",
    "        agg[col] = agg[col].replace('','indetermine')\n",
    "    return agg"
   ]
  },
  {
   "cell_type": "markdown",
   "metadata": {},
   "source": [
    "# load tables"
   ]
  },
  {
   "cell_type": "code",
   "execution_count": null,
   "metadata": {},
   "outputs": [],
   "source": [
    "from generate_dpe_annexes_scripts.utils import reload_package"
   ]
  },
  {
   "cell_type": "code",
   "execution_count": null,
   "metadata": {},
   "outputs": [],
   "source": [
    "import generate_dpe_annexes_scripts.trtvtables\n",
    "reload_package(generate_dpe_annexes_scripts.trtvtables)"
   ]
  },
  {
   "cell_type": "code",
   "execution_count": null,
   "metadata": {},
   "outputs": [],
   "source": [
    "import numpy as np\n",
    "\n",
    "import pandas as pd\n",
    "from pathlib import Path\n",
    "import json\n",
    "from generate_dpe_annexes_scripts.utils import round_float_cols, unique_ordered\n",
    "from config import paths\n",
    "from generate_dpe_annexes_scripts.trtvtables import DPETrTvTables\n",
    "\n",
    "trtv = DPETrTvTables()\n",
    "\n",
    "if __name__ == '__main__':\n",
    "\n",
    "    data_dir = paths['DPE_DEPT_PATH']\n",
    "    annexe_dir = paths['DPE_DEPT_ANNEXE_PATH']\n",
    "    annexe_dir = Path(annexe_dir)\n",
    "    annexe_dir.mkdir(exist_ok=True, parents=True)\n",
    "    for dept_dir in Path(data_dir).iterdir():\n",
    "        if dept_dir.name=='38':\n",
    "            print(dept_dir)\n",
    "            annexe_dept_dir = annexe_dir / dept_dir.name\n",
    "            annexe_dept_dir.mkdir(exist_ok=True, parents=True)\n",
    "            # LOAD TABLES\n",
    "            td001 = pd.read_csv(dept_dir / 'td001_dpe.csv', dtype=str)\n",
    "            td003 = pd.read_csv(dept_dir / 'td003_descriptif.csv', dtype=str)\n",
    "            td002 = pd.read_csv(dept_dir/'td002_consommation.csv',dtype=str)\n",
    "            td016 = pd.read_csv(dept_dir/'td016_facture.csv',dtype=str)\n",
    "\n",
    "            td005 = pd.read_csv(dept_dir / 'td005_fiche_technique.csv', dtype=str)\n",
    "            td006 = pd.read_csv(dept_dir / 'td006_batiment.csv', dtype=str)\n",
    "            td011 = pd.read_csv(dept_dir / 'td011_installation_chauffage.csv', dtype=str)\n",
    "            td012 = pd.read_csv(dept_dir / 'td012_generateur_chauffage.csv', dtype=str)\n",
    "            td011_p = pd.read_csv(annexe_dept_dir / 'td011_installation_chauffage_annexe.csv', dtype=str)\n",
    "\n",
    "            td012_p = pd.read_csv(annexe_dept_dir / 'td012_generateur_chauffage_annexe.csv', dtype=str)\n",
    "            td014_p = pd.read_csv(annexe_dept_dir / 'td014_generateur_ecs_annexe.csv', dtype=str)\n",
    "            td001_sys_ch= pd.read_csv(annexe_dept_dir / 'td001_sys_ch_agg_annexe.csv', dtype=str)\n",
    "            td001_sys_ecs= pd.read_csv(annexe_dept_dir / 'td001_sys_ecs_agg_annexe.csv', dtype=str)\n",
    "\n",
    "            gen= pd.read_csv(annexe_dept_dir / 'td001_annexe_generale.csv', dtype=str)\n",
    "            td001_sys_ch.columns = [col.replace('_chauffage','_ch') for col in td001_sys_ch]\n",
    "\n",
    "            print(dept_dir)\n",
    "            \n",
    "            # ENVELOPPE PROCESSING\n",
    "            td001 =td001.rename(columns={'id':'td001_dpe_id'})\n",
    "            td011_p['type_installation_ch']=td011_p.tv025_type_installation.replace({'Chauffage Individuel':'individuel',\n",
    "                                        'Chauffage Collectif':'collectif'})\n",
    "            break"
   ]
  },
  {
   "cell_type": "code",
   "execution_count": null,
   "metadata": {},
   "outputs": [],
   "source": [
    "td014_p.is_ecs_solaire = td014_p.is_ecs_solaire.replace({'False':False,'True':True})"
   ]
  },
  {
   "cell_type": "markdown",
   "metadata": {},
   "source": [
    "# dump new"
   ]
  },
  {
   "cell_type": "code",
   "execution_count": null,
   "metadata": {},
   "outputs": [],
   "source": [
    "import main\n",
    "import generate_dpe_annexes_scripts.conversion_normalisation\n",
    "import generate_dpe_annexes_scripts.td011_td012_processing\n",
    "import generate_dpe_annexes_scripts.td013_td014_processing\n",
    "import generate_dpe_annexes_scripts.td001_merge\n",
    "import generate_dpe_annexes_scripts.text_matching_dict\n",
    "import generate_dpe_annexes_scripts.utils"
   ]
  },
  {
   "cell_type": "code",
   "execution_count": null,
   "metadata": {},
   "outputs": [],
   "source": [
    "reload_package(main)\n",
    "reload_package(generate_dpe_annexes_scripts.conversion_normalisation)\n",
    "\n",
    "reload_package(generate_dpe_annexes_scripts.td011_td012_processing)\n",
    "reload_package(generate_dpe_annexes_scripts.td013_td014_processing)\n",
    "reload_package(generate_dpe_annexes_scripts.text_matching_dict)\n",
    "reload_package(generate_dpe_annexes_scripts.td001_merge)\n",
    "reload_package(generate_dpe_annexes_scripts.utils)\n",
    "\n",
    "reload_package(main)\n",
    "reload_package(generate_dpe_annexes_scripts.conversion_normalisation)\n",
    "\n",
    "reload_package(generate_dpe_annexes_scripts.td011_td012_processing)\n",
    "reload_package(generate_dpe_annexes_scripts.td013_td014_processing)\n",
    "reload_package(generate_dpe_annexes_scripts.text_matching_dict)\n",
    "reload_package(generate_dpe_annexes_scripts.td001_merge)"
   ]
  },
  {
   "cell_type": "code",
   "execution_count": null,
   "metadata": {},
   "outputs": [],
   "source": [
    "from generate_dpe_annexes_scripts.text_matching_dict import *"
   ]
  },
  {
   "cell_type": "code",
   "execution_count": null,
   "metadata": {},
   "outputs": [],
   "source": [
    "from main import *"
   ]
  },
  {
   "cell_type": "code",
   "execution_count": null,
   "metadata": {
    "scrolled": true
   },
   "outputs": [],
   "source": [
    "td011 = pd.read_csv(dept_dir / 'td011_installation_chauffage.csv', dtype=str)\n",
    "td012 = pd.read_csv(dept_dir / 'td012_generateur_chauffage.csv', dtype=str)\n",
    "td013 = pd.read_csv(dept_dir / 'td013_installation_ecs.csv', dtype=str)\n",
    "td014 = pd.read_csv(dept_dir / 'td014_generateur_ecs.csv', dtype=str)\n",
    "\n",
    "td011_p, td012_p, td001_sys_ch_agg, td013_p, td014_p, td001_sys_ecs_agg = run_system_processing(td001, td006,\n",
    "                                                                                                td011, td012,\n",
    "                                                                                                td013, td014)\n",
    "round_float_cols(td001_sys_ch_agg).to_csv(annexe_dept_dir / 'td001_sys_ch_agg_annexe.csv')\n",
    "round_float_cols(td001_sys_ecs_agg).to_csv(annexe_dept_dir / 'td001_sys_ecs_agg_annexe.csv')\n",
    "round_float_cols(td011_p).to_csv(annexe_dept_dir / 'td011_installation_chauffage_annexe.csv')\n",
    "round_float_cols(td012_p).to_csv(annexe_dept_dir / 'td012_generateur_chauffage_annexe.csv')\n",
    "round_float_cols(td013_p).to_csv(annexe_dept_dir / 'td013_installation_ecs_annexe.csv')\n",
    "round_float_cols(td014_p).to_csv(annexe_dept_dir / 'td014_generateur_ecs_annexe.csv')"
   ]
  },
  {
   "cell_type": "code",
   "execution_count": null,
   "metadata": {},
   "outputs": [],
   "source": [
    "    td001, td006, td011, td012, td013, td014 = merge_td001_dpe_id_system(td001, td006, td011, td012, td013, td014)\n",
    "\n",
    "\n",
    "table = merge_without_duplicate_columns(td012,td012_p,on='td012_generateur_chauffage_id')\n"
   ]
  },
  {
   "cell_type": "code",
   "execution_count": null,
   "metadata": {},
   "outputs": [],
   "source": [
    "td011 = merge_without_duplicate_columns(td011,td011_p,on='td011_installation_chauffage_id')\n"
   ]
  },
  {
   "cell_type": "code",
   "execution_count": null,
   "metadata": {},
   "outputs": [],
   "source": [
    "table = merge_without_duplicate_columns(td012,td012_p,on='td012_generateur_chauffage_id')\n"
   ]
  },
  {
   "cell_type": "code",
   "execution_count": null,
   "metadata": {},
   "outputs": [],
   "source": [
    "table=table.astype(td012_types)"
   ]
  },
  {
   "cell_type": "code",
   "execution_count": null,
   "metadata": {
    "scrolled": true
   },
   "outputs": [],
   "source": [
    "td011['type_installation_ch'] = td011.tv025_type_installation.replace(\n",
    "    type_installation_conv_dict['tv025_type_installation'])\n",
    "#table = td012.copy()\n",
    "table['type_energie_ch'] = table[\"tv045_energie\"].astype('string').fillna('indetermine').replace(\n",
    "    ener_conv_dict['tv045_energie'])\n",
    "table['tr004_description'] = table[\"tr004_description\"].astype('string').fillna('indetermine').replace(\n",
    "    ener_conv_dict['tr004_description'])\n",
    "\n",
    "is_rpn = table.rpn > 0\n",
    "is_rpint = table.rpint > 0\n",
    "is_chaudiere = is_rpint | is_rpn\n",
    "is_chaudiere = is_chaudiere | ~table.tv038_puissance_nominale_id.isnull()\n",
    "# all text description raw concat\n",
    "gen_ch_concat_txt_desc = table['tv031_type_generateur'].astype('string').replace(np.nan, '') + ' '\n",
    "gen_ch_concat_txt_desc.loc[is_chaudiere] += 'chaudiere '\n",
    "gen_ch_concat_txt_desc += table['tv036_type_chaudiere'].astype('string').replace(np.nan, ' ') + ' '\n",
    "gen_ch_concat_txt_desc += table[\"tv030_type_installation\"].astype('string').replace(np.nan, ' ') + ' '\n",
    "gen_ch_concat_txt_desc += table[\"tv032_type_generateur\"].astype('string').replace(np.nan, ' ') + ' '\n",
    "gen_ch_concat_txt_desc += table['tv035_type_chaudiere'].astype('string').replace(np.nan, ' ') + ' '\n",
    "gen_ch_concat_txt_desc += table['tv036_type_generation'].astype('string').replace(np.nan, ' ') + ' '\n",
    "gen_ch_concat_txt_desc += table[\"tv030_type_installation\"].astype('string').replace(np.nan, ' ') + ' '\n",
    "gen_ch_concat_txt_desc += table[\"tr004_description\"].astype('string').replace(np.nan, ' ') + ' '\n",
    "gen_ch_concat_txt_desc += table[\"type_energie_ch\"].astype('string').replace(np.nan, ' ') + ' '\n",
    "gen_ch_concat_txt_desc += table['tv046_nom_reseau'].isnull().replace({False: 'réseau de chaleur',\n",
    "                                                                      True: \"\"})\n",
    "gen_ch_concat_txt_desc = gen_ch_concat_txt_desc.str.lower().apply(lambda x: strip_accents(x))\n",
    "\n",
    "table['gen_ch_concat_txt_desc'] = gen_ch_concat_txt_desc\n",
    "\n",
    "table['gen_ch_concat_txt_desc'] = table['gen_ch_concat_txt_desc'].apply(lambda x: clean_str(x))\n",
    "\n",
    "# calcul gen_ch_lib_infer par matching score text.\n",
    "unique_gen_ch = table.gen_ch_concat_txt_desc.unique()\n",
    "gen_ch_lib_infer_dict = {k: affect_lib_by_matching_score(k, td012_gen_ch_search_dict) for k in\n",
    "                         unique_gen_ch}\n",
    "table['gen_ch_lib_infer'] = table.gen_ch_concat_txt_desc.replace(gen_ch_lib_infer_dict)\n",
    "\n",
    "# recup/fix PAC\n",
    "is_pac = (table.coefficient_performance > 2) | (table.rendement_generation > 2)\n",
    "table.loc[is_pac, 'gen_ch_lib_infer'] = table.loc[is_pac, 'coefficient_performance'].replace(pac_dict)\n",
    "is_ind = is_pac & (~table.loc[is_pac, 'gen_ch_lib_infer'].isin(pac_dict.values()))\n",
    "table.loc[is_ind, 'gen_ch_lib_infer'] = table.loc[is_ind, 'rendement_generation'].replace(pac_dict)\n",
    "is_ind = is_pac & (~table.loc[is_pac, 'gen_ch_lib_infer'].isin(pac_dict.values()))\n",
    "table.loc[is_ind, 'gen_ch_lib_infer'] = 'pac indetermine'\n",
    "\n",
    "# recup poele bois from chauffage indetermine\n",
    "is_bois_ind = table.gen_ch_lib_infer == 'chauffage bois indetermine'\n",
    "\n",
    "table.loc[is_bois_ind, 'gen_ch_lib_infer'] = table.loc[is_bois_ind, 'rendement_generation'].replace(poele_dict)\n",
    "\n",
    "# recup poele fioul from chauffage indetermine\n",
    "is_fioul_ind = table.gen_ch_lib_infer == 'chauffage fioul indetermine'\n",
    "\n",
    "table.loc[is_fioul_ind, 'gen_ch_lib_infer'] = table.loc[is_fioul_ind, 'rendement_generation'].replace(poele_dict)\n",
    "\n",
    "# recup reseau chaleur\n",
    "non_aff = table.gen_ch_lib_infer == 'indetermine'\n",
    "\n",
    "reseau_infer = non_aff & (table.rendement_generation == 0.97) & (table.tr004_description == 'Autres énergies')\n",
    "\n",
    "table.loc[reseau_infer, 'gen_ch_lib_infer'] = 'reseau de chaleur'\n",
    "table.loc[reseau_infer, 'type_energie_ch'] = 'reseau de chaleur'\n",
    "\n",
    "table['gen_ch_lib_infer_simp'] = table.gen_ch_lib_infer.replace(gen_ch_lib_simp_dict)\n",
    "\n",
    "# fix chaudiere elec\n",
    "\n",
    "bool_cei = table.gen_ch_lib_infer == 'chauffage electrique indetermine'\n",
    "bool_ce = table.rendement_generation == 0.77\n",
    "\n",
    "table.loc[(bool_cei) & (bool_ce), 'gen_ch_lib_infer'] = 'chaudiere electrique'\n",
    "\n",
    "rendement_gen_u = table[['rendement_generation', 'coefficient_performance']].max(axis=1)\n",
    "\n",
    "table['rendement_generateur_u']=rendement_gen_u\n",
    "\n",
    "# chauffage effet joule\n",
    "\n",
    "s_rendement = pd.Series(index=table.index)\n",
    "s_rendement[:] = 1\n",
    "for rendement in ['rendement_distribution_systeme_chauffage',\n",
    "                  'rendement_emission_systeme_chauffage']:\n",
    "    r = table[rendement].astype(float)\n",
    "    r[r == 0] = 1\n",
    "    r[r.isnull()] = 1\n",
    "    s_rendement = s_rendement * r\n",
    "\n",
    "rendement_gen_u[rendement_gen_u == 0] = 1\n",
    "rendement_gen_u[rendement_gen_u.isnull()] = 1\n",
    "s_rendement = s_rendement * rendement_gen_u\n",
    "table['besoin_ch_infer'] = table['consommation_chauffage'] * s_rendement"
   ]
  },
  {
   "cell_type": "code",
   "execution_count": null,
   "metadata": {},
   "outputs": [],
   "source": [
    "table.gen_ch_lib_infer.fillna('NAAAAAAAAAAAAAAAA').value_counts()"
   ]
  },
  {
   "cell_type": "code",
   "execution_count": null,
   "metadata": {},
   "outputs": [],
   "source": [
    "td001_sys_ch.type_installation_ch_concat=td001_sys_ch.type_installation_ch_concat.str.replace('Chauffage Individuel',\n",
    "                                                                                              'individuel').str.replace('Chauffage Collectif',\n",
    "                                                                                                                        'collectif')\n",
    "td001 =td001.rename(columns={'id':'td001_dpe_id'})"
   ]
  },
  {
   "cell_type": "code",
   "execution_count": null,
   "metadata": {},
   "outputs": [],
   "source": [
    "    gen_ch_concat_txt_desc = table['tv031_type_generateur'].astype('string').replace(np.nan, '') + ' '\n",
    "    gen_ch_concat_txt_desc.loc[is_chaudiere] += 'chaudiere '\n",
    "    gen_ch_concat_txt_desc += table['tv036_type_chaudiere'].astype('string').replace(np.nan, ' ') + ' '\n",
    "    gen_ch_concat_txt_desc += table[\"tv030_type_installation\"].astype('string').replace(np.nan, ' ') + ' '\n",
    "    gen_ch_concat_txt_desc += table[\"tv032_type_generateur\"].astype('string').replace(np.nan, ' ') + ' '\n",
    "    gen_ch_concat_txt_desc += table['tv035_type_chaudiere'].astype('string').replace(np.nan, ' ') + ' '\n",
    "    gen_ch_concat_txt_desc += table['tv036_type_generation'].astype('string').replace(np.nan, ' ') + ' '\n",
    "    gen_ch_concat_txt_desc += table[\"tv030_type_installation\"].astype('string').replace(np.nan, ' ') + ' '\n",
    "    gen_ch_concat_txt_desc += table[\"tr004_description\"].astype('string').replace(np.nan, ' ') + ' '\n",
    "    gen_ch_concat_txt_desc += table[\"type_energie_ch\"].astype('string').replace(np.nan, ' ') + ' '\n",
    "    gen_ch_concat_txt_desc += table['tv046_nom_reseau'].isnull().replace({False: 'réseau de chaleur',\n",
    "                                                                          True: \"\"})\n",
    "    gen_ch_concat_txt_desc = gen_ch_concat_txt_desc.str.lower().apply(lambda x: strip_accents(x))\n",
    "\n",
    "    table['gen_ch_concat_txt_desc'] = gen_ch_concat_txt_desc\n",
    "\n",
    "    table['gen_ch_concat_txt_desc'] = table['gen_ch_concat_txt_desc'].apply(lambda x: clean_str(x))"
   ]
  },
  {
   "cell_type": "code",
   "execution_count": null,
   "metadata": {},
   "outputs": [],
   "source": [
    "    unique_gen_ch = table.gen_ch_concat_txt_desc.unique()\n",
    "    gen_ch_lib_infer_dict = {k: affect_lib_by_matching_score(k, td012_gen_ch_search_dict) for k in\n",
    "                             unique_gen_ch}\n",
    "    table['gen_ch_lib_infer'] = table.gen_ch_concat_txt_desc.replace(gen_ch_lib_infer_dict)"
   ]
  },
  {
   "cell_type": "code",
   "execution_count": null,
   "metadata": {},
   "outputs": [],
   "source": [
    "table.query('gen_ch_lib_infer==\"indetermine\"').columns.tolist()"
   ]
  },
  {
   "cell_type": "code",
   "execution_count": null,
   "metadata": {},
   "outputs": [],
   "source": [
    "table.query('gen_ch_lib_infer==\"indetermine\"')[['tr004_type_energie_id','rendement_generation',\n",
    "                                                'rendement_distribution_systeme_chauffage',\n",
    "                                              'gen_ch_concat_txt_desc']].rendement_distribution_systeme_chauffage.value_counts()"
   ]
  },
  {
   "cell_type": "code",
   "execution_count": null,
   "metadata": {},
   "outputs": [],
   "source": [
    "table.query('gen_ch_lib_infer==\"indetermine\"')[['type_energie_ch','tr004_description','tv045_energie']]"
   ]
  },
  {
   "cell_type": "code",
   "execution_count": null,
   "metadata": {},
   "outputs": [],
   "source": [
    "td012_p.gen_ch_lib_infer.value_counts()"
   ]
  },
  {
   "cell_type": "code",
   "execution_count": null,
   "metadata": {},
   "outputs": [],
   "source": []
  },
  {
   "cell_type": "code",
   "execution_count": null,
   "metadata": {},
   "outputs": [],
   "source": [
    "    td001, td006, td011, td012, td013, td014 = merge_td001_dpe_id_system(td001, td006, td011, td012, td013, td014)\n",
    "\n",
    "\n",
    "table = merge_without_duplicate_columns(td012,td012_p,on='td012_generateur_chauffage_id')\n"
   ]
  },
  {
   "cell_type": "code",
   "execution_count": null,
   "metadata": {},
   "outputs": [],
   "source": [
    "table.query('gen_ch_lib_infer==\"chauffage electrique indetermine\"').to_dict(orient='records')"
   ]
  },
  {
   "cell_type": "markdown",
   "metadata": {},
   "source": [
    "# td002/td016 processing"
   ]
  },
  {
   "cell_type": "code",
   "execution_count": null,
   "metadata": {},
   "outputs": [],
   "source": [
    "from generate_dpe_annexes_scripts.td002_td016_processing import merge_td002_td016_trtrv,extract_type_energie_from_td002_td016"
   ]
  },
  {
   "cell_type": "code",
   "execution_count": null,
   "metadata": {},
   "outputs": [],
   "source": [
    "td002_p,td016_p=merge_td002_td016_trtrv(td002,td016)\n",
    "td001_ener_from_facture = extract_type_energie_from_td002_td016(td001,td002_p,td016_p)"
   ]
  },
  {
   "cell_type": "code",
   "execution_count": null,
   "metadata": {},
   "outputs": [],
   "source": [
    "td001_ener_from_facture"
   ]
  },
  {
   "cell_type": "markdown",
   "metadata": {},
   "source": [
    "# load dicts"
   ]
  },
  {
   "cell_type": "code",
   "execution_count": null,
   "metadata": {},
   "outputs": [],
   "source": [
    "from generate_dpe_annexes_scripts.utils import reload_package"
   ]
  },
  {
   "cell_type": "code",
   "execution_count": null,
   "metadata": {},
   "outputs": [],
   "source": [
    "import generate_dpe_annexes_scripts.text_matching_dict \n",
    "import os\n",
    "reload_package(generate_dpe_annexes_scripts.text_matching_dict)\n",
    "from generate_dpe_annexes_scripts.text_matching_dict import *\n",
    "\n",
    "from generate_dpe_annexes_scripts.conversion_normalisation import *\n",
    "reload_package(generate_dpe_annexes_scripts.conversion_normalisation)\n",
    "from generate_dpe_annexes_scripts.conversion_normalisation import *\n"
   ]
  },
  {
   "cell_type": "code",
   "execution_count": null,
   "metadata": {},
   "outputs": [],
   "source": [
    "gen_ch_search_dict_flat.keys() -set(td012_gen_ch_search_dict.keys())"
   ]
  },
  {
   "cell_type": "code",
   "execution_count": null,
   "metadata": {
    "scrolled": true
   },
   "outputs": [],
   "source": [
    "set(td014_gen_ecs_search_dict.keys())-gen_ecs_search_dict_flat.keys()"
   ]
  },
  {
   "cell_type": "code",
   "execution_count": null,
   "metadata": {},
   "outputs": [],
   "source": [
    "gen_ecs_search_dict_flat.keys() -set(td014_gen_ecs_search_dict.keys())"
   ]
  },
  {
   "cell_type": "markdown",
   "metadata": {},
   "source": [
    "# search ECS"
   ]
  },
  {
   "cell_type": "code",
   "execution_count": null,
   "metadata": {},
   "outputs": [],
   "source": [
    "\n",
    "td005_ecs = td005.loc[td005.tr011_sous_categorie_fiche_technique_id == '17']\n",
    "td005_ecs.valeur_renseignee = td005_ecs.valeur_renseignee.fillna('indetermine')\n",
    "\n",
    "td005_ecs.valeur_renseignee = td005_ecs.valeur_renseignee.str.lower().apply(lambda x: strip_accents(x))\n",
    "td005_ecs.valeur_renseignee = td005_ecs.valeur_renseignee.apply(lambda x:clean_desc_txt(x))\n",
    "\n"
   ]
  },
  {
   "cell_type": "code",
   "execution_count": null,
   "metadata": {},
   "outputs": [],
   "source": [
    "\n",
    "\n",
    "m=search_and_affect(td005_ecs,id_col='id',val_col='valeur_renseignee',\n",
    "                    search_dict=gen_ecs_search_dict_flat)\n",
    "m = categorize_search_res(m,label_cat = list(gen_ecs_search_dict_flat.keys())+['indetermine'],\n",
    "                           category_dict=reverse_cat_gen_ecs)\n",
    "gen_ecs_lib_ft=m.merge(td005_ecs[['id','td001_dpe_id']],how='left')\n",
    "\n",
    "\n",
    "m=search_and_affect(td005_ecs,id_col='id',val_col='valeur_renseignee',\n",
    "                    search_dict=installation_dict)\n",
    "\n",
    "type_installation_ecs_ft=m.merge(td005_ecs[['id','td001_dpe_id']],how='left')\n",
    "\n",
    "\n",
    "\n",
    "m=search_and_affect(td005_ecs,id_col='id',val_col='valeur_renseignee',\n",
    "                    search_dict=energie_dict)\n",
    "\n",
    "energie_ecs_ft=m.merge(td005_ecs[['id','td001_dpe_id']],how='left')\n"
   ]
  },
  {
   "cell_type": "code",
   "execution_count": null,
   "metadata": {},
   "outputs": [],
   "source": [
    "td003_ecs = td003.loc[td003.tr007_type_descriptif_id == '10']\n",
    "td003_ecs.descriptif = td003_ecs.descriptif.fillna('indetermine')\n",
    "td003_ecs.descriptif = td003_ecs.descriptif.str.lower().apply(lambda x: strip_accents(x))\n",
    "td003_ecs.descriptif = td003_ecs.descriptif.apply(lambda x:clean_desc_txt(x))\n",
    "\n"
   ]
  },
  {
   "cell_type": "code",
   "execution_count": null,
   "metadata": {},
   "outputs": [],
   "source": [
    "\n",
    "m=search_and_affect(td003_ecs,id_col='id',val_col='descriptif',\n",
    "                    search_dict=gen_ecs_search_dict_flat)\n",
    "m = categorize_search_res(m,label_cat = list(gen_ecs_search_dict_flat.keys())+['indetermine'],\n",
    "                           category_dict=reverse_cat_gen_ecs)\n",
    "gen_ecs_lib_desc=m.merge(td003_ecs[['id','td001_dpe_id']],how='left')\n",
    "\n",
    "m=search_and_affect(td003_ecs,id_col='id',val_col='descriptif',\n",
    "                    search_dict=installation_dict)\n",
    "\n",
    "type_installation_ecs_desc=m.merge(td003_ecs[['id','td001_dpe_id']],how='left')\n",
    "\n",
    "\n",
    "\n",
    "m=search_and_affect(td003_ecs,id_col='id',val_col='descriptif',\n",
    "                    search_dict=energie_dict)\n",
    "\n",
    "energie_ecs_desc=m.merge(td003_ecs[['id','td001_dpe_id']],how='left')\n"
   ]
  },
  {
   "cell_type": "markdown",
   "metadata": {},
   "source": [
    "# search Chauffage"
   ]
  },
  {
   "cell_type": "code",
   "execution_count": null,
   "metadata": {},
   "outputs": [],
   "source": [
    "from generate_dpe_annexes_scripts import text_matching_dict\n",
    "reload_package(text_matching_dict)\n",
    "from generate_dpe_annexes_scripts.text_matching_dict import solaire_ch_search_dict"
   ]
  },
  {
   "cell_type": "code",
   "execution_count": null,
   "metadata": {},
   "outputs": [],
   "source": [
    "\n",
    "td005_ch = td005.loc[td005.tr011_sous_categorie_fiche_technique_id == '16']\n",
    "td005_ch.descriptif = td005_ch.valeur_renseignee.fillna('indetermine')\n",
    "\n",
    "td005_ch.valeur_renseignee = td005_ch.valeur_renseignee.str.lower().apply(lambda x: strip_accents(x))\n",
    "td005_ch.valeur_renseignee = td005_ch.valeur_renseignee.apply(lambda x:clean_desc_txt(x))\n"
   ]
  },
  {
   "cell_type": "code",
   "execution_count": null,
   "metadata": {},
   "outputs": [],
   "source": [
    "\n",
    "m=search_and_affect(td005_ch,id_col='id',val_col='valeur_renseignee',\n",
    "                    search_dict=gen_ch_search_dict_flat)\n",
    "\n",
    "m = categorize_search_res(m,label_cat = list(gen_ch_search_dict_flat.keys())+['indetermine'],\n",
    "                           category_dict=reverse_cat_gen_ch)\n",
    "\n",
    "gen_ch_lib_ft=m.merge(td005_ch[['id','td001_dpe_id']],how='left')\n",
    "\n",
    "\n",
    "m=search_and_affect(td005_ch,id_col='id',val_col='valeur_renseignee',\n",
    "                    search_dict=installation_dict)\n",
    "\n",
    "type_installation_ch_ft=m.merge(td005_ch[['id','td001_dpe_id']],how='left')\n",
    "\n",
    "\n",
    "\n",
    "m=search_and_affect(td005_ch,id_col='id',val_col='valeur_renseignee',\n",
    "                    search_dict=energie_dict)\n",
    "\n",
    "energie_ch_ft=m.merge(td005_ch[['id','td001_dpe_id']],how='left')\n",
    "\n",
    "m=search_and_affect(td005_ch,id_col='id',val_col='valeur_renseignee',\n",
    "                    search_dict=solaire_ch_search_dict)\n",
    "solaire_ch_ft=m.merge(td005_ch[['id','td001_dpe_id']],how='left')\n"
   ]
  },
  {
   "cell_type": "code",
   "execution_count": null,
   "metadata": {},
   "outputs": [],
   "source": [
    "td003_ch = td003.loc[td003.tr007_type_descriptif_id == '11']\n",
    "td003_ch.descriptif = td003_ch.descriptif.fillna('indetermine')\n",
    "td003_ch.descriptif = td003_ch.descriptif.str.lower().apply(lambda x: strip_accents(x))\n",
    "td003_ch.descriptif = td003_ch.descriptif.apply(lambda x:clean_desc_txt(x))\n",
    "  "
   ]
  },
  {
   "cell_type": "code",
   "execution_count": null,
   "metadata": {},
   "outputs": [],
   "source": [
    "\n",
    "m=search_and_affect(td003_ch,id_col='id',val_col='descriptif',\n",
    "                    search_dict=gen_ch_search_dict_flat)\n",
    "\n",
    "m = categorize_search_res(m,label_cat = list(gen_ch_search_dict_flat.keys())+['indetermine'],\n",
    "                           category_dict=reverse_cat_gen_ch)\n",
    "gen_ch_lib_desc=m.merge(td003_ch[['id','td001_dpe_id']],how='left')\n",
    "\n",
    "\n",
    "m=search_and_affect(td003_ch,id_col='id',val_col='descriptif',\n",
    "                    search_dict=installation_dict)\n",
    "\n",
    "type_installation_ch_desc=m.merge(td003_ch[['id','td001_dpe_id']],how='left')\n",
    "\n",
    "\n",
    "\n",
    "m=search_and_affect(td003_ch,id_col='id',val_col='descriptif',\n",
    "                    search_dict=energie_dict)\n",
    "\n",
    "energie_ch_desc=m.merge(td003_ch[['id','td001_dpe_id']],how='left')\n",
    "\n",
    "\n",
    "m=search_and_affect(td003_ch,id_col='id',val_col='descriptif',\n",
    "                    search_dict=solaire_ch_search_dict)\n",
    "\n",
    "solaire_ch_desc=m.merge(td003_ch[['id','td001_dpe_id']],how='left')\n"
   ]
  },
  {
   "cell_type": "markdown",
   "metadata": {},
   "source": [
    "# fusion\n",
    "\n",
    "## méthodologie de fusion\n",
    "\n",
    "TBD"
   ]
  },
  {
   "cell_type": "code",
   "execution_count": 918,
   "metadata": {},
   "outputs": [],
   "source": [
    "td001_sys=td001.rename(columns ={'id':'td001_dpe_id'})[['td001_dpe_id','tr002_type_batiment_id']].merge(td001_sys_ch[['td001_dpe_id',\n",
    "                                                                                             'gen_ch_lib_infer_concat',\n",
    "                                                                                            ]],on='td001_dpe_id',\n",
    "                                                                              how='left')\n",
    "td001_sys=td001_sys.merge(td001_sys_ecs[['td001_dpe_id','gen_ecs_lib_infer_concat']],on='td001_dpe_id',\n",
    "                                                                              how='left')"
   ]
  },
  {
   "cell_type": "markdown",
   "metadata": {},
   "source": [
    "## Chauffage\n"
   ]
  },
  {
   "cell_type": "markdown",
   "metadata": {},
   "source": [
    "### préparation de la donnée"
   ]
  },
  {
   "cell_type": "markdown",
   "metadata": {},
   "source": [
    "#### generateur chauffage"
   ]
  },
  {
   "cell_type": "code",
   "execution_count": 919,
   "metadata": {},
   "outputs": [],
   "source": [
    "# libéllés des generateurs chauffage issues des données textes\n",
    "gen_ch_lib_from_txt=pd.concat([gen_ch_lib_desc[['label','category','td001_dpe_id']],\n",
    "                               gen_ch_lib_ft[['label','category','td001_dpe_id']]],axis=0)\n",
    "\n",
    "gen_ch_lib_from_txt =gen_ch_lib_from_txt.sort_values(by=['td001_dpe_id','category','label'])\n",
    "\n",
    "gen_ch_lib_from_txt = gen_ch_lib_from_txt.drop_duplicates(subset=['category','td001_dpe_id'],keep='first')\n",
    "# suppression de la dénomination exact qui ne correpond qu'a une méthode de recherche plus rigide\n",
    "gen_ch_lib_from_txt.label = gen_ch_lib_from_txt.label.str.replace(' exact','')\n",
    "\n",
    "gen_ch_lib_from_txt['source']='txt'\n",
    "\n",
    "# libéllés des générateurs chauffage issus de la table td012\n",
    "gen_ch_lib_from_data = td012_p[['td001_dpe_id','gen_ch_lib_infer']].copy()\n",
    "\n",
    "gen_ch_lib_from_data.columns=['td001_dpe_id','label']\n",
    "\n",
    "gen_ch_lib_from_data['category']=gen_ch_lib_from_data.label.replace(reverse_cat_gen_ch)\n",
    "\n",
    "gen_ch_lib_from_data['label']=pd.Categorical(gen_ch_lib_from_data.label,categories=list(gen_ch_search_dict_flat.keys())+['indetermine'],ordered=True)\n",
    "gen_ch_lib_from_data['source']='data'\n",
    "\n",
    "# concat. \n",
    "gen_ch_lib = pd.concat([gen_ch_lib_from_data,gen_ch_lib_from_txt],axis=0)\n",
    "\n",
    "gen_ch_lib['source']=pd.Categorical(gen_ch_lib.source,categories=['data','txt'],ordered=True)\n",
    "gen_ch_lib['category']=pd.Categorical(gen_ch_lib.category,categories=list(gen_ch_search_dict.keys()),ordered=True)\n",
    "\n"
   ]
  },
  {
   "cell_type": "markdown",
   "metadata": {},
   "source": [
    "#### type installation"
   ]
  },
  {
   "cell_type": "code",
   "execution_count": 920,
   "metadata": {},
   "outputs": [],
   "source": [
    "\n",
    "\n",
    "# libéllés des generateurs chauffage issues des données textes\n",
    "type_installation_ch_from_txt = pd.concat([type_installation_ch_desc[['label','td001_dpe_id']],\n",
    "                               type_installation_ch_ft[['label','td001_dpe_id']]],axis=0)\n",
    "\n",
    "type_installation_ch_from_txt['label'] = pd.Categorical(type_installation_ch_from_txt['label'],\n",
    "                                                    categories=['collectif','individuel','indetermine'],ordered=True)\n",
    "\n",
    "\n",
    "\n",
    "type_installation_ch_from_txt = type_installation_ch_from_txt.sort_values(by=['td001_dpe_id','label'])\n",
    "\n",
    "type_installation_ch_from_txt = type_installation_ch_from_txt.drop_duplicates(subset=['td001_dpe_id'],keep='first')\n",
    "\n",
    "type_installation_ch_from_txt['source'] = 'txt'\n",
    "\n",
    "type_installation_ch_from_data = td011_p[['td001_dpe_id','type_installation_ch']].copy()\n",
    "type_installation_ch_from_data.columns = ['td001_dpe_id','label']\n",
    "type_installation_ch_from_data['label'] = type_installation_ch_from_data['label'].fillna('indetermine')\n",
    "type_installation_ch_from_data['label'] = pd.Categorical(type_installation_ch_from_data['label'],\n",
    "                                                    categories=['collectif','individuel','indetermine'],ordered=True)\n",
    "type_installation_ch_from_data['source'] = 'data'\n",
    "type_installation_ch = pd.concat([type_installation_ch_from_data,type_installation_ch_from_txt],axis=0)\n",
    "\n",
    "\n",
    "type_installation_ch['is_indetermine']=type_installation_ch.label=='indetermine'"
   ]
  },
  {
   "cell_type": "markdown",
   "metadata": {},
   "source": [
    "#### energie"
   ]
  },
  {
   "cell_type": "code",
   "execution_count": 921,
   "metadata": {},
   "outputs": [],
   "source": [
    "\n",
    "\n",
    "# libéllés des generateurs chauffage issues des données textes\n",
    "energie_ch_from_txt = pd.concat([energie_ch_desc[['label','td001_dpe_id']],\n",
    "                               energie_ch_ft[['label','td001_dpe_id']]],axis=0)\n",
    "\n",
    "energie_ch_from_txt['label'] = pd.Categorical(energie_ch_from_txt['label'],\n",
    "                                                    categories=energie_normalise_ordered,ordered=True)\n",
    "\n",
    "\n",
    "\n",
    "energie_ch_from_txt = energie_ch_from_txt.sort_values(by=['td001_dpe_id','label'])\n",
    "\n",
    "energie_ch_from_txt = energie_ch_from_txt.drop_duplicates(subset=['td001_dpe_id'],keep='first')\n",
    "\n",
    "energie_ch_from_txt['source'] = 'txt'\n",
    "\n",
    "energie_ch_from_data = td012_p[['td001_dpe_id','type_energie_ch']].copy()\n",
    "energie_ch_from_data.columns = ['td001_dpe_id','label']\n",
    "energie_ch_from_data['label'] = energie_ch_from_data['label'].fillna('indetermine')\n",
    "energie_ch_from_data['label'] = pd.Categorical(energie_ch_from_data['label'],\n",
    "                                                    categories=energie_normalise_ordered,ordered=True)\n",
    "energie_ch_from_data['source'] = 'data'\n",
    "energie_ch = pd.concat([energie_ch_from_data,energie_ch_from_txt],axis=0)\n",
    "\n",
    "\n",
    "energie_ch['is_indetermine']=energie_ch.label=='indetermine'"
   ]
  },
  {
   "cell_type": "markdown",
   "metadata": {},
   "source": [
    "### amélioration des labels chaudières\n",
    "\n",
    "Problème : dans les données ou le texte on manque parfois de l'information type energie et/ou type de chaudiere (condensation/BT etc..) on cherche le maximum d'information des diverses sources pour recréer le bon libéllé"
   ]
  },
  {
   "cell_type": "code",
   "execution_count": 922,
   "metadata": {},
   "outputs": [],
   "source": [
    "is_chaudiere_ener_ind = gen_ch_lib.label.str.contains('chaudiere energie indetermine')\n",
    "is_chaudiere_ener_ind = is_chaudiere_ener_ind &(~gen_ch_lib.label.str.contains('chaudiere energie indetermine indetermine'))\n",
    "is_chaudiere_ind = gen_ch_lib.label.str.contains('chaudiere')&gen_ch_lib.label.str.contains('indetermine')&(~is_chaudiere_ener_ind)\n",
    "\n",
    "\n",
    "gen_ch_lib['chaudiere_ener_ind']=is_chaudiere_ener_ind\n",
    "gen_ch_lib['chaudiere_ind']=is_chaudiere_ind\n",
    "\n",
    "sum_inds=gen_ch_lib.groupby('td001_dpe_id')[['chaudiere_ener_ind','chaudiere_ind']].sum()\n",
    "\n",
    "id_sel=sum_inds.loc[(sum_inds>0).min(axis=1)].index\n",
    "\n",
    "ind_sel = gen_ch_lib.td001_dpe_id.isin(id_sel)&gen_ch_lib.chaudiere_ind\n",
    "chaudiere_ind=gen_ch_lib.loc[ind_sel]\n",
    "\n",
    "chaudiere_ener_ind=gen_ch_lib.loc[gen_ch_lib.td001_dpe_id.isin(id_sel)&gen_ch_lib.chaudiere_ener_ind]\n",
    "\n",
    "suffix=chaudiere_ener_ind.set_index('td001_dpe_id').label.apply(lambda x:x.split('energie indetermine')[-1].strip())\n",
    "suffix.name='suffix'\n",
    "\n",
    "chaudiere_ind = chaudiere_ind.merge(suffix,on='td001_dpe_id',how='left')\n",
    "\n",
    "chaudiere_ind.label =chaudiere_ind.label.astype(str)+ ' '+chaudiere_ind.suffix\n",
    "\n",
    "chaudiere_ind.label=chaudiere_ind.label.str.replace('indetermine ','').str.strip()\n",
    "\n",
    "gen_ch_lib.loc[ind_sel,'label']=chaudiere_ind.label.values"
   ]
  },
  {
   "cell_type": "markdown",
   "metadata": {},
   "source": [
    "### drop des labels chauffage par défaut lorsqu'il existe mieux. "
   ]
  },
  {
   "cell_type": "markdown",
   "metadata": {},
   "source": [
    "#### elec"
   ]
  },
  {
   "cell_type": "code",
   "execution_count": 923,
   "metadata": {},
   "outputs": [],
   "source": [
    "# on identifie les dpe pour lesquels on a des champs label elec determine (pac chaudiere ou effet joule) et le champs indetermine\n",
    "elec_ind = (gen_ch_lib.set_index('td001_dpe_id').label == 'chauffage electrique indetermine')\n",
    "elec_deter= gen_ch_lib.set_index('td001_dpe_id').label.str.contains('electrique|pac')&(~elec_ind)\n",
    "elec_deter = elec_deter.groupby('td001_dpe_id').max()\n",
    "elec_ind = elec_ind.groupby('td001_dpe_id').max()\n",
    "\n",
    "sel = elec_ind&elec_deter\n",
    "sel = sel[sel]\n",
    "sel = sel.to_frame('label').reset_index()\n",
    "sel['label']='chauffage electrique indetermine'\n",
    "sel['to_drop']=True\n",
    "\n",
    "gen_ch_lib = gen_ch_lib.merge(sel,on=['td001_dpe_id','label'],how='left')\n",
    "\n",
    "gen_ch_lib = gen_ch_lib.loc[gen_ch_lib.to_drop!=True]\n",
    "del gen_ch_lib['to_drop']"
   ]
  },
  {
   "cell_type": "markdown",
   "metadata": {},
   "source": [
    "#### energie à combustion"
   ]
  },
  {
   "cell_type": "code",
   "execution_count": 924,
   "metadata": {},
   "outputs": [],
   "source": [
    "# pour les autres energies les label contiennent l'energie de chauffage\n",
    "for ener in energie_combustion_mods:\n",
    "    ener_ind = (gen_ch_lib.set_index('td001_dpe_id').label == f'chauffage {ener} indetermine')\n",
    "    ener_deter= gen_ch_lib.set_index('td001_dpe_id').label.str.contains(f'{ener}')&(~ener_ind)\n",
    "    ener_deter = ener_deter.groupby('td001_dpe_id').max()\n",
    "    ener_ind = ener_ind.groupby('td001_dpe_id').max()\n",
    "\n",
    "    sel = ener_ind&ener_deter\n",
    "    sel = sel[sel]\n",
    "    sel = sel.to_frame('label').reset_index()\n",
    "    sel['label']=f'chauffage {ener} indetermine'\n",
    "    sel['to_drop']=True\n",
    "    gen_ch_lib = gen_ch_lib.merge(sel,on=['td001_dpe_id','label'],how='left')\n",
    "\n",
    "    gen_ch_lib = gen_ch_lib.loc[gen_ch_lib.to_drop!=True]\n",
    "    del gen_ch_lib['to_drop']"
   ]
  },
  {
   "cell_type": "code",
   "execution_count": 925,
   "metadata": {},
   "outputs": [
    {
     "data": {
      "text/plain": [
       "[('pompe* AND chaleur*', 'pac', 'thermody*', 'clim*', 'split*')]"
      ]
     },
     "execution_count": 925,
     "metadata": {},
     "output_type": "execute_result"
    }
   ],
   "source": [
    "gen_ch_search_dict_flat['pac indetermine']"
   ]
  },
  {
   "cell_type": "code",
   "execution_count": 926,
   "metadata": {},
   "outputs": [
    {
     "data": {
      "text/plain": [
       "chaudiere gaz indetermine                                 28787\n",
       "poele ou insert bois                                      27045\n",
       "radiateurs electriques                                    25994\n",
       "chaudiere gaz condensation                                25742\n",
       "panneaux rayonnants electriques nfc                       21462\n",
       "convecteurs electriques nfc                               20704\n",
       "reseau de chaleur                                         14357\n",
       "chaudiere gaz standard                                    14243\n",
       "chaudiere energie indetermine indetermine                 12611\n",
       "chaudiere fioul indetermine                               12040\n",
       "pac air/air                                                9486\n",
       "plafonds/planchers rayonnants electriques nfc              8239\n",
       "chaudiere gaz basse temperature                            8088\n",
       "pac air/eau                                                6599\n",
       "chaudiere fioul standard                                   4879\n",
       "chauffage electrique indetermine                           4727\n",
       "convecteurs electriques                                    3857\n",
       "chaudiere bois                                             3370\n",
       "pac indetermine                                            3348\n",
       "chaudiere energie indetermine basse temperature            2374\n",
       "chaudiere energie indetermine condensation                 2194\n",
       "pac eau/eau en releve de chaudiere                         1942\n",
       "chaudiere fioul basse temperature                          1871\n",
       "poele ou insert indetermine                                1807\n",
       "chaudiere energie indetermine standard                     1798\n",
       "chaudiere electrique                                       1700\n",
       "pac geothermique                                           1441\n",
       "pac eau/eau                                                1059\n",
       "panneaux rayonnants electriques                            1051\n",
       "radiateurs gaz                                              993\n",
       "chaudiere fioul condensation                                949\n",
       "chauffage fioul indetermine                                 677\n",
       "chauffage gaz indetermine                                   576\n",
       "poele ou insert fioul/gpl/charbon                           559\n",
       "convecteurs bi-jonction electriques                         446\n",
       "chauffage autre : gpl butane propane indetermine            315\n",
       "chaudiere autre : gpl butane propane condensation           297\n",
       "chaudiere autre : gpl butane propane standard               260\n",
       "pac air/eau en releve de chaudiere                          260\n",
       "chaudiere autre : gpl butane propane indetermine            235\n",
       "chauffage bois indetermine                                  139\n",
       "chaudiere autre : gpl butane propane basse temperature      101\n",
       "chauffage charbon indetermine                                49\n",
       "chaudiere charbon indetermine                                18\n",
       "pac geothermique en releve de chaudiere                      12\n",
       "chaudiere charbon standard                                    3\n",
       "chaudiere charbon basse temperature                           2\n",
       "chaudiere charbon condensation                                1\n",
       "Name: label, dtype: int64"
      ]
     },
     "execution_count": 926,
     "metadata": {},
     "output_type": "execute_result"
    }
   ],
   "source": [
    "gen_ch_lib.label.value_counts()"
   ]
  },
  {
   "cell_type": "code",
   "execution_count": 927,
   "metadata": {},
   "outputs": [
    {
     "data": {
      "text/plain": [
       "'chauffage autre : gpl butane propane indetermine'"
      ]
     },
     "execution_count": 927,
     "metadata": {},
     "output_type": "execute_result"
    }
   ],
   "source": [
    "'chaudiere autre : gpl butane propane indetermine'\n",
    "'chauffage autre : gpl butane propane indetermine'"
   ]
  },
  {
   "cell_type": "markdown",
   "metadata": {},
   "source": [
    "### fusion"
   ]
  },
  {
   "cell_type": "markdown",
   "metadata": {},
   "source": [
    "#### generateur chauffage"
   ]
  },
  {
   "cell_type": "code",
   "execution_count": 928,
   "metadata": {},
   "outputs": [],
   "source": [
    "gen_ch_lib = gen_ch_lib.sort_values(by=['td001_dpe_id','category','label','source'])\n",
    "\n",
    "\n",
    "gen_ch_lib = gen_ch_lib.sort_values(by=['td001_dpe_id','category','label','source'])\n",
    "\n",
    "gen_ch_lib = gen_ch_lib.drop_duplicates(subset=['td001_dpe_id','category'])\n",
    "\n",
    "gen_ch_lib=gen_ch_lib.groupby('td001_dpe_id').label.apply(lambda x:' + '.join(np.unique(x)))\n",
    "\n",
    "gen_ch_lib = gen_ch_lib.to_frame('gen_ch_lib_final')\n",
    "\n",
    "td001_sys = td001_sys.merge(gen_ch_lib.reset_index(),on='td001_dpe_id',how='left')\n",
    "\n",
    "diff=td001_sys.gen_ch_lib_infer_concat!=td001_sys.gen_ch_lib_final\n",
    "\n",
    "ind=td001_sys.loc[td001_sys.gen_ch_lib_final=='chaudiere energie indetermine condensation']"
   ]
  },
  {
   "cell_type": "markdown",
   "metadata": {},
   "source": [
    "#### chauffage solaire"
   ]
  },
  {
   "cell_type": "code",
   "execution_count": 929,
   "metadata": {},
   "outputs": [],
   "source": [
    "solaire_ch_txt=pd.concat([solaire_ch_ft[['label','td001_dpe_id']],solaire_ch_desc[['label','td001_dpe_id']]],axis=0)\n",
    "\n",
    "solaire_ch_txt = solaire_ch_txt.sort_values('label').drop_duplicates(subset=['td001_dpe_id'])\n",
    "\n",
    "solaire_ch_txt= solaire_ch_txt.loc[solaire_ch_txt.label=='solaire']\n",
    "\n",
    "is_ch_solaire_txt=solaire_ch_txt.groupby('td001_dpe_id').label.count().astype(float)>0\n",
    "\n",
    "td011_p['tr003_solaire'] = td011_p['tr003_solaire'].astype(float)\n",
    "\n",
    "is_ch_solaire_data = td011_p.groupby('td001_dpe_id').tr003_solaire.max()>0\n",
    "\n",
    "td001_sys = td001_sys.merge(is_ch_solaire_data.to_frame('is_ch_solaire_data'),on='td001_dpe_id',how='left')\n",
    "\n",
    "td001_sys = td001_sys.merge(is_ch_solaire_txt.to_frame('is_ch_solaire_txt'),on='td001_dpe_id',how='left')\n",
    "\n",
    "td001_sys['is_ch_solaire'] = td001_sys.is_ch_solaire_txt.fillna(0).astype(float)+td001_sys.is_ch_solaire_data.fillna(0).astype(float)\n",
    "td001_sys['is_ch_solaire'] = td001_sys['is_ch_solaire'] > 0\n",
    "\n",
    "is_ch_solaire = td001_sys.is_ch_solaire==True\n",
    "\n",
    "td001_sys.loc[is_ch_solaire,'gen_ch_lib_final']='chauffage solaire + '+td001_sys.loc[is_ch_solaire,'gen_ch_lib_final']"
   ]
  },
  {
   "cell_type": "markdown",
   "metadata": {},
   "source": [
    "#### type installation"
   ]
  },
  {
   "cell_type": "code",
   "execution_count": 930,
   "metadata": {},
   "outputs": [],
   "source": [
    "type_installation_ch = type_installation_ch.sort_values(by=['td001_dpe_id','is_indetermine',\n",
    "                                     'source','label'])\n",
    "type_installation_ch = type_installation_ch.drop_duplicates(subset=['td001_dpe_id'])\n",
    "\n",
    "type_installation_ch = type_installation_ch.set_index('td001_dpe_id').label.to_frame('type_installation_ch')\n",
    "\n",
    "td001_sys = td001_sys.merge(type_installation_ch.reset_index(),on='td001_dpe_id',how='left')\n"
   ]
  },
  {
   "cell_type": "markdown",
   "metadata": {},
   "source": [
    "#### energie"
   ]
  },
  {
   "cell_type": "code",
   "execution_count": 931,
   "metadata": {},
   "outputs": [],
   "source": [
    "\n",
    "energie_ch = energie_ch.sort_values(by=['td001_dpe_id','label','source'])\n",
    "\n",
    "energie_ch = energie_ch.drop_duplicates(subset=['td001_dpe_id','label'])\n",
    "\n",
    "energie_ch=energie_ch.groupby('td001_dpe_id').label.apply(lambda x:' + '.join(np.unique(x))).to_frame('type_energie_ch')\n",
    "\n",
    "\n",
    "\n",
    "\n",
    "td001_sys = td001_sys.merge(energie_ch.reset_index(),on='td001_dpe_id',how='left')\n"
   ]
  },
  {
   "cell_type": "markdown",
   "metadata": {},
   "source": [
    "#  ecs"
   ]
  },
  {
   "cell_type": "markdown",
   "metadata": {},
   "source": [
    "### preparation de la donnée\n"
   ]
  },
  {
   "cell_type": "markdown",
   "metadata": {},
   "source": [
    "#### generateur ecs"
   ]
  },
  {
   "cell_type": "code",
   "execution_count": 932,
   "metadata": {},
   "outputs": [],
   "source": [
    "\n",
    "\n",
    "# libéllés des generateurs chauffage issues des données textes\n",
    "gen_ecs_lib_from_txt=pd.concat([gen_ecs_lib_desc[['label','category','td001_dpe_id']],\n",
    "                               gen_ecs_lib_ft[['label','category','td001_dpe_id']]],axis=0)\n",
    "\n",
    "gen_ecs_lib_from_txt =gen_ecs_lib_from_txt.sort_values(by=['td001_dpe_id','category','label'])\n",
    "\n",
    "gen_ecs_lib_from_txt = gen_ecs_lib_from_txt.drop_duplicates(subset=['category','td001_dpe_id'],keep='first')\n",
    "\n",
    "# suppression de la dénomination exact qui ne correpond qu'a une méthode de recherche plus rigide\n",
    "gen_ecs_lib_from_txt.label = gen_ecs_lib_from_txt.label.str.replace(' exact','')\n",
    "\n",
    "gen_ecs_lib_from_txt['source']='txt'\n",
    "\n",
    "# libéllés des générateurs chauffage issus de la table td012\n",
    "gen_ecs_lib_from_data = td014_p[['td001_dpe_id','gen_ecs_lib_infer']].copy()\n",
    "\n",
    "gen_ecs_lib_from_data.columns=['td001_dpe_id','label']\n",
    "gen_ecs_lib_from_data['label']=gen_ecs_lib_from_data['label'].fillna('indetermine')\n",
    "gen_ecs_lib_from_data['category']=gen_ecs_lib_from_data.label.replace(reverse_cat_gen_ecs)\n",
    "\n",
    "gen_ecs_lib_from_data['label']=pd.Categorical(gen_ecs_lib_from_data.label,categories=list(gen_ecs_search_dict_flat.keys())+['indetermine'],ordered=True)\n",
    "gen_ecs_lib_from_data['label']=gen_ecs_lib_from_data['label'].fillna('indetermine')\n",
    "\n",
    "gen_ecs_lib_from_data['source']='data'\n",
    "\n",
    "# concat. \n",
    "gen_ecs_lib = pd.concat([gen_ecs_lib_from_data,gen_ecs_lib_from_txt],axis=0)\n",
    "\n",
    "gen_ecs_lib['source']=pd.Categorical(gen_ecs_lib.source,categories=['data','txt'],ordered=True)\n",
    "gen_ecs_lib['category']=pd.Categorical(gen_ecs_lib.category,categories=list(gen_ecs_search_dict.keys()),ordered=True)\n",
    "\n"
   ]
  },
  {
   "cell_type": "markdown",
   "metadata": {},
   "source": [
    "#### type installation"
   ]
  },
  {
   "cell_type": "code",
   "execution_count": 933,
   "metadata": {},
   "outputs": [],
   "source": [
    "\n",
    "\n",
    "# libéllés des generateurs chauffage issues des données textes\n",
    "type_installation_ecs_from_txt = pd.concat([type_installation_ecs_desc[['label','td001_dpe_id']],\n",
    "                               type_installation_ecs_ft[['label','td001_dpe_id']]],axis=0)\n",
    "\n",
    "type_installation_ecs_from_txt['label'] = pd.Categorical(type_installation_ecs_from_txt['label'],\n",
    "                                                    categories=['collectif','individuel','indetermine'],ordered=True)\n",
    "\n",
    "\n",
    "\n",
    "type_installation_ecs_from_txt = type_installation_ecs_from_txt.sort_values(by=['td001_dpe_id','label'])\n",
    "\n",
    "type_installation_ecs_from_txt = type_installation_ecs_from_txt.drop_duplicates(subset=['td001_dpe_id'],keep='first')\n",
    "\n",
    "type_installation_ecs_from_txt['source'] = 'txt'\n",
    "\n",
    "type_installation_ecs_from_data = td014_p[['td001_dpe_id','type_installation_ecs']].copy()\n",
    "type_installation_ecs_from_data.columns = ['td001_dpe_id','label']\n",
    "type_installation_ecs_from_data['label'] = type_installation_ecs_from_data['label'].fillna('indetermine')\n",
    "type_installation_ecs_from_data['label'] = pd.Categorical(type_installation_ecs_from_data['label'],\n",
    "                                                    categories=['collectif','individuel','indetermine'],ordered=True)\n",
    "type_installation_ecs_from_data['source'] = 'data'\n",
    "type_installation_ecs = pd.concat([type_installation_ecs_from_data,type_installation_ecs_from_txt],axis=0)\n",
    "\n",
    "\n",
    "type_installation_ecs['is_indetermine']=type_installation_ecs.label=='indetermine'"
   ]
  },
  {
   "cell_type": "markdown",
   "metadata": {},
   "source": [
    "#### energie "
   ]
  },
  {
   "cell_type": "code",
   "execution_count": 934,
   "metadata": {},
   "outputs": [],
   "source": [
    "\n",
    "\n",
    "# libéllés des generateurs chauffage issues des données textes\n",
    "energie_ecs_from_txt = pd.concat([energie_ecs_desc[['label','td001_dpe_id']],\n",
    "                               energie_ecs_ft[['label','td001_dpe_id']]],axis=0)\n",
    "\n",
    "energie_ecs_from_txt['label'] = pd.Categorical(energie_ecs_from_txt['label'],\n",
    "                                                    categories=energie_normalise_ordered,ordered=True)\n",
    "\n",
    "\n",
    "\n",
    "energie_ecs_from_txt = energie_ecs_from_txt.sort_values(by=['td001_dpe_id','label'])\n",
    "\n",
    "energie_ecs_from_txt = energie_ecs_from_txt.drop_duplicates(subset=['td001_dpe_id'],keep='first')\n",
    "\n",
    "energie_ecs_from_txt['source'] = 'txt'\n",
    "\n",
    "energie_ecs_from_data = td014_p[['td001_dpe_id','type_energie_ecs']].copy()\n",
    "energie_ecs_from_data.columns = ['td001_dpe_id','label']\n",
    "energie_ecs_from_data['label'] = energie_ecs_from_data['label'].fillna('indetermine')\n",
    "energie_ecs_from_data['label'] = pd.Categorical(energie_ecs_from_data['label'],\n",
    "                                                    categories=energie_normalise_ordered,ordered=True)\n",
    "energie_ecs_from_data['source'] = 'data'\n",
    "energie_ecs = pd.concat([energie_ecs_from_data,energie_ecs_from_txt],axis=0)\n",
    "\n",
    "\n",
    "energie_ecs['is_indetermine']=energie_ecs.label=='indetermine'"
   ]
  },
  {
   "cell_type": "markdown",
   "metadata": {},
   "source": [
    "### amélioration des labels chaudières\n",
    "\n",
    "Problème : dans les données ou le texte on manque parfois de l'information type energie et/ou type de chaudiere (condensation/BT etc..) on cherche le maximum d'information des diverses sources pour recréer le bon libéllé"
   ]
  },
  {
   "cell_type": "code",
   "execution_count": 935,
   "metadata": {},
   "outputs": [],
   "source": [
    "is_chaudiere_ener_ind = gen_ecs_lib.label.str.contains('chaudiere energie indetermine')\n",
    "is_chaudiere_ener_ind = is_chaudiere_ener_ind &(~gen_ecs_lib.label.str.contains('chaudiere energie indetermine indetermine'))\n",
    "is_chaudiere_ind = gen_ecs_lib.label.str.contains('chaudiere')&gen_ecs_lib.label.str.contains('indetermine')&(~is_chaudiere_ener_ind)\n",
    "\n",
    "\n",
    "gen_ecs_lib['chaudiere_ener_ind']=is_chaudiere_ener_ind\n",
    "gen_ecs_lib['chaudiere_ind']=is_chaudiere_ind\n",
    "\n",
    "sum_inds=gen_ecs_lib.groupby('td001_dpe_id')[['chaudiere_ener_ind','chaudiere_ind']].sum()\n",
    "\n",
    "id_sel=sum_inds.loc[(sum_inds>0).min(axis=1)].index\n",
    "\n",
    "ind_sel = gen_ecs_lib.td001_dpe_id.isin(id_sel)&gen_ecs_lib.chaudiere_ind\n",
    "chaudiere_ind=gen_ecs_lib.loc[ind_sel]\n",
    "\n",
    "chaudiere_ener_ind=gen_ecs_lib.loc[gen_ecs_lib.td001_dpe_id.isin(id_sel)&gen_ecs_lib.chaudiere_ener_ind]\n",
    "\n",
    "suffix=chaudiere_ener_ind.set_index('td001_dpe_id').label.apply(lambda x:x.split('energie indetermine')[-1].strip())\n",
    "suffix.name='suffix'\n",
    "\n",
    "chaudiere_ind = chaudiere_ind.merge(suffix,on='td001_dpe_id',how='left')\n",
    "\n",
    "chaudiere_ind.label =chaudiere_ind.label.astype(str)+ ' '+chaudiere_ind.suffix\n",
    "\n",
    "chaudiere_ind.label=chaudiere_ind.label.str.replace('indetermine ','').str.strip()\n",
    "\n",
    "gen_ecs_lib.loc[ind_sel,'label']=chaudiere_ind.label.values"
   ]
  },
  {
   "cell_type": "markdown",
   "metadata": {},
   "source": [
    "### fusion"
   ]
  },
  {
   "cell_type": "code",
   "execution_count": 936,
   "metadata": {},
   "outputs": [],
   "source": [
    "priorisation_ecs={'chaudiere':'principal',\n",
    " 'effet_joule':'secondaire',\n",
    "\"production_mixte_indetermine\":\"secondaire\",\n",
    " 'chauffe-eau_independant':'defaut',\n",
    " 'reseau de chaleur':'principal',\n",
    " 'solaire':'solaire',\n",
    " 'abscence_solaire':'solaire',\n",
    " 'ecs_thermodynamique':'principal',\n",
    "'indetermine':'defaut'}"
   ]
  },
  {
   "cell_type": "code",
   "execution_count": 937,
   "metadata": {},
   "outputs": [],
   "source": [
    "gen_ecs_lib['priorite']=gen_ecs_lib.category.replace(priorisation_ecs)"
   ]
  },
  {
   "cell_type": "markdown",
   "metadata": {},
   "source": [
    "#### traitement des generateurs d'ECS prioritaires"
   ]
  },
  {
   "cell_type": "code",
   "execution_count": 938,
   "metadata": {},
   "outputs": [],
   "source": [
    "gen_ecs_lib_princ = gen_ecs_lib.query('priorite==\"principal\"')"
   ]
  },
  {
   "cell_type": "code",
   "execution_count": 939,
   "metadata": {},
   "outputs": [],
   "source": [
    "\n",
    "\n",
    "gen_ecs_lib_princ = gen_ecs_lib_princ.sort_values(by=['td001_dpe_id','category','label','source'])\n",
    "\n",
    "gen_ecs_lib_princ = gen_ecs_lib_princ.drop_duplicates(subset=['td001_dpe_id','category'])\n",
    "\n",
    "gen_ecs_lib_princ=gen_ecs_lib_princ.groupby('td001_dpe_id').label.apply(lambda x:' + '.join(np.unique(x)))\n",
    "\n",
    "gen_ecs_lib_princ = gen_ecs_lib_princ.to_frame('gen_ecs_lib_final')\n",
    "\n",
    "\n",
    "\n",
    "td001_sys = td001_sys.merge(gen_ecs_lib_princ.reset_index(),on='td001_dpe_id',how='left')\n"
   ]
  },
  {
   "cell_type": "markdown",
   "metadata": {},
   "source": [
    "#### traitement des generateurs d'ecs secondaires"
   ]
  },
  {
   "cell_type": "code",
   "execution_count": 940,
   "metadata": {},
   "outputs": [],
   "source": [
    "gen_ecs_lib_sec = gen_ecs_lib.query('priorite==\"secondaire\"')\n",
    "\n",
    "gen_ecs_lib_sec = gen_ecs_lib_sec.sort_values(by=['td001_dpe_id','category','label','source'])\n",
    "\n",
    "gen_ecs_lib_sec = gen_ecs_lib_sec.drop_duplicates(subset=['td001_dpe_id','category'])\n",
    "\n",
    "gen_ecs_lib_sec=gen_ecs_lib_sec.groupby('td001_dpe_id').label.apply(lambda x:' + '.join(np.unique(x)))\n",
    "\n",
    "gen_ecs_lib_sec = gen_ecs_lib_sec.to_frame('gen_ecs_lib_final_sec')\n",
    "\n",
    "td001_sys = td001_sys.merge(gen_ecs_lib_sec.reset_index(),on='td001_dpe_id',how='left')\n",
    "\n",
    "null=td001_sys.gen_ecs_lib_final.isnull()\n",
    "\n",
    "td001_sys.loc[null,'gen_ecs_lib_final']=td001_sys.loc[null,'gen_ecs_lib_final_sec']"
   ]
  },
  {
   "cell_type": "markdown",
   "metadata": {},
   "source": [
    "#### traitement des generateurs d'ecs par défaut"
   ]
  },
  {
   "cell_type": "code",
   "execution_count": 941,
   "metadata": {},
   "outputs": [],
   "source": [
    "gen_ecs_lib_defaut = gen_ecs_lib.query('priorite==\"defaut\"')\n",
    "\n",
    "gen_ecs_lib_defaut = gen_ecs_lib_defaut.sort_values(by=['td001_dpe_id','category','label','source'])\n",
    "\n",
    "gen_ecs_lib_defaut = gen_ecs_lib_defaut.drop_duplicates(subset=['td001_dpe_id','category'])\n",
    "\n",
    "gen_ecs_lib_defaut=gen_ecs_lib_defaut.groupby('td001_dpe_id').label.apply(lambda x:' + '.join(np.unique(x)))\n",
    "\n",
    "gen_ecs_lib_defaut = gen_ecs_lib_defaut.to_frame('gen_ecs_lib_final_defaut')\n",
    "\n",
    "td001_sys = td001_sys.merge(gen_ecs_lib_defaut.reset_index(),on='td001_dpe_id',how='left')\n",
    "\n",
    "null=td001_sys.gen_ecs_lib_final.isnull()\n",
    "\n",
    "td001_sys.loc[null,'gen_ecs_lib_final']=td001_sys.loc[null,'gen_ecs_lib_final_defaut']"
   ]
  },
  {
   "cell_type": "markdown",
   "metadata": {},
   "source": [
    "####  ecs solaire"
   ]
  },
  {
   "cell_type": "code",
   "execution_count": 942,
   "metadata": {},
   "outputs": [
    {
     "data": {
      "text/plain": [
       "td001_dpe_id\n",
       "1000252    False\n",
       "10003      False\n",
       "1000437    False\n",
       "1000817    False\n",
       "1000866    False\n",
       "           ...  \n",
       "999222     False\n",
       "999298     False\n",
       "99972      False\n",
       "999768      True\n",
       "999890     False\n",
       "Name: is_ecs_solaire, Length: 80306, dtype: bool"
      ]
     },
     "execution_count": 942,
     "metadata": {},
     "output_type": "execute_result"
    }
   ],
   "source": [
    "is_ecs_solaire_data"
   ]
  },
  {
   "cell_type": "code",
   "execution_count": 943,
   "metadata": {},
   "outputs": [],
   "source": [
    "gen_ecs_lib_solaire = gen_ecs_lib.query('priorite==\"solaire\"')\n",
    "\n",
    "\n",
    "gen_ecs_lib_solaire =gen_ecs_lib_solaire.sort_values('label',ascending=False).drop_duplicates(subset='td001_dpe_id')\n",
    "\n",
    "gen_ecs_lib_solaire=gen_ecs_lib_solaire.loc[gen_ecs_lib_solaire.label=='ecs solaire']\n",
    "\n",
    "is_ecs_solaire_txt=(gen_ecs_lib_solaire.groupby('td001_dpe_id').label.count().astype(float)>0)\n",
    "\n",
    "is_ecs_solaire_data=td014_p.groupby('td001_dpe_id').is_ecs_solaire.max().astype(float)>0\n",
    "\n",
    "td001_sys = td001_sys.merge(is_ecs_solaire_txt.to_frame('is_ecs_solaire_txt'),how='left',on='td001_dpe_id')\n",
    "td001_sys = td001_sys.merge(is_ecs_solaire_data.to_frame('is_ecs_solaire_data'),how='left',on='td001_dpe_id')\n",
    "\n",
    "\n",
    "td001_sys['is_ecs_solaire'] = td001_sys.is_ecs_solaire_txt.fillna(0).astype(float)+td001_sys.is_ecs_solaire_data.fillna(0).astype(float)\n",
    "td001_sys['is_ecs_solaire'] = td001_sys['is_ecs_solaire'] > 0\n",
    "\n",
    "\n",
    "\n",
    "\n",
    "is_ecs_solaire = td001_sys.is_ecs_solaire==True\n",
    "\n",
    "td001_sys.loc[is_ecs_solaire,'gen_ecs_lib_final']='ecs solaire + '+td001_sys.loc[is_ecs_solaire,'gen_ecs_lib_final']"
   ]
  },
  {
   "cell_type": "markdown",
   "metadata": {},
   "source": [
    "####  installation ecs"
   ]
  },
  {
   "cell_type": "code",
   "execution_count": 944,
   "metadata": {},
   "outputs": [],
   "source": [
    "type_installation_ecs = type_installation_ecs.sort_values(by=['td001_dpe_id','is_indetermine',\n",
    "                                     'source','label'])\n",
    "type_installation_ecs = type_installation_ecs.drop_duplicates(subset=['td001_dpe_id'])\n",
    "\n",
    "type_installation_ecs = type_installation_ecs.set_index('td001_dpe_id').label.to_frame('type_installation_ecs')\n",
    "\n",
    "td001_sys = td001_sys.merge(type_installation_ecs.reset_index(),on='td001_dpe_id',how='left')\n"
   ]
  },
  {
   "cell_type": "markdown",
   "metadata": {},
   "source": [
    "####  energie ecs"
   ]
  },
  {
   "cell_type": "code",
   "execution_count": 945,
   "metadata": {},
   "outputs": [],
   "source": [
    "\n",
    "energie_ecs = energie_ecs.sort_values(by=['td001_dpe_id','label','source'])\n",
    "\n",
    "energie_ecs = energie_ecs.drop_duplicates(subset=['td001_dpe_id','label'])\n",
    "\n",
    "energie_ecs=energie_ecs.groupby('td001_dpe_id').label.apply(lambda x:' + '.join(np.unique(x))).to_frame('type_energie_ecs')\n",
    "\n",
    "\n",
    "\n",
    "\n",
    "td001_sys = td001_sys.merge(energie_ecs.reset_index(),on='td001_dpe_id',how='left')\n"
   ]
  },
  {
   "cell_type": "markdown",
   "metadata": {},
   "source": [
    "# Redressement des données "
   ]
  },
  {
   "cell_type": "code",
   "execution_count": 946,
   "metadata": {},
   "outputs": [],
   "source": [
    "td001_sys['gen_ch_lib_final']=td001_sys.gen_ch_lib_final.str.replace(' \\+ indetermine','')\n",
    "td001_sys['gen_ecs_lib_final']=td001_sys.gen_ecs_lib_final.str.replace(' \\+ indetermine','')"
   ]
  },
  {
   "cell_type": "code",
   "execution_count": 947,
   "metadata": {},
   "outputs": [],
   "source": [
    "td001_sys['gen_ch_lib_non_retraite']=td001_sys.gen_ch_lib_final.copy()\n",
    "td001_sys['gen_ecs_lib_non_retraite']=td001_sys.gen_ecs_lib_final.copy()"
   ]
  },
  {
   "cell_type": "markdown",
   "metadata": {},
   "source": [
    "## retraitement des energies non affectées pour les chaudières avec les energies factures"
   ]
  },
  {
   "cell_type": "code",
   "execution_count": 948,
   "metadata": {},
   "outputs": [],
   "source": [
    "td001_sys =td001_sys.merge(td001_ener_from_facture,on='td001_dpe_id',how='left')\n"
   ]
  },
  {
   "cell_type": "markdown",
   "metadata": {},
   "source": [
    "### chauffage"
   ]
  },
  {
   "cell_type": "code",
   "execution_count": 949,
   "metadata": {},
   "outputs": [],
   "source": [
    "\n",
    "\n",
    "ind=td001_sys.gen_ch_lib_final.fillna('indetermine').str.contains('energie indetermine')\n",
    "\n",
    "for energie in energie_chaudiere_mods:\n",
    "    \n",
    "    # ON AFFECTE LES ENERGIES MANQUANTES AVEC LES ENERGIES DE CHAUFFAGE ISSUES DIFFERENTES SOURCES\n",
    "    \n",
    "    ener = td001_sys.td002_type_energie_ch.str.contains(energie)\n",
    "    td001_sys.loc[ener&ind,'gen_ch_lib_final']=td001_sys.loc[ener&ind,'gen_ch_lib_final'].str.replace('energie indetermine',energie)\n",
    "    ind=td001_sys.gen_ch_lib_final.fillna('indetermine').str.contains('energie indetermine')\n",
    "    \n",
    "    ener = td001_sys.td016_type_energie_ch.str.contains(energie)\n",
    "    td001_sys.loc[ener&ind,'gen_ch_lib_final']=td001_sys.loc[ener&ind,'gen_ch_lib_final'].str.replace('energie indetermine',energie)\n",
    "    ind=td001_sys.gen_ch_lib_final.fillna('indetermine').str.contains('energie indetermine')\n",
    "    \n",
    "    ener = td001_sys.type_energie_ch.str.contains(energie)\n",
    "    td001_sys.loc[ener&ind,'gen_ch_lib_final']=td001_sys.loc[ener&ind,'gen_ch_lib_final'].str.replace('energie indetermine',energie)\n",
    "    ind=td001_sys.gen_ch_lib_final.fillna('indetermine').str.contains('energie indetermine')\n",
    "    \n",
    "    # SINON ON PREND LES ENERGIES D'ECS ISSUES DES DIFFERENTES SOURCES\n",
    "\n",
    "    ener = td001_sys.type_energie_ecs.str.contains(energie)\n",
    "    td001_sys.loc[ener&ind,'gen_ch_lib_final']=td001_sys.loc[ener&ind,'gen_ch_lib_final'].str.replace('energie indetermine',energie)\n",
    "    ind=td001_sys.gen_ch_lib_final.fillna('indetermine').str.contains('energie indetermine')\n",
    "    \n",
    "    ener = td001_sys.td002_type_energie_ecs.str.contains(energie)\n",
    "    td001_sys.loc[ener&ind,'gen_ch_lib_final']=td001_sys.loc[ener&ind,'gen_ch_lib_final'].str.replace('energie indetermine',energie)\n",
    "    ind=td001_sys.gen_ch_lib_final.fillna('indetermine').str.contains('energie indetermine')\n",
    "    \n",
    "    ener = td001_sys.td016_type_energie_ecs.str.contains(energie)\n",
    "    td001_sys.loc[ener&ind,'gen_ch_lib_final']=td001_sys.loc[ener&ind,'gen_ch_lib_final'].str.replace('energie indetermine',energie)\n",
    "    ind=td001_sys.gen_ch_lib_final.fillna('indetermine').str.contains('energie indetermine')\n"
   ]
  },
  {
   "cell_type": "markdown",
   "metadata": {},
   "source": [
    "### ECS"
   ]
  },
  {
   "cell_type": "code",
   "execution_count": 950,
   "metadata": {},
   "outputs": [],
   "source": [
    "\n",
    "\n",
    "ind=td001_sys.gen_ecs_lib_final.fillna('indetermine').str.contains('energie indetermine')\n",
    "\n",
    "for energie in energie_chaudiere_mods:\n",
    "    \n",
    "    # ON AFFECTE LES ENERGIES MANQUANTES AVEC LES ENERGIES D'ECS ISSUES DIFFERENTES SOURCES\n",
    "\n",
    "    ener = td001_sys.td002_type_energie_ecs.str.contains(energie)\n",
    "    td001_sys.loc[ener&ind,'gen_ecs_lib_final']=td001_sys.loc[ener&ind,'gen_ecs_lib_final'].str.replace('energie indetermine',energie)\n",
    "    ind=td001_sys.gen_ecs_lib_final.fillna('indetermine').str.contains('energie indetermine')\n",
    "    ener = td001_sys.td016_type_energie_ecs.str.contains(energie)\n",
    "    td001_sys.loc[ener&ind,'gen_ecs_lib_final']=td001_sys.loc[ener&ind,'gen_ecs_lib_final'].str.replace('energie indetermine',energie)\n",
    "    ind=td001_sys.gen_ecs_lib_final.fillna('indetermine').str.contains('energie indetermine')\n",
    "    \n",
    "    ener = td001_sys.type_energie_ecs.str.contains(energie)\n",
    "    td001_sys.loc[ener&ind,'gen_ecs_lib_final']=td001_sys.loc[ener&ind,'gen_ecs_lib_final'].str.replace('energie indetermine',energie)\n",
    "    ind=td001_sys.gen_ecs_lib_final.fillna('indetermine').str.contains('energie indetermine')\n",
    "    \n",
    "    # SINON ON PREND LES ENERGIES DE CHAUFFAGE ISSUES DES DIFFERENTES SOURCES\n",
    "\n",
    "    ener = td001_sys.type_energie_ch.str.contains(energie)\n",
    "    td001_sys.loc[ener&ind,'gen_ecs_lib_final']=td001_sys.loc[ener&ind,'gen_ecs_lib_final'].str.replace('energie indetermine',energie)\n",
    "    ind=td001_sys.gen_ecs_lib_final.fillna('indetermine').str.contains('energie indetermine')\n",
    "    \n",
    "    ener = td001_sys.td002_type_energie_ch.str.contains(energie)\n",
    "    td001_sys.loc[ener&ind,'gen_ecs_lib_final']=td001_sys.loc[ener&ind,'gen_ecs_lib_final'].str.replace('energie indetermine',energie)\n",
    "    ind=td001_sys.gen_ecs_lib_final.fillna('indetermine').str.contains('energie indetermine')\n",
    "    \n",
    "    ener = td001_sys.td016_type_energie_ch.str.contains(energie)\n",
    "    td001_sys.loc[ener&ind,'gen_ecs_lib_final']=td001_sys.loc[ener&ind,'gen_ecs_lib_final'].str.replace('energie indetermine',energie)\n",
    "    ind=td001_sys.gen_ecs_lib_final.fillna('indetermine').str.contains('energie indetermine')\n"
   ]
  },
  {
   "cell_type": "markdown",
   "metadata": {},
   "source": [
    "## cohérence sys ecs chauffage"
   ]
  },
  {
   "cell_type": "code",
   "execution_count": 951,
   "metadata": {},
   "outputs": [],
   "source": [
    "td001_sys[['gen_ch_lib_final','gen_ecs_lib_final']]=td001_sys[['gen_ch_lib_final','gen_ecs_lib_final']].fillna('indetermine')"
   ]
  },
  {
   "cell_type": "code",
   "execution_count": 952,
   "metadata": {},
   "outputs": [],
   "source": [
    "is_ind_ecs = td001_sys.gen_ecs_lib_final.str.contains('production mixte indetermine')\n",
    "is_ind_ecs = is_ind_ecs | (td001_sys.gen_ecs_lib_final==\"indetermine\")\n",
    "is_ind_ch = td001_sys.gen_ch_lib_final==\"indetermine\""
   ]
  },
  {
   "cell_type": "markdown",
   "metadata": {},
   "source": [
    "### chaudieres"
   ]
  },
  {
   "cell_type": "code",
   "execution_count": 953,
   "metadata": {},
   "outputs": [],
   "source": [
    "is_chaudiere_ener_ind_ch = td001_sys.gen_ch_lib_final.str.contains('chaudiere energie indetermine')\n",
    "is_chaudiere_ener_ind_ecs = td001_sys.gen_ecs_lib_final.str.contains('chaudiere energie indetermine')\n",
    "is_chaudiere_ch = td001_sys.gen_ch_lib_final.str.contains('chaudiere')\n",
    "is_chaudiere_ecs = td001_sys.gen_ecs_lib_final.str.contains('chaudiere')\n",
    "\n"
   ]
  },
  {
   "cell_type": "markdown",
   "metadata": {},
   "source": [
    "#### affectation du système mixte à l'ECS lorsque celle ci est indetermine"
   ]
  },
  {
   "cell_type": "code",
   "execution_count": 954,
   "metadata": {},
   "outputs": [],
   "source": [
    "sub_by_ch=is_ind_ecs&is_chaudiere_ch"
   ]
  },
  {
   "cell_type": "code",
   "execution_count": 955,
   "metadata": {},
   "outputs": [],
   "source": [
    "td001_sys.loc[sub_by_ch,'gen_ecs_lib_final']=td001_sys.loc[sub_by_ch,'gen_ch_lib_final']"
   ]
  },
  {
   "cell_type": "markdown",
   "metadata": {},
   "source": [
    "#### correction et convergence des energies de chaudieres entre ECS et chauffage"
   ]
  },
  {
   "cell_type": "code",
   "execution_count": 956,
   "metadata": {},
   "outputs": [],
   "source": [
    "for energie in list(reversed(energie_chaudiere_mods)):\n",
    "    is_ener_ch = (td001_sys.gen_ch_lib_final.str.contains(energie))\n",
    "    is_ener_ecs = (td001_sys.gen_ecs_lib_final.str.contains(energie))\n",
    "    sub_ch_ecs = is_ener_ch&(~is_ener_ecs)&is_chaudiere_ch&is_chaudiere_ecs\n",
    "    td001_sys.loc[sub_ch_ecs,'gen_ecs_lib_final']=td001_sys.loc[sub_ch_ecs,'gen_ecs_lib_final'].str.replace('energie indetermine',energie)\n",
    "    sub_ecs_ch = is_ener_ecs&(~is_ener_ch)&is_chaudiere_ch&is_chaudiere_ecs\n",
    "    td001_sys.loc[sub_ecs_ch,'gen_ch_lib_final']=td001_sys.loc[sub_ecs_ch,'gen_ch_lib_final'].str.replace('energie indetermine',energie)\n"
   ]
  },
  {
   "cell_type": "markdown",
   "metadata": {},
   "source": [
    "#### correction et convergence des types de chaudieres entre ECS et chauffage"
   ]
  },
  {
   "cell_type": "code",
   "execution_count": 957,
   "metadata": {},
   "outputs": [],
   "source": [
    "for energie in reversed(energie_chaudiere_mods):\n",
    "    is_ener_ch = (td001_sys.gen_ch_lib_final.str.contains(energie))\n",
    "    is_ener_ecs = (td001_sys.gen_ecs_lib_final.str.contains(energie))\n",
    "    both_ener = is_ener_ch&is_ener_ecs&is_chaudiere_ch&is_chaudiere_ecs\n",
    "    for type_chaudiere in reversed(type_chaudiere_mods):\n",
    "        is_type_ch = (td001_sys.gen_ch_lib_final.str.contains(type_chaudiere))\n",
    "        is_type_ecs = (td001_sys.gen_ecs_lib_final.str.contains(type_chaudiere))\n",
    "        chaudiere_ind = f'chaudiere {energie} indetermine'\n",
    "        chaudiere_type=f'chaudiere {energie} {type_chaudiere}'\n",
    "        is_ind_ch = (td001_sys.gen_ch_lib_final.str.contains(chaudiere_ind))\n",
    "        is_ind_ecs = (td001_sys.gen_ecs_lib_final.str.contains(chaudiere_ind))\n",
    "        sub_ch_ecs = is_type_ch&both_ener&is_ind_ecs\n",
    "        td001_sys.loc[sub_ch_ecs,'gen_ecs_lib_final']=td001_sys.loc[sub_ch_ecs,'gen_ecs_lib_final'].str.replace(chaudiere_ind,chaudiere_type)\n",
    "        sub_ecs_ch = is_type_ecs&both_ener&is_ind_ch\n",
    "        td001_sys.loc[sub_ecs_ch,'gen_ch_lib_final']=td001_sys.loc[sub_ecs_ch,'gen_ch_lib_final'].str.replace(chaudiere_ind,chaudiere_type)\n",
    "\n",
    "        "
   ]
  },
  {
   "cell_type": "markdown",
   "metadata": {},
   "source": [
    "#### correction cas ECS affecté à un chauffe eau indépendant lorsque chaudiere chauffage"
   ]
  },
  {
   "cell_type": "code",
   "execution_count": 958,
   "metadata": {},
   "outputs": [],
   "source": [
    "# refresh\n",
    "is_chaudiere_ch = td001_sys.gen_ch_lib_final.str.contains('chaudiere')\n",
    "is_ind = td001_sys.gen_ecs_lib_final.str.contains('chauffe-eau independant indetermine')\n",
    "is_ind = is_ind |(td001_sys.gen_ecs_lib_final=='indetermine')"
   ]
  },
  {
   "cell_type": "code",
   "execution_count": 959,
   "metadata": {},
   "outputs": [],
   "source": [
    "td001_sys.loc[is_chaudiere_ch&is_ind,'gen_ecs_lib_final']=td001_sys.loc[is_chaudiere_ch&is_ind,'gen_ch_lib_final']"
   ]
  },
  {
   "cell_type": "markdown",
   "metadata": {},
   "source": [
    "#### correction cas ecs si gen_ch_lib elec ou poele"
   ]
  },
  {
   "cell_type": "code",
   "execution_count": 960,
   "metadata": {},
   "outputs": [],
   "source": [
    "# si le generateur de chauffage est décentralisé et avec une energie non combustible. \n",
    "is_ind = td001_sys.gen_ecs_lib_final.str.contains('chauffe-eau independant indetermine')\n",
    "is_ind = is_ind |(td001_sys.gen_ecs_lib_final=='indetermine')\n",
    "is_ind = is_ind |(td001_sys.gen_ecs_lib_final.str.contains('production mixte indetermine'))"
   ]
  },
  {
   "cell_type": "code",
   "execution_count": 961,
   "metadata": {},
   "outputs": [],
   "source": [
    "is_ch_decentr = ~td001_sys.gen_ch_lib_final.str.contains('|'.join(energie_chaudiere_mods))\n",
    "is_ch_decentr = is_ch_decentr& td001_sys.gen_ch_lib_final.str.contains('elec|pac|joule|jonction|poele')"
   ]
  },
  {
   "cell_type": "code",
   "execution_count": 962,
   "metadata": {},
   "outputs": [],
   "source": [
    "td001_sys.loc[is_ind&is_ch_decentr,'gen_ecs_lib_final']='ecs electrique indetermine'"
   ]
  },
  {
   "cell_type": "code",
   "execution_count": 963,
   "metadata": {},
   "outputs": [],
   "source": [
    "is_ind =(td001_sys.gen_ecs_lib_final=='indetermine')"
   ]
  },
  {
   "cell_type": "markdown",
   "metadata": {},
   "source": [
    "### reseaux de chaleur"
   ]
  },
  {
   "cell_type": "code",
   "execution_count": 964,
   "metadata": {},
   "outputs": [],
   "source": [
    "# refresh\n",
    "# si le chauffage ou l'ECS sont indéterminés et que l'autre est un réseau de chaleur alors on substitue par réseau de chaleur\n",
    "is_ind_ecs = td001_sys.gen_ecs_lib_final.str.contains('production mixte indetermine')\n",
    "is_ind_ecs = is_ind_ecs | (td001_sys.gen_ecs_lib_final==\"indetermine\")\n",
    "is_ind_ch = td001_sys.gen_ch_lib_final==\"indetermine\""
   ]
  },
  {
   "cell_type": "code",
   "execution_count": 965,
   "metadata": {},
   "outputs": [],
   "source": [
    "is_reseau_ch = td001_sys.gen_ch_lib_final.str.contains('reseau de chaleur')\n",
    "is_reseau_ecs = td001_sys.gen_ecs_lib_final.str.contains('reseau de chaleur')\n",
    "\n",
    "td001_sys.loc[is_ind_ch&is_reseau_ecs,'gen_ch_lib_final']='reseau de chaleur'\n",
    "td001_sys.loc[is_ind_ecs&is_reseau_ch,'gen_ecs_lib_final']='reseau de chaleur'"
   ]
  },
  {
   "cell_type": "markdown",
   "metadata": {},
   "source": [
    "### thermodynamique"
   ]
  },
  {
   "cell_type": "code",
   "execution_count": 966,
   "metadata": {},
   "outputs": [],
   "source": [
    "# refresh\n",
    "\n",
    "# si l'un est thermodynamique et l'autre indeterminé on considère l'autre comme thermodynamique. \n",
    "is_ind_ecs = td001_sys.gen_ecs_lib_final.str.contains('production mixte indetermine')\n",
    "is_ind_ecs = is_ind_ecs | (td001_sys.gen_ecs_lib_final==\"indetermine\")\n",
    "is_ind_ch = td001_sys.gen_ch_lib_final==\"indetermine\""
   ]
  },
  {
   "cell_type": "code",
   "execution_count": 967,
   "metadata": {},
   "outputs": [],
   "source": [
    "is_pac_ch = td001_sys.gen_ch_lib_final.str.contains('pac')&(~td001_sys.gen_ch_lib_final.str.contains('pac air/air'))\n",
    "\n",
    "td001_sys.loc[is_ind_ecs&is_pac_ch,'gen_ecs_lib_final']='ecs thermodynamique electrique(pac ou ballon)'"
   ]
  },
  {
   "cell_type": "markdown",
   "metadata": {},
   "source": [
    "## pac en releve de chaudiere"
   ]
  },
  {
   "cell_type": "code",
   "execution_count": 1009,
   "metadata": {},
   "outputs": [],
   "source": [
    "# si on a une chaudiere et une pac alors on considère pac en relève de chaudière\n",
    "is_pac_ch = td001_sys.gen_ch_lib_final.str.contains('pac')&(~td001_sys.gen_ch_lib_final.str.contains('pac air/air'))\n",
    "is_pac_ch = is_pac_ch& (td001_sys.gen_ch_lib_final !='pac indetermine')\n",
    "is_chaudiere_ch = td001_sys.gen_ch_lib_final.str.contains('chaudiere|chauffage gaz indetermine')\n",
    "\n",
    "for pac_type in ['pac air/eau','pac eau/eau','pac geothermique']:\n",
    "    \n",
    "    is_pac_ch = td001_sys.gen_ch_lib_final.str.contains(pac_type)\n",
    "    \n",
    "    td001_sys.loc[is_pac_ch&is_chaudiere_ch,'gen_ch_lib_final']=f'{pac_type} en releve de chaudiere'\n",
    "    "
   ]
  },
  {
   "cell_type": "markdown",
   "metadata": {},
   "source": [
    "## redressement chaudieres elec et bois"
   ]
  },
  {
   "cell_type": "code",
   "execution_count": 1010,
   "metadata": {},
   "outputs": [],
   "source": [
    "is_chaudiere_elec=td001_sys.gen_ch_lib_final=='chaudiere energie indetermine indetermine + chauffage electrique indetermine'\n",
    "\n",
    "td001_sys.loc[is_chaudiere_elec,'gen_ch_lib_final']=f'chaudiere electrique'\n"
   ]
  },
  {
   "cell_type": "code",
   "execution_count": 1011,
   "metadata": {},
   "outputs": [],
   "source": [
    "is_chaudiere_bois=td001_sys.gen_ch_lib_final=='chaudiere bois + chaudiere energie indetermine indetermine'\n",
    "\n",
    "td001_sys.loc[is_chaudiere_bois,'gen_ch_lib_final']=f'chaudiere bois'\n"
   ]
  },
  {
   "cell_type": "markdown",
   "metadata": {},
   "source": [
    "## suppression des libéllés chauffage indetermine avec une chaudière\n",
    "\n",
    "pour résoudre les problèmes de type chaudiere gaz ou fioul -> attribué chaudiere gaz par défaut"
   ]
  },
  {
   "cell_type": "code",
   "execution_count": 1012,
   "metadata": {},
   "outputs": [],
   "source": [
    "for ener in energie_chaudiere_mods:\n",
    "    is_chaudiere_ener = td001_sys.gen_ch_lib_final.str.contains(f'chaudiere {ener}')\n",
    "    for ener_other in energie_chaudiere_mods:\n",
    "        lib_ind_other=f\"chauffage {ener_other} indetermine\"\n",
    "        is_ind_other = td001_sys.gen_ch_lib_final.str.contains(lib_ind_other)\n",
    "        \n",
    "        td001_sys.loc[is_chaudiere_ener&is_ind_other,'gen_ch_lib_final']=td001_sys.loc[is_chaudiere_ener&is_ind_other,'gen_ch_lib_final'].str.replace(' \\+ '+lib_ind_other,'')\n"
   ]
  },
  {
   "cell_type": "markdown",
   "metadata": {},
   "source": [
    "## affectation de libéllés par défaut en fonction des energies de chauffage et ecs pour les générateurs indéterminés"
   ]
  },
  {
   "cell_type": "code",
   "execution_count": 1013,
   "metadata": {},
   "outputs": [],
   "source": [
    "ind = td001_sys.gen_ch_lib_final==\"indetermine\""
   ]
  },
  {
   "cell_type": "code",
   "execution_count": 1014,
   "metadata": {},
   "outputs": [],
   "source": [
    "for type_ener in td001_sys.td002_type_energie_ch.dropna().unique():\n",
    "    \n",
    "    ener = td001_sys.td002_type_energie_ch==type_ener\n",
    "    \n",
    "    if type_ener in energie_chaudiere_mods:\n",
    "        \n",
    "        td001_sys.loc[ind&ener,'gen_ch_lib_final']=f'chaudiere {type_ener} indetermine'\n",
    "        \n",
    "    elif 'reseau de chaleur' in type_ener : \n",
    "        \n",
    "        td001_sys.loc[ind&ener,'gen_ch_lib_final']=f'reseau de chaleur'\n",
    "        \n",
    "    elif 'electricite' == type_ener : \n",
    "        td001_sys.loc[ind&ener,'gen_ch_lib_final']='chauffage electrique indetermine'\n",
    "\n",
    "    else:\n",
    "        td001_sys.loc[ind&ener,'gen_ch_lib_final']=f'chauffage {type_ener} indetermine'\n",
    "\n",
    "for type_ener in td001_sys.td016_type_energie_ch.dropna().unique():\n",
    "\n",
    "    ener = td001_sys.td016_type_energie_ch==type_ener\n",
    "    \n",
    "    if type_ener in energie_chaudiere_mods:\n",
    "        \n",
    "        td001_sys.loc[ind&ener,'gen_ch_lib_final']=f'chaudiere {type_ener} indetermine'\n",
    "        \n",
    "    elif 'reseau de chaleur' in type_ener : \n",
    "        \n",
    "        td001_sys.loc[ind&ener,'gen_ch_lib_final']=f'reseau de chaleur'\n",
    "        \n",
    "    elif 'electricite' == type_ener : \n",
    "        \n",
    "        td001_sys.loc[ind&ener,'gen_ch_lib_final']=f'chauffage electrique indetermine'   \n",
    "        \n",
    "    else:\n",
    "        \n",
    "        td001_sys.loc[ind&ener,'gen_ch_lib_final']=f'chauffage {type_ener} indetermine'\n",
    "\n",
    "    "
   ]
  },
  {
   "cell_type": "markdown",
   "metadata": {},
   "source": [
    "# indicateurs de cohérences"
   ]
  },
  {
   "cell_type": "code",
   "execution_count": 1015,
   "metadata": {},
   "outputs": [],
   "source": [
    "lib_final_eq_lib_data = (td001_sys.gen_ch_lib_infer_concat==td001_sys.gen_ch_lib_final).fillna(False)\n",
    "\n",
    "td001_sys['fiab_gen_ch_lib'] = 'libelle non redresse determine'\n",
    "\n",
    "ind_data=td001_sys.gen_ch_lib_infer_concat.str.contains('indetermine').fillna(False)\n",
    "not_data = td001_sys.gen_ch_lib_infer_concat.isnull()\n",
    "td001_sys.loc[lib_final_eq_lib_data&(~ind_data),'fiab_gen_ch_lib']='libelle fiable et coherent ft desc et td012'\n",
    "\n",
    "is_redresse = td001_sys.gen_ch_lib_final!=td001_sys.gen_ch_lib_non_retraite\n",
    "td001_sys.loc[is_redresse,'fiab_gen_ch_lib'] = 'libelle redresse determine'\n",
    "\n",
    "is_ind = td001_sys.gen_ch_lib_final=='indetermine'\n",
    "\n",
    "td001_sys.loc[is_ind,'fiab_gen_ch_lib'] = 'libelle indetermine'\n",
    "\n",
    "is_ind = td001_sys.gen_ch_lib_final.str.contains('indetermine')\n",
    "\n",
    "td001_sys.loc[is_ind,'fiab_gen_ch_lib'] = td001_sys.loc[is_ind,'fiab_gen_ch_lib'].str.replace(' determine',' partiellement indetermine')\n",
    "\n"
   ]
  },
  {
   "cell_type": "code",
   "execution_count": 1016,
   "metadata": {},
   "outputs": [],
   "source": [
    "is_ind = td001_sys.gen_ecs_lib_final.str.contains('indetermine')\n"
   ]
  },
  {
   "cell_type": "code",
   "execution_count": 1017,
   "metadata": {},
   "outputs": [],
   "source": [
    "lib_final_eq_lib_data = (td001_sys.gen_ecs_lib_infer_concat==td001_sys.gen_ecs_lib_final).fillna(False)\n",
    "\n",
    "td001_sys['fiab_gen_ecs_lib'] = 'libelle non redresse determine'\n",
    "\n",
    "ind_data=td001_sys.gen_ecs_lib_infer_concat.str.contains('indetermine').fillna(False)\n",
    "not_data = td001_sys.gen_ecs_lib_infer_concat.isnull()\n",
    "td001_sys.loc[lib_final_eq_lib_data&(~ind_data),'fiab_gen_ecs_lib']='libelle fiable et coherent ft desc et td012'\n",
    "\n",
    "is_redresse = td001_sys.gen_ecs_lib_final!=td001_sys.gen_ecs_lib_non_retraite\n",
    "td001_sys.loc[is_redresse,'fiab_gen_ecs_lib'] = 'libelle redresse determine'\n",
    "\n",
    "is_ind = td001_sys.gen_ecs_lib_final=='indetermine'\n",
    "\n",
    "td001_sys.loc[is_ind,'fiab_gen_ecs_lib'] = 'libelle indetermine'\n",
    "\n",
    "is_ind = td001_sys.gen_ecs_lib_final.str.contains('indetermine')\n",
    "\n",
    "td001_sys.loc[is_ind,'fiab_gen_ecs_lib'] = td001_sys.loc[is_ind,'fiab_gen_ecs_lib'].str.replace(' determine',' partiellement indetermine')\n",
    "\n"
   ]
  },
  {
   "cell_type": "markdown",
   "metadata": {},
   "source": [
    "# nettoyage final"
   ]
  },
  {
   "cell_type": "markdown",
   "metadata": {},
   "source": [
    "## suppression des additions d'indeterminé"
   ]
  },
  {
   "cell_type": "markdown",
   "metadata": {},
   "source": [
    "# simplification "
   ]
  },
  {
   "cell_type": "markdown",
   "metadata": {},
   "source": [
    "## sys ch"
   ]
  },
  {
   "cell_type": "code",
   "execution_count": 1018,
   "metadata": {},
   "outputs": [],
   "source": [
    "td001_sys['gen_ch_lib_final_simp']=td001_sys['gen_ch_lib_final']"
   ]
  },
  {
   "cell_type": "markdown",
   "metadata": {},
   "source": [
    "### simplification des dénominations generateurs"
   ]
  },
  {
   "cell_type": "code",
   "execution_count": 1040,
   "metadata": {},
   "outputs": [],
   "source": [
    "gen_ch_simp_dict = {\n",
    "                        'convecteurs electriques nfc': 'generateurs a effet joule',\n",
    "                        'panneaux rayonnants electriques nfc': 'generateurs a effet joule',\n",
    "                        'radiateurs electriques': 'generateurs a effet joule',\n",
    "                        'autres emetteurs a effet joule': 'generateurs a effet joule',\n",
    "                        'plafonds/planchers rayonnants electriques nfc': 'generateurs a effet joule',\n",
    "                        'convecteurs bi-jonction': 'generateurs a effet joule',\n",
    "    \"convecteurs electriques\":'generateurs a effet joule',\n",
    "'chauffage electrique indetermine': 'generateurs a effet joule',\n",
    "}\n",
    "\n",
    "for ener in energie_chaudiere_mods:\n",
    "    gen_ch_simp_dict[f'chauffage {ener} indetermine']=f'chaudiere {ener} standard'\n",
    "    gen_ch_simp_dict[f'chauffage electricite + {ener} indetermine']=f'chaudiere {ener} standard'\n",
    "\n",
    "    gen_ch_simp_dict[f'chaudiere {ener} indetermine']=f'chaudiere {ener} standard'\n"
   ]
  },
  {
   "cell_type": "code",
   "execution_count": 1041,
   "metadata": {},
   "outputs": [],
   "source": [
    "for k,v in gen_ch_simp_dict.items():\n",
    "    td001_sys.gen_ch_lib_final_simp=td001_sys.gen_ch_lib_final_simp.str.replace(k,v)\n",
    "    "
   ]
  },
  {
   "cell_type": "markdown",
   "metadata": {},
   "source": [
    "### simplification réseau de chaleur\n",
    "si réseau de chaleur alors on considère que c'est le système de chauffage du bâtiment"
   ]
  },
  {
   "cell_type": "code",
   "execution_count": 1042,
   "metadata": {},
   "outputs": [],
   "source": [
    "is_reseau_ch = td001_sys.gen_ch_lib_final.str.contains('reseau de chaleur')\n",
    "\n",
    "td001_sys.loc[is_reseau_ch,'gen_ch_lib_final_simp']='reseau de chaleur'"
   ]
  },
  {
   "cell_type": "markdown",
   "metadata": {},
   "source": [
    "### limiter les combinaisons de systemes à 2"
   ]
  },
  {
   "cell_type": "code",
   "execution_count": 1043,
   "metadata": {},
   "outputs": [],
   "source": [
    "is_sup_2_sys=td001_sys.gen_ch_lib_final_simp.str.count(' \\+ ')>=2"
   ]
  },
  {
   "cell_type": "code",
   "execution_count": 1044,
   "metadata": {},
   "outputs": [],
   "source": [
    "td001_sys.loc[is_sup_2_sys,'gen_ch_lib_final_simp']=td001_sys.loc[is_sup_2_sys,'gen_ch_lib_final_simp'].apply(lambda x:' + '.join(x.split(' + ')[0:2]))"
   ]
  },
  {
   "cell_type": "markdown",
   "metadata": {},
   "source": [
    "### simplification de la mention en releve de chaudiere pour les systèmes thermo\n",
    "\n",
    "on considère les systèmes thermo comme le principal usage."
   ]
  },
  {
   "cell_type": "code",
   "execution_count": 1060,
   "metadata": {},
   "outputs": [],
   "source": [
    "td001_sys.gen_ch_lib_final_simp=td001_sys.gen_ch_lib_final_simp.str.replace(' en releve de chaudiere','')\n"
   ]
  },
  {
   "cell_type": "code",
   "execution_count": 1061,
   "metadata": {
    "scrolled": true
   },
   "outputs": [
    {
     "data": {
      "text/html": [
       "<div>\n",
       "<style scoped>\n",
       "    .dataframe tbody tr th:only-of-type {\n",
       "        vertical-align: middle;\n",
       "    }\n",
       "\n",
       "    .dataframe tbody tr th {\n",
       "        vertical-align: top;\n",
       "    }\n",
       "\n",
       "    .dataframe thead th {\n",
       "        text-align: right;\n",
       "    }\n",
       "</style>\n",
       "<table border=\"1\" class=\"dataframe\">\n",
       "  <thead>\n",
       "    <tr style=\"text-align: right;\">\n",
       "      <th></th>\n",
       "      <th>td001_dpe_id</th>\n",
       "      <th>tr002_type_batiment_id</th>\n",
       "      <th>gen_ch_lib_infer_concat</th>\n",
       "      <th>gen_ecs_lib_infer_concat</th>\n",
       "      <th>gen_ch_lib_final</th>\n",
       "      <th>is_ch_solaire_data</th>\n",
       "      <th>is_ch_solaire_txt</th>\n",
       "      <th>is_ch_solaire</th>\n",
       "      <th>type_installation_ch</th>\n",
       "      <th>type_energie_ch</th>\n",
       "      <th>...</th>\n",
       "      <th>type_energie_ecs</th>\n",
       "      <th>gen_ch_lib_non_retraite</th>\n",
       "      <th>gen_ecs_lib_non_retraite</th>\n",
       "      <th>td002_type_energie_ch</th>\n",
       "      <th>td002_type_energie_ecs</th>\n",
       "      <th>td016_type_energie_ch</th>\n",
       "      <th>td016_type_energie_ecs</th>\n",
       "      <th>fiab_gen_ch_lib</th>\n",
       "      <th>fiab_gen_ecs_lib</th>\n",
       "      <th>gen_ch_lib_final_simp</th>\n",
       "    </tr>\n",
       "  </thead>\n",
       "  <tbody>\n",
       "  </tbody>\n",
       "</table>\n",
       "<p>0 rows × 27 columns</p>\n",
       "</div>"
      ],
      "text/plain": [
       "Empty DataFrame\n",
       "Columns: [td001_dpe_id, tr002_type_batiment_id, gen_ch_lib_infer_concat, gen_ecs_lib_infer_concat, gen_ch_lib_final, is_ch_solaire_data, is_ch_solaire_txt, is_ch_solaire, type_installation_ch, type_energie_ch, gen_ecs_lib_final, gen_ecs_lib_final_sec, gen_ecs_lib_final_defaut, is_ecs_solaire_txt, is_ecs_solaire_data, is_ecs_solaire, type_installation_ecs, type_energie_ecs, gen_ch_lib_non_retraite, gen_ecs_lib_non_retraite, td002_type_energie_ch, td002_type_energie_ecs, td016_type_energie_ch, td016_type_energie_ecs, fiab_gen_ch_lib, fiab_gen_ecs_lib, gen_ch_lib_final_simp]\n",
       "Index: []\n",
       "\n",
       "[0 rows x 27 columns]"
      ]
     },
     "execution_count": 1061,
     "metadata": {},
     "output_type": "execute_result"
    }
   ],
   "source": [
    "td001_sys.loc[td001_sys.gen_ch_lib_final_simp=='generateurs a effet joule + reseau de chaleur']"
   ]
  },
  {
   "cell_type": "code",
   "execution_count": 1068,
   "metadata": {},
   "outputs": [
    {
     "data": {
      "text/plain": [
       "{'generateurs a effet joule': 43967,\n",
       " 'chaudiere gaz standard': 26811,\n",
       " 'chaudiere gaz condensation': 20810,\n",
       " 'reseau de chaleur': 11055,\n",
       " 'chaudiere fioul standard': 8239,\n",
       " 'chaudiere gaz basse temperature': 6130,\n",
       " 'generateurs a effet joule + poele ou insert bois': 5745,\n",
       " 'pac air/eau': 3934,\n",
       " 'chaudiere energie indetermine indetermine + generateurs a effet joule': 3024,\n",
       " 'pac air/air': 2660,\n",
       " 'pac eau/eau': 2547,\n",
       " 'chaudiere gaz condensation + generateurs a effet joule': 2348,\n",
       " 'poele ou insert bois + generateurs a effet joule': 2179,\n",
       " 'pac indetermine': 2058,\n",
       " 'indetermine': 1936,\n",
       " 'poele ou insert bois': 1891,\n",
       " 'chaudiere fioul standard + poele ou insert bois': 1605,\n",
       " 'pac air/air + generateurs a effet joule': 1211,\n",
       " 'chaudiere bois': 1137,\n",
       " 'chaudiere fioul basse temperature': 1055,\n",
       " 'chaudiere gaz standard + generateurs a effet joule': 962,\n",
       " 'chauffage electricite + gaz indetermine': 798,\n",
       " 'generateurs a effet joule + pac air/air': 719,\n",
       " 'pac geothermique': 675,\n",
       " 'chaudiere gaz standard + poele ou insert bois': 668,\n",
       " 'chaudiere fioul condensation': 585,\n",
       " 'pac air/air + poele ou insert bois': 558,\n",
       " 'chaudiere fioul standard + generateurs a effet joule': 557,\n",
       " 'panneaux rayonnants electriques': 546,\n",
       " 'chaudiere electrique + generateurs a effet joule': 539,\n",
       " 'chaudiere electrique': 498,\n",
       " 'pac indetermine + generateurs a effet joule': 486,\n",
       " 'pac air/eau + generateurs a effet joule': 477,\n",
       " 'chaudiere energie indetermine indetermine': 463,\n",
       " 'chaudiere gaz condensation + poele ou insert bois': 452,\n",
       " 'chaudiere energie indetermine indetermine + pac air/air': 401,\n",
       " 'chaudiere gaz standard + pac air/air': 344,\n",
       " 'chaudiere fioul basse temperature + poele ou insert bois': 327,\n",
       " 'chaudiere energie indetermine standard': 324,\n",
       " 'chaudiere autre : gpl butane propane standard': 311,\n",
       " 'chaudiere bois + chaudiere fioul standard': 301,\n",
       " 'radiateurs gaz': 298,\n",
       " 'chauffage autre indetermine': 288,\n",
       " 'chaudiere energie indetermine condensation': 281,\n",
       " 'chaudiere bois + chaudiere energie indetermine indetermine': 279,\n",
       " 'pac air/eau + poele ou insert bois': 279,\n",
       " 'chaudiere bois + chaudiere gaz basse temperature': 272,\n",
       " 'chaudiere fioul standard + pac air/air': 270,\n",
       " 'generateurs a effet joule + poele ou insert indetermine': 267,\n",
       " 'chaudiere energie indetermine indetermine + poele ou insert bois': 228,\n",
       " 'chaudiere autre : gpl butane propane condensation': 220,\n",
       " 'panneaux rayonnants electriques + poele ou insert bois': 214,\n",
       " 'chauffage bois + electricite': 211,\n",
       " 'chaudiere bois + chaudiere gaz condensation': 210,\n",
       " 'chaudiere bois + chaudiere energie indetermine standard': 202,\n",
       " 'generateurs a effet joule electriques': 199,\n",
       " 'chaudiere gaz basse temperature + poele ou insert bois': 194,\n",
       " 'poele ou insert fioul/gpl/charbon': 192,\n",
       " 'pac eau/eau + generateurs a effet joule': 192,\n",
       " 'chaudiere gaz basse temperature + generateurs a effet joule': 163,\n",
       " 'chauffage bois + electricite indetermine': 158,\n",
       " 'chaudiere fioul condensation + poele ou insert bois': 158,\n",
       " 'poele ou insert indetermine': 155,\n",
       " 'chaudiere gaz condensation + pac indetermine': 144,\n",
       " 'generateurs a effet joule + pac air/eau': 143,\n",
       " 'chaudiere autre : gpl butane propane standard + poele ou insert bois': 139,\n",
       " 'chaudiere electrique + poele ou insert bois': 132,\n",
       " 'chaudiere energie indetermine indetermine + pac indetermine': 117,\n",
       " 'chaudiere bois + chaudiere energie indetermine basse temperature': 116,\n",
       " 'generateurs a effet joule + radiateurs gaz': 108,\n",
       " 'chaudiere gaz condensation + pac air/air': 106,\n",
       " 'pac geothermique + poele ou insert bois': 105,\n",
       " 'generateurs a effet joule + poele ou insert fioul/gpl/charbon': 101,\n",
       " 'chauffage autre + electricite indetermine': 96,\n",
       " 'chaudiere bois + chaudiere fioul basse temperature': 91,\n",
       " 'chauffage bois indetermine': 85,\n",
       " 'chaudiere gaz basse temperature + pac air/air': 84,\n",
       " 'chaudiere autre : gpl butane propane basse temperature': 84,\n",
       " 'chaudiere energie indetermine basse temperature': 81,\n",
       " 'poele ou insert indetermine + generateurs a effet joule': 79,\n",
       " 'pac geothermique + generateurs a effet joule': 79,\n",
       " 'chaudiere gaz standard + pac indetermine': 77,\n",
       " 'chaudiere fioul basse temperature + generateurs a effet joule': 75,\n",
       " 'chaudiere gaz standard + poele ou insert indetermine': 72,\n",
       " 'pac air/air + panneaux rayonnants electriques': 70,\n",
       " 'chaudiere energie indetermine basse temperature + generateurs a effet joule': 69,\n",
       " 'chaudiere bois + chaudiere gaz standard': 69,\n",
       " 'chaudiere energie indetermine condensation + generateurs a effet joule': 69,\n",
       " 'chaudiere autre : gpl butane propane condensation + poele ou insert bois': 66,\n",
       " 'chaudiere fioul standard + poele ou insert indetermine': 53,\n",
       " 'chaudiere gaz condensation + panneaux rayonnants electriques': 53,\n",
       " 'chauffage solaire + chaudiere gaz condensation': 49,\n",
       " 'chauffage solaire + generateurs a effet joule': 46,\n",
       " 'chaudiere autre : gpl butane propane standard + generateurs a effet joule': 44,\n",
       " 'chaudiere energie indetermine indetermine + panneaux rayonnants electriques': 42,\n",
       " 'chaudiere energie indetermine indetermine + generateurs a effet joule electriques': 42,\n",
       " 'chaudiere fioul basse temperature + pac air/air': 41,\n",
       " 'chaudiere fioul condensation + generateurs a effet joule': 39,\n",
       " 'chauffage bois indetermine + generateurs a effet joule': 37,\n",
       " 'poele ou insert fioul/gpl/charbon + generateurs a effet joule': 34,\n",
       " 'generateurs a effet joule + pac indetermine': 34,\n",
       " 'chauffage solaire + chaudiere bois': 32,\n",
       " 'chaudiere autre : gpl butane propane basse temperature + poele ou insert bois': 32,\n",
       " 'chaudiere energie indetermine standard + poele ou insert bois': 31,\n",
       " 'generateurs a effet joule + pac geothermique': 31,\n",
       " 'chaudiere electrique + pac air/air': 31,\n",
       " 'chauffage solaire + chaudiere fioul standard': 24,\n",
       " 'chauffage solaire + chaudiere gaz standard': 24,\n",
       " 'chaudiere energie indetermine standard + generateurs a effet joule': 24,\n",
       " 'chaudiere charbon standard + poele ou insert bois': 21,\n",
       " 'chaudiere autre : gpl butane propane standard + chaudiere gaz standard': 21,\n",
       " 'chaudiere bois + generateurs a effet joule': 20,\n",
       " 'panneaux rayonnants electriques + poele ou insert indetermine': 19,\n",
       " 'pac air/eau + panneaux rayonnants electriques': 19,\n",
       " 'pac indetermine + panneaux rayonnants electriques': 19,\n",
       " 'chaudiere fioul standard + poele ou insert fioul/gpl/charbon': 18,\n",
       " 'chaudiere gaz condensation + poele ou insert indetermine': 18,\n",
       " 'chaudiere fioul condensation + pac air/air': 18,\n",
       " 'chaudiere energie indetermine standard + pac air/air': 17,\n",
       " 'pac air/air + poele ou insert indetermine': 16,\n",
       " 'chaudiere electrique + chaudiere fioul standard': 16,\n",
       " 'chaudiere bois + chaudiere electrique': 15,\n",
       " 'generateurs a effet joule electriques + pac air/eau': 15,\n",
       " 'pac eau/eau + poele ou insert bois': 15,\n",
       " 'chauffage solaire + chaudiere autre : gpl butane propane condensation': 14,\n",
       " 'chauffage solaire + chaudiere gaz basse temperature': 14,\n",
       " 'chaudiere autre : gpl butane propane condensation + generateurs a effet joule': 13,\n",
       " 'chaudiere autre : gpl butane propane standard + pac air/air': 13,\n",
       " 'chaudiere autre : gpl butane propane standard + poele ou insert fioul/gpl/charbon': 13,\n",
       " 'generateurs a effet joule + pac eau/eau': 12,\n",
       " 'chaudiere bois + chaudiere fioul condensation': 12,\n",
       " 'pac indetermine + poele ou insert bois': 11,\n",
       " 'chaudiere fioul condensation + poele ou insert indetermine': 11,\n",
       " 'chaudiere energie indetermine indetermine + poele ou insert indetermine': 11,\n",
       " 'chaudiere bois + poele ou insert bois': 11,\n",
       " 'chaudiere energie indetermine indetermine + chauffage bois indetermine': 11,\n",
       " 'chaudiere energie indetermine indetermine + chaudiere fioul standard': 11,\n",
       " 'chauffage solaire + pac air/eau': 11,\n",
       " 'generateurs a effet joule electriques + pac air/air': 10,\n",
       " 'chauffage solaire + poele ou insert bois': 10,\n",
       " 'chauffage solaire + chaudiere electrique': 10,\n",
       " 'chauffage solaire + chaudiere fioul condensation': 10,\n",
       " 'chaudiere gaz basse temperature + poele ou insert indetermine': 10,\n",
       " 'chauffage autre + bois': 10,\n",
       " 'chaudiere charbon standard': 10,\n",
       " 'chauffage solaire + chaudiere fioul basse temperature': 9,\n",
       " 'pac air/eau + poele ou insert indetermine': 9,\n",
       " 'chaudiere energie indetermine basse temperature + pac air/air': 9,\n",
       " 'chaudiere energie indetermine basse temperature + poele ou insert bois': 9,\n",
       " 'chaudiere fioul standard + panneaux rayonnants electriques': 8,\n",
       " 'chaudiere autre : gpl butane propane condensation + pac air/air': 8,\n",
       " 'chaudiere gaz standard + generateurs a effet joule electriques': 8,\n",
       " 'generateurs a effet joule electriques + poele ou insert bois': 8,\n",
       " 'generateurs a effet joule + chaudiere gaz standard': 8,\n",
       " 'chaudiere charbon standard + generateurs a effet joule': 7,\n",
       " 'pac air/air + poele ou insert fioul/gpl/charbon': 7,\n",
       " 'chauffage solaire + pac air/air': 7,\n",
       " 'chaudiere gaz standard + panneaux rayonnants electriques': 7,\n",
       " 'chaudiere fioul standard + pac indetermine': 7,\n",
       " 'pac indetermine + poele ou insert indetermine': 6,\n",
       " 'chaudiere electrique + poele ou insert indetermine': 6,\n",
       " 'chaudiere fioul basse temperature + poele ou insert indetermine': 6,\n",
       " 'generateurs a effet joule electriques + pac indetermine': 6,\n",
       " 'chaudiere autre : gpl butane propane standard + chaudiere bois': 5,\n",
       " 'chaudiere autre : gpl butane propane standard + radiateurs gaz': 5,\n",
       " 'poele ou insert bois + radiateurs gaz': 5,\n",
       " 'chaudiere bois + chaudiere charbon standard': 5,\n",
       " 'chaudiere fioul standard + chauffage bois indetermine': 5,\n",
       " 'chauffage autre + bois indetermine': 5,\n",
       " 'panneaux rayonnants electriques + poele ou insert fioul/gpl/charbon': 5,\n",
       " 'chaudiere energie indetermine basse temperature + pac indetermine': 4,\n",
       " 'chaudiere bois + chaudiere autre : gpl butane propane standard': 4,\n",
       " 'poele ou insert indetermine + radiateurs gaz': 4,\n",
       " 'generateurs a effet joule electriques + pac eau/eau': 4,\n",
       " 'chaudiere autre : gpl butane propane basse temperature + generateurs a effet joule': 4,\n",
       " 'chauffage bois + gaz indetermine': 3,\n",
       " 'pac eau/eau + poele ou insert indetermine': 3,\n",
       " 'pac geothermique + poele ou insert indetermine': 3,\n",
       " 'chauffage electricite + fioul indetermine': 3,\n",
       " 'chaudiere autre : gpl butane propane condensation + chaudiere bois': 3,\n",
       " 'pac eau/eau + radiateurs gaz': 3,\n",
       " 'chaudiere charbon standard + pac air/air': 2,\n",
       " 'chaudiere energie indetermine condensation + pac air/air': 2,\n",
       " 'chaudiere gaz condensation + generateurs a effet joule electriques': 2,\n",
       " 'chaudiere energie indetermine condensation + poele ou insert bois': 2,\n",
       " 'chaudiere fioul standard + generateurs a effet joule electriques': 2,\n",
       " 'chauffage bois indetermine + panneaux rayonnants electriques': 2,\n",
       " 'chaudiere bois + chaudiere energie indetermine condensation': 2,\n",
       " 'chaudiere gaz standard + chauffage bois indetermine': 2,\n",
       " 'chaudiere electrique + pac indetermine': 2,\n",
       " 'chauffage bois indetermine + chaudiere charbon standard': 2,\n",
       " 'chaudiere gaz basse temperature + pac indetermine': 2,\n",
       " 'chaudiere energie indetermine condensation + poele ou insert indetermine': 2,\n",
       " 'chaudiere energie indetermine condensation + chaudiere fioul standard': 2,\n",
       " 'pac air/air + radiateurs gaz': 2,\n",
       " 'chaudiere energie indetermine basse temperature + chaudiere fioul standard': 2,\n",
       " 'chaudiere energie indetermine indetermine + poele ou insert fioul/gpl/charbon': 1,\n",
       " 'chaudiere charbon condensation + poele ou insert bois': 1,\n",
       " 'generateurs a effet joule + chaudiere fioul standard': 1,\n",
       " 'chauffage solaire + chaudiere energie indetermine basse temperature': 1,\n",
       " 'chaudiere electrique + chaudiere gaz standard': 1,\n",
       " 'chaudiere gaz condensation + poele ou insert fioul/gpl/charbon': 1,\n",
       " 'generateurs a effet joule electriques + poele ou insert indetermine': 1,\n",
       " 'chauffage solaire + pac geothermique': 1,\n",
       " 'chauffage autre : gpl butane propane + bois indetermine': 1,\n",
       " 'chaudiere autre : gpl butane propane standard + panneaux rayonnants electriques': 1,\n",
       " 'chaudiere charbon standard + poele ou insert indetermine': 1,\n",
       " 'chaudiere charbon standard + poele ou insert fioul/gpl/charbon': 1,\n",
       " 'chaudiere gaz standard + poele ou insert fioul/gpl/charbon': 1,\n",
       " 'chauffage bois + fioul indetermine': 1,\n",
       " 'chaudiere electrique + chaudiere charbon standard': 1,\n",
       " 'chaudiere autre : gpl butane propane basse temperature + chauffage bois indetermine': 1,\n",
       " 'chauffage bois indetermine + chaudiere gaz standard': 1,\n",
       " 'chaudiere autre : gpl butane propane basse temperature + pac air/air': 1,\n",
       " 'chaudiere gaz condensation + chauffage bois indetermine': 1,\n",
       " 'chaudiere fioul basse temperature + chauffage bois indetermine': 1,\n",
       " 'chaudiere gaz basse temperature + poele ou insert fioul/gpl/charbon': 1,\n",
       " 'chaudiere fioul standard + pac air/eau': 1,\n",
       " 'chauffage bois indetermine + pac indetermine': 1,\n",
       " 'chauffage bois indetermine + pac air/air': 1,\n",
       " 'chaudiere electrique + chauffage bois indetermine': 1,\n",
       " 'chaudiere energie indetermine basse temperature + generateurs a effet joule electriques': 1,\n",
       " 'chaudiere electrique + panneaux rayonnants electriques': 1,\n",
       " 'chaudiere fioul condensation + poele ou insert fioul/gpl/charbon': 1,\n",
       " 'chaudiere energie indetermine basse temperature + poele ou insert indetermine': 1,\n",
       " 'chaudiere autre : gpl butane propane basse temperature + chaudiere bois': 1}"
      ]
     },
     "execution_count": 1068,
     "metadata": {},
     "output_type": "execute_result"
    }
   ],
   "source": [
    "td001_sys.gen_ch_lib_final_simp.value_counts().to_dict()"
   ]
  },
  {
   "cell_type": "markdown",
   "metadata": {},
   "source": [
    "# debug"
   ]
  },
  {
   "cell_type": "code",
   "execution_count": null,
   "metadata": {},
   "outputs": [],
   "source": [
    "ids=td001_sys.query('gen_ecs_lib_final==\"chaudiere energie indetermine standard + reseau de chaleur\"').td001_dpe_id.unique()\n",
    "\n",
    "gen_ecs_lib_from_txt=pd.concat([gen_ecs_lib_desc[['label','category','td001_dpe_id']],\n",
    "                               gen_ecs_lib_ft[['label','category','td001_dpe_id']]],axis=0)\n",
    "\n",
    "\n",
    "\n",
    "\n",
    "m=search_and_affect(td005_ecs,id_col='id',val_col='valeur_renseignee',\n",
    "                    search_dict=gen_ecs_search_dict_flat)\n",
    "m = categorize_search_res(m,label_cat = list(gen_ecs_search_dict_flat.keys())+['indetermine'],\n",
    "                           category_dict=reverse_cat_gen_ecs)\n",
    "gen_ecs_lib_ft=m.merge(td005_ecs[['id','td001_dpe_id']],how='left')\n",
    "\n",
    "gen_ecs_lib_ft\n",
    "\n",
    "td001_sys.loc[td001_sys.td001_dpe_id==\"8085231\"]\n",
    "\n",
    "gen_ecs_lib_ft.loc[gen_ecs_lib_ft.td001_dpe_id=='8085231']\n",
    "\n",
    "gen_ecs_lib_from_txt.loc[gen_ecs_lib_from_txt.td001_dpe_id=='8085231']\n",
    "\n",
    "gen_ecs_lib.loc[gen_ecs_lib.td001_dpe_id=='8085231']\n",
    "\n",
    "td005_ch.loc[td005_ch.td001_dpe_id.isin(ids)].to_dict(orient='records')\n",
    "\n",
    "td003_ch.loc[td003_ch.td001_dpe_id.isin(ids)].to_dict(orient='records')\n",
    "\n",
    "td003_ecs.loc[td003_ecs.td001_dpe_id.isin(ids)].to_dict(orient='records')\n",
    "\n",
    "td005_ecs.loc[td005_ecs.td001_dpe_id.isin(ids)].to_dict(orient='records')\n",
    "\n",
    "td001_sys.gen_ecs_lib_final.fillna('NA').value_counts()"
   ]
  },
  {
   "cell_type": "code",
   "execution_count": null,
   "metadata": {},
   "outputs": [],
   "source": [
    "ind = td001_sys.gen_ch_lib_final.str.contains('indetermine')"
   ]
  },
  {
   "cell_type": "code",
   "execution_count": null,
   "metadata": {},
   "outputs": [],
   "source": [
    "ind_dict=td001_sys.loc[ind,'gen_ch_lib_final'].value_counts().to_dict()"
   ]
  },
  {
   "cell_type": "code",
   "execution_count": 867,
   "metadata": {},
   "outputs": [],
   "source": [
    "dpe_list=td001_sys.loc[td001_sys.gen_ch_lib_final=='chaudiere gaz indetermine + chauffage bois indetermine'].td001_dpe_id.tolist()"
   ]
  },
  {
   "cell_type": "code",
   "execution_count": 866,
   "metadata": {},
   "outputs": [
    {
     "ename": "SyntaxError",
     "evalue": "invalid syntax (<ipython-input-866-340826d8e064>, line 1)",
     "output_type": "error",
     "traceback": [
      "\u001b[1;36m  File \u001b[1;32m\"<ipython-input-866-340826d8e064>\"\u001b[1;36m, line \u001b[1;32m1\u001b[0m\n\u001b[1;33m    dpe_list = gen_ch_lib_from_txt.loc[gen_ch_lib_from_txt.label==''chaudiere gaz indetermine + chauffage bois indetermine''].td001_dpe_id.tolist()\u001b[0m\n\u001b[1;37m                                                                            ^\u001b[0m\n\u001b[1;31mSyntaxError\u001b[0m\u001b[1;31m:\u001b[0m invalid syntax\n"
     ]
    }
   ],
   "source": [
    "dpe_list = gen_ch_lib_from_txt.loc[gen_ch_lib_from_txt.label==''chaudiere gaz indetermine + chauffage bois indetermine''].td001_dpe_id.tolist()"
   ]
  },
  {
   "cell_type": "code",
   "execution_count": 1064,
   "metadata": {},
   "outputs": [],
   "source": [
    "dpe_list=td001_sys.loc[td001_sys.gen_ch_lib_final_simp== 'chaudiere energie indetermine standard'].td001_dpe_id.tolist()"
   ]
  },
  {
   "cell_type": "code",
   "execution_count": null,
   "metadata": {},
   "outputs": [],
   "source": []
  },
  {
   "cell_type": "code",
   "execution_count": null,
   "metadata": {},
   "outputs": [],
   "source": [
    "ind_keys = list(ind_dict.keys())"
   ]
  },
  {
   "cell_type": "code",
   "execution_count": null,
   "metadata": {},
   "outputs": [],
   "source": []
  },
  {
   "cell_type": "code",
   "execution_count": null,
   "metadata": {},
   "outputs": [],
   "source": [
    "ind_key=ind_keys.pop(0)\n",
    "dpe_list = td001_sys.loc[td001_sys.gen_ch_lib_final==  ind_key].td001_dpe_id.tolist()"
   ]
  },
  {
   "cell_type": "code",
   "execution_count": null,
   "metadata": {},
   "outputs": [],
   "source": [
    "ind_key"
   ]
  },
  {
   "cell_type": "code",
   "execution_count": 1065,
   "metadata": {},
   "outputs": [
    {
     "data": {
      "text/plain": [
       "{2156: 'chaudiere standard\\r \\r ',\n",
       " 8431: 'chaudiere standard\\r ',\n",
       " 12422: 'chaudiere standard\\r ',\n",
       " 15387: 'chaudiere standard\\r ',\n",
       " 16879: 'chaudiere standard\\r ',\n",
       " 20865: 'chaudiere classique\\r ',\n",
       " 21253: 'chaudiere classique\\r ',\n",
       " 21638: 'chaudiere standard\\r chaudiere standard\\r ',\n",
       " 21658: 'chaudiere standard\\r chaudiere standard\\r ',\n",
       " 32174: 'chaudiere standard\\r ',\n",
       " 33511: 'chaudiere classique\\r ',\n",
       " 36871: 'chaudiere classique\\r ',\n",
       " 44921: 'chaudiere standard\\r ',\n",
       " 55763: 'chaudiere standard\\r ',\n",
       " 55817: 'chaudiere standard\\r ',\n",
       " 57947: 'chaudiere standard\\r ',\n",
       " 59393: 'chaudiere standard\\r ',\n",
       " 60857: 'chaudiere standard\\r ',\n",
       " 61129: 'chaudiere classique\\r ',\n",
       " 64666: 'chaudiere standard\\r ',\n",
       " 71794: 'chaudiere standard\\r ',\n",
       " 80859: 'chaudiere standard\\r ',\n",
       " 87399: 'chaudiere standard\\r ',\n",
       " 93174: 'chaudiere standard\\r ',\n",
       " 94056: 'chaudiere classique\\r ',\n",
       " 96873: 'chaudiere standard\\r ',\n",
       " 98988: 'chaudiere standard\\r ',\n",
       " 114833: 'chaudiere standard\\r ',\n",
       " 120029: 'chaudiere standard\\r ',\n",
       " 128284: 'chaudiere standard\\r ',\n",
       " 130676: 'chaudiere standard\\r ',\n",
       " 141609: 'chaudiere classique\\r ',\n",
       " 159483: 'chaudiere standard\\r ',\n",
       " 159616: 'chaudiere standard\\r ',\n",
       " 166165: 'chaudiere classique\\r ',\n",
       " 167273: 'chaudiere standard\\r ',\n",
       " 180954: 'chaudiere standard\\r ',\n",
       " 181813: 'chaudiere classique\\r ',\n",
       " 186658: 'chaudiere classique soufflage et radians\\r ',\n",
       " 187225: 'chaudiere standard\\r ',\n",
       " 197080: 'chaudiere standard\\r ',\n",
       " 207196: 'chaudiere standard\\r ',\n",
       " 217032: 'chaudiere standard\\r ',\n",
       " 220725: 'chaudiere classique\\r ',\n",
       " 220893: 'chaudiere classique\\r ',\n",
       " 222644: 'chaudiere standard\\r ',\n",
       " 222652: 'chaudiere standard\\r ',\n",
       " 232995: 'chaudiere standard\\r ',\n",
       " 241844: 'chaudiere classique\\r ',\n",
       " 242417: 'chaudiere standard\\r ',\n",
       " 251219: 'chaudiere standard\\r ',\n",
       " 251418: 'chaudiere classique\\r ',\n",
       " 258181: 'chaudiere classique\\r ',\n",
       " 259153: 'chaudiere standard\\r ',\n",
       " 267678: 'chaudiere standard\\r ',\n",
       " 279200: 'chaudiere classique\\r ',\n",
       " 279208: 'chaudiere classique\\r ',\n",
       " 280430: 'chaudiere standard\\r ',\n",
       " 281838: 'chaudiere standard\\r ',\n",
       " 283659: 'chaudiere standard\\r ',\n",
       " 292954: 'chaudiere standard\\r ',\n",
       " 311985: 'chaudiere classique\\r ',\n",
       " 312454: 'chaudiere standard\\r ',\n",
       " 314286: 'chaudiere classique\\r ',\n",
       " 317226: 'chaudiere classique\\r ',\n",
       " 329210: 'chaudiere classique\\r ',\n",
       " 333482: 'chaudiere standard\\r ',\n",
       " 345378: 'chaudiere standard\\r ',\n",
       " 348312: 'chaudiere classique\\r ',\n",
       " 350448: 'chaudiere classique\\r ',\n",
       " 360544: 'chaudiere standard\\r ',\n",
       " 378907: 'chaudiere standard\\r ',\n",
       " 405178: 'chaudiere standard\\r ',\n",
       " 413462: 'chaudiere standard\\r ',\n",
       " 428204: 'chaudiere standard\\r ',\n",
       " 428234: 'chaudiere standard\\r chaudiere standard\\r ',\n",
       " 439772: 'chaudiere standard\\r ',\n",
       " 443419: 'chaudiere standard\\r ',\n",
       " 449639: 'chaudiere standard\\r ',\n",
       " 453631: 'chaudiere classique\\r ',\n",
       " 459095: 'chaudiere standard\\r ',\n",
       " 459695: 'chaudiere standard\\r ',\n",
       " 489190: 'chaudiere standard\\r ',\n",
       " 501320: 'chaudiere standard\\r ',\n",
       " 502731: 'chaudiere standard\\r ',\n",
       " 502842: 'chaudiere standard\\r generateur d air chaud\\r ',\n",
       " 521120: 'chaudiere standard\\r ',\n",
       " 525821: 'chaudiere classique\\r ',\n",
       " 529601: 'chaudiere classique\\r ',\n",
       " 531121: 'chaudiere standard\\r ',\n",
       " 534324: 'chaudiere standard\\r ',\n",
       " 535222: 'chaudiere standard\\r ',\n",
       " 536580: 'chaudiere classique\\r ',\n",
       " 536938: 'chaudiere standard\\r ',\n",
       " 537045: 'chaudiere standard\\r ',\n",
       " 537091: 'chaudiere standard\\r ',\n",
       " 537098: 'chaudiere standard\\r ',\n",
       " 537180: 'chaudiere standard\\r ',\n",
       " 549187: 'chaudiere standard\\r ',\n",
       " 549242: 'chaudiere standard\\r ',\n",
       " 551573: 'chaudiere classique\\r ',\n",
       " 554691: 'chaudiere classique\\r ',\n",
       " 561759: 'chaudiere standard\\r ',\n",
       " 564880: 'chaudiere classique\\r ',\n",
       " 565817: 'chaudiere standard\\r ',\n",
       " 567593: 'chaudiere standard\\r ',\n",
       " 570515: 'chaudiere standard\\r ',\n",
       " 574811: 'chaudiere standard\\r ',\n",
       " 578218: 'chaudiere classique\\r ',\n",
       " 595369: 'chaudiere standard\\r ',\n",
       " 603706: 'chaudiere classique\\r ',\n",
       " 604327: 'chaudiere standard\\r ',\n",
       " 615144: 'chaudiere standard\\r generateur d air chaud\\r ',\n",
       " 618615: 'chaudiere classique\\r ',\n",
       " 621601: 'chaudiere standard\\r ',\n",
       " 628012: 'chaudiere standard\\r ',\n",
       " 629136: 'chaudiere standard\\r ',\n",
       " 638822: 'chaudiere standard\\r ',\n",
       " 663983: 'chaudiere standard\\r ',\n",
       " 665964: 'chaudiere classique\\r ',\n",
       " 673129: 'chaudiere classique\\r ',\n",
       " 673266: 'chaudiere standard\\r ',\n",
       " 677981: 'chaudiere standard\\r ',\n",
       " 680881: 'chaudiere standard\\r ',\n",
       " 682488: 'chaudiere standard\\r ',\n",
       " 682838: 'chaudiere classique\\r ',\n",
       " 694963: 'chaudiere standard\\r ',\n",
       " 703099: 'chaudiere standard\\r ',\n",
       " 708193: 'chaudiere classique\\r ',\n",
       " 708573: 'chaudiere standard\\r ',\n",
       " 718821: 'chaudiere standard\\r ',\n",
       " 743104: 'chaudiere standard\\r ',\n",
       " 747735: 'chaudiere classique\\r ',\n",
       " 747964: 'chaudiere standard\\r ',\n",
       " 751883: 'chaudiere classique\\r ',\n",
       " 764150: 'chaudiere standard\\r ',\n",
       " 816344: 'chaudiere standard\\r ',\n",
       " 818427: 'chaudiere standard\\r generateur d air chaud\\r ',\n",
       " 835161: 'chaudiere standard\\r ',\n",
       " 843177: 'chaudiere classique\\r ',\n",
       " 854976: 'chaudiere standard\\r ',\n",
       " 856009: 'chaudiere classique\\r ',\n",
       " 867889: 'chaudiere standard\\r ',\n",
       " 874571: 'chaudiere classique\\r ',\n",
       " 877318: 'chaudiere classique\\r ',\n",
       " 877327: 'chaudiere classique\\r ',\n",
       " 894095: 'chaudiere standard\\r ',\n",
       " 895236: 'chaudiere standard\\r ',\n",
       " 900274: 'chaudiere standard\\r ',\n",
       " 902007: 'chaudiere classique\\r ',\n",
       " 902637: 'chaudiere standard\\r ',\n",
       " 950854: 'chaudiere classique\\r ',\n",
       " 963962: 'chaudiere standard\\r ',\n",
       " 969113: 'chaudiere standard\\r ',\n",
       " 970092: 'chaudiere standard\\r ',\n",
       " 978744: 'chaudiere classique\\r ',\n",
       " 979563: 'chaudiere standard\\r ',\n",
       " 990457: 'chaudiere standard\\r ',\n",
       " 990481: 'chaudiere standard\\r ',\n",
       " 991306: 'chaudiere standard\\r ',\n",
       " 991324: 'chaudiere standard\\r ',\n",
       " 996324: 'chaudiere classique\\r ',\n",
       " 1010617: 'chaudiere standard\\r ',\n",
       " 1014660: 'chaudiere classique\\r ',\n",
       " 1021080: 'chaudiere standard\\r ',\n",
       " 1021096: 'chaudiere standard\\r ',\n",
       " 1021104: 'chaudiere standard\\r ',\n",
       " 1036133: 'chaudiere standard\\r ',\n",
       " 1043883: 'chaudiere standard\\r ',\n",
       " 1045614: 'chaudiere classique\\r ',\n",
       " 1076804: 'chaudiere standard\\r ',\n",
       " 1077946: 'chaudiere classique\\r ',\n",
       " 1098992: 'chaudiere standard\\r ',\n",
       " 1105529: ' - rxs60l   fbq60d gainable standard  ras 4 fsny3e - mini drv  ras 4 fsny3e - mini drv  ras 4 fsny3e -',\n",
       " 1105541: ' - rxs60l   fbq60d gainable standard  ras 4 fsny3e - mini drv  ras 4 fsny3e - mini drv  ras 4 fsny3e -',\n",
       " 1105553: ' - rxs60l   fbq60d gainable standard  ras 4 fsny3e - mini drv  ras 4 fsny3e - mini drv  ras 4 fsny3e -',\n",
       " 1105565: ' - rxs60l   fbq60d gainable standard  ras 4 fsny3e - mini drv  ras 4 fsny3e - mini drv  ras 4 fsny3e -',\n",
       " 1105577: ' - rxs60l   fbq60d gainable standard  ras 4 fsny3e - mini drv  ras 4 fsny3e - mini drv  ras 4 fsny3e -',\n",
       " 1105589: ' - rxs60l   fbq60d gainable standard  ras 4 fsny3e - mini drv  ras 4 fsny3e - mini drv  ras 4 fsny3e -',\n",
       " 1105601: ' - rxs60l   fbq60d gainable standard  ras 4 fsny3e - mini drv  ras 4 fsny3e - mini drv  ras 4 fsny3e -',\n",
       " 1105613: ' - rxs60l   fbq60d gainable standard  ras 4 fsny3e - mini drv  ras 4 fsny3e - mini drv  ras 4 fsny3e -',\n",
       " 1105625: ' - rxs60l   fbq60d gainable standard  ras 4 fsny3e - mini drv  ras 4 fsny3e - mini drv  ras 4 fsny3e -',\n",
       " 1105637: ' - rxs60l   fbq60d gainable standard  ras 4 fsny3e - mini drv  ras 4 fsny3e - mini drv  ras 4 fsny3e -',\n",
       " 1106994: 'chaudiere standard\\r ',\n",
       " 1124489: 'chaudiere standard\\r ',\n",
       " 1125258: 'chaudiere standard\\r ',\n",
       " 1150655: 'chaudiere standard\\r ',\n",
       " 1154456: 'chaudiere standard\\r ',\n",
       " 1159856: 'chaudiere standard\\r ',\n",
       " 1183248: 'chaudiere standard\\r ',\n",
       " 1194141: 'chaudiere classique\\r ',\n",
       " 1197883: 'chaudiere standard\\r ',\n",
       " 1202189: 'chaudiere standard\\r ',\n",
       " 1203521: 'chaudiere standard\\r ',\n",
       " 1204778: 'chaudiere standard\\r ',\n",
       " 1207901: 'chaudiere standard\\r ',\n",
       " 1207952: 'chaudiere classique\\r ',\n",
       " 1208079: 'chaudiere standard\\r ',\n",
       " 1213227: 'chaudiere classique\\r ',\n",
       " 1213714: 'chaudiere classique\\r ',\n",
       " 1226978: 'chaudiere standard\\r ',\n",
       " 1232554: 'chaudiere standard\\r ',\n",
       " 1237013: 'chaudiere standard\\r ',\n",
       " 1242758: 'chaudiere classique\\r ',\n",
       " 1244373: 'chaudiere standard\\r ',\n",
       " 1249275: 'chaudiere classique\\r ',\n",
       " 1250225: 'chaudiere standard\\r ',\n",
       " 1255295: 'chaudiere classique\\r ',\n",
       " 1288194: 'chaudiere standard\\r ',\n",
       " 1288202: 'chaudiere standard\\r ',\n",
       " 1288340: 'chaudiere standard\\r ',\n",
       " 1293002: 'chaudiere standard\\r ',\n",
       " 1297634: 'chaudiere standard\\r ',\n",
       " 1298230: 'chaudiere standard\\r ',\n",
       " 1298949: 'chaudiere standard\\r ',\n",
       " 1300567: 'chaudiere standard\\r ',\n",
       " 1305357: 'chaudiere standard\\r ',\n",
       " 1312650: 'chaudiere standard\\r ',\n",
       " 1318306: 'chaudiere classique\\r ',\n",
       " 1329374: 'chaudiere standard\\r ',\n",
       " 1338800: 'chaudiere standard\\r ',\n",
       " 1341484: 'chaudiere classique\\r ',\n",
       " 1343731: 'chaudiere standard\\r ',\n",
       " 1352035: 'chaudiere standard\\r ',\n",
       " 1353413: 'chaudiere standard\\r ',\n",
       " 1354291: 'chaudiere classique\\r ',\n",
       " 1361970: 'chaudiere standard\\r generateur d air chaud\\r ',\n",
       " 1362003: 'chaudiere standard\\r chaudiere standard\\r ',\n",
       " 1362067: 'chaudiere standard\\r ',\n",
       " 1368468: 'chaudiere standard\\r ',\n",
       " 1401191: 'chaudiere standard\\r ',\n",
       " 1419116: 'chaudiere classique\\r ',\n",
       " 1423750: 'chaudiere standard\\r ',\n",
       " 1423758: 'chaudiere standard\\r ',\n",
       " 1436585: 'chaudiere standard\\r ',\n",
       " 1438179: 'chaudiere classique\\r ',\n",
       " 1438275: 'chaudiere classique\\r ',\n",
       " 1438407: 'chaudiere standard\\r ',\n",
       " 1458078: 'chaudiere standard\\r ',\n",
       " 1458167: 'chaudiere standard\\r ',\n",
       " 1463034: 'chaudiere classique\\r ',\n",
       " 1469202: 'chaudiere standard\\r ',\n",
       " 1494935: 'chaudiere classique\\r ',\n",
       " 1498634: 'chaudiere standard\\r ',\n",
       " 1499950: 'chaudiere standard\\r ',\n",
       " 1521647: 'chaudiere classique\\r ',\n",
       " 1523907: 'chaudiere standard\\r ',\n",
       " 1524983: 'chaudiere standard\\r ',\n",
       " 1527556: 'chaudiere classique\\r ',\n",
       " 1534422: 'chaudiere classique\\r ',\n",
       " 1534539: 'chaudiere standard\\r chaudiere standard\\r ',\n",
       " 1536689: 'chaudiere standard\\r ',\n",
       " 1541023: 'chaudiere standard\\r ',\n",
       " 1541734: 'chaudiere standard\\r ',\n",
       " 1542998: 'chaudiere standard\\r ',\n",
       " 1543817: 'chaudiere standard\\r ',\n",
       " 1543826: 'chaudiere classique\\r ',\n",
       " 1578322: 'chaudiere standard\\r ',\n",
       " 1599047: 'chaudiere classique\\r ',\n",
       " 1599553: 'chaudiere standard\\r ',\n",
       " 1605793: 'chaudiere standard\\r ',\n",
       " 1611919: 'chaudiere standard\\r ',\n",
       " 1613466: 'chaudiere standard\\r ',\n",
       " 1618004: 'chaudiere standard\\r ',\n",
       " 1623660: 'generateur d air chaud\\r chaudiere standard\\r ',\n",
       " 1624203: 'chaudiere standard\\r ',\n",
       " 1630186: 'chaudiere standard\\r ',\n",
       " 1642373: 'chaudiere standard\\r ',\n",
       " 1644310: 'chaudiere classique\\r ',\n",
       " 1645081: 'chaudiere standard\\r ',\n",
       " 1647912: 'chaudiere classique\\r ',\n",
       " 1653464: 'chaudiere classique\\r ',\n",
       " 1660465: 'chaudiere standard\\r ',\n",
       " 1663765: 'chaudiere standard\\r ',\n",
       " 1690607: 'chaudiere standard\\r ',\n",
       " 1694127: 'chaudiere standard\\r ',\n",
       " 1700177: 'chaudiere classique\\r ',\n",
       " 1702969: 'chaudiere classique\\r ',\n",
       " 1721763: 'chaudiere classique\\r ',\n",
       " 1746371: 'chaudiere standard\\r ',\n",
       " 1774474: 'chaudiere standard\\r ',\n",
       " 1775385: 'chaudiere standard\\r ',\n",
       " 1792900: 'chaudiere standard\\r ',\n",
       " 1806360: 'chaudiere classique\\r ',\n",
       " 1827388: 'chaudiere standard\\r ',\n",
       " 1832437: 'chaudiere standard\\r ',\n",
       " 1855218: 'chaudiere standard\\r ',\n",
       " 1856634: 'chaudiere standard\\r ',\n",
       " 1856708: 'chaudiere standard\\r chaudiere standard\\r ',\n",
       " 2508936: 'chaudiere classique\\r ',\n",
       " 2541283: 'chaudiere classique\\r ',\n",
       " 2585881: 'chaudiere standard\\r ',\n",
       " 4656303: 'chaudiere standard\\r ',\n",
       " 4658124: 'chaudiere classique\\r ',\n",
       " 4659417: 'chaudiere standard\\r ',\n",
       " 4672440: 'chaudiere standard\\r ',\n",
       " 4675510: 'chaudiere standard\\r ',\n",
       " 4684710: 'chaudiere standard\\r ',\n",
       " 4685031: 'chaudiere standard\\r ',\n",
       " 4687289: 'chaudiere standard\\r ',\n",
       " 4709751: 'chaudiere classique\\r ',\n",
       " 4710095: 'chaudiere standard\\r ',\n",
       " 4716054: 'chaudiere standard\\r ',\n",
       " 4718022: 'chaudiere standard\\r ',\n",
       " 4723843: 'chaudiere standard\\r ',\n",
       " 4736421: 'chaudiere standard\\r ',\n",
       " 4746190: 'chaudiere standard\\r ',\n",
       " 4777423: 'chaudiere standard\\r ',\n",
       " 4808782: 'chaudiere standard\\r ',\n",
       " 4821134: 'chaudiere standard\\r ',\n",
       " 4824666: 'chaudiere classique\\r ',\n",
       " 4850584: 'chaudiere classique\\r ',\n",
       " 4868235: 'chaudiere standard\\r ',\n",
       " 4872011: 'chaudiere standard\\r ',\n",
       " 4882472: 'chaudiere classique\\r ',\n",
       " 4890525: 'chaudiere standard\\r ',\n",
       " 4891236: 'chaudiere classique\\r ',\n",
       " 4905637: 'chaudiere standard\\r ',\n",
       " 4909118: 'chaudiere standard\\r ',\n",
       " 4910617: 'chaudiere standard\\r ',\n",
       " 4944421: 'chaudiere standard\\r ',\n",
       " 4957510: 'chaudiere classique\\r ',\n",
       " 4960487: 'chaudiere classique\\r ',\n",
       " 4964881: 'chaudiere classique\\r '}"
      ]
     },
     "execution_count": 1065,
     "metadata": {},
     "output_type": "execute_result"
    }
   ],
   "source": [
    "a_list =td003_ch.loc[td003_ch.td001_dpe_id.isin(dpe_list)].descriptif.tolist()\n",
    "\n",
    "words = list()\n",
    "for el in a_list:\n",
    "    words.extend(el.split(' '))\n",
    "\n",
    "pd.Series(words).value_counts().to_dict()\n",
    "\n",
    "sel=td003_ch.loc[td003_ch.td001_dpe_id.isin(dpe_list)]\n",
    "sel.descriptif.to_dict()"
   ]
  },
  {
   "cell_type": "code",
   "execution_count": 1066,
   "metadata": {},
   "outputs": [],
   "source": [
    "sel=td005_ch.loc[td005_ch.td001_dpe_id.isin(dpe_list)]\n",
    "\n"
   ]
  },
  {
   "cell_type": "code",
   "execution_count": 1067,
   "metadata": {},
   "outputs": [
    {
     "data": {
      "text/plain": [
       "{1679065: ' - rxs60l   fbq60d gainable standard  ras 4 fsny3e - mini drv  ras 4 fsny3e - mini drv  ras 4 fsny3e - uta dx ch l1  uta dx ch l2  uta dx ch l3  uta dx ch l4  convecteurs e  douches)  p rayonnant e  hall',\n",
       " 1679081: ' - rxs60l   fbq60d gainable standard  ras 4 fsny3e - mini drv  ras 4 fsny3e - mini drv  ras 4 fsny3e - uta dx ch l1  uta dx ch l2  uta dx ch l3  uta dx ch l4  convecteurs e  douches)  p rayonnant e  hall',\n",
       " 1679097: ' - rxs60l   fbq60d gainable standard  ras 4 fsny3e - mini drv  ras 4 fsny3e - mini drv  ras 4 fsny3e - uta dx ch l1  uta dx ch l2  uta dx ch l3  uta dx ch l4  convecteurs e  douches)  p rayonnant e  hall',\n",
       " 1679113: ' - rxs60l   fbq60d gainable standard  ras 4 fsny3e - mini drv  ras 4 fsny3e - mini drv  ras 4 fsny3e - uta dx ch l1  uta dx ch l2  uta dx ch l3  uta dx ch l4  convecteurs e  douches)  p rayonnant e  hall',\n",
       " 1679129: ' - rxs60l   fbq60d gainable standard  ras 4 fsny3e - mini drv  ras 4 fsny3e - mini drv  ras 4 fsny3e - uta dx ch l1  uta dx ch l2  uta dx ch l3  uta dx ch l4  convecteurs e  douches)  p rayonnant e  hall',\n",
       " 1679145: ' - rxs60l   fbq60d gainable standard  ras 4 fsny3e - mini drv  ras 4 fsny3e - mini drv  ras 4 fsny3e - uta dx ch l1  uta dx ch l2  uta dx ch l3  uta dx ch l4  convecteurs e  douches)  p rayonnant e  hall',\n",
       " 1679161: ' - rxs60l   fbq60d gainable standard  ras 4 fsny3e - mini drv  ras 4 fsny3e - mini drv  ras 4 fsny3e - uta dx ch l1  uta dx ch l2  uta dx ch l3  uta dx ch l4  convecteurs e  douches)  p rayonnant e  hall',\n",
       " 1679177: ' - rxs60l   fbq60d gainable standard  ras 4 fsny3e - mini drv  ras 4 fsny3e - mini drv  ras 4 fsny3e - uta dx ch l1  uta dx ch l2  uta dx ch l3  uta dx ch l4  convecteurs e  douches)  p rayonnant e  hall',\n",
       " 1679193: ' - rxs60l   fbq60d gainable standard  ras 4 fsny3e - mini drv  ras 4 fsny3e - mini drv  ras 4 fsny3e - uta dx ch l1  uta dx ch l2  uta dx ch l3  uta dx ch l4  convecteurs e  douches)  p rayonnant e  hall',\n",
       " 1679209: ' - rxs60l   fbq60d gainable standard  ras 4 fsny3e - mini drv  ras 4 fsny3e - mini drv  ras 4 fsny3e - uta dx ch l1  uta dx ch l2  uta dx ch l3  uta dx ch l4  convecteurs e  douches)  p rayonnant e  hall'}"
      ]
     },
     "execution_count": 1067,
     "metadata": {},
     "output_type": "execute_result"
    }
   ],
   "source": [
    "sel.valeur_renseignee.to_dict()"
   ]
  },
  {
   "cell_type": "code",
   "execution_count": 810,
   "metadata": {},
   "outputs": [
    {
     "data": {
      "text/plain": [
       "[]"
      ]
     },
     "execution_count": 810,
     "metadata": {},
     "output_type": "execute_result"
    }
   ],
   "source": [
    "sel=td003_ch.loc[td003_ch.td001_dpe_id.isin(dpe_list)]\n",
    "\n",
    "sel.loc[sel.descriptif.str.contains('urbain')].descriptif.tolist()"
   ]
  },
  {
   "cell_type": "markdown",
   "metadata": {},
   "source": [
    "# debug ind\n"
   ]
  },
  {
   "cell_type": "code",
   "execution_count": null,
   "metadata": {},
   "outputs": [],
   "source": [
    "gen_ch_lib.loc[gen_ch_lib.td001_dpe_id.isin(dpe_list)]"
   ]
  },
  {
   "cell_type": "code",
   "execution_count": null,
   "metadata": {},
   "outputs": [],
   "source": [
    "id_=\"4662\""
   ]
  },
  {
   "cell_type": "code",
   "execution_count": null,
   "metadata": {},
   "outputs": [],
   "source": [
    "td001_sys.query(f'td001_dpe_id==\"{id_}\"')"
   ]
  },
  {
   "cell_type": "code",
   "execution_count": null,
   "metadata": {},
   "outputs": [],
   "source": [
    "td005_ecs.loc[td005_ecs.td001_dpe_id==id_].to_dict(orient='records')\n"
   ]
  },
  {
   "cell_type": "code",
   "execution_count": null,
   "metadata": {},
   "outputs": [],
   "source": [
    "td003_ch.loc[td003_ch.td001_dpe_id==id_].to_dict(orient='records')\n"
   ]
  },
  {
   "cell_type": "code",
   "execution_count": null,
   "metadata": {},
   "outputs": [],
   "source": [
    "td005_ch.loc[td005_ch.td001_dpe_id==id_].to_dict(orient='records')\n"
   ]
  },
  {
   "cell_type": "code",
   "execution_count": null,
   "metadata": {},
   "outputs": [],
   "source": [
    "td003_ecs.loc[td003_ecs.td001_dpe_id==id_].to_dict(orient='records')\n"
   ]
  },
  {
   "cell_type": "code",
   "execution_count": null,
   "metadata": {},
   "outputs": [],
   "source": [
    "gen_ch_lib_ft.loc[gen_ch_lib_ft.td001_dpe_id==id_]"
   ]
  },
  {
   "cell_type": "code",
   "execution_count": null,
   "metadata": {},
   "outputs": [],
   "source": [
    "m.loc[m.id=='174001369']"
   ]
  },
  {
   "cell_type": "code",
   "execution_count": null,
   "metadata": {},
   "outputs": [],
   "source": [
    "energie_ch_ft.loc[energie_ch_ft.td001_dpe_id==id_]"
   ]
  },
  {
   "cell_type": "code",
   "execution_count": null,
   "metadata": {},
   "outputs": [],
   "source": [
    "m.loc[gen_ch_lib_ft.td001_dpe_id==id_]"
   ]
  },
  {
   "cell_type": "code",
   "execution_count": null,
   "metadata": {},
   "outputs": [],
   "source": [
    "m"
   ]
  },
  {
   "cell_type": "code",
   "execution_count": null,
   "metadata": {
    "scrolled": true
   },
   "outputs": [],
   "source": [
    "999852"
   ]
  },
  {
   "cell_type": "code",
   "execution_count": null,
   "metadata": {},
   "outputs": [],
   "source": [
    "data_to_search = td005_ch\n"
   ]
  },
  {
   "cell_type": "code",
   "execution_count": null,
   "metadata": {},
   "outputs": [],
   "source": [
    "id_col='id'\n",
    "val_col='valeur_renseignee'\n",
    "search_dict=gen_ch_search_dict_flat"
   ]
  },
  {
   "cell_type": "code",
   "execution_count": null,
   "metadata": {},
   "outputs": [],
   "source": [
    "es_client = setup_es_client()\n",
    "bulk(es_client, gendata(index_name,data_to_search[id_col],data_to_search[val_col]))\n",
    "# res_serie = search_from_search_dict(es_client,search_dict,index_name=index_name)\n",
    "\n",
    "# res_table=res_serie.to_frame('label')\n",
    "\n",
    "# res_table.index.name = 'id'\n",
    "# res_table=res_table.reset_index()"
   ]
  },
  {
   "cell_type": "code",
   "execution_count": null,
   "metadata": {},
   "outputs": [],
   "source": [
    "res_table.loc[res_table.id=='174001369']"
   ]
  },
  {
   "cell_type": "code",
   "execution_count": null,
   "metadata": {},
   "outputs": [],
   "source": [
    "s_list = list()\n",
    "for label,char_list in  search_dict.items():\n",
    "\n",
    "    search_instruction =generate_instruction_from_list(char_list)\n",
    "    search_body = {\n",
    "        \"query\": {\n",
    "            \"query_string\": {\n",
    "                \"query\": search_instruction,\n",
    "                \"default_field\": \"text_to_analyze\"\n",
    "            },\n",
    "\n",
    "        },\n",
    "\n",
    "    }\n",
    "    #es_client.count(index=index_name, body=search_body)\n",
    "\n",
    "    a_dict=es_client.search(index=index_name, body=search_body,size=500000)\n",
    "\n",
    "    hits = a_dict['hits']['hits']\n",
    "\n",
    "    s=pd.Series(index=[el['_source']['id'] for el in hits])\n",
    "    \n",
    "    s[:]=label\n",
    "    s_list.append(s)\n",
    "s_all=pd.concat(s_list)"
   ]
  },
  {
   "cell_type": "code",
   "execution_count": null,
   "metadata": {},
   "outputs": [],
   "source": [
    "[el['_source'] for el in hits if  el['_source']['id']=='174001369']"
   ]
  },
  {
   "cell_type": "code",
   "execution_count": null,
   "metadata": {},
   "outputs": [],
   "source": [
    "s[:]=label"
   ]
  },
  {
   "cell_type": "code",
   "execution_count": null,
   "metadata": {},
   "outputs": [],
   "source": [
    "s"
   ]
  },
  {
   "cell_type": "code",
   "execution_count": null,
   "metadata": {},
   "outputs": [],
   "source": []
  },
  {
   "cell_type": "code",
   "execution_count": null,
   "metadata": {},
   "outputs": [],
   "source": [
    "[el for el in s_all el =='174001369']"
   ]
  },
  {
   "cell_type": "code",
   "execution_count": null,
   "metadata": {},
   "outputs": [],
   "source": [
    "hits"
   ]
  },
  {
   "cell_type": "markdown",
   "metadata": {},
   "source": [
    "# debug search"
   ]
  },
  {
   "cell_type": "code",
   "execution_count": null,
   "metadata": {},
   "outputs": [],
   "source": [
    "toto=\"\"\"\n",
    "systeme de production d ecs principal surface couverte = 60.0 m2 ancien ballon electrique installe en 2007. les pieces desservies sont contigues. la production est en volume chauffe. production : indiv.  ecs solaire : non  vs = 1 x 200 \n",
    "\"\"\"\n",
    "toto=\"\"\"\n",
    " - collectif : solaire avec appoint chaudiere a condensation gaz naturel\"\"\"\n",
    "\n",
    "toto=\"\"\"\n",
    "\n",
    "'type d equipement : chaudiere bois classe 4 energie : bois type d installation : individuelle  sans solaire description : standard  anciennete 0 distribution : production dans le volume chauffe  pieces alimentees contigues  :  '\n",
    "\"\"\"\n",
    "toto =\"\"\"\n",
    "'installation d ecs 34 9\\xa0m²\\r - ecs 1 : chauffe-eau standard  energie : electrique) avec accumulation horizontale 75\\xa0l ; production en volume habitable  alimentant des pieces non contigues'\n",
    "\"\"\"\n",
    "toto =\"\"\"\n",
    "poele au charbon   insert installe apres 2001 avec label flamme verte  systeme individuel)<br  \n",
    "\"\"\"\n",
    "#toto = td005_ch.loc[td005_ch.td001_dpe_id==id_].to_dict(orient='records')[1]['valeur_renseignee']\n",
    "\n",
    "toto ='chaudiere elec.'\n",
    "toto = ' - thema as condens f as 12 tn'\n",
    "toto = 'pac double services  atlantic alfea extensa duo + 6 kw'"
   ]
  },
  {
   "cell_type": "code",
   "execution_count": null,
   "metadata": {},
   "outputs": [],
   "source": [
    "index_name = 'dpe_extract_text'"
   ]
  },
  {
   "cell_type": "code",
   "execution_count": null,
   "metadata": {},
   "outputs": [],
   "source": [
    "search_instruction = '((reseau de chaleur) OR (reseaux de chaleurs) OR (reseaux de chaleur))'\n",
    "search_instruction = generate_instruction_from_list(gen_ecs_search_dict_flat['ecs thermodynamique electrique(pac ou ballon)'])\n",
    "search_instruction = generate_instruction_from_list(gen_ecs_search_dict_flat['abscence ecs solaire'])\n",
    "\n",
    "search_instruction = generate_instruction_from_list(gen_ch_search_dict_flat['chaudiere energie indetermine condensation'])\n"
   ]
  },
  {
   "cell_type": "code",
   "execution_count": null,
   "metadata": {},
   "outputs": [],
   "source": [
    "search_instruction = generate_instruction_from_list(gen_ecs_search_dict_flat['chaudiere bois exact'])\n",
    "\n",
    "search_instruction = generate_instruction_from_list(gen_ecs_search_dict_flat['production mixte indetermine'])\n",
    "search_instruction = generate_instruction_from_list(gen_ch_search_dict_flat['poele ou insert bois'])"
   ]
  },
  {
   "cell_type": "code",
   "execution_count": null,
   "metadata": {},
   "outputs": [],
   "source": [
    "search_instruction = generate_instruction_from_list(energie_dict['gaz'])\n",
    "search_instruction = generate_instruction_from_list(installation_dict['collectif'])"
   ]
  },
  {
   "cell_type": "code",
   "execution_count": null,
   "metadata": {},
   "outputs": [],
   "source": [
    "#search_instruction='((mixte) OR (combine) OR (chauffage AND ecs) OR (lie ) OR (combine ) OR (idem))'"
   ]
  },
  {
   "cell_type": "code",
   "execution_count": null,
   "metadata": {},
   "outputs": [],
   "source": [
    "from generate_dpe_annexes_scripts.text_matching_dict import *"
   ]
  },
  {
   "cell_type": "code",
   "execution_count": null,
   "metadata": {},
   "outputs": [],
   "source": [
    "search_instruction = generate_instruction_from_list(gen_ch_search_dict_flat['pac indetermine'])"
   ]
  },
  {
   "cell_type": "code",
   "execution_count": null,
   "metadata": {},
   "outputs": [],
   "source": [
    "search_instruction='((pompe* AND chaleur*) OR (pac) OR (thermody*)) AND (clim*) AND (split*)'"
   ]
  },
  {
   "cell_type": "code",
   "execution_count": null,
   "metadata": {},
   "outputs": [],
   "source": [
    "import time"
   ]
  },
  {
   "cell_type": "code",
   "execution_count": null,
   "metadata": {},
   "outputs": [],
   "source": []
  },
  {
   "cell_type": "code",
   "execution_count": null,
   "metadata": {},
   "outputs": [],
   "source": [
    "search_instruction=generate_instruction_from_list(gen_ch_search_dict_flat['chaudiere bois exact'])"
   ]
  },
  {
   "cell_type": "code",
   "execution_count": null,
   "metadata": {},
   "outputs": [],
   "source": [
    "search_instruction='\"chaudiere individuelle electrique\"'"
   ]
  },
  {
   "cell_type": "code",
   "execution_count": null,
   "metadata": {
    "scrolled": true
   },
   "outputs": [],
   "source": [
    "toto='chaudiere individuelle electrique'"
   ]
  },
  {
   "cell_type": "code",
   "execution_count": null,
   "metadata": {},
   "outputs": [],
   "source": [
    "search_body = {\n",
    "    \"query\": {\n",
    "        \"query_string\": {\n",
    "            \"query\": search_instruction,\n",
    "            \"default_field\": \"text_to_analyze\"\n",
    "        },\n",
    "\n",
    "    },\n",
    "\n",
    "}\n",
    "\n",
    "es_client = setup_es_client(index_name=index_name)\n",
    "bulk(es_client, gendata(index_name,['id'],[toto]))\n",
    "\n",
    "time.sleep(1)\n",
    "a_dict=es_client.search(index=index_name, body=search_body,size=500000)\n",
    "a_dict"
   ]
  },
  {
   "cell_type": "code",
   "execution_count": null,
   "metadata": {},
   "outputs": [],
   "source": [
    "a_dict=es_client.search(index=index_name, body=search_body,size=500000)\n",
    "a_dict"
   ]
  },
  {
   "cell_type": "code",
   "execution_count": null,
   "metadata": {},
   "outputs": [],
   "source": [
    "bulk(es_client, gendata(index_name,['id'],[toto]))\n"
   ]
  },
  {
   "cell_type": "code",
   "execution_count": null,
   "metadata": {},
   "outputs": [],
   "source": [
    "es_client"
   ]
  },
  {
   "cell_type": "code",
   "execution_count": null,
   "metadata": {},
   "outputs": [],
   "source": [
    "a_dict"
   ]
  },
  {
   "cell_type": "code",
   "execution_count": null,
   "metadata": {},
   "outputs": [],
   "source": [
    "\n",
    "s_all = search_from_search_dict(es_client,search_dict,index_name=index_name)"
   ]
  },
  {
   "cell_type": "code",
   "execution_count": null,
   "metadata": {},
   "outputs": [],
   "source": []
  },
  {
   "cell_type": "code",
   "execution_count": null,
   "metadata": {},
   "outputs": [],
   "source": [
    "m_ch = m"
   ]
  },
  {
   "cell_type": "code",
   "execution_count": null,
   "metadata": {},
   "outputs": [],
   "source": [
    "id_=m_ch.vr_source_ft.str.contains('air')&m_ch.vr_source_ft.str.contains('eau')&m_ch.vr_source_ft.str.contains('pac')"
   ]
  },
  {
   "cell_type": "code",
   "execution_count": null,
   "metadata": {},
   "outputs": [],
   "source": [
    "m_ch.loc[m_ch.gen_ch_lib_ft.fillna('na').str.contains('air/eau')]"
   ]
  },
  {
   "cell_type": "code",
   "execution_count": null,
   "metadata": {},
   "outputs": [],
   "source": [
    "m_ch.gen_ch_lib_<Q<"
   ]
  },
  {
   "cell_type": "code",
   "execution_count": null,
   "metadata": {},
   "outputs": [],
   "source": [
    "s=m_ch.loc[m_ch.nom_methode_dpe_norm=='FACTURE'].gen_ch_lib_ft.fillna('indetermine').value_counts()"
   ]
  },
  {
   "cell_type": "code",
   "execution_count": null,
   "metadata": {},
   "outputs": [],
   "source": [
    "s.loc['indetermine']/s.sum()"
   ]
  },
  {
   "cell_type": "code",
   "execution_count": null,
   "metadata": {},
   "outputs": [],
   "source": [
    "(s=='indetermine').mean()"
   ]
  },
  {
   "cell_type": "code",
   "execution_count": null,
   "metadata": {},
   "outputs": [],
   "source": [
    "m_ch.groupby('nom_methode_dpe_norm').gen_ch_lib_ft.value_counts()"
   ]
  },
  {
   "cell_type": "code",
   "execution_count": null,
   "metadata": {},
   "outputs": [],
   "source": [
    "m.type_installation_ch_ft.value_counts()"
   ]
  },
  {
   "cell_type": "code",
   "execution_count": null,
   "metadata": {},
   "outputs": [],
   "source": [
    "m.loc[m.gen_ch_lib_ft=='indetermine'].head(470).to_dict(orient='records')"
   ]
  },
  {
   "cell_type": "code",
   "execution_count": null,
   "metadata": {},
   "outputs": [],
   "source": []
  },
  {
   "cell_type": "code",
   "execution_count": null,
   "metadata": {},
   "outputs": [],
   "source": []
  },
  {
   "cell_type": "code",
   "execution_count": null,
   "metadata": {},
   "outputs": [],
   "source": []
  },
  {
   "cell_type": "code",
   "execution_count": null,
   "metadata": {},
   "outputs": [],
   "source": []
  }
 ],
 "metadata": {
  "kernelspec": {
   "display_name": "Python 3",
   "language": "python",
   "name": "python3"
  },
  "toc": {
   "base_numbering": 1,
   "nav_menu": {},
   "number_sections": true,
   "sideBar": true,
   "skip_h1_title": false,
   "title_cell": "Table of Contents",
   "title_sidebar": "Contents",
   "toc_cell": false,
   "toc_position": {
    "height": "calc(100% - 180px)",
    "left": "10px",
    "top": "150px",
    "width": "362.967px"
   },
   "toc_section_display": true,
   "toc_window_display": true
  }
 },
 "nbformat": 4,
 "nbformat_minor": 4
}
