{
 "cells": [
  {
   "cell_type": "markdown",
   "metadata": {},
   "source": [
    "# tootltips"
   ]
  },
  {
   "cell_type": "code",
   "execution_count": null,
   "metadata": {},
   "outputs": [],
   "source": [
    "!curl http://localhost:9200/dpe_pre_1948_td005/_count"
   ]
  },
  {
   "cell_type": "markdown",
   "metadata": {},
   "source": [
    "# Imports"
   ]
  },
  {
   "cell_type": "code",
   "execution_count": 693,
   "metadata": {},
   "outputs": [],
   "source": [
    "from elasticsearch import Elasticsearch\n",
    "from elasticsearch.helpers import bulk,parallel_bulk\n",
    "import time\n",
    "\n",
    "import subprocess"
   ]
  },
  {
   "cell_type": "code",
   "execution_count": 694,
   "metadata": {},
   "outputs": [],
   "source": [
    "import os"
   ]
  },
  {
   "cell_type": "code",
   "execution_count": 692,
   "metadata": {},
   "outputs": [],
   "source": [
    "import subprocess\n",
    "es_bat=Path(os.environ['USERPROFILE']+r'\\apps\\elasticsearch-7.9.1-windows-x86_64\\elasticsearch-7.9.1\\bin\\elasticsearch.bat')\n",
    "p=subprocess.Popen(str(es_bat.absolute()))"
   ]
  },
  {
   "cell_type": "code",
   "execution_count": null,
   "metadata": {},
   "outputs": [],
   "source": [
    "p"
   ]
  },
  {
   "cell_type": "markdown",
   "metadata": {},
   "source": [
    "# Preparer la base de données pour l'analyse au moment de la sauvegarde"
   ]
  },
  {
   "cell_type": "code",
   "execution_count": null,
   "metadata": {},
   "outputs": [],
   "source": [
    "def clean_desc_txt(x):\n",
    "    bad_chars_to_space = ['\"', \"'\", \"''\", '\"\"',  # these char in addr field generate errors on addok\n",
    "                      \",\",  # removed by precaution since we dump comma sep csv and we dont want quotechar\n",
    "                      \"\\\\n\", \"\\\\t\",\"\\\\r\",\"\\\\r\\\\n\"  #\n",
    "                      \"\\n\", \"\\t\",  # remove carriage return/tab\n",
    "                      \"/\", \"\\\\\", \"(\", \")\"  # remove special separators characters and ()\n",
    "                                      \"[\", \"]\", \"_\", \"°\", \"^\",\"<br>\", \">\", \"<\"\n",
    "                                                                    '«', '»',\n",
    "\n",
    "                      ]\n",
    "    for bad_char in bad_chars_to_space:\n",
    "        x=x.replace(bad_char,' ')\n",
    "    return x"
   ]
  },
  {
   "cell_type": "code",
   "execution_count": null,
   "metadata": {
    "scrolled": true
   },
   "outputs": [],
   "source": [
    "def setup_es_client(index_name):\n",
    "    es_client = Elasticsearch()\n",
    "\n",
    "    index_name = index_name\n",
    "    index_configurations = {\n",
    "        \"settings\": {\n",
    "            \"index\": {\n",
    "                \"number_of_shards\": 4,\n",
    "                \"number_of_replicas\": 0,\n",
    "                \"max_result_window\": 5000000,\n",
    "\n",
    "            }\n",
    "        },\n",
    "        \"mappings\": {\n",
    "            \"properties\": {\n",
    "                \"id\": {\"type\": \"keyword\"},\n",
    "                \"text_to_analyze\": {\n",
    "                    \"type\": \"text\",\n",
    "                    #\"analyzer\": \"french\"      \n",
    "                },\n",
    "                \"category_index\":{\n",
    "                    'type':'keyword'\n",
    "                }\n",
    "            }\n",
    "        }\n",
    "    }\n",
    "\n",
    "    try:\n",
    "        es_client.indices.delete(\n",
    "            index=index_name,\n",
    "        )\n",
    "    except:\n",
    "        pass\n",
    "    es_client.indices.create(\n",
    "        index=index_name,\n",
    "        body=index_configurations\n",
    "    )\n",
    "    return es_client"
   ]
  },
  {
   "cell_type": "markdown",
   "metadata": {},
   "source": [
    "# fonctions"
   ]
  },
  {
   "cell_type": "code",
   "execution_count": null,
   "metadata": {},
   "outputs": [],
   "source": [
    "import uuid"
   ]
  },
  {
   "cell_type": "code",
   "execution_count": null,
   "metadata": {},
   "outputs": [],
   "source": [
    "from generate_dpe_annexes_scripts.utils import strip_accents\n",
    "\n",
    "sleepers = {'after_bulk':1,\n",
    "           'after_search':0.2}\n",
    "def gendata(index_name,id_data,data):\n",
    "    for id_,vr in zip(id_data,data):\n",
    "        yield {\n",
    "            \"_index\": index_name,\n",
    "    \"id\": id_,\n",
    "    \"text_to_analyze\": vr\n",
    "        }\n",
    "\n",
    "def generate_instruction_from_list(char_list):\n",
    "    \n",
    "    new_char_list=list()\n",
    "    for char in char_list:\n",
    "        if isinstance(char,str):\n",
    "            new_char_list.append(char)\n",
    "        elif isinstance(char,tuple):\n",
    "            new_char_list.append('('+') OR ('.join(char)+')')\n",
    "            \n",
    "    search_instruction = '('+') AND ('.join(new_char_list) +')'\n",
    "    search_instruction = search_instruction.replace('AND (NOT) AND','AND NOT')\n",
    "    search_instruction = search_instruction.replace('(NOT) AND','NOT')\n",
    "\n",
    "    return search_instruction\n",
    "\n",
    "def search_from_search_dict(es_client,search_dict,index_name):\n",
    "    s_list = list()\n",
    "    for label,char_list in  search_dict.items():\n",
    "        time.sleep(sleepers['after_search'])\n",
    "        search_instruction =generate_instruction_from_list(char_list)\n",
    "        search_body = {\n",
    "            \"query\": {\n",
    "                \"query_string\": {\n",
    "                    \"query\": search_instruction,\n",
    "                    \"default_field\": \"text_to_analyze\"\n",
    "                },\n",
    "\n",
    "            },\n",
    "\n",
    "        }\n",
    "        #es_client.count(index=index_name, body=search_body)\n",
    "        a_dict=es_client.search(index=index_name, body=search_body,size=5000000)\n",
    "\n",
    "        hits = a_dict['hits']['hits']\n",
    "\n",
    "        s=pd.Series(index=[el['_source']['id'] for el in hits],dtype='str')\n",
    "        s[:]=label\n",
    "        s_list.append(s)\n",
    "    s_all=pd.concat(s_list)\n",
    "    return s_all\n",
    "\n",
    "def search_and_affect(data_to_search,id_col,val_col,search_dict):\n",
    "    index_name = uuid.uuid4()\n",
    "    es_client = setup_es_client(index_name)\n",
    "    L=data_to_search.shape[0]\n",
    "    bulk(es_client, gendata(index_name,data_to_search[id_col],data_to_search[val_col]))\n",
    "    count_r = es_client.count(index=index_name)['count']\n",
    "    \n",
    "    while L!=count_r:\n",
    "        time.sleep(0.1)\n",
    "        count_r = es_client.count(index=index_name)['count']\n",
    "\n",
    "    res_serie = search_from_search_dict(es_client,search_dict,index_name=index_name)\n",
    "\n",
    "    res_table=res_serie.to_frame('label')\n",
    "\n",
    "    res_table.index.name = 'id'\n",
    "    res_table=res_table.reset_index()\n",
    "    # destroy index a la fin\n",
    "    try:\n",
    "        es_client.indices.delete(\n",
    "            index=index_name,\n",
    "        )\n",
    "    except:\n",
    "        pass\n",
    "\n",
    "# #     grp = df_drop.groupby('id').label.apply(lambda x: ' + '.join(sorted(list(set(x))))).reset_index()\n",
    "# #     m=data.merge(grp,on='id',how='left')\n",
    "\n",
    "#     m.label=m.label.fillna('indetermine')\n",
    "    return res_table\n",
    "def categorize_search_res(table,label_cat=None,category_dict=None):\n",
    "    \n",
    "    if category_dict is not None:\n",
    "        table['category']=table.label.replace(category_dict)\n",
    "    \n",
    "    if label_cat is not None:\n",
    "        table['label']=pd.Categorical(table.label,categories=label_cat,ordered=True)\n",
    "\n",
    "    #df_drop = df.sort_values('label').drop_duplicates(subset=['id','category'])\n",
    "    \n",
    "    table.label = table.label.fillna('indetermine')\n",
    "    return table\n",
    "\n",
    "def agg_concat_label_text(table,col_label='label',col_vr='valeur_renseignee'):\n",
    "    table[[col_label,col_vr]]=table[[col_label,col_vr]].fillna('indetermine')\n",
    "    agg = table.groupby('td001_dpe_id').agg({\n",
    "\n",
    "    col_label:lambda x: ' + '.join(sorted(list(set(x)))),\n",
    "    col_vr:lambda x: ' + '.join(sorted(list(set(x))))\n",
    "    })\n",
    "\n",
    "    for col in agg:\n",
    "        agg[col] =  agg[col].apply(lambda x:' + '.join(sorted(list(set([el for el in x.split(' + ') if el!='indetermine'])))))\n",
    "        agg[col] = agg[col].replace('','indetermine')\n",
    "    return agg"
   ]
  },
  {
   "cell_type": "markdown",
   "metadata": {},
   "source": [
    "# load tables"
   ]
  },
  {
   "cell_type": "code",
   "execution_count": null,
   "metadata": {},
   "outputs": [],
   "source": [
    "from generate_dpe_annexes_scripts.utils import reload_package"
   ]
  },
  {
   "cell_type": "code",
   "execution_count": null,
   "metadata": {},
   "outputs": [],
   "source": [
    "import generate_dpe_annexes_scripts.trtvtables\n",
    "reload_package(generate_dpe_annexes_scripts.trtvtables)"
   ]
  },
  {
   "cell_type": "code",
   "execution_count": null,
   "metadata": {},
   "outputs": [],
   "source": [
    "import numpy as np\n",
    "\n",
    "import pandas as pd\n",
    "from pathlib import Path\n",
    "import json\n",
    "from generate_dpe_annexes_scripts.utils import round_float_cols, unique_ordered\n",
    "from config import paths\n",
    "from generate_dpe_annexes_scripts.trtvtables import DPETrTvTables\n",
    "\n",
    "trtv = DPETrTvTables()\n",
    "\n",
    "if __name__ == '__main__':\n",
    "\n",
    "    data_dir = paths['DPE_DEPT_PATH']\n",
    "    annexe_dir = paths['DPE_DEPT_ANNEXE_PATH']\n",
    "    annexe_dir = Path(annexe_dir)\n",
    "    annexe_dir.mkdir(exist_ok=True, parents=True)\n",
    "    for dept_dir in Path(data_dir).iterdir():\n",
    "        if dept_dir.name=='38':\n",
    "            print(dept_dir)\n",
    "            annexe_dept_dir = annexe_dir / dept_dir.name\n",
    "            annexe_dept_dir.mkdir(exist_ok=True, parents=True)\n",
    "            # LOAD TABLES\n",
    "            td001 = pd.read_csv(dept_dir / 'td001_dpe.csv', dtype=str)\n",
    "            td003 = pd.read_csv(dept_dir / 'td003_descriptif.csv', dtype=str)\n",
    "            td002 = pd.read_csv(dept_dir/'td002_consommation.csv',dtype=str)\n",
    "            td016 = pd.read_csv(dept_dir/'td016_facture.csv',dtype=str)\n",
    "\n",
    "            td005 = pd.read_csv(dept_dir / 'td005_fiche_technique.csv', dtype=str)\n",
    "            td006 = pd.read_csv(dept_dir / 'td006_batiment.csv', dtype=str)\n",
    "            td011 = pd.read_csv(dept_dir / 'td011_installation_chauffage.csv', dtype=str)\n",
    "            td012 = pd.read_csv(dept_dir / 'td012_generateur_chauffage.csv', dtype=str)\n",
    "            td011_p = pd.read_csv(annexe_dept_dir / 'td011_installation_chauffage_annexe.csv', dtype=str)\n",
    "\n",
    "            td012_p = pd.read_csv(annexe_dept_dir / 'td012_generateur_chauffage_annexe.csv', dtype=str)\n",
    "            td014_p = pd.read_csv(annexe_dept_dir / 'td014_generateur_ecs_annexe.csv', dtype=str)\n",
    "            td001_sys_ch= pd.read_csv(annexe_dept_dir / 'td001_sys_ch_agg_annexe.csv', dtype=str)\n",
    "            td001_sys_ecs= pd.read_csv(annexe_dept_dir / 'td001_sys_ecs_agg_annexe.csv', dtype=str)\n",
    "\n",
    "            gen= pd.read_csv(annexe_dept_dir / 'td001_annexe_generale.csv', dtype=str)\n",
    "            td001_sys_ch.columns = [col.replace('_chauffage','_ch') for col in td001_sys_ch]\n",
    "\n",
    "            print(dept_dir)\n",
    "            \n",
    "            # ENVELOPPE PROCESSING\n",
    "            td001 =td001.rename(columns={'id':'td001_dpe_id'})\n",
    "            td011_p['type_installation_ch']=td011_p.tv025_type_installation.replace({'Chauffage Individuel':'individuel',\n",
    "                                        'Chauffage Collectif':'collectif'})\n",
    "            break"
   ]
  },
  {
   "cell_type": "code",
   "execution_count": null,
   "metadata": {},
   "outputs": [],
   "source": [
    "td014_p.is_ecs_solaire = td014_p.is_ecs_solaire.replace({'False':False,'True':True})"
   ]
  },
  {
   "cell_type": "markdown",
   "metadata": {},
   "source": [
    "# dump new"
   ]
  },
  {
   "cell_type": "code",
   "execution_count": null,
   "metadata": {},
   "outputs": [],
   "source": [
    "import main\n",
    "import generate_dpe_annexes_scripts.conversion_normalisation\n",
    "import generate_dpe_annexes_scripts.td011_td012_processing\n",
    "import generate_dpe_annexes_scripts.td013_td014_processing\n",
    "import generate_dpe_annexes_scripts.td001_merge\n",
    "import generate_dpe_annexes_scripts.text_matching_dict\n",
    "import generate_dpe_annexes_scripts.utils"
   ]
  },
  {
   "cell_type": "code",
   "execution_count": null,
   "metadata": {},
   "outputs": [],
   "source": [
    "reload_package(main)\n",
    "reload_package(generate_dpe_annexes_scripts.conversion_normalisation)\n",
    "\n",
    "reload_package(generate_dpe_annexes_scripts.td011_td012_processing)\n",
    "reload_package(generate_dpe_annexes_scripts.td013_td014_processing)\n",
    "reload_package(generate_dpe_annexes_scripts.text_matching_dict)\n",
    "reload_package(generate_dpe_annexes_scripts.td001_merge)\n",
    "reload_package(generate_dpe_annexes_scripts.utils)\n",
    "\n",
    "reload_package(main)\n",
    "reload_package(generate_dpe_annexes_scripts.conversion_normalisation)\n",
    "\n",
    "reload_package(generate_dpe_annexes_scripts.td011_td012_processing)\n",
    "reload_package(generate_dpe_annexes_scripts.td013_td014_processing)\n",
    "reload_package(generate_dpe_annexes_scripts.text_matching_dict)\n",
    "reload_package(generate_dpe_annexes_scripts.td001_merge)"
   ]
  },
  {
   "cell_type": "code",
   "execution_count": null,
   "metadata": {},
   "outputs": [],
   "source": [
    "from generate_dpe_annexes_scripts.text_matching_dict import *"
   ]
  },
  {
   "cell_type": "code",
   "execution_count": null,
   "metadata": {},
   "outputs": [],
   "source": [
    "from main import *"
   ]
  },
  {
   "cell_type": "code",
   "execution_count": null,
   "metadata": {
    "scrolled": true
   },
   "outputs": [],
   "source": [
    "td011 = pd.read_csv(dept_dir / 'td011_installation_chauffage.csv', dtype=str)\n",
    "td012 = pd.read_csv(dept_dir / 'td012_generateur_chauffage.csv', dtype=str)\n",
    "td013 = pd.read_csv(dept_dir / 'td013_installation_ecs.csv', dtype=str)\n",
    "td014 = pd.read_csv(dept_dir / 'td014_generateur_ecs.csv', dtype=str)\n",
    "\n",
    "td011_p, td012_p, td001_sys_ch_agg, td013_p, td014_p, td001_sys_ecs_agg = run_system_processing(td001, td006,\n",
    "                                                                                                td011, td012,\n",
    "                                                                                                td013, td014)\n",
    "round_float_cols(td001_sys_ch_agg).to_csv(annexe_dept_dir / 'td001_sys_ch_agg_annexe.csv')\n",
    "round_float_cols(td001_sys_ecs_agg).to_csv(annexe_dept_dir / 'td001_sys_ecs_agg_annexe.csv')\n",
    "round_float_cols(td011_p).to_csv(annexe_dept_dir / 'td011_installation_chauffage_annexe.csv')\n",
    "round_float_cols(td012_p).to_csv(annexe_dept_dir / 'td012_generateur_chauffage_annexe.csv')\n",
    "round_float_cols(td013_p).to_csv(annexe_dept_dir / 'td013_installation_ecs_annexe.csv')\n",
    "round_float_cols(td014_p).to_csv(annexe_dept_dir / 'td014_generateur_ecs_annexe.csv')"
   ]
  },
  {
   "cell_type": "code",
   "execution_count": null,
   "metadata": {},
   "outputs": [],
   "source": [
    "td001, td006, td011, td012, td013, td014 = merge_td001_dpe_id_system(td001, td006, td011, td012, td013, td014)\n",
    "\n",
    "\n",
    "table = merge_without_duplicate_columns(td012,td012_p,on='td012_generateur_chauffage_id')\n"
   ]
  },
  {
   "cell_type": "code",
   "execution_count": null,
   "metadata": {},
   "outputs": [],
   "source": [
    "td011 = merge_without_duplicate_columns(td011,td011_p,on='td011_installation_chauffage_id')\n"
   ]
  },
  {
   "cell_type": "code",
   "execution_count": null,
   "metadata": {},
   "outputs": [],
   "source": [
    "table = merge_without_duplicate_columns(td012,td012_p,on='td012_generateur_chauffage_id')\n"
   ]
  },
  {
   "cell_type": "code",
   "execution_count": null,
   "metadata": {},
   "outputs": [],
   "source": [
    "table=table.astype(td012_types)"
   ]
  },
  {
   "cell_type": "code",
   "execution_count": null,
   "metadata": {
    "scrolled": true
   },
   "outputs": [],
   "source": [
    "td011['type_installation_ch'] = td011.tv025_type_installation.replace(\n",
    "    type_installation_conv_dict['tv025_type_installation'])\n",
    "#table = td012.copy()\n",
    "table['type_energie_ch'] = table[\"tv045_energie\"].astype('string').fillna('indetermine').replace(\n",
    "    ener_conv_dict['tv045_energie'])\n",
    "table['tr004_description'] = table[\"tr004_description\"].astype('string').fillna('indetermine').replace(\n",
    "    ener_conv_dict['tr004_description'])\n",
    "\n",
    "is_rpn = table.rpn > 0\n",
    "is_rpint = table.rpint > 0\n",
    "is_chaudiere = is_rpint | is_rpn\n",
    "is_chaudiere = is_chaudiere | ~table.tv038_puissance_nominale_id.isnull()\n",
    "# all text description raw concat\n",
    "gen_ch_concat_txt_desc = table['tv031_type_generateur'].astype('string').replace(np.nan, '') + ' '\n",
    "gen_ch_concat_txt_desc.loc[is_chaudiere] += 'chaudiere '\n",
    "gen_ch_concat_txt_desc += table['tv036_type_chaudiere'].astype('string').replace(np.nan, ' ') + ' '\n",
    "gen_ch_concat_txt_desc += table[\"tv030_type_installation\"].astype('string').replace(np.nan, ' ') + ' '\n",
    "gen_ch_concat_txt_desc += table[\"tv032_type_generateur\"].astype('string').replace(np.nan, ' ') + ' '\n",
    "gen_ch_concat_txt_desc += table['tv035_type_chaudiere'].astype('string').replace(np.nan, ' ') + ' '\n",
    "gen_ch_concat_txt_desc += table['tv036_type_generation'].astype('string').replace(np.nan, ' ') + ' '\n",
    "gen_ch_concat_txt_desc += table[\"tv030_type_installation\"].astype('string').replace(np.nan, ' ') + ' '\n",
    "gen_ch_concat_txt_desc += table[\"tr004_description\"].astype('string').replace(np.nan, ' ') + ' '\n",
    "gen_ch_concat_txt_desc += table[\"type_energie_ch\"].astype('string').replace(np.nan, ' ') + ' '\n",
    "gen_ch_concat_txt_desc += table['tv046_nom_reseau'].isnull().replace({False: 'réseau de chaleur',\n",
    "                                                                      True: \"\"})\n",
    "gen_ch_concat_txt_desc = gen_ch_concat_txt_desc.str.lower().apply(lambda x: strip_accents(x))\n",
    "\n",
    "table['gen_ch_concat_txt_desc'] = gen_ch_concat_txt_desc\n",
    "\n",
    "table['gen_ch_concat_txt_desc'] = table['gen_ch_concat_txt_desc'].apply(lambda x: clean_str(x))\n",
    "\n",
    "# calcul gen_ch_lib_infer par matching score text.\n",
    "unique_gen_ch = table.gen_ch_concat_txt_desc.unique()\n",
    "gen_ch_lib_infer_dict = {k: affect_lib_by_matching_score(k, td012_gen_ch_search_dict) for k in\n",
    "                         unique_gen_ch}\n",
    "table['gen_ch_lib_infer'] = table.gen_ch_concat_txt_desc.replace(gen_ch_lib_infer_dict)\n",
    "\n",
    "# recup/fix PAC\n",
    "is_pac = (table.coefficient_performance > 2) | (table.rendement_generation > 2)\n",
    "table.loc[is_pac, 'gen_ch_lib_infer'] = table.loc[is_pac, 'coefficient_performance'].replace(pac_dict)\n",
    "is_ind = is_pac & (~table.loc[is_pac, 'gen_ch_lib_infer'].isin(pac_dict.values()))\n",
    "table.loc[is_ind, 'gen_ch_lib_infer'] = table.loc[is_ind, 'rendement_generation'].replace(pac_dict)\n",
    "is_ind = is_pac & (~table.loc[is_pac, 'gen_ch_lib_infer'].isin(pac_dict.values()))\n",
    "table.loc[is_ind, 'gen_ch_lib_infer'] = 'pac indetermine'\n",
    "\n",
    "# recup poele bois from chauffage indetermine\n",
    "is_bois_ind = table.gen_ch_lib_infer == 'chauffage bois indetermine'\n",
    "\n",
    "table.loc[is_bois_ind, 'gen_ch_lib_infer'] = table.loc[is_bois_ind, 'rendement_generation'].replace(poele_dict)\n",
    "\n",
    "# recup poele fioul from chauffage indetermine\n",
    "is_fioul_ind = table.gen_ch_lib_infer == 'chauffage fioul indetermine'\n",
    "\n",
    "table.loc[is_fioul_ind, 'gen_ch_lib_infer'] = table.loc[is_fioul_ind, 'rendement_generation'].replace(poele_dict)\n",
    "\n",
    "# recup reseau chaleur\n",
    "non_aff = table.gen_ch_lib_infer == 'indetermine'\n",
    "\n",
    "reseau_infer = non_aff & (table.rendement_generation == 0.97) & (table.tr004_description == 'Autres énergies')\n",
    "\n",
    "table.loc[reseau_infer, 'gen_ch_lib_infer'] = 'reseau de chaleur'\n",
    "table.loc[reseau_infer, 'type_energie_ch'] = 'reseau de chaleur'\n",
    "\n",
    "table['gen_ch_lib_infer_simp'] = table.gen_ch_lib_infer.replace(gen_ch_lib_simp_dict)\n",
    "\n",
    "# fix chaudiere elec\n",
    "\n",
    "bool_cei = table.gen_ch_lib_infer == 'chauffage electrique indetermine'\n",
    "bool_ce = table.rendement_generation == 0.77\n",
    "\n",
    "table.loc[(bool_cei) & (bool_ce), 'gen_ch_lib_infer'] = 'chaudiere electrique'\n",
    "\n",
    "rendement_gen_u = table[['rendement_generation', 'coefficient_performance']].max(axis=1)\n",
    "\n",
    "table['rendement_generateur_u']=rendement_gen_u\n",
    "\n",
    "# chauffage effet joule\n",
    "\n",
    "s_rendement = pd.Series(index=table.index)\n",
    "s_rendement[:] = 1\n",
    "for rendement in ['rendement_distribution_systeme_chauffage',\n",
    "                  'rendement_emission_systeme_chauffage']:\n",
    "    r = table[rendement].astype(float)\n",
    "    r[r == 0] = 1\n",
    "    r[r.isnull()] = 1\n",
    "    s_rendement = s_rendement * r\n",
    "\n",
    "rendement_gen_u[rendement_gen_u == 0] = 1\n",
    "rendement_gen_u[rendement_gen_u.isnull()] = 1\n",
    "s_rendement = s_rendement * rendement_gen_u\n",
    "table['besoin_ch_infer'] = table['consommation_chauffage'] * s_rendement"
   ]
  },
  {
   "cell_type": "code",
   "execution_count": null,
   "metadata": {},
   "outputs": [],
   "source": [
    "table.gen_ch_lib_infer.fillna('NAAAAAAAAAAAAAAAA').value_counts()"
   ]
  },
  {
   "cell_type": "code",
   "execution_count": null,
   "metadata": {},
   "outputs": [],
   "source": [
    "td001_sys_ch.type_installation_ch_concat=td001_sys_ch.type_installation_ch_concat.str.replace('Chauffage Individuel',\n",
    "                                                                                              'individuel').str.replace('Chauffage Collectif',\n",
    "                                                                                                                        'collectif')\n",
    "td001 =td001.rename(columns={'id':'td001_dpe_id'})"
   ]
  },
  {
   "cell_type": "code",
   "execution_count": null,
   "metadata": {},
   "outputs": [],
   "source": [
    "    gen_ch_concat_txt_desc = table['tv031_type_generateur'].astype('string').replace(np.nan, '') + ' '\n",
    "    gen_ch_concat_txt_desc.loc[is_chaudiere] += 'chaudiere '\n",
    "    gen_ch_concat_txt_desc += table['tv036_type_chaudiere'].astype('string').replace(np.nan, ' ') + ' '\n",
    "    gen_ch_concat_txt_desc += table[\"tv030_type_installation\"].astype('string').replace(np.nan, ' ') + ' '\n",
    "    gen_ch_concat_txt_desc += table[\"tv032_type_generateur\"].astype('string').replace(np.nan, ' ') + ' '\n",
    "    gen_ch_concat_txt_desc += table['tv035_type_chaudiere'].astype('string').replace(np.nan, ' ') + ' '\n",
    "    gen_ch_concat_txt_desc += table['tv036_type_generation'].astype('string').replace(np.nan, ' ') + ' '\n",
    "    gen_ch_concat_txt_desc += table[\"tv030_type_installation\"].astype('string').replace(np.nan, ' ') + ' '\n",
    "    gen_ch_concat_txt_desc += table[\"tr004_description\"].astype('string').replace(np.nan, ' ') + ' '\n",
    "    gen_ch_concat_txt_desc += table[\"type_energie_ch\"].astype('string').replace(np.nan, ' ') + ' '\n",
    "    gen_ch_concat_txt_desc += table['tv046_nom_reseau'].isnull().replace({False: 'réseau de chaleur',\n",
    "                                                                          True: \"\"})\n",
    "    gen_ch_concat_txt_desc = gen_ch_concat_txt_desc.str.lower().apply(lambda x: strip_accents(x))\n",
    "\n",
    "    table['gen_ch_concat_txt_desc'] = gen_ch_concat_txt_desc\n",
    "\n",
    "    table['gen_ch_concat_txt_desc'] = table['gen_ch_concat_txt_desc'].apply(lambda x: clean_str(x))"
   ]
  },
  {
   "cell_type": "code",
   "execution_count": null,
   "metadata": {},
   "outputs": [],
   "source": [
    "    unique_gen_ch = table.gen_ch_concat_txt_desc.unique()\n",
    "    gen_ch_lib_infer_dict = {k: affect_lib_by_matching_score(k, td012_gen_ch_search_dict) for k in\n",
    "                             unique_gen_ch}\n",
    "    table['gen_ch_lib_infer'] = table.gen_ch_concat_txt_desc.replace(gen_ch_lib_infer_dict)"
   ]
  },
  {
   "cell_type": "code",
   "execution_count": null,
   "metadata": {},
   "outputs": [],
   "source": [
    "table.query('gen_ch_lib_infer==\"indetermine\"').columns.tolist()"
   ]
  },
  {
   "cell_type": "code",
   "execution_count": null,
   "metadata": {},
   "outputs": [],
   "source": [
    "table.query('gen_ch_lib_infer==\"indetermine\"')[['tr004_type_energie_id','rendement_generation',\n",
    "                                                'rendement_distribution_systeme_chauffage',\n",
    "                                              'gen_ch_concat_txt_desc']].rendement_distribution_systeme_chauffage.value_counts()"
   ]
  },
  {
   "cell_type": "code",
   "execution_count": null,
   "metadata": {},
   "outputs": [],
   "source": [
    "table.query('gen_ch_lib_infer==\"indetermine\"')[['type_energie_ch','tr004_description','tv045_energie']]"
   ]
  },
  {
   "cell_type": "code",
   "execution_count": null,
   "metadata": {},
   "outputs": [],
   "source": [
    "td012_p.gen_ch_lib_infer.value_counts()"
   ]
  },
  {
   "cell_type": "code",
   "execution_count": null,
   "metadata": {},
   "outputs": [],
   "source": []
  },
  {
   "cell_type": "code",
   "execution_count": null,
   "metadata": {},
   "outputs": [],
   "source": [
    "    td001, td006, td011, td012, td013, td014 = merge_td001_dpe_id_system(td001, td006, td011, td012, td013, td014)\n",
    "\n",
    "\n",
    "table = merge_without_duplicate_columns(td012,td012_p,on='td012_generateur_chauffage_id')\n"
   ]
  },
  {
   "cell_type": "code",
   "execution_count": null,
   "metadata": {},
   "outputs": [],
   "source": [
    "table.query('gen_ch_lib_infer==\"chauffage electrique indetermine\"').to_dict(orient='records')"
   ]
  },
  {
   "cell_type": "markdown",
   "metadata": {},
   "source": [
    "# td002/td016 processing"
   ]
  },
  {
   "cell_type": "code",
   "execution_count": null,
   "metadata": {},
   "outputs": [],
   "source": [
    "from generate_dpe_annexes_scripts.td002_td016_processing import merge_td002_td016_trtrv,extract_type_energie_from_td002_td016"
   ]
  },
  {
   "cell_type": "code",
   "execution_count": null,
   "metadata": {},
   "outputs": [],
   "source": [
    "td002_p,td016_p=merge_td002_td016_trtrv(td002,td016)\n",
    "td001_ener_from_facture = extract_type_energie_from_td002_td016(td001,td002_p,td016_p)"
   ]
  },
  {
   "cell_type": "code",
   "execution_count": null,
   "metadata": {},
   "outputs": [],
   "source": [
    "td001_ener_from_facture"
   ]
  },
  {
   "cell_type": "markdown",
   "metadata": {},
   "source": [
    "# load dicts"
   ]
  },
  {
   "cell_type": "code",
   "execution_count": 738,
   "metadata": {},
   "outputs": [],
   "source": [
    "from generate_dpe_annexes_scripts.utils import reload_package"
   ]
  },
  {
   "cell_type": "code",
   "execution_count": 1210,
   "metadata": {},
   "outputs": [],
   "source": [
    "import generate_dpe_annexes_scripts.text_matching_dict \n",
    "import os\n",
    "reload_package(generate_dpe_annexes_scripts.text_matching_dict)\n",
    "from generate_dpe_annexes_scripts.text_matching_dict import *\n",
    "\n",
    "from generate_dpe_annexes_scripts.conversion_normalisation import *\n",
    "reload_package(generate_dpe_annexes_scripts.conversion_normalisation)\n",
    "from generate_dpe_annexes_scripts.conversion_normalisation import *\n",
    "reload_package(generate_dpe_annexes_scripts.td003_td005_text_extraction_processing)\n",
    "\n",
    "from generate_dpe_annexes_scripts.td003_td005_text_extraction_processing import extract_td005_ch_variables,extract_td003_ch_variables\n",
    "\n",
    "from generate_dpe_annexes_scripts.td003_td005_text_extraction_processing import extract_td005_ecs_variables,extract_td003_ecs_variables"
   ]
  },
  {
   "cell_type": "code",
   "execution_count": 1211,
   "metadata": {},
   "outputs": [
    {
     "data": {
      "text/plain": [
       "{'chaudiere bois exact',\n",
       " 'chaudiere electrique exact',\n",
       " 'chaudiere energie indetermine basse temperature',\n",
       " 'chaudiere energie indetermine condensation',\n",
       " 'chaudiere energie indetermine indetermine',\n",
       " 'chaudiere energie indetermine standard',\n",
       " 'convecteurs electriques',\n",
       " 'pac air/eau en releve de chaudiere',\n",
       " 'pac eau/eau en releve de chaudiere',\n",
       " 'pac geothermique en releve de chaudiere',\n",
       " 'pac indetermine',\n",
       " 'pac indetermine en releve de chaudiere',\n",
       " 'panneaux rayonnants electriques',\n",
       " 'poele ou insert indetermine',\n",
       " 'radiateurs gaz'}"
      ]
     },
     "execution_count": 1211,
     "metadata": {},
     "output_type": "execute_result"
    }
   ],
   "source": [
    "gen_ch_search_dict_flat.keys() -set(td012_gen_ch_search_dict.keys())"
   ]
  },
  {
   "cell_type": "code",
   "execution_count": 741,
   "metadata": {
    "scrolled": true
   },
   "outputs": [
    {
     "data": {
      "text/plain": [
       "set()"
      ]
     },
     "execution_count": 741,
     "metadata": {},
     "output_type": "execute_result"
    }
   ],
   "source": [
    "set(td014_gen_ecs_search_dict.keys())-gen_ecs_search_dict_flat.keys()"
   ]
  },
  {
   "cell_type": "code",
   "execution_count": 707,
   "metadata": {},
   "outputs": [
    {
     "data": {
      "text/plain": [
       "{'gaz': ['gaz'],\n",
       " 'electricite': [('elec*', 'elec.', 'joule*')],\n",
       " 'reseau de chaleur': [('\"reseau de chaleur\"',\n",
       "   '\"reseaux de chaleurs\"',\n",
       "   '\"reseaux de chaleur\"',\n",
       "   '\"reseau chaleur\"',\n",
       "   'urbain',\n",
       "   'rcu',\n",
       "   '(raccordement AND reseau)')],\n",
       " 'fioul': [('fioul', 'mazout', 'fuel')],\n",
       " 'bois': [('bois',\n",
       "   'bois//biomasse',\n",
       "   'bio*',\n",
       "   'flamme AND verte',\n",
       "   'granule*',\n",
       "   'pellet*',\n",
       "   'buche*')],\n",
       " 'gpl/butane/propane': [('propane', 'butane', 'gpl')],\n",
       " 'charbon': ['charbon']}"
      ]
     },
     "execution_count": 707,
     "metadata": {},
     "output_type": "execute_result"
    }
   ],
   "source": [
    "energie_search_dict"
   ]
  },
  {
   "cell_type": "code",
   "execution_count": 701,
   "metadata": {},
   "outputs": [
    {
     "data": {
      "text/plain": [
       "{'abscence ecs solaire',\n",
       " 'chaudiere bois exact',\n",
       " 'chaudiere electrique exact',\n",
       " 'chaudiere energie indetermine basse temperature',\n",
       " 'chaudiere energie indetermine condensation',\n",
       " 'chaudiere energie indetermine indetermine',\n",
       " 'chaudiere energie indetermine standard',\n",
       " 'chauffe-eau independant indetermine',\n",
       " 'ecs bois indetermine',\n",
       " 'ecs solaire',\n",
       " 'poele bouilleur bois',\n",
       " 'production mixte fioul',\n",
       " 'production mixte gaz',\n",
       " 'production mixte indetermine'}"
      ]
     },
     "execution_count": 701,
     "metadata": {},
     "output_type": "execute_result"
    }
   ],
   "source": [
    "gen_ecs_search_dict_flat.keys() -set(td014_gen_ecs_search_dict.keys())"
   ]
  },
  {
   "cell_type": "markdown",
   "metadata": {},
   "source": [
    "# search Chauffage"
   ]
  },
  {
   "cell_type": "code",
   "execution_count": 742,
   "metadata": {},
   "outputs": [],
   "source": [
    "from generate_dpe_annexes_scripts import text_matching_dict\n",
    "reload_package(text_matching_dict)\n",
    "from generate_dpe_annexes_scripts.text_matching_dict import solaire_ch_search_dict"
   ]
  },
  {
   "cell_type": "code",
   "execution_count": null,
   "metadata": {},
   "outputs": [],
   "source": []
  },
  {
   "cell_type": "code",
   "execution_count": 743,
   "metadata": {},
   "outputs": [
    {
     "name": "stderr",
     "output_type": "stream",
     "text": [
      "D:\\Cstbdata\\MONWORKSPACE\\Gitlab\\de-dpe-processing\\data_processing_cstb\\traitement_donnees_metier\\generate_dpe_annexes_scripts\\td003_td005_text_extraction_processing.py:23: UserWarning: Pandas doesn't allow columns to be created via a new attribute name - see https://pandas.pydata.org/pandas-docs/stable/indexing.html#attribute-access\n",
      "  td005_ch.descriptif = td005_ch.valeur_renseignee.fillna('indetermine')\n",
      "C:\\ProgramData\\Anaconda3\\lib\\site-packages\\pandas\\core\\generic.py:5303: SettingWithCopyWarning: \n",
      "A value is trying to be set on a copy of a slice from a DataFrame.\n",
      "Try using .loc[row_indexer,col_indexer] = value instead\n",
      "\n",
      "See the caveats in the documentation: https://pandas.pydata.org/pandas-docs/stable/user_guide/indexing.html#returning-a-view-versus-a-copy\n",
      "  self[name] = value\n"
     ]
    }
   ],
   "source": [
    "gen_ch_lib_ft, type_installation_ch_ft, energie_ch_ft, solaire_ch_ft = extract_td005_ch_variables(td005)\n",
    "\n",
    "\n",
    "gen_ch_lib_desc, type_installation_ch_desc, energie_ch_desc, solaire_ch_desc = extract_td003_ch_variables(td003)\n"
   ]
  },
  {
   "cell_type": "markdown",
   "metadata": {},
   "source": [
    "# search ecs"
   ]
  },
  {
   "cell_type": "code",
   "execution_count": 744,
   "metadata": {},
   "outputs": [],
   "source": [
    "gen_ecs_lib_ft, type_installation_ecs_ft, energie_ecs_ft = extract_td005_ecs_variables(td005)\n",
    "\n",
    "\n",
    "gen_ecs_lib_desc, type_installation_ecs_desc, energie_ecs_desc = extract_td003_ecs_variables(td003)\n"
   ]
  },
  {
   "cell_type": "markdown",
   "metadata": {},
   "source": [
    "# fusion\n",
    "\n",
    "## méthodologie de fusion\n",
    "\n",
    "TBD"
   ]
  },
  {
   "cell_type": "code",
   "execution_count": 1003,
   "metadata": {},
   "outputs": [],
   "source": [
    "td001_sys=td001.rename(columns ={'id':'td001_dpe_id'})[['td001_dpe_id','tr002_type_batiment_id']].merge(td001_sys_ch[['td001_dpe_id',\n",
    "                                                                                             'gen_ch_lib_infer_concat','mix_energetique_ch'\n",
    "                                                                                            ]],on='td001_dpe_id',\n",
    "                                                                              how='left')\n",
    "td001_sys=td001_sys.merge(td001_sys_ecs[['td001_dpe_id','gen_ecs_lib_infer_concat']],on='td001_dpe_id',\n",
    "                                                                              how='left')"
   ]
  },
  {
   "cell_type": "markdown",
   "metadata": {},
   "source": [
    "## Chauffage\n"
   ]
  },
  {
   "cell_type": "markdown",
   "metadata": {},
   "source": [
    "### préparation de la donnée"
   ]
  },
  {
   "cell_type": "markdown",
   "metadata": {},
   "source": [
    "#### generateur chauffage"
   ]
  },
  {
   "cell_type": "code",
   "execution_count": 1212,
   "metadata": {},
   "outputs": [],
   "source": [
    "# libéllés des generateurs chauffage issues des données textes\n",
    "gen_ch_lib_from_txt=pd.concat([gen_ch_lib_desc[['label','category','td001_dpe_id']],\n",
    "                               gen_ch_lib_ft[['label','category','td001_dpe_id']]],axis=0)\n",
    "\n",
    "gen_ch_lib_from_txt =gen_ch_lib_from_txt.sort_values(by=['td001_dpe_id','category','label'])\n",
    "\n",
    "gen_ch_lib_from_txt = gen_ch_lib_from_txt.drop_duplicates(subset=['category','td001_dpe_id'],keep='first')\n",
    "# suppression de la dénomination exact qui ne correpond qu'a une méthode de recherche plus rigide\n",
    "gen_ch_lib_from_txt.label = gen_ch_lib_from_txt.label.str.replace(' exact','')\n",
    "\n",
    "gen_ch_lib_from_txt['source']='txt'\n",
    "\n",
    "# libéllés des générateurs chauffage issus de la table td012\n",
    "gen_ch_lib_from_data = td012_p[['td001_dpe_id','gen_ch_lib_infer']].copy()\n",
    "\n",
    "gen_ch_lib_from_data.columns=['td001_dpe_id','label']\n",
    "\n",
    "gen_ch_lib_from_data['category']=gen_ch_lib_from_data.label.replace(reverse_cat_gen_ch)\n",
    "\n",
    "gen_ch_lib_from_data['label']=pd.Categorical(gen_ch_lib_from_data.label,categories=list(gen_ch_search_dict_flat.keys())+['indetermine'],ordered=True)\n",
    "gen_ch_lib_from_data['source']='data'\n",
    "\n",
    "tr003_desc = td011_p.loc[td011_p.tr003_description.isin(tr003_desc_to_gen.keys())]\n",
    "\n",
    "tr003_desc =tr003_desc[['td001_dpe_id','tr003_description']]\n",
    "tr003_desc.columns=['td001_dpe_id','label']\n",
    "tr003_desc.label=tr003_desc.label.replace(tr003_desc_to_gen)\n",
    "tr003_desc['category']=tr003_desc.label.replace(reverse_cat_gen_ch)\n",
    "\n",
    "tr003_desc['label']=pd.Categorical(tr003_desc.label,categories=list(gen_ch_search_dict_flat.keys())+['indetermine'],ordered=True)\n",
    "tr003_desc['source']='data'\n",
    "\n",
    "# concat. \n",
    "gen_ch_lib = pd.concat([gen_ch_lib_from_data,tr003_desc,gen_ch_lib_from_txt],axis=0)\n",
    "\n",
    "gen_ch_lib['source']=pd.Categorical(gen_ch_lib.source,categories=['data','txt'],ordered=True)\n",
    "gen_ch_lib['category']=pd.Categorical(gen_ch_lib.category,categories=list(gen_ch_search_dict.keys()),ordered=True)\n",
    "\n"
   ]
  },
  {
   "cell_type": "code",
   "execution_count": 1213,
   "metadata": {},
   "outputs": [
    {
     "data": {
      "text/plain": [
       "chauffage electrique indetermine                   92059\n",
       "chauffage gaz indetermine                          62734\n",
       "chaudiere gaz indetermine                          29168\n",
       "poele ou insert bois                               27045\n",
       "radiateurs electriques                             25994\n",
       "chaudiere gaz condensation                         25498\n",
       "panneaux rayonnants electriques nfc                21462\n",
       "convecteurs electriques nfc                        20704\n",
       "chauffage bois indetermine                         19074\n",
       "chauffage fioul indetermine                        14396\n",
       "reseau de chaleur                                  14357\n",
       "chaudiere gaz standard                             13933\n",
       "chaudiere fioul indetermine                        12005\n",
       "poele ou insert indetermine                         9110\n",
       "plafonds/planchers rayonnants electriques nfc       8239\n",
       "chaudiere gaz basse temperature                     7527\n",
       "chaudiere electrique                                7310\n",
       "pac air/air                                         7067\n",
       "pac air/eau                                         6599\n",
       "pac indetermine                                     5767\n",
       "chaudiere fioul standard                            4560\n",
       "chaudiere energie indetermine indetermine           4165\n",
       "convecteurs electriques                             3857\n",
       "chaudiere bois                                      3417\n",
       "chaudiere energie indetermine condensation          2194\n",
       "chaudiere energie indetermine basse temperature     2114\n",
       "pac eau/eau en releve de chaudiere                  1942\n",
       "chaudiere fioul basse temperature                   1803\n",
       "chaudiere energie indetermine standard              1727\n",
       "pac geothermique                                    1441\n",
       "chauffage gpl/butane/propane indetermine            1159\n",
       "pac eau/eau                                         1059\n",
       "panneaux rayonnants electriques                     1051\n",
       "radiateurs gaz                                       997\n",
       "chaudiere fioul condensation                         947\n",
       "poele ou insert fioul/gpl/charbon                    559\n",
       "convecteurs bi-jonction electriques                  541\n",
       "chaudiere gpl/butane/propane condensation            297\n",
       "pac indetermine en releve de chaudiere               289\n",
       "pac air/eau en releve de chaudiere                   260\n",
       "chaudiere gpl/butane/propane indetermine             233\n",
       "chaudiere gpl/butane/propane standard                213\n",
       "chauffage charbon indetermine                        110\n",
       "chaudiere gpl/butane/propane basse temperature        94\n",
       "chaudiere charbon indetermine                         20\n",
       "pac geothermique en releve de chaudiere               12\n",
       "chaudiere charbon standard                             3\n",
       "chaudiere charbon condensation                         1\n",
       "Name: label, dtype: int64"
      ]
     },
     "execution_count": 1213,
     "metadata": {},
     "output_type": "execute_result"
    }
   ],
   "source": [
    "gen_ch_lib.label.value_counts()"
   ]
  },
  {
   "cell_type": "code",
   "execution_count": 1193,
   "metadata": {},
   "outputs": [],
   "source": []
  },
  {
   "cell_type": "code",
   "execution_count": 1196,
   "metadata": {},
   "outputs": [
    {
     "data": {
      "text/plain": [
       "poele ou insert indetermine               7303\n",
       "pac indetermine en releve de chaudiere     289\n",
       "convecteurs bi-jonction electriques         95\n",
       "chaudiere bois                              47\n",
       "Name: label, dtype: int64"
      ]
     },
     "execution_count": 1196,
     "metadata": {},
     "output_type": "execute_result"
    }
   ],
   "source": [
    "tr003_desc.label.value_counts()"
   ]
  },
  {
   "cell_type": "markdown",
   "metadata": {},
   "source": [
    "#### type installation"
   ]
  },
  {
   "cell_type": "code",
   "execution_count": 1005,
   "metadata": {},
   "outputs": [],
   "source": [
    "\n",
    "\n",
    "# libéllés des generateurs chauffage issues des données textes\n",
    "type_installation_ch_from_txt = pd.concat([type_installation_ch_desc[['label','td001_dpe_id']],\n",
    "                               type_installation_ch_ft[['label','td001_dpe_id']]],axis=0)\n",
    "\n",
    "type_installation_ch_from_txt['label'] = pd.Categorical(type_installation_ch_from_txt['label'],\n",
    "                                                    categories=['collectif','individuel','indetermine'],ordered=True)\n",
    "\n",
    "\n",
    "\n",
    "type_installation_ch_from_txt = type_installation_ch_from_txt.sort_values(by=['td001_dpe_id','label'])\n",
    "\n",
    "type_installation_ch_from_txt = type_installation_ch_from_txt.drop_duplicates(subset=['td001_dpe_id'],keep='first')\n",
    "\n",
    "type_installation_ch_from_txt['source'] = 'txt'\n",
    "\n",
    "type_installation_ch_from_data = td011_p[['td001_dpe_id','type_installation_ch']].copy()\n",
    "type_installation_ch_from_data.columns = ['td001_dpe_id','label']\n",
    "type_installation_ch_from_data['label'] = type_installation_ch_from_data['label'].fillna('indetermine')\n",
    "type_installation_ch_from_data['label'] = pd.Categorical(type_installation_ch_from_data['label'],\n",
    "                                                    categories=['collectif','individuel','indetermine'],ordered=True)\n",
    "type_installation_ch_from_data['source'] = 'data'\n",
    "type_installation_ch = pd.concat([type_installation_ch_from_data,type_installation_ch_from_txt],axis=0)\n",
    "\n",
    "\n",
    "type_installation_ch['is_indetermine']=type_installation_ch.label=='indetermine'"
   ]
  },
  {
   "cell_type": "markdown",
   "metadata": {},
   "source": [
    "#### energie"
   ]
  },
  {
   "cell_type": "code",
   "execution_count": 1006,
   "metadata": {},
   "outputs": [],
   "source": [
    "\n",
    "\n",
    "# libéllés des generateurs chauffage issues des données textes\n",
    "energie_ch_from_txt = pd.concat([energie_ch_desc[['label','td001_dpe_id']],\n",
    "                               energie_ch_ft[['label','td001_dpe_id']]],axis=0)\n",
    "\n",
    "energie_ch_from_txt['label'] = pd.Categorical(energie_ch_from_txt['label'],\n",
    "                                                    categories=energie_normalise_ordered,ordered=True)\n",
    "\n",
    "\n",
    "\n",
    "energie_ch_from_txt = energie_ch_from_txt.sort_values(by=['td001_dpe_id','label'])\n",
    "\n",
    "\n",
    "energie_ch_from_txt['source'] = 'txt'\n",
    "\n",
    "energie_ch_from_data = td012_p[['td001_dpe_id','type_energie_ch']].copy()\n",
    "energie_ch_from_data.columns = ['td001_dpe_id','label']\n",
    "energie_ch_from_data['label'] = energie_ch_from_data['label'].fillna('indetermine')\n",
    "energie_ch_from_data['label'] = pd.Categorical(energie_ch_from_data['label'],\n",
    "                                                    categories=energie_normalise_ordered,ordered=True)\n",
    "energie_ch_from_data['source'] = 'data'\n",
    "energie_ch = pd.concat([energie_ch_from_data,energie_ch_from_txt],axis=0)\n",
    "\n",
    "\n",
    "energie_ch['is_indetermine']=energie_ch.label=='indetermine'"
   ]
  },
  {
   "cell_type": "markdown",
   "metadata": {},
   "source": [
    "### amélioration des labels chaudières\n",
    "\n",
    "Problème : dans les données ou le texte on manque parfois de l'information type energie et/ou type de chaudiere (condensation/BT etc..) on cherche le maximum d'information des diverses sources pour recréer le bon libéllé"
   ]
  },
  {
   "cell_type": "code",
   "execution_count": 1007,
   "metadata": {},
   "outputs": [],
   "source": [
    "is_chaudiere_ener_ind = gen_ch_lib.label.str.contains('chaudiere energie indetermine')\n",
    "is_chaudiere_ener_ind = is_chaudiere_ener_ind &(~gen_ch_lib.label.str.contains('chaudiere energie indetermine indetermine'))\n",
    "is_chaudiere_ind = gen_ch_lib.label.str.contains('chaudiere')&gen_ch_lib.label.str.contains('indetermine')&(~is_chaudiere_ener_ind)\n",
    "\n",
    "\n",
    "gen_ch_lib['chaudiere_ener_ind']=is_chaudiere_ener_ind\n",
    "gen_ch_lib['chaudiere_ind']=is_chaudiere_ind\n",
    "\n",
    "sum_inds=gen_ch_lib.groupby('td001_dpe_id')[['chaudiere_ener_ind','chaudiere_ind']].sum()\n",
    "\n",
    "id_sel=sum_inds.loc[(sum_inds>0).min(axis=1)].index\n",
    "\n",
    "ind_sel = gen_ch_lib.td001_dpe_id.isin(id_sel)&gen_ch_lib.chaudiere_ind\n",
    "chaudiere_ind=gen_ch_lib.loc[ind_sel]\n",
    "\n",
    "chaudiere_ener_ind=gen_ch_lib.loc[gen_ch_lib.td001_dpe_id.isin(id_sel)&gen_ch_lib.chaudiere_ener_ind]\n",
    "\n",
    "suffix=chaudiere_ener_ind.set_index('td001_dpe_id').label.apply(lambda x:x.split('energie indetermine')[-1].strip())\n",
    "suffix.name='suffix'\n",
    "\n",
    "chaudiere_ind = chaudiere_ind.merge(suffix,on='td001_dpe_id',how='left')\n",
    "\n",
    "chaudiere_ind.label =chaudiere_ind.label.astype(str)+ ' '+chaudiere_ind.suffix\n",
    "\n",
    "chaudiere_ind.label=chaudiere_ind.label.str.replace('indetermine ','').str.strip()\n",
    "\n",
    "gen_ch_lib.loc[ind_sel,'label']=chaudiere_ind.label.values"
   ]
  },
  {
   "cell_type": "markdown",
   "metadata": {},
   "source": [
    "### amelioration des labels de pac"
   ]
  },
  {
   "cell_type": "markdown",
   "metadata": {},
   "source": [
    "### drop des labels chauffage par défaut lorsqu'il existe mieux. "
   ]
  },
  {
   "cell_type": "markdown",
   "metadata": {},
   "source": [
    "#### elec"
   ]
  },
  {
   "cell_type": "code",
   "execution_count": 1010,
   "metadata": {},
   "outputs": [],
   "source": [
    "# on identifie les dpe pour lesquels on a des champs label elec determine (pac chaudiere ou effet joule) et le champs indetermine\n",
    "elec_ind = (gen_ch_lib.set_index('td001_dpe_id').label == 'chauffage electrique indetermine')\n",
    "elec_deter= gen_ch_lib.set_index('td001_dpe_id').label.str.contains('electrique|pac')&(~elec_ind)\n",
    "elec_deter = elec_deter.groupby('td001_dpe_id').max()\n",
    "elec_ind = elec_ind.groupby('td001_dpe_id').max()\n",
    "\n",
    "sel = elec_ind&elec_deter\n",
    "sel = sel[sel]\n",
    "sel = sel.to_frame('label').reset_index()\n",
    "sel['label']='chauffage electrique indetermine'\n",
    "sel['to_drop']=True\n",
    "\n",
    "gen_ch_lib = gen_ch_lib.merge(sel,on=['td001_dpe_id','label'],how='left')\n",
    "\n",
    "gen_ch_lib = gen_ch_lib.loc[gen_ch_lib.to_drop!=True]\n",
    "del gen_ch_lib['to_drop']"
   ]
  },
  {
   "cell_type": "markdown",
   "metadata": {},
   "source": [
    "#### energie à combustion"
   ]
  },
  {
   "cell_type": "code",
   "execution_count": 1011,
   "metadata": {},
   "outputs": [],
   "source": [
    "# pour les autres energies les label contiennent l'energie de chauffage\n",
    "for ener in energie_combustion_mods:\n",
    "    ener_ind = (gen_ch_lib.set_index('td001_dpe_id').label == f'chauffage {ener} indetermine')\n",
    "    ener_deter= gen_ch_lib.set_index('td001_dpe_id').label.str.contains(f'{ener}')&(~ener_ind)\n",
    "    ener_deter = ener_deter.groupby('td001_dpe_id').max()\n",
    "    ener_ind = ener_ind.groupby('td001_dpe_id').max()\n",
    "\n",
    "    sel = ener_ind&ener_deter\n",
    "    sel = sel[sel]\n",
    "    sel = sel.to_frame('label').reset_index()\n",
    "    sel['label']=f'chauffage {ener} indetermine'\n",
    "    sel['to_drop']=True\n",
    "    gen_ch_lib = gen_ch_lib.merge(sel,on=['td001_dpe_id','label'],how='left')\n",
    "\n",
    "    gen_ch_lib = gen_ch_lib.loc[gen_ch_lib.to_drop!=True]\n",
    "    del gen_ch_lib['to_drop']"
   ]
  },
  {
   "cell_type": "markdown",
   "metadata": {},
   "source": [
    "### fusion"
   ]
  },
  {
   "cell_type": "markdown",
   "metadata": {},
   "source": [
    "#### generateur chauffage"
   ]
  },
  {
   "cell_type": "code",
   "execution_count": 1012,
   "metadata": {},
   "outputs": [],
   "source": [
    "gen_ch_lib = gen_ch_lib.sort_values(by=['td001_dpe_id','category','label','source'])\n",
    "\n",
    "\n",
    "gen_ch_lib = gen_ch_lib.sort_values(by=['td001_dpe_id','category','label','source'])\n",
    "\n",
    "gen_ch_lib = gen_ch_lib.drop_duplicates(subset=['td001_dpe_id','category'])\n",
    "\n",
    "gen_ch_lib=gen_ch_lib.groupby('td001_dpe_id').label.apply(lambda x:' + '.join(np.unique(x)))\n",
    "\n",
    "gen_ch_lib = gen_ch_lib.to_frame('gen_ch_lib_final')\n",
    "\n",
    "td001_sys = td001_sys.merge(gen_ch_lib.reset_index(),on='td001_dpe_id',how='left')\n"
   ]
  },
  {
   "cell_type": "markdown",
   "metadata": {},
   "source": [
    "#### chauffage solaire"
   ]
  },
  {
   "cell_type": "code",
   "execution_count": 1013,
   "metadata": {},
   "outputs": [],
   "source": [
    "solaire_ch_txt=pd.concat([solaire_ch_ft[['label','td001_dpe_id']],solaire_ch_desc[['label','td001_dpe_id']]],axis=0)\n",
    "\n",
    "solaire_ch_txt = solaire_ch_txt.sort_values('label').drop_duplicates(subset=['td001_dpe_id'])\n",
    "\n",
    "solaire_ch_txt= solaire_ch_txt.loc[solaire_ch_txt.label=='solaire']\n",
    "\n",
    "is_ch_solaire_txt=solaire_ch_txt.groupby('td001_dpe_id').label.count().astype(float)>0\n",
    "\n",
    "td011_p['tr003_solaire'] = td011_p['tr003_solaire'].astype(float)\n",
    "\n",
    "is_ch_solaire_data = td011_p.groupby('td001_dpe_id').tr003_solaire.max()>0\n",
    "\n",
    "td001_sys = td001_sys.merge(is_ch_solaire_data.to_frame('is_ch_solaire_data'),on='td001_dpe_id',how='left')\n",
    "\n",
    "td001_sys = td001_sys.merge(is_ch_solaire_txt.to_frame('is_ch_solaire_txt'),on='td001_dpe_id',how='left')\n",
    "\n",
    "td001_sys['is_ch_solaire'] = td001_sys.is_ch_solaire_txt.fillna(0).astype(float)+td001_sys.is_ch_solaire_data.fillna(0).astype(float)\n",
    "td001_sys['is_ch_solaire'] = td001_sys['is_ch_solaire'] > 0\n",
    "\n",
    "is_ch_solaire = td001_sys.is_ch_solaire==True\n",
    "\n",
    "td001_sys.loc[is_ch_solaire,'gen_ch_lib_final']='chauffage solaire + '+td001_sys.loc[is_ch_solaire,'gen_ch_lib_final']"
   ]
  },
  {
   "cell_type": "markdown",
   "metadata": {},
   "source": [
    "#### type installation"
   ]
  },
  {
   "cell_type": "code",
   "execution_count": 1014,
   "metadata": {},
   "outputs": [],
   "source": [
    "type_installation_ch = type_installation_ch.sort_values(by=['td001_dpe_id','is_indetermine',\n",
    "                                     'source','label'])\n",
    "type_installation_ch = type_installation_ch.drop_duplicates(subset=['td001_dpe_id'])\n",
    "\n",
    "type_installation_ch = type_installation_ch.set_index('td001_dpe_id').label.to_frame('type_installation_ch')\n",
    "\n",
    "td001_sys = td001_sys.merge(type_installation_ch.reset_index(),on='td001_dpe_id',how='left')\n"
   ]
  },
  {
   "cell_type": "markdown",
   "metadata": {},
   "source": [
    "#### energie"
   ]
  },
  {
   "cell_type": "code",
   "execution_count": 1015,
   "metadata": {},
   "outputs": [],
   "source": [
    "\n",
    "energie_ch = energie_ch.sort_values(by=['td001_dpe_id','label','source'])\n",
    "\n",
    "energie_ch = energie_ch.drop_duplicates(subset=['td001_dpe_id','label'])\n",
    "\n",
    "energie_ch=energie_ch.groupby('td001_dpe_id').label.apply(lambda x:' + '.join(np.unique(x))).to_frame('type_energie_ch')\n",
    "\n",
    "\n",
    "\n",
    "\n",
    "td001_sys = td001_sys.merge(energie_ch.reset_index(),on='td001_dpe_id',how='left')\n"
   ]
  },
  {
   "cell_type": "markdown",
   "metadata": {},
   "source": [
    "#  ecs"
   ]
  },
  {
   "cell_type": "markdown",
   "metadata": {},
   "source": [
    "### preparation de la donnée\n"
   ]
  },
  {
   "cell_type": "markdown",
   "metadata": {},
   "source": [
    "#### generateur ecs"
   ]
  },
  {
   "cell_type": "code",
   "execution_count": 1016,
   "metadata": {},
   "outputs": [],
   "source": [
    "\n",
    "\n",
    "# libéllés des generateurs chauffage issues des données textes\n",
    "gen_ecs_lib_from_txt=pd.concat([gen_ecs_lib_desc[['label','category','td001_dpe_id']],\n",
    "                               gen_ecs_lib_ft[['label','category','td001_dpe_id']]],axis=0)\n",
    "\n",
    "gen_ecs_lib_from_txt =gen_ecs_lib_from_txt.sort_values(by=['td001_dpe_id','category','label'])\n",
    "\n",
    "gen_ecs_lib_from_txt = gen_ecs_lib_from_txt.drop_duplicates(subset=['category','td001_dpe_id'],keep='first')\n",
    "\n",
    "# suppression de la dénomination exact qui ne correpond qu'a une méthode de recherche plus rigide\n",
    "gen_ecs_lib_from_txt.label = gen_ecs_lib_from_txt.label.str.replace(' exact','')\n",
    "\n",
    "gen_ecs_lib_from_txt['source']='txt'\n",
    "\n",
    "# libéllés des générateurs chauffage issus de la table td012\n",
    "gen_ecs_lib_from_data = td014_p[['td001_dpe_id','gen_ecs_lib_infer']].copy()\n",
    "\n",
    "gen_ecs_lib_from_data.columns=['td001_dpe_id','label']\n",
    "gen_ecs_lib_from_data['label']=gen_ecs_lib_from_data['label'].fillna('indetermine')\n",
    "gen_ecs_lib_from_data['category']=gen_ecs_lib_from_data.label.replace(reverse_cat_gen_ecs)\n",
    "\n",
    "gen_ecs_lib_from_data['label']=pd.Categorical(gen_ecs_lib_from_data.label,categories=list(gen_ecs_search_dict_flat.keys())+['indetermine'],ordered=True)\n",
    "gen_ecs_lib_from_data['label']=gen_ecs_lib_from_data['label'].fillna('indetermine')\n",
    "\n",
    "gen_ecs_lib_from_data['source']='data'\n",
    "\n",
    "# concat. \n",
    "gen_ecs_lib = pd.concat([gen_ecs_lib_from_data,gen_ecs_lib_from_txt],axis=0)\n",
    "\n",
    "gen_ecs_lib['source']=pd.Categorical(gen_ecs_lib.source,categories=['data','txt'],ordered=True)\n",
    "gen_ecs_lib['category']=pd.Categorical(gen_ecs_lib.category,categories=list(gen_ecs_search_dict.keys()),ordered=True)\n",
    "\n"
   ]
  },
  {
   "cell_type": "markdown",
   "metadata": {},
   "source": [
    "#### type installation"
   ]
  },
  {
   "cell_type": "code",
   "execution_count": 1017,
   "metadata": {},
   "outputs": [],
   "source": [
    "\n",
    "\n",
    "# libéllés des generateurs chauffage issues des données textes\n",
    "type_installation_ecs_from_txt = pd.concat([type_installation_ecs_desc[['label','td001_dpe_id']],\n",
    "                               type_installation_ecs_ft[['label','td001_dpe_id']]],axis=0)\n",
    "\n",
    "type_installation_ecs_from_txt['label'] = pd.Categorical(type_installation_ecs_from_txt['label'],\n",
    "                                                    categories=['collectif','individuel','indetermine'],ordered=True)\n",
    "\n",
    "\n",
    "\n",
    "type_installation_ecs_from_txt = type_installation_ecs_from_txt.sort_values(by=['td001_dpe_id','label'])\n",
    "\n",
    "type_installation_ecs_from_txt = type_installation_ecs_from_txt.drop_duplicates(subset=['td001_dpe_id'],keep='first')\n",
    "\n",
    "type_installation_ecs_from_txt['source'] = 'txt'\n",
    "\n",
    "type_installation_ecs_from_data = td014_p[['td001_dpe_id','type_installation_ecs']].copy()\n",
    "type_installation_ecs_from_data.columns = ['td001_dpe_id','label']\n",
    "type_installation_ecs_from_data['label'] = type_installation_ecs_from_data['label'].fillna('indetermine')\n",
    "type_installation_ecs_from_data['label'] = pd.Categorical(type_installation_ecs_from_data['label'],\n",
    "                                                    categories=['collectif','individuel','indetermine'],ordered=True)\n",
    "type_installation_ecs_from_data['source'] = 'data'\n",
    "type_installation_ecs = pd.concat([type_installation_ecs_from_data,type_installation_ecs_from_txt],axis=0)\n",
    "\n",
    "\n",
    "type_installation_ecs['is_indetermine']=type_installation_ecs.label=='indetermine'"
   ]
  },
  {
   "cell_type": "markdown",
   "metadata": {},
   "source": [
    "#### energie "
   ]
  },
  {
   "cell_type": "code",
   "execution_count": 1018,
   "metadata": {},
   "outputs": [],
   "source": [
    "\n",
    "\n",
    "# libéllés des generateurs chauffage issues des données textes\n",
    "energie_ecs_from_txt = pd.concat([energie_ecs_desc[['label','td001_dpe_id']],\n",
    "                               energie_ecs_ft[['label','td001_dpe_id']]],axis=0)\n",
    "\n",
    "energie_ecs_from_txt['label'] = pd.Categorical(energie_ecs_from_txt['label'],\n",
    "                                                    categories=energie_normalise_ordered,ordered=True)\n",
    "\n",
    "\n",
    "\n",
    "energie_ecs_from_txt = energie_ecs_from_txt.sort_values(by=['td001_dpe_id','label'])\n",
    "\n",
    "energie_ecs_from_txt['source'] = 'txt'\n",
    "\n",
    "energie_ecs_from_data = td014_p[['td001_dpe_id','type_energie_ecs']].copy()\n",
    "energie_ecs_from_data.columns = ['td001_dpe_id','label']\n",
    "energie_ecs_from_data['label'] = energie_ecs_from_data['label'].fillna('indetermine')\n",
    "energie_ecs_from_data['label'] = pd.Categorical(energie_ecs_from_data['label'],\n",
    "                                                    categories=energie_normalise_ordered,ordered=True)\n",
    "energie_ecs_from_data['source'] = 'data'\n",
    "energie_ecs = pd.concat([energie_ecs_from_data,energie_ecs_from_txt],axis=0)\n",
    "\n",
    "\n",
    "energie_ecs['is_indetermine']=energie_ecs.label=='indetermine'"
   ]
  },
  {
   "cell_type": "markdown",
   "metadata": {},
   "source": [
    "### amélioration des labels chaudières\n",
    "\n",
    "Problème : dans les données ou le texte on manque parfois de l'information type energie et/ou type de chaudiere (condensation/BT etc..) on cherche le maximum d'information des diverses sources pour recréer le bon libéllé"
   ]
  },
  {
   "cell_type": "code",
   "execution_count": 1019,
   "metadata": {},
   "outputs": [],
   "source": [
    "is_chaudiere_ener_ind = gen_ecs_lib.label.str.contains('chaudiere energie indetermine')\n",
    "is_chaudiere_ener_ind = is_chaudiere_ener_ind &(~gen_ecs_lib.label.str.contains('chaudiere energie indetermine indetermine'))\n",
    "is_chaudiere_ind = gen_ecs_lib.label.str.contains('chaudiere')&gen_ecs_lib.label.str.contains('indetermine')&(~is_chaudiere_ener_ind)\n",
    "\n",
    "\n",
    "gen_ecs_lib['chaudiere_ener_ind']=is_chaudiere_ener_ind\n",
    "gen_ecs_lib['chaudiere_ind']=is_chaudiere_ind\n",
    "\n",
    "sum_inds=gen_ecs_lib.groupby('td001_dpe_id')[['chaudiere_ener_ind','chaudiere_ind']].sum()\n",
    "\n",
    "id_sel=sum_inds.loc[(sum_inds>0).min(axis=1)].index\n",
    "\n",
    "ind_sel = gen_ecs_lib.td001_dpe_id.isin(id_sel)&gen_ecs_lib.chaudiere_ind\n",
    "chaudiere_ind=gen_ecs_lib.loc[ind_sel]\n",
    "\n",
    "chaudiere_ener_ind=gen_ecs_lib.loc[gen_ecs_lib.td001_dpe_id.isin(id_sel)&gen_ecs_lib.chaudiere_ener_ind]\n",
    "\n",
    "suffix=chaudiere_ener_ind.set_index('td001_dpe_id').label.apply(lambda x:x.split('energie indetermine')[-1].strip())\n",
    "suffix.name='suffix'\n",
    "\n",
    "chaudiere_ind = chaudiere_ind.merge(suffix,on='td001_dpe_id',how='left')\n",
    "\n",
    "chaudiere_ind.label =chaudiere_ind.label.astype(str)+ ' '+chaudiere_ind.suffix\n",
    "\n",
    "chaudiere_ind.label=chaudiere_ind.label.str.replace('indetermine ','').str.strip()\n",
    "\n",
    "gen_ecs_lib.loc[ind_sel,'label']=chaudiere_ind.label.values"
   ]
  },
  {
   "cell_type": "markdown",
   "metadata": {},
   "source": [
    "### drop des labels chauffage par défaut lorsqu'il existe mieux. "
   ]
  },
  {
   "cell_type": "markdown",
   "metadata": {},
   "source": [
    "#### elec"
   ]
  },
  {
   "cell_type": "code",
   "execution_count": 1020,
   "metadata": {},
   "outputs": [],
   "source": [
    "# on identifie les dpe pour lesquels on a des champs label elec determine (pac chaudiere ou effet joule) et le champs indetermine\n",
    "elec_ind = (gen_ecs_lib.set_index('td001_dpe_id').label == 'ecs electrique indetermine')\n",
    "elec_deter= gen_ecs_lib.set_index('td001_dpe_id').label.str.contains('electrique|thermodynamique')&(~elec_ind)\n",
    "elec_deter = elec_deter.groupby('td001_dpe_id').max()\n",
    "elec_ind = elec_ind.groupby('td001_dpe_id').max()\n",
    "\n",
    "sel = elec_ind&elec_deter\n",
    "sel = sel[sel]\n",
    "sel = sel.to_frame('label').reset_index()\n",
    "sel['label']='ecs electrique indetermine'\n",
    "sel['to_drop']=True\n",
    "\n",
    "gen_ecs_lib = gen_ecs_lib.merge(sel,on=['td001_dpe_id','label'],how='left')\n",
    "\n",
    "gen_ecs_lib = gen_ecs_lib.loc[gen_ecs_lib.to_drop!=True]\n",
    "del gen_ecs_lib['to_drop']"
   ]
  },
  {
   "cell_type": "markdown",
   "metadata": {},
   "source": [
    "#### energie à combustion"
   ]
  },
  {
   "cell_type": "code",
   "execution_count": 1021,
   "metadata": {},
   "outputs": [],
   "source": [
    "# pour les autres energies les label contiennent l'energie de chauffage\n",
    "for ener in energie_combustion_mods:\n",
    "    ener_ind = (gen_ecs_lib.set_index('td001_dpe_id').label == f'ecs {ener} indetermine')\n",
    "    ener_deter= gen_ecs_lib.set_index('td001_dpe_id').label.str.contains(f'{ener}')&(~ener_ind)\n",
    "    ener_deter = ener_deter.groupby('td001_dpe_id').max()\n",
    "    ener_ind = ener_ind.groupby('td001_dpe_id').max()\n",
    "\n",
    "    sel = ener_ind&ener_deter\n",
    "    sel = sel[sel]\n",
    "    sel = sel.to_frame('label').reset_index()\n",
    "    sel['label']=f'ecs {ener} indetermine'\n",
    "    sel['to_drop']=True\n",
    "    gen_ecs_lib = gen_ecs_lib.merge(sel,on=['td001_dpe_id','label'],how='left')\n",
    "\n",
    "    gen_ecs_lib = gen_ecs_lib.loc[gen_ecs_lib.to_drop!=True]\n",
    "    del gen_ecs_lib['to_drop']"
   ]
  },
  {
   "cell_type": "markdown",
   "metadata": {},
   "source": [
    "### fusion"
   ]
  },
  {
   "cell_type": "code",
   "execution_count": 1022,
   "metadata": {},
   "outputs": [],
   "source": [
    "td001_sys = td001_sys.loc[:,~td001_sys.columns.str.contains('_x|_y') ]"
   ]
  },
  {
   "cell_type": "code",
   "execution_count": 1023,
   "metadata": {},
   "outputs": [],
   "source": [
    "priorisation_ecs={'solaire':\"solaire\",\n",
    " 'abscence solaire':\"solaire\",\n",
    " 'ecs thermodynamique':\"principal\",\n",
    " 'chaudiere bois':\"principal\",\n",
    " 'chaudiere':\"principal\",\n",
    " 'production mixte indetermine':\"secondaire\",\n",
    " 'reseau de chaleur':\"principal\",\n",
    " 'effet joule':\"secondaire\",\n",
    " 'chauffe-eau_independant':\"defaut\",\n",
    " 'ecs electrique indetermine':\"secondaire\",\n",
    " 'ecs bois indetermine':\"defaut\",\n",
    " 'ecs fioul indetermine':\"defaut\",\n",
    " 'ecs gaz indetermine':\"defaut\",\n",
    " 'ecs gpl/butane/propane indetermine':\"defaut\",\n",
    " 'ecs charbon indetermine':\"defaut\",}"
   ]
  },
  {
   "cell_type": "code",
   "execution_count": 1024,
   "metadata": {},
   "outputs": [],
   "source": [
    "gen_ecs_lib['priorite']=gen_ecs_lib.category.replace(priorisation_ecs)"
   ]
  },
  {
   "cell_type": "code",
   "execution_count": 1136,
   "metadata": {},
   "outputs": [
    {
     "data": {
      "text/html": [
       "<div>\n",
       "<style scoped>\n",
       "    .dataframe tbody tr th:only-of-type {\n",
       "        vertical-align: middle;\n",
       "    }\n",
       "\n",
       "    .dataframe tbody tr th {\n",
       "        vertical-align: top;\n",
       "    }\n",
       "\n",
       "    .dataframe thead th {\n",
       "        text-align: right;\n",
       "    }\n",
       "</style>\n",
       "<table border=\"1\" class=\"dataframe\">\n",
       "  <thead>\n",
       "    <tr style=\"text-align: right;\">\n",
       "      <th></th>\n",
       "      <th>td001_dpe_id</th>\n",
       "      <th>label</th>\n",
       "      <th>category</th>\n",
       "      <th>source</th>\n",
       "      <th>chaudiere_ener_ind</th>\n",
       "      <th>chaudiere_ind</th>\n",
       "      <th>priorite</th>\n",
       "    </tr>\n",
       "  </thead>\n",
       "  <tbody>\n",
       "    <tr>\n",
       "      <th>0</th>\n",
       "      <td>291</td>\n",
       "      <td>ballon a accumulation electrique</td>\n",
       "      <td>effet joule</td>\n",
       "      <td>data</td>\n",
       "      <td>False</td>\n",
       "      <td>False</td>\n",
       "      <td>secondaire</td>\n",
       "    </tr>\n",
       "    <tr>\n",
       "      <th>1</th>\n",
       "      <td>493</td>\n",
       "      <td>ballon a accumulation electrique</td>\n",
       "      <td>effet joule</td>\n",
       "      <td>data</td>\n",
       "      <td>False</td>\n",
       "      <td>False</td>\n",
       "      <td>secondaire</td>\n",
       "    </tr>\n",
       "    <tr>\n",
       "      <th>2</th>\n",
       "      <td>708</td>\n",
       "      <td>ballon a accumulation electrique</td>\n",
       "      <td>effet joule</td>\n",
       "      <td>data</td>\n",
       "      <td>False</td>\n",
       "      <td>False</td>\n",
       "      <td>secondaire</td>\n",
       "    </tr>\n",
       "    <tr>\n",
       "      <th>3</th>\n",
       "      <td>1466</td>\n",
       "      <td>chaudiere fioul indetermine</td>\n",
       "      <td>chaudiere</td>\n",
       "      <td>data</td>\n",
       "      <td>False</td>\n",
       "      <td>True</td>\n",
       "      <td>principal</td>\n",
       "    </tr>\n",
       "    <tr>\n",
       "      <th>4</th>\n",
       "      <td>1708</td>\n",
       "      <td>ballon a accumulation electrique</td>\n",
       "      <td>effet joule</td>\n",
       "      <td>data</td>\n",
       "      <td>False</td>\n",
       "      <td>False</td>\n",
       "      <td>secondaire</td>\n",
       "    </tr>\n",
       "    <tr>\n",
       "      <th>...</th>\n",
       "      <td>...</td>\n",
       "      <td>...</td>\n",
       "      <td>...</td>\n",
       "      <td>...</td>\n",
       "      <td>...</td>\n",
       "      <td>...</td>\n",
       "      <td>...</td>\n",
       "    </tr>\n",
       "    <tr>\n",
       "      <th>434915</th>\n",
       "      <td>99972</td>\n",
       "      <td>ballon a accumulation electrique</td>\n",
       "      <td>effet joule</td>\n",
       "      <td>txt</td>\n",
       "      <td>False</td>\n",
       "      <td>False</td>\n",
       "      <td>secondaire</td>\n",
       "    </tr>\n",
       "    <tr>\n",
       "      <th>434916</th>\n",
       "      <td>999768</td>\n",
       "      <td>chauffe-eau independant indetermine</td>\n",
       "      <td>chauffe-eau_independant</td>\n",
       "      <td>txt</td>\n",
       "      <td>False</td>\n",
       "      <td>False</td>\n",
       "      <td>defaut</td>\n",
       "    </tr>\n",
       "    <tr>\n",
       "      <th>434917</th>\n",
       "      <td>999768</td>\n",
       "      <td>ballon a accumulation electrique</td>\n",
       "      <td>effet joule</td>\n",
       "      <td>txt</td>\n",
       "      <td>False</td>\n",
       "      <td>False</td>\n",
       "      <td>secondaire</td>\n",
       "    </tr>\n",
       "    <tr>\n",
       "      <th>434918</th>\n",
       "      <td>999890</td>\n",
       "      <td>chauffe-eau independant indetermine</td>\n",
       "      <td>chauffe-eau_independant</td>\n",
       "      <td>txt</td>\n",
       "      <td>False</td>\n",
       "      <td>False</td>\n",
       "      <td>defaut</td>\n",
       "    </tr>\n",
       "    <tr>\n",
       "      <th>434919</th>\n",
       "      <td>999890</td>\n",
       "      <td>ballon a accumulation electrique</td>\n",
       "      <td>effet joule</td>\n",
       "      <td>txt</td>\n",
       "      <td>False</td>\n",
       "      <td>False</td>\n",
       "      <td>secondaire</td>\n",
       "    </tr>\n",
       "  </tbody>\n",
       "</table>\n",
       "<p>432051 rows × 7 columns</p>\n",
       "</div>"
      ],
      "text/plain": [
       "       td001_dpe_id                                label  \\\n",
       "0               291     ballon a accumulation electrique   \n",
       "1               493     ballon a accumulation electrique   \n",
       "2               708     ballon a accumulation electrique   \n",
       "3              1466          chaudiere fioul indetermine   \n",
       "4              1708     ballon a accumulation electrique   \n",
       "...             ...                                  ...   \n",
       "434915        99972     ballon a accumulation electrique   \n",
       "434916       999768  chauffe-eau independant indetermine   \n",
       "434917       999768     ballon a accumulation electrique   \n",
       "434918       999890  chauffe-eau independant indetermine   \n",
       "434919       999890     ballon a accumulation electrique   \n",
       "\n",
       "                       category source  chaudiere_ener_ind  chaudiere_ind  \\\n",
       "0                   effet joule   data               False          False   \n",
       "1                   effet joule   data               False          False   \n",
       "2                   effet joule   data               False          False   \n",
       "3                     chaudiere   data               False           True   \n",
       "4                   effet joule   data               False          False   \n",
       "...                         ...    ...                 ...            ...   \n",
       "434915              effet joule    txt               False          False   \n",
       "434916  chauffe-eau_independant    txt               False          False   \n",
       "434917              effet joule    txt               False          False   \n",
       "434918  chauffe-eau_independant    txt               False          False   \n",
       "434919              effet joule    txt               False          False   \n",
       "\n",
       "          priorite  \n",
       "0       secondaire  \n",
       "1       secondaire  \n",
       "2       secondaire  \n",
       "3        principal  \n",
       "4       secondaire  \n",
       "...            ...  \n",
       "434915  secondaire  \n",
       "434916      defaut  \n",
       "434917  secondaire  \n",
       "434918      defaut  \n",
       "434919  secondaire  \n",
       "\n",
       "[432051 rows x 7 columns]"
      ]
     },
     "execution_count": 1136,
     "metadata": {},
     "output_type": "execute_result"
    }
   ],
   "source": [
    "gen_ecs_lib[]"
   ]
  },
  {
   "cell_type": "markdown",
   "metadata": {},
   "source": [
    "#### traitement des generateurs d'ECS prioritaires"
   ]
  },
  {
   "cell_type": "code",
   "execution_count": 1140,
   "metadata": {},
   "outputs": [],
   "source": [
    "gen_ecs_lib_princ = gen_ecs_lib.query('priorite==\"principal\"')"
   ]
  },
  {
   "cell_type": "code",
   "execution_count": 1026,
   "metadata": {},
   "outputs": [],
   "source": [
    "\n",
    "\n",
    "gen_ecs_lib_princ = gen_ecs_lib_princ.sort_values(by=['td001_dpe_id','category','label','source'])\n",
    "\n",
    "gen_ecs_lib_princ = gen_ecs_lib_princ.drop_duplicates(subset=['td001_dpe_id','category'])\n",
    "\n",
    "gen_ecs_lib_princ=gen_ecs_lib_princ.groupby('td001_dpe_id').label.apply(lambda x:' + '.join(np.unique(x)))\n",
    "\n",
    "gen_ecs_lib_princ = gen_ecs_lib_princ.to_frame('gen_ecs_lib_final')\n",
    "\n",
    "\n",
    "\n",
    "td001_sys = td001_sys.merge(gen_ecs_lib_princ.reset_index(),on='td001_dpe_id',how='left')\n"
   ]
  },
  {
   "cell_type": "markdown",
   "metadata": {},
   "source": [
    "#### traitement des generateurs d'ecs secondaires"
   ]
  },
  {
   "cell_type": "code",
   "execution_count": 1027,
   "metadata": {},
   "outputs": [],
   "source": [
    "gen_ecs_lib_sec = gen_ecs_lib.query('priorite==\"secondaire\"')\n",
    "\n",
    "gen_ecs_lib_sec = gen_ecs_lib_sec.sort_values(by=['td001_dpe_id','category','label','source'])\n",
    "\n",
    "gen_ecs_lib_sec = gen_ecs_lib_sec.drop_duplicates(subset=['td001_dpe_id','category'])\n",
    "\n",
    "gen_ecs_lib_sec=gen_ecs_lib_sec.groupby('td001_dpe_id').label.apply(lambda x:' + '.join(np.unique(x)))\n",
    "\n",
    "gen_ecs_lib_sec = gen_ecs_lib_sec.to_frame('gen_ecs_lib_final_sec')\n",
    "\n",
    "td001_sys = td001_sys.merge(gen_ecs_lib_sec.reset_index(),on='td001_dpe_id',how='left')\n",
    "\n",
    "null=td001_sys.gen_ecs_lib_final.isnull()\n",
    "\n",
    "td001_sys.loc[null,'gen_ecs_lib_final']=td001_sys.loc[null,'gen_ecs_lib_final_sec']"
   ]
  },
  {
   "cell_type": "markdown",
   "metadata": {},
   "source": [
    "#### traitement des generateurs d'ecs par défaut"
   ]
  },
  {
   "cell_type": "code",
   "execution_count": 1028,
   "metadata": {},
   "outputs": [],
   "source": [
    "gen_ecs_lib_defaut = gen_ecs_lib.query('priorite==\"defaut\"')\n",
    "\n",
    "gen_ecs_lib_defaut = gen_ecs_lib_defaut.sort_values(by=['td001_dpe_id','category','label','source'])\n",
    "\n",
    "gen_ecs_lib_defaut = gen_ecs_lib_defaut.drop_duplicates(subset=['td001_dpe_id','category'])\n",
    "\n",
    "gen_ecs_lib_defaut=gen_ecs_lib_defaut.groupby('td001_dpe_id').label.apply(lambda x:' + '.join(np.unique(x)))\n",
    "\n",
    "gen_ecs_lib_defaut = gen_ecs_lib_defaut.to_frame('gen_ecs_lib_final_defaut')\n",
    "\n",
    "td001_sys = td001_sys.merge(gen_ecs_lib_defaut.reset_index(),on='td001_dpe_id',how='left')\n",
    "\n",
    "null=td001_sys.gen_ecs_lib_final.isnull()\n",
    "\n",
    "td001_sys.loc[null,'gen_ecs_lib_final']=td001_sys.loc[null,'gen_ecs_lib_final_defaut']"
   ]
  },
  {
   "cell_type": "markdown",
   "metadata": {},
   "source": [
    "####  ecs solaire"
   ]
  },
  {
   "cell_type": "code",
   "execution_count": 1029,
   "metadata": {},
   "outputs": [],
   "source": [
    "gen_ecs_lib_solaire = gen_ecs_lib.query('priorite==\"solaire\"').copy()\n",
    "\n",
    "gen_ecs_lib_solaire.label = pd.Categorical(gen_ecs_lib_solaire.label,['abscence ecs solaire','ecs solaire'],ordered=True)\n",
    "\n",
    "gen_ecs_lib_solaire =gen_ecs_lib_solaire.sort_values('label',ascending=True).drop_duplicates(subset='td001_dpe_id')\n",
    "\n",
    "gen_ecs_lib_solaire=gen_ecs_lib_solaire.loc[gen_ecs_lib_solaire.label=='ecs solaire']\n",
    "\n",
    "is_ecs_solaire_txt=(gen_ecs_lib_solaire.groupby('td001_dpe_id').label.count().astype(float)>0)\n",
    "\n",
    "is_ecs_solaire_data=td014_p.groupby('td001_dpe_id').is_ecs_solaire.max().astype(float)>0\n",
    "\n",
    "td001_sys = td001_sys.merge(is_ecs_solaire_txt.to_frame('is_ecs_solaire_txt'),how='left',on='td001_dpe_id')\n",
    "td001_sys = td001_sys.merge(is_ecs_solaire_data.to_frame('is_ecs_solaire_data'),how='left',on='td001_dpe_id')\n",
    "\n",
    "\n",
    "td001_sys['is_ecs_solaire'] = td001_sys.is_ecs_solaire_txt.fillna(0).astype(float)+td001_sys.is_ecs_solaire_data.fillna(0).astype(float)\n",
    "td001_sys['is_ecs_solaire'] = td001_sys['is_ecs_solaire'] > 0\n",
    "\n",
    "\n",
    "\n",
    "\n",
    "is_ecs_solaire = td001_sys.is_ecs_solaire==True\n",
    "\n",
    "td001_sys.loc[is_ecs_solaire,'gen_ecs_lib_final']='ecs solaire + '+td001_sys.loc[is_ecs_solaire,'gen_ecs_lib_final']"
   ]
  },
  {
   "cell_type": "markdown",
   "metadata": {},
   "source": [
    "#### redressement combinaison mixte indetermine et energie de combustion"
   ]
  },
  {
   "cell_type": "code",
   "execution_count": 1030,
   "metadata": {},
   "outputs": [],
   "source": [
    "is_production_mixte = td001_sys.gen_ecs_lib_final==\"production mixte indetermine\"\n",
    "for ener in energie_chaudiere_mods:\n",
    "    is_ener = td001_sys.gen_ecs_lib_final_defaut.str.contains(f'ecs {ener} indetermine')\n",
    "    td001_sys.loc[is_production_mixte&is_ener,'gen_ecs_lib_final']=f'chaudiere {ener} indetermine'"
   ]
  },
  {
   "cell_type": "code",
   "execution_count": 1031,
   "metadata": {},
   "outputs": [],
   "source": [
    "is_production_mixte = td001_sys.gen_ecs_lib_final==\"production mixte indetermine\"\n",
    "\n",
    "is_ener = td001_sys.gen_ecs_lib_final_defaut.str.contains('ecs bois indetermine')\n",
    "td001_sys.loc[is_production_mixte&is_ener,'gen_ecs_lib_final']=f'chaudiere bois'"
   ]
  },
  {
   "cell_type": "markdown",
   "metadata": {},
   "source": [
    "####  installation ecs"
   ]
  },
  {
   "cell_type": "code",
   "execution_count": 1032,
   "metadata": {},
   "outputs": [],
   "source": [
    "type_installation_ecs = type_installation_ecs.sort_values(by=['td001_dpe_id','is_indetermine',\n",
    "                                     'source','label'])\n",
    "type_installation_ecs = type_installation_ecs.drop_duplicates(subset=['td001_dpe_id'])\n",
    "\n",
    "type_installation_ecs = type_installation_ecs.set_index('td001_dpe_id').label.to_frame('type_installation_ecs')\n",
    "\n",
    "td001_sys = td001_sys.merge(type_installation_ecs.reset_index(),on='td001_dpe_id',how='left')\n"
   ]
  },
  {
   "cell_type": "markdown",
   "metadata": {},
   "source": [
    "####  energie ecs"
   ]
  },
  {
   "cell_type": "code",
   "execution_count": 1033,
   "metadata": {},
   "outputs": [],
   "source": [
    "\n",
    "energie_ecs = energie_ecs.sort_values(by=['td001_dpe_id','label','source'])\n",
    "\n",
    "energie_ecs = energie_ecs.drop_duplicates(subset=['td001_dpe_id','label'])\n",
    "\n",
    "energie_ecs=energie_ecs.groupby('td001_dpe_id').label.apply(lambda x:' + '.join(np.unique(x))).to_frame('type_energie_ecs')\n",
    "\n",
    "\n",
    "\n",
    "\n",
    "td001_sys = td001_sys.merge(energie_ecs.reset_index(),on='td001_dpe_id',how='left')\n"
   ]
  },
  {
   "cell_type": "markdown",
   "metadata": {},
   "source": [
    "# Redressement des données "
   ]
  },
  {
   "cell_type": "code",
   "execution_count": 1034,
   "metadata": {},
   "outputs": [],
   "source": [
    "td001_sys['gen_ch_lib_final']=td001_sys.gen_ch_lib_final.str.replace(' \\+ indetermine','')\n",
    "td001_sys['gen_ecs_lib_final']=td001_sys.gen_ecs_lib_final.str.replace(' \\+ indetermine','')"
   ]
  },
  {
   "cell_type": "code",
   "execution_count": 1035,
   "metadata": {},
   "outputs": [],
   "source": [
    "td001_sys['gen_ch_lib_non_retraite']=td001_sys.gen_ch_lib_final.copy()\n",
    "td001_sys['gen_ecs_lib_non_retraite']=td001_sys.gen_ecs_lib_final.copy()"
   ]
  },
  {
   "cell_type": "code",
   "execution_count": 1036,
   "metadata": {},
   "outputs": [],
   "source": [
    "#td001_sys['gen_ch_lib_final']=td001_sys.gen_ch_lib_non_retraite\n",
    "#td001_sys['gen_ecs_lib_final']=td001_sys.gen_ecs_lib_non_retraite"
   ]
  },
  {
   "cell_type": "markdown",
   "metadata": {},
   "source": [
    "## retraitement des energies non affectées pour les chaudières avec les energies factures"
   ]
  },
  {
   "cell_type": "code",
   "execution_count": 1037,
   "metadata": {},
   "outputs": [],
   "source": [
    "td001_sys =td001_sys.merge(td001_ener_from_facture,on='td001_dpe_id',how='left')\n"
   ]
  },
  {
   "cell_type": "markdown",
   "metadata": {},
   "source": [
    "### chauffage"
   ]
  },
  {
   "cell_type": "code",
   "execution_count": 1209,
   "metadata": {},
   "outputs": [],
   "source": [
    "\n",
    "\n",
    "ind=td001_sys.gen_ch_lib_final.fillna('indetermine').str.contains('energie indetermine')\n",
    "\n",
    "for energie in energie_chaudiere_mods:\n",
    "    \n",
    "    # ON AFFECTE LES ENERGIES MANQUANTES AVEC LES ENERGIES DE CHAUFFAGE ISSUES DIFFERENTES SOURCES\n",
    "    \n",
    "    ener = td001_sys.td002_type_energie_ch.str.contains(energie)\n",
    "    td001_sys.loc[ener&ind,'gen_ch_lib_final']=td001_sys.loc[ener&ind,'gen_ch_lib_final'].str.replace('energie indetermine',energie)\n",
    "    ind=td001_sys.gen_ch_lib_final.fillna('indetermine').str.contains('energie indetermine')\n",
    "    \n",
    "    ener = td001_sys.td016_type_energie_ch.str.contains(energie)\n",
    "    td001_sys.loc[ener&ind,'gen_ch_lib_final']=td001_sys.loc[ener&ind,'gen_ch_lib_final'].str.replace('energie indetermine',energie)\n",
    "    ind=td001_sys.gen_ch_lib_final.fillna('indetermine').str.contains('energie indetermine')\n",
    "    \n",
    "    ener = td001_sys.type_energie_ch.str.contains(energie)\n",
    "    td001_sys.loc[ener&ind,'gen_ch_lib_final']=td001_sys.loc[ener&ind,'gen_ch_lib_final'].str.replace('energie indetermine',energie)\n",
    "    ind=td001_sys.gen_ch_lib_final.fillna('indetermine').str.contains('energie indetermine')\n",
    "    \n",
    "    # SINON ON PREND LES ENERGIES D'ECS ISSUES DES DIFFERENTES SOURCES\n",
    "\n",
    "    ener = td001_sys.type_energie_ecs.str.contains(energie)\n",
    "    td001_sys.loc[ener&ind,'gen_ch_lib_final']=td001_sys.loc[ener&ind,'gen_ch_lib_final'].str.replace('energie indetermine',energie)\n",
    "    ind=td001_sys.gen_ch_lib_final.fillna('indetermine').str.contains('energie indetermine')\n",
    "    \n",
    "    ener = td001_sys.td002_type_energie_ecs.str.contains(energie)\n",
    "    td001_sys.loc[ener&ind,'gen_ch_lib_final']=td001_sys.loc[ener&ind,'gen_ch_lib_final'].str.replace('energie indetermine',energie)\n",
    "    ind=td001_sys.gen_ch_lib_final.fillna('indetermine').str.contains('energie indetermine')\n",
    "    \n",
    "    ener = td001_sys.td016_type_energie_ecs.str.contains(energie)\n",
    "    td001_sys.loc[ener&ind,'gen_ch_lib_final']=td001_sys.loc[ener&ind,'gen_ch_lib_final'].str.replace('energie indetermine',energie)\n",
    "    ind=td001_sys.gen_ch_lib_final.fillna('indetermine').str.contains('energie indetermine')\n",
    "\n",
    "    \n",
    "# Gestion des poeles indetermine\n",
    "poele_ind = td001_sys.gen_ch_lib_final.str.contains('poele ou insert indetermine')\n",
    "\n",
    "bois = td001_sys.td002_type_energie_ch.str.contains('bois')\n",
    "td001_sys.loc[bois&poele_ind,'gen_ch_lib_final']=td001_sys.loc[bois&poele_ind,'gen_ch_lib_final'].str.replace('poele ou insert indetermine',\n",
    "                                                                                                        'poele ou insert bois')\n",
    "bois = td001_sys.td016_type_energie_ch.str.contains('bois')\n",
    "td001_sys.loc[bois&poele_ind,'gen_ch_lib_final']=td001_sys.loc[bois&poele_ind,'gen_ch_lib_final'].str.replace('poele ou insert indetermine',\n",
    "                                                                                                                          'poele ou insert bois')\n",
    "\n",
    "fioul = td001_sys.td002_type_energie_ch.str.contains('fioul')\n",
    "td001_sys.loc[fioul&poele_ind,'gen_ch_lib_final']=td001_sys.loc[fioul&poele_ind,'gen_ch_lib_final'].str.replace('poele ou insert indetermine',\n",
    "                                                                                                                         'poele ou insert fioul/gpl/charbon')\n",
    "fioul = td001_sys.td016_type_energie_ch.str.contains('fioul')\n",
    "td001_sys.loc[fioul&poele_ind,'gen_ch_lib_final']=td001_sys.loc[fioul&poele_ind,'gen_ch_lib_final'].str.replace('poele ou insert indetermine',\n",
    "                                                                                                                'poele ou insert fioul/gpl/charbon')\n",
    "\n"
   ]
  },
  {
   "cell_type": "markdown",
   "metadata": {},
   "source": [
    "### ECS"
   ]
  },
  {
   "cell_type": "code",
   "execution_count": 1039,
   "metadata": {},
   "outputs": [],
   "source": [
    "\n",
    "\n",
    "ind=td001_sys.gen_ecs_lib_final.fillna('indetermine').str.contains('energie indetermine')\n",
    "\n",
    "for energie in energie_chaudiere_mods:\n",
    "    \n",
    "    # ON AFFECTE LES ENERGIES MANQUANTES AVEC LES ENERGIES D'ECS ISSUES DIFFERENTES SOURCES\n",
    "\n",
    "    ener = td001_sys.td002_type_energie_ecs.str.contains(energie)\n",
    "    td001_sys.loc[ener&ind,'gen_ecs_lib_final']=td001_sys.loc[ener&ind,'gen_ecs_lib_final'].str.replace('energie indetermine',energie)\n",
    "    ind=td001_sys.gen_ecs_lib_final.fillna('indetermine').str.contains('energie indetermine')\n",
    "    ener = td001_sys.td016_type_energie_ecs.str.contains(energie)\n",
    "    td001_sys.loc[ener&ind,'gen_ecs_lib_final']=td001_sys.loc[ener&ind,'gen_ecs_lib_final'].str.replace('energie indetermine',energie)\n",
    "    ind=td001_sys.gen_ecs_lib_final.fillna('indetermine').str.contains('energie indetermine')\n",
    "    \n",
    "    ener = td001_sys.type_energie_ecs.str.contains(energie)\n",
    "    td001_sys.loc[ener&ind,'gen_ecs_lib_final']=td001_sys.loc[ener&ind,'gen_ecs_lib_final'].str.replace('energie indetermine',energie)\n",
    "    ind=td001_sys.gen_ecs_lib_final.fillna('indetermine').str.contains('energie indetermine')\n",
    "    \n",
    "    # SINON ON PREND LES ENERGIES DE CHAUFFAGE ISSUES DES DIFFERENTES SOURCES\n",
    "\n",
    "    ener = td001_sys.type_energie_ch.str.contains(energie)\n",
    "    td001_sys.loc[ener&ind,'gen_ecs_lib_final']=td001_sys.loc[ener&ind,'gen_ecs_lib_final'].str.replace('energie indetermine',energie)\n",
    "    ind=td001_sys.gen_ecs_lib_final.fillna('indetermine').str.contains('energie indetermine')\n",
    "    \n",
    "    ener = td001_sys.td002_type_energie_ch.str.contains(energie)\n",
    "    td001_sys.loc[ener&ind,'gen_ecs_lib_final']=td001_sys.loc[ener&ind,'gen_ecs_lib_final'].str.replace('energie indetermine',energie)\n",
    "    ind=td001_sys.gen_ecs_lib_final.fillna('indetermine').str.contains('energie indetermine')\n",
    "    \n",
    "    ener = td001_sys.td016_type_energie_ch.str.contains(energie)\n",
    "    td001_sys.loc[ener&ind,'gen_ecs_lib_final']=td001_sys.loc[ener&ind,'gen_ecs_lib_final'].str.replace('energie indetermine',energie)\n",
    "    ind=td001_sys.gen_ecs_lib_final.fillna('indetermine').str.contains('energie indetermine')\n"
   ]
  },
  {
   "cell_type": "markdown",
   "metadata": {},
   "source": [
    "## cohérence sys ecs chauffage"
   ]
  },
  {
   "cell_type": "code",
   "execution_count": 1040,
   "metadata": {},
   "outputs": [],
   "source": [
    "td001_sys[['gen_ch_lib_final','gen_ecs_lib_final']]=td001_sys[['gen_ch_lib_final','gen_ecs_lib_final']].fillna('indetermine')"
   ]
  },
  {
   "cell_type": "code",
   "execution_count": 1041,
   "metadata": {},
   "outputs": [],
   "source": [
    "is_ind_ecs = td001_sys.gen_ecs_lib_final.str.contains('production mixte indetermine')\n",
    "is_ind_ecs = is_ind_ecs | (td001_sys.gen_ecs_lib_final==\"indetermine\")\n",
    "is_ind_ch = td001_sys.gen_ch_lib_final==\"indetermine\""
   ]
  },
  {
   "cell_type": "markdown",
   "metadata": {},
   "source": [
    "### chaudieres"
   ]
  },
  {
   "cell_type": "code",
   "execution_count": 1042,
   "metadata": {},
   "outputs": [],
   "source": [
    "is_chaudiere_ener_ind_ch = td001_sys.gen_ch_lib_final.str.contains('chaudiere energie indetermine')\n",
    "is_chaudiere_ener_ind_ecs = td001_sys.gen_ecs_lib_final.str.contains('chaudiere energie indetermine')\n",
    "is_chaudiere_ch = td001_sys.gen_ch_lib_final.str.contains('chaudiere')\n",
    "is_chaudiere_ecs = td001_sys.gen_ecs_lib_final.str.contains('chaudiere')\n",
    "\n"
   ]
  },
  {
   "cell_type": "markdown",
   "metadata": {},
   "source": [
    "#### affectation du système mixte à l'ECS lorsque celle ci est indetermine"
   ]
  },
  {
   "cell_type": "code",
   "execution_count": 1043,
   "metadata": {},
   "outputs": [],
   "source": [
    "sub_by_ch=is_ind_ecs&is_chaudiere_ch"
   ]
  },
  {
   "cell_type": "code",
   "execution_count": 1044,
   "metadata": {},
   "outputs": [],
   "source": [
    "td001_sys.loc[sub_by_ch,'gen_ecs_lib_final']=td001_sys.loc[sub_by_ch,'gen_ch_lib_final']"
   ]
  },
  {
   "cell_type": "markdown",
   "metadata": {},
   "source": [
    "#### correction et convergence des energies de chaudieres entre ECS et chauffage"
   ]
  },
  {
   "cell_type": "code",
   "execution_count": 1045,
   "metadata": {},
   "outputs": [],
   "source": [
    "for energie in list(reversed(energie_chaudiere_mods)):\n",
    "    is_ener_ch = (td001_sys.gen_ch_lib_final.str.contains(energie))\n",
    "    is_ener_ecs = (td001_sys.gen_ecs_lib_final.str.contains(energie))\n",
    "    sub_ch_ecs = is_ener_ch&(~is_ener_ecs)&is_chaudiere_ch&is_chaudiere_ecs\n",
    "    td001_sys.loc[sub_ch_ecs,'gen_ecs_lib_final']=td001_sys.loc[sub_ch_ecs,'gen_ecs_lib_final'].str.replace('energie indetermine',energie)\n",
    "    sub_ecs_ch = is_ener_ecs&(~is_ener_ch)&is_chaudiere_ch&is_chaudiere_ecs\n",
    "    td001_sys.loc[sub_ecs_ch,'gen_ch_lib_final']=td001_sys.loc[sub_ecs_ch,'gen_ch_lib_final'].str.replace('energie indetermine',energie)\n"
   ]
  },
  {
   "cell_type": "markdown",
   "metadata": {},
   "source": [
    "#### correction et convergence des types de chaudieres entre ECS et chauffage"
   ]
  },
  {
   "cell_type": "code",
   "execution_count": 1046,
   "metadata": {},
   "outputs": [],
   "source": [
    "for energie in reversed(energie_chaudiere_mods):\n",
    "    is_ener_ch = (td001_sys.gen_ch_lib_final.str.contains(energie))\n",
    "    is_ener_ecs = (td001_sys.gen_ecs_lib_final.str.contains(energie))\n",
    "    both_ener = is_ener_ch&is_ener_ecs&is_chaudiere_ch&is_chaudiere_ecs\n",
    "    for type_chaudiere in reversed(type_chaudiere_mods):\n",
    "        is_type_ch = (td001_sys.gen_ch_lib_final.str.contains(type_chaudiere))\n",
    "        is_type_ecs = (td001_sys.gen_ecs_lib_final.str.contains(type_chaudiere))\n",
    "        chaudiere_ind = f'chaudiere {energie} indetermine'\n",
    "        chaudiere_type=f'chaudiere {energie} {type_chaudiere}'\n",
    "        is_ind_ch = (td001_sys.gen_ch_lib_final.str.contains(chaudiere_ind))\n",
    "        is_ind_ecs = (td001_sys.gen_ecs_lib_final.str.contains(chaudiere_ind))\n",
    "        sub_ch_ecs = is_type_ch&both_ener&is_ind_ecs\n",
    "        td001_sys.loc[sub_ch_ecs,'gen_ecs_lib_final']=td001_sys.loc[sub_ch_ecs,'gen_ecs_lib_final'].str.replace(chaudiere_ind,chaudiere_type)\n",
    "        sub_ecs_ch = is_type_ecs&both_ener&is_ind_ch\n",
    "        td001_sys.loc[sub_ecs_ch,'gen_ch_lib_final']=td001_sys.loc[sub_ecs_ch,'gen_ch_lib_final'].str.replace(chaudiere_ind,chaudiere_type)\n",
    "\n",
    "        "
   ]
  },
  {
   "cell_type": "markdown",
   "metadata": {},
   "source": [
    "#### correction cas ECS affecté à un chauffe eau indépendant lorsque chaudiere chauffage"
   ]
  },
  {
   "cell_type": "code",
   "execution_count": 1047,
   "metadata": {},
   "outputs": [],
   "source": [
    "# refresh\n",
    "is_chaudiere_ch = td001_sys.gen_ch_lib_final.str.contains('chaudiere')\n",
    "is_ind = td001_sys.gen_ecs_lib_final.str.contains('chauffe-eau independant indetermine')\n",
    "is_ind = is_ind |(td001_sys.gen_ecs_lib_final=='indetermine')"
   ]
  },
  {
   "cell_type": "code",
   "execution_count": 1048,
   "metadata": {},
   "outputs": [],
   "source": [
    "td001_sys.loc[is_chaudiere_ch&is_ind,'gen_ecs_lib_final']=td001_sys.loc[is_chaudiere_ch&is_ind,'gen_ch_lib_final']"
   ]
  },
  {
   "cell_type": "markdown",
   "metadata": {},
   "source": [
    "#### correction ecs partie chaudiere -> affecté au chauffage par défaut"
   ]
  },
  {
   "cell_type": "code",
   "execution_count": 1161,
   "metadata": {},
   "outputs": [],
   "source": [
    "is_chaudiere_ecs_and_ch = is_chaudiere_ecs& is_chaudiere_ch"
   ]
  },
  {
   "cell_type": "code",
   "execution_count": 1162,
   "metadata": {},
   "outputs": [],
   "source": [
    "td001_sys.loc[is_chaudiere_ecs_and_ch,'chaudiere_ecs']=td001_sys.loc[is_chaudiere_ecs_and_ch,'gen_ecs_lib_final'].apply(lambda x:' + '.join([el for el in x.split(' + ') if 'chaudiere' in el]))\n",
    "td001_sys.loc[is_chaudiere_ecs_and_ch,'chaudiere_ch']=td001_sys.loc[is_chaudiere_ecs_and_ch,'gen_ch_lib_final'].apply(lambda x:' + '.join([el for el in x.split(' + ') if 'chaudiere' in el]))"
   ]
  },
  {
   "cell_type": "code",
   "execution_count": 1163,
   "metadata": {},
   "outputs": [],
   "source": [
    "td001_sys.loc[is_chaudiere_ecs_and_ch,'not_chaudiere_ecs']=td001_sys.loc[is_chaudiere_ecs_and_ch,'gen_ecs_lib_final'].apply(lambda x:' + '.join([el for el in x.split(' + ') if 'chaudiere' not in el]))\n",
    "td001_sys.loc[is_chaudiere_ecs_and_ch,'not_chaudiere_ch']=td001_sys.loc[is_chaudiere_ecs_and_ch,'gen_ch_lib_final'].apply(lambda x:' + '.join([el for el in x.split(' + ') if 'chaudiere' not in el]))"
   ]
  },
  {
   "cell_type": "code",
   "execution_count": 1166,
   "metadata": {},
   "outputs": [],
   "source": [
    "sel=(td001_sys['chaudiere_ch']!=td001_sys.chaudiere_ecs)&is_chaudiere_ecs_and_ch"
   ]
  },
  {
   "cell_type": "code",
   "execution_count": 1178,
   "metadata": {},
   "outputs": [],
   "source": [
    "td001_sys.loc[sel,\"chaudiere_ecs\"]=td001_sys.loc[sel,'chaudiere_ch']"
   ]
  },
  {
   "cell_type": "code",
   "execution_count": 1180,
   "metadata": {},
   "outputs": [],
   "source": [
    "td001_sys.loc[sel,'gen_ecs_lib_final']=td001_sys.loc[sel,'chaudiere_ecs']+td001_sys.loc[sel,'not_chaudiere_ecs']"
   ]
  },
  {
   "cell_type": "markdown",
   "metadata": {},
   "source": [
    "#### correction cas ecs si gen_ch_lib elec ou poele"
   ]
  },
  {
   "cell_type": "code",
   "execution_count": 1049,
   "metadata": {},
   "outputs": [],
   "source": [
    "# si le generateur de chauffage est décentralisé et avec une energie non combustible. \n",
    "is_ind = td001_sys.gen_ecs_lib_final.str.contains('chauffe-eau independant indetermine')\n",
    "is_ind = is_ind |(td001_sys.gen_ecs_lib_final=='indetermine')\n",
    "is_ind = is_ind |(td001_sys.gen_ecs_lib_final.str.contains('production mixte indetermine'))"
   ]
  },
  {
   "cell_type": "code",
   "execution_count": 1050,
   "metadata": {},
   "outputs": [],
   "source": [
    "is_ch_decentr = ~td001_sys.gen_ch_lib_final.str.contains('|'.join(energie_chaudiere_mods))\n",
    "is_ch_decentr = is_ch_decentr& td001_sys.gen_ch_lib_final.str.contains('elec|pac|joule|jonction|poele')"
   ]
  },
  {
   "cell_type": "code",
   "execution_count": 1051,
   "metadata": {},
   "outputs": [],
   "source": [
    "td001_sys.loc[is_ind&is_ch_decentr,'gen_ecs_lib_final']='ecs electrique indetermine'"
   ]
  },
  {
   "cell_type": "code",
   "execution_count": 1052,
   "metadata": {},
   "outputs": [],
   "source": [
    "is_ind =(td001_sys.gen_ecs_lib_final=='indetermine')"
   ]
  },
  {
   "cell_type": "markdown",
   "metadata": {},
   "source": [
    "### reseaux de chaleur"
   ]
  },
  {
   "cell_type": "code",
   "execution_count": 1053,
   "metadata": {},
   "outputs": [],
   "source": [
    "# refresh\n",
    "# si le chauffage ou l'ECS sont indéterminés et que l'autre est un réseau de chaleur alors on substitue par réseau de chaleur\n",
    "is_ind_ecs = td001_sys.gen_ecs_lib_final.str.contains('production mixte indetermine')\n",
    "is_ind_ecs = is_ind_ecs | (td001_sys.gen_ecs_lib_final==\"indetermine\")\n",
    "is_ind_ch = td001_sys.gen_ch_lib_final==\"indetermine\""
   ]
  },
  {
   "cell_type": "code",
   "execution_count": 1054,
   "metadata": {},
   "outputs": [],
   "source": [
    "is_reseau_ch = td001_sys.gen_ch_lib_final.str.contains('reseau de chaleur')\n",
    "is_reseau_ecs = td001_sys.gen_ecs_lib_final.str.contains('reseau de chaleur')\n",
    "\n",
    "td001_sys.loc[is_ind_ch&is_reseau_ecs,'gen_ch_lib_final']='reseau de chaleur'\n",
    "td001_sys.loc[is_ind_ecs&is_reseau_ch,'gen_ecs_lib_final']='reseau de chaleur'"
   ]
  },
  {
   "cell_type": "markdown",
   "metadata": {},
   "source": [
    "### thermodynamique"
   ]
  },
  {
   "cell_type": "code",
   "execution_count": 1055,
   "metadata": {},
   "outputs": [],
   "source": [
    "# refresh\n",
    "\n",
    "# si l'un est thermodynamique et l'autre indeterminé on considère l'autre comme thermodynamique. \n",
    "is_ind_ecs = td001_sys.gen_ecs_lib_final.str.contains('production mixte indetermine')\n",
    "is_ind_ecs = is_ind_ecs | (td001_sys.gen_ecs_lib_final==\"indetermine\")\n",
    "is_ind_ch = td001_sys.gen_ch_lib_final==\"indetermine\""
   ]
  },
  {
   "cell_type": "code",
   "execution_count": 1056,
   "metadata": {},
   "outputs": [],
   "source": [
    "is_pac_ch = td001_sys.gen_ch_lib_final.str.contains('pac')&(~td001_sys.gen_ch_lib_final.str.contains('pac air/air'))\n",
    "\n",
    "td001_sys.loc[is_ind_ecs&is_pac_ch,'gen_ecs_lib_final']='ecs thermodynamique electrique(pac ou ballon)'"
   ]
  },
  {
   "cell_type": "markdown",
   "metadata": {},
   "source": [
    "## pac en releve de chaudiere"
   ]
  },
  {
   "cell_type": "code",
   "execution_count": 1057,
   "metadata": {},
   "outputs": [],
   "source": [
    "# si on a une chaudiere et une pac alors on considère pac en relève de chaudière\n",
    "is_pac_ch = td001_sys.gen_ch_lib_final.str.contains('pac')&(~td001_sys.gen_ch_lib_final.str.contains('pac air/air'))\n",
    "is_pac_ch = is_pac_ch& (td001_sys.gen_ch_lib_final !='pac indetermine')\n",
    "is_chaudiere_ch = td001_sys.gen_ch_lib_final.str.contains('chaudiere|chauffage gaz indetermine')\n",
    "\n",
    "for pac_type in ['pac air/eau','pac eau/eau','pac geothermique']:\n",
    "    \n",
    "    is_pac_ch = td001_sys.gen_ch_lib_final.str.contains(pac_type)\n",
    "    \n",
    "    td001_sys.loc[is_pac_ch&is_chaudiere_ch,'gen_ch_lib_final']=f'{pac_type} en releve de chaudiere'\n",
    "    "
   ]
  },
  {
   "cell_type": "markdown",
   "metadata": {},
   "source": [
    "## redressement chaudieres elec et bois"
   ]
  },
  {
   "cell_type": "code",
   "execution_count": 1058,
   "metadata": {},
   "outputs": [],
   "source": [
    "is_chaudiere_elec=td001_sys.gen_ch_lib_final.str.contains('chaudiere energie indetermine indetermine + chauffage electrique indetermine')\n",
    "\n",
    "td001_sys.loc[is_chaudiere_elec,'gen_ch_lib_final']=td001_sys.loc[is_chaudiere_elec,'gen_ch_lib_final'].str.replace('chaudiere energie indetermine indetermine + chauffage electrique indetermine','chaudiere electrique')\n",
    "\n",
    "is_chaudiere_bois=td001_sys.gen_ch_lib_final.str.contains('chaudiere bois')\n",
    "is_chaudiere_ind=td001_sys.gen_ch_lib_final.str.contains('chaudiere energie indetermine indetermine')\n",
    "\n",
    "td001_sys.loc[is_chaudiere_bois&is_chaudiere_ind,'gen_ch_lib_final']=f'chaudiere bois'\n",
    "\n",
    "for type_chaudiere in type_chaudiere_mods:\n",
    "    \n",
    "    is_chaudiere_ind=td001_sys.gen_ch_lib_final.str.contains(f'chaudiere energie indetermine {type_chaudiere}')\n",
    "\n",
    "    td001_sys.loc[is_chaudiere_bois&is_chaudiere_ind,'gen_ch_lib_final']=f'chaudiere bois'"
   ]
  },
  {
   "cell_type": "code",
   "execution_count": 1059,
   "metadata": {},
   "outputs": [],
   "source": [
    "is_chaudiere_elec=td001_sys.gen_ecs_lib_final.str.contains('chaudiere energie indetermine indetermine + chauffage electrique indetermine')\n",
    "\n",
    "td001_sys.loc[is_chaudiere_elec,'gen_ecs_lib_final']=td001_sys.loc[is_chaudiere_elec,'gen_ecs_lib_final'].str.replace('chaudiere energie indetermine indetermine + chauffage electrique indetermine','chaudiere electrique')\n",
    "\n",
    "is_chaudiere_bois=td001_sys.gen_ecs_lib_final.str.contains('chaudiere bois')\n",
    "is_chaudiere_ind=td001_sys.gen_ecs_lib_final.str.contains('chaudiere energie indetermine indetermine')\n",
    "\n",
    "td001_sys.loc[is_chaudiere_bois&is_chaudiere_ind,'gen_ecs_lib_final']=f'chaudiere bois'\n",
    "\n",
    "for type_chaudiere in type_chaudiere_mods:\n",
    "    \n",
    "    is_chaudiere_ind=td001_sys.gen_ecs_lib_final.str.contains(f'chaudiere energie indetermine {type_chaudiere}')\n",
    "\n",
    "    td001_sys.loc[is_chaudiere_bois,'gen_ecs_lib_final']=f'chaudiere bois'"
   ]
  },
  {
   "cell_type": "markdown",
   "metadata": {},
   "source": [
    "## suppression des libéllés chauffage indetermine avec une chaudière\n",
    "\n",
    "pour résoudre les problèmes de type chaudiere gaz ou fioul -> attribué chaudiere gaz par défaut"
   ]
  },
  {
   "cell_type": "code",
   "execution_count": 1060,
   "metadata": {},
   "outputs": [],
   "source": [
    "for ener in energie_chaudiere_mods:\n",
    "    is_chaudiere_ener = td001_sys.gen_ch_lib_final.str.contains(f'chaudiere {ener}')\n",
    "    for ener_other in energie_chaudiere_mods:\n",
    "        lib_ind_other=f\"chauffage {ener_other} indetermine\"\n",
    "        is_ind_other = td001_sys.gen_ch_lib_final.str.contains(lib_ind_other)\n",
    "        \n",
    "        td001_sys.loc[is_chaudiere_ener&is_ind_other,'gen_ch_lib_final']=td001_sys.loc[is_chaudiere_ener&is_ind_other,'gen_ch_lib_final'].str.replace(' \\+ '+lib_ind_other,'')\n"
   ]
  },
  {
   "cell_type": "markdown",
   "metadata": {},
   "source": [
    "## correction libellés ecs (quand substitué par chauffage)\n",
    "\n"
   ]
  },
  {
   "cell_type": "code",
   "execution_count": 1061,
   "metadata": {},
   "outputs": [],
   "source": [
    "ecs_lib_cat = list(gen_ecs_search_dict_flat.keys())+['indetermine']\n",
    "\n",
    "td001_sys['gen_ecs_lib_final']=td001_sys.gen_ecs_lib_final.apply(lambda x:' + '.join([el for el in x.split(' + ') if el in ecs_lib_cat]))"
   ]
  },
  {
   "cell_type": "markdown",
   "metadata": {},
   "source": [
    "## affectation de libéllés par défaut en fonction des energies de chauffage et ecs pour les générateurs indéterminés"
   ]
  },
  {
   "cell_type": "code",
   "execution_count": 1062,
   "metadata": {},
   "outputs": [],
   "source": [
    "ind = td001_sys.gen_ch_lib_final==\"indetermine\"\n",
    "\n",
    "for type_ener in td001_sys.td002_type_energie_ch.dropna().unique():\n",
    "    \n",
    "    ener = td001_sys.td002_type_energie_ch==type_ener\n",
    "    \n",
    "    if type_ener in energie_chaudiere_mods:\n",
    "        \n",
    "        td001_sys.loc[ind&ener,'gen_ch_lib_final']=f'chaudiere {type_ener} indetermine'\n",
    "        \n",
    "    elif 'reseau de chaleur' in type_ener : \n",
    "        \n",
    "        td001_sys.loc[ind&ener,'gen_ch_lib_final']=f'reseau de chaleur'\n",
    "        \n",
    "    elif 'electricite' == type_ener : \n",
    "        td001_sys.loc[ind&ener,'gen_ch_lib_final']='chauffage electrique indetermine'\n",
    "\n",
    "    else:\n",
    "        td001_sys.loc[ind&ener,'gen_ch_lib_final']=' + '.join([f'chauffage {el} indetermine' for el in type_ener.split(' + ')])\n",
    "\n",
    "for type_ener in td001_sys.td016_type_energie_ch.dropna().unique():\n",
    "\n",
    "    ener = td001_sys.td016_type_energie_ch==type_ener\n",
    "    \n",
    "    if type_ener in energie_chaudiere_mods:\n",
    "        \n",
    "        td001_sys.loc[ind&ener,'gen_ch_lib_final']=f'chaudiere {type_ener} indetermine'\n",
    "        \n",
    "    elif 'reseau de chaleur' in type_ener : \n",
    "        \n",
    "        td001_sys.loc[ind&ener,'gen_ch_lib_final']=f'reseau de chaleur'\n",
    "        \n",
    "    elif 'electricite' == type_ener : \n",
    "        \n",
    "        td001_sys.loc[ind&ener,'gen_ch_lib_final']=f'chauffage electrique indetermine'   \n",
    "        \n",
    "    else:\n",
    "        \n",
    "        td001_sys.loc[ind&ener,'gen_ch_lib_final']=' + '.join([f'chauffage {el} indetermine' for el in type_ener.split(' + ')])\n",
    "\n",
    "td001_sys.gen_ch_lib_final = td001_sys.gen_ch_lib_final.str.replace('chauffage electricite','chauffage electrique')\n"
   ]
  },
  {
   "cell_type": "code",
   "execution_count": 1063,
   "metadata": {},
   "outputs": [],
   "source": [
    "ind = td001_sys.gen_ecs_lib_final==\"indetermine\"\n",
    "\n",
    "for type_ener in td001_sys.td002_type_energie_ecs.dropna().unique():\n",
    "    \n",
    "    ener = td001_sys.td002_type_energie_ecs==type_ener\n",
    "    \n",
    "    if type_ener in energie_chaudiere_mods:\n",
    "        \n",
    "        td001_sys.loc[ind&ener,'gen_ecs_lib_final']=f'chaudiere {type_ener} indetermine'\n",
    "        \n",
    "    elif 'reseau de chaleur' in type_ener : \n",
    "        \n",
    "        td001_sys.loc[ind&ener,'gen_ecs_lib_final']=f'reseau de chaleur'\n",
    "        \n",
    "    elif 'electricite' == type_ener : \n",
    "        td001_sys.loc[ind&ener,'gen_ecs_lib_final']='ecs electrique indetermine'\n",
    "\n",
    "    else:\n",
    "        td001_sys.loc[ind&ener,'gen_ecs_lib_final']=' + '.join([f'ecs {el} indetermine' for el in type_ener.split(' + ')])\n",
    "\n",
    "for type_ener in td001_sys.td016_type_energie_ecs.dropna().unique():\n",
    "\n",
    "    ener = td001_sys.td016_type_energie_ecs==type_ener\n",
    "    \n",
    "    if type_ener in energie_chaudiere_mods:\n",
    "        \n",
    "        td001_sys.loc[ind&ener,'gen_ecs_lib_final']=f'chaudiere {type_ener} indetermine'\n",
    "        \n",
    "    elif 'reseau de chaleur' in type_ener : \n",
    "        \n",
    "        td001_sys.loc[ind&ener,'gen_ecs_lib_final']=f'reseau de chaleur'\n",
    "        \n",
    "    elif 'electricite' == type_ener : \n",
    "        \n",
    "        td001_sys.loc[ind&ener,'gen_ecs_lib_final']=f'ecs electrique indetermine'   \n",
    "        \n",
    "    else:\n",
    "        \n",
    "        td001_sys.loc[ind&ener,'gen_ecs_lib_final']=' + '.join([f'ecs {el} indetermine' for el in type_ener.split(' + ')])\n",
    "\n",
    "td001_sys.gen_ecs_lib_final = td001_sys.gen_ecs_lib_final.str.replace('ecs electricite','ecs electrique')"
   ]
  },
  {
   "cell_type": "code",
   "execution_count": 1064,
   "metadata": {},
   "outputs": [],
   "source": [
    "td001_sys['concat']=td001_sys.gen_ch_lib_final+'////'+td001_sys.gen_ecs_lib_final"
   ]
  },
  {
   "cell_type": "markdown",
   "metadata": {},
   "source": [
    "## reorder labels"
   ]
  },
  {
   "cell_type": "code",
   "execution_count": 1065,
   "metadata": {},
   "outputs": [],
   "source": [
    "ordered_ch_labels = ['chauffage solaire']+list(gen_ch_search_dict_flat.keys())+['chauffage autre indetermine','indetermine']\n"
   ]
  },
  {
   "cell_type": "code",
   "execution_count": 1066,
   "metadata": {},
   "outputs": [],
   "source": [
    "ordered_ecs_labels =list(gen_ecs_search_dict_flat.keys())+['ecs autre indetermine','indetermine']\n"
   ]
  },
  {
   "cell_type": "code",
   "execution_count": 1067,
   "metadata": {},
   "outputs": [],
   "source": [
    "def resort_gen_ch_labels(x):\n",
    "    try:\n",
    "        c=pd.Categorical(x.split(' + '),ordered_ch_labels,ordered=True)\n",
    "        c = ' + '.join(c.sort_values().tolist())\n",
    "        return c\n",
    "    except Exception as e:\n",
    "        print(x)\n",
    "        print(c)\n",
    "        raise e\n",
    "def resort_gen_ecs_labels(x):\n",
    "    try:\n",
    "        c=pd.Categorical(x.split(' + '),ordered_ecs_labels,ordered=True)\n",
    "        c = ' + '.join(c.sort_values().tolist())\n",
    "    except Exception as e:\n",
    "        print(x)\n",
    "        print(c)\n",
    "        raise e\n",
    "    return x"
   ]
  },
  {
   "cell_type": "code",
   "execution_count": 1068,
   "metadata": {},
   "outputs": [],
   "source": [
    "plus = td001_sys.gen_ch_lib_final.str.contains(' \\+ ')\n",
    "\n",
    "td001_sys.loc[plus,'gen_ch_lib_final'] = td001_sys.loc[plus,'gen_ch_lib_final'].apply(lambda x:resort_gen_ch_labels(x))\n",
    "\n",
    "plus = td001_sys.gen_ecs_lib_final.str.contains(' \\+ ')\n",
    "\n",
    "td001_sys.loc[plus,'gen_ecs_lib_final'] = td001_sys.loc[plus,'gen_ecs_lib_final'].apply(lambda x:resort_gen_ecs_labels(x))"
   ]
  },
  {
   "cell_type": "markdown",
   "metadata": {},
   "source": [
    "## redressement energie "
   ]
  },
  {
   "cell_type": "markdown",
   "metadata": {},
   "source": [
    "### chauffage"
   ]
  },
  {
   "cell_type": "code",
   "execution_count": 1118,
   "metadata": {},
   "outputs": [],
   "source": [
    "gen_to_energy = dict()\n",
    "\n",
    "for k in ordered_ch_labels:\n",
    "    ener = energie_normalise_ordered\n",
    "    for ener in reversed(energie_normalise_ordered):\n",
    "        if ener in k:\n",
    "            gen_to_energy[k]=ener\n",
    "    if 'pac' in k or 'elec' in k :\n",
    "        gen_to_energy[k]='electricite'\n",
    "    if k not in gen_to_energy:\n",
    "        gen_to_energy[k]=''\n",
    "gen_to_energy['poele ou insert fioul/gpl/charbon']=''\n",
    "gen_to_energy['poele ou insert indetermine']=''\n",
    "\n",
    "td001_sys['type_energie_ch_from_gen']=td001_sys.gen_ch_lib_final.copy()\n",
    "for k,v in gen_to_energy.items():\n",
    "    td001_sys['type_energie_ch_from_gen']=td001_sys['type_energie_ch_from_gen'].str.replace(k,v)\n",
    "\n",
    "td001_sys['type_energie_ch_from_gen']=td001_sys['type_energie_ch_from_gen'].apply(lambda x:' + '.join(np.unique([el for el in x.split(' + ') if el!=''])))\n",
    "\n",
    "null=td001_sys.type_energie_ch.isnull()\n",
    "\n",
    "td001_sys.loc[null,'type_energie_ch']=td001_sys.loc[null,'type_energie_ch_from_gen']\n",
    "\n",
    "is_releve = td001_sys.gen_ch_lib_final.str.contains('releve')\n",
    "td001_sys.loc[is_releve,'type_energie_ch']=td001_sys.loc[is_releve,'type_energie_ch']+' + '+td001_sys.loc[is_releve,'type_energie_ch_from_gen']\n",
    "\n",
    "td001_sys.loc[is_releve,'type_energie_ch'] = td001_sys.loc[is_releve,'type_energie_ch'].apply(lambda x:' + '.join(np.unique([el for el in x.split(' + ')]))) \n",
    "\n",
    "bad_corr=td001_sys.type_energie_ch!=td001_sys.type_energie_ch_from_gen\n",
    "gpl_gaz_mixup=td001_sys.type_energie_ch.str.contains('gpl/butane/propane')&bad\n",
    "gpl_gaz_mixup=gpl_gaz_mixup&td001_sys.type_energie_ch_from_gen.str.contains('gaz')\n",
    "td001_sys.loc[gpl_gaz_mixup,'type_energie_ch']=td001_sys.loc[gpl_gaz_mixup,'type_energie_ch'].str.replace('gpl/butane/propane','gaz')\n",
    "\n",
    "td001_sys.loc[gpl_gaz_mixup,'type_energie_ch']=td001_sys.loc[gpl_gaz_mixup,'type_energie_ch'].apply(lambda x:' + '.join(np.unique([el for el in x.split(' + ')]))) \n",
    "\n",
    "bad_corr=td001_sys.type_energie_ch!=td001_sys.type_energie_ch_from_gen\n",
    "\n",
    "\n",
    "inf=td001_sys[bad].type_energie_ch.str.count('\\+')<td001_sys[bad].type_energie_ch_from_gen.str.count('\\+')\n",
    "inf=inf[inf].index\n",
    "td001_sys.loc[inf,'type_energie_ch']=td001_sys.loc[inf,'type_energie_ch_from_gen']"
   ]
  },
  {
   "cell_type": "markdown",
   "metadata": {},
   "source": [
    "### ecs"
   ]
  },
  {
   "cell_type": "code",
   "execution_count": 1119,
   "metadata": {},
   "outputs": [],
   "source": [
    "gen_to_energy = dict()\n",
    "\n",
    "for k in ordered_ecs_labels:\n",
    "    ener = energie_normalise_ordered\n",
    "    for ener in reversed(energie_normalise_ordered):\n",
    "        if ener in k:\n",
    "            gen_to_energy[k]=ener\n",
    "    if 'pac' in k or 'elec' in k :\n",
    "        gen_to_energy[k]='electricite'\n",
    "    if k not in gen_to_energy:\n",
    "        gen_to_energy[k]=''"
   ]
  },
  {
   "cell_type": "code",
   "execution_count": 1122,
   "metadata": {},
   "outputs": [],
   "source": [
    "\n",
    "\n",
    "td001_sys['type_energie_ecs_from_gen']=td001_sys.gen_ecs_lib_final.copy()\n",
    "for k,v in gen_to_energy.items():\n",
    "    td001_sys['type_energie_ecs_from_gen']=td001_sys['type_energie_ecs_from_gen'].str.replace(k,v)\n",
    "\n",
    "td001_sys['type_energie_ecs_from_gen']=td001_sys['type_energie_ecs_from_gen'].apply(lambda x:' + '.join(np.unique([el for el in x.split(' + ') if el!=''])))\n"
   ]
  },
  {
   "cell_type": "code",
   "execution_count": 1123,
   "metadata": {},
   "outputs": [],
   "source": [
    "\n",
    "null=td001_sys.type_energie_ecs.isnull()\n",
    "\n",
    "td001_sys.loc[null,'type_energie_ecs']=td001_sys.loc[null,'type_energie_ecs_from_gen']"
   ]
  },
  {
   "cell_type": "code",
   "execution_count": 1124,
   "metadata": {},
   "outputs": [],
   "source": [
    "bad_corr=td001_sys.type_energie_ecs!=td001_sys.type_energie_ecs_from_gen\n"
   ]
  },
  {
   "cell_type": "code",
   "execution_count": 1129,
   "metadata": {},
   "outputs": [
    {
     "data": {
      "text/html": [
       "<div>\n",
       "<style scoped>\n",
       "    .dataframe tbody tr th:only-of-type {\n",
       "        vertical-align: middle;\n",
       "    }\n",
       "\n",
       "    .dataframe tbody tr th {\n",
       "        vertical-align: top;\n",
       "    }\n",
       "\n",
       "    .dataframe thead th {\n",
       "        text-align: right;\n",
       "    }\n",
       "</style>\n",
       "<table border=\"1\" class=\"dataframe\">\n",
       "  <thead>\n",
       "    <tr style=\"text-align: right;\">\n",
       "      <th></th>\n",
       "      <th>td001_dpe_id</th>\n",
       "      <th>gen_ecs_lib_final</th>\n",
       "      <th>gen_ecs_lib_infer_concat</th>\n",
       "    </tr>\n",
       "  </thead>\n",
       "  <tbody>\n",
       "    <tr>\n",
       "      <th>32</th>\n",
       "      <td>4030</td>\n",
       "      <td>chaudiere gaz indetermine</td>\n",
       "      <td>chaudiere gaz indetermine</td>\n",
       "    </tr>\n",
       "    <tr>\n",
       "      <th>42</th>\n",
       "      <td>4728</td>\n",
       "      <td>chaudiere bois</td>\n",
       "      <td>ecs gaz indetermine</td>\n",
       "    </tr>\n",
       "    <tr>\n",
       "      <th>44</th>\n",
       "      <td>4945</td>\n",
       "      <td>ecs solaire + ecs thermodynamique electrique(p...</td>\n",
       "      <td>ecs thermodynamique electrique(pac ou ballon)</td>\n",
       "    </tr>\n",
       "    <tr>\n",
       "      <th>50</th>\n",
       "      <td>5460</td>\n",
       "      <td>chaudiere bois</td>\n",
       "      <td>ecs gaz indetermine</td>\n",
       "    </tr>\n",
       "    <tr>\n",
       "      <th>57</th>\n",
       "      <td>6035</td>\n",
       "      <td>chaudiere bois</td>\n",
       "      <td>ecs fioul indetermine</td>\n",
       "    </tr>\n",
       "    <tr>\n",
       "      <th>...</th>\n",
       "      <td>...</td>\n",
       "      <td>...</td>\n",
       "      <td>...</td>\n",
       "    </tr>\n",
       "    <tr>\n",
       "      <th>170199</th>\n",
       "      <td>9428755</td>\n",
       "      <td>chaudiere gaz indetermine</td>\n",
       "      <td>chaudiere gaz indetermine</td>\n",
       "    </tr>\n",
       "    <tr>\n",
       "      <th>170205</th>\n",
       "      <td>9429469</td>\n",
       "      <td>ecs thermodynamique electrique(pac ou ballon)</td>\n",
       "      <td>NaN</td>\n",
       "    </tr>\n",
       "    <tr>\n",
       "      <th>170210</th>\n",
       "      <td>9429816</td>\n",
       "      <td>ecs thermodynamique electrique(pac ou ballon)</td>\n",
       "      <td>ballon a accumulation electrique + ecs thermod...</td>\n",
       "    </tr>\n",
       "    <tr>\n",
       "      <th>170220</th>\n",
       "      <td>9430624</td>\n",
       "      <td>chaudiere bois</td>\n",
       "      <td>ecs fioul indetermine</td>\n",
       "    </tr>\n",
       "    <tr>\n",
       "      <th>170224</th>\n",
       "      <td>9430798</td>\n",
       "      <td>ecs thermodynamique electrique(pac ou ballon)</td>\n",
       "      <td>ballon a accumulation electrique</td>\n",
       "    </tr>\n",
       "  </tbody>\n",
       "</table>\n",
       "<p>16214 rows × 3 columns</p>\n",
       "</div>"
      ],
      "text/plain": [
       "       td001_dpe_id                                  gen_ecs_lib_final  \\\n",
       "32             4030                          chaudiere gaz indetermine   \n",
       "42             4728                                     chaudiere bois   \n",
       "44             4945  ecs solaire + ecs thermodynamique electrique(p...   \n",
       "50             5460                                     chaudiere bois   \n",
       "57             6035                                     chaudiere bois   \n",
       "...             ...                                                ...   \n",
       "170199      9428755                          chaudiere gaz indetermine   \n",
       "170205      9429469      ecs thermodynamique electrique(pac ou ballon)   \n",
       "170210      9429816      ecs thermodynamique electrique(pac ou ballon)   \n",
       "170220      9430624                                     chaudiere bois   \n",
       "170224      9430798      ecs thermodynamique electrique(pac ou ballon)   \n",
       "\n",
       "                                 gen_ecs_lib_infer_concat  \n",
       "32                              chaudiere gaz indetermine  \n",
       "42                                    ecs gaz indetermine  \n",
       "44          ecs thermodynamique electrique(pac ou ballon)  \n",
       "50                                    ecs gaz indetermine  \n",
       "57                                  ecs fioul indetermine  \n",
       "...                                                   ...  \n",
       "170199                          chaudiere gaz indetermine  \n",
       "170205                                                NaN  \n",
       "170210  ballon a accumulation electrique + ecs thermod...  \n",
       "170220                              ecs fioul indetermine  \n",
       "170224                   ballon a accumulation electrique  \n",
       "\n",
       "[16214 rows x 3 columns]"
      ]
     },
     "execution_count": 1129,
     "metadata": {},
     "output_type": "execute_result"
    }
   ],
   "source": [
    "td001_sys.loc[bad_corr,['td001_dpe_id','gen_ecs_lib_final','gen_ecs_lib_infer_concat']]"
   ]
  },
  {
   "cell_type": "code",
   "execution_count": null,
   "metadata": {},
   "outputs": [],
   "source": [
    "\n",
    "\n",
    "is_releve = td001_sys.gen_ecs_lib_final.str.contains('releve')\n",
    "td001_sys.loc[is_releve,'type_energie_ecs']=td001_sys.loc[is_releve,'type_energie_ecs']+' + '+td001_sys.loc[is_releve,'type_energie_ecs_from_gen']\n",
    "\n",
    "td001_sys.loc[is_releve,'type_energie_ecs'] = td001_sys.loc[is_releve,'type_energie_ecs'].apply(lambda x:' + '.join(np.unique([el for el in x.split(' + ')]))) \n",
    "\n",
    "bad_corr=td001_sys.type_energie_ecs!=td001_sys.type_energie_ecs_from_gen\n",
    "gpl_gaz_mixup=td001_sys.type_energie_ecs.str.contains('gpl/butane/propane')&bad\n",
    "gpl_gaz_mixup=gpl_gaz_mixup&td001_sys.type_energie_ecs_from_gen.str.contains('gaz')\n",
    "td001_sys.loc[gpl_gaz_mixup,'type_energie_ecs']=td001_sys.loc[gpl_gaz_mixup,'type_energie_ecs'].str.replace('gpl/butane/propane','gaz')\n",
    "\n",
    "td001_sys.loc[gpl_gaz_mixup,'type_energie_ecs']=td001_sys.loc[gpl_gaz_mixup,'type_energie_ecs'].apply(lambda x:' + '.join(np.unique([el for el in x.split(' + ')]))) \n",
    "\n",
    "bad_corr=td001_sys.type_energie_ecs!=td001_sys.type_energie_ecs_from_gen\n",
    "\n",
    "\n",
    "inf=td001_sys[bad].type_energie_ecs.str.count('\\+')<td001_sys[bad].type_energie_ecs_from_gen.str.count('\\+')\n",
    "inf=inf[inf].index\n",
    "td001_sys.loc[inf,'type_energie_ecs']=td001_sys.loc[inf,'type_energie_ecs_from_gen']"
   ]
  },
  {
   "cell_type": "markdown",
   "metadata": {},
   "source": [
    "# indicateurs de cohérences"
   ]
  },
  {
   "cell_type": "code",
   "execution_count": null,
   "metadata": {},
   "outputs": [],
   "source": [
    "lib_final_eq_lib_data = (td001_sys.gen_ch_lib_infer_concat==td001_sys.gen_ch_lib_final).fillna(False)\n",
    "\n",
    "td001_sys['fiab_gen_ch_lib'] = 'libelle non redresse determine'\n",
    "\n",
    "ind_data=td001_sys.gen_ch_lib_infer_concat.str.contains('indetermine').fillna(False)\n",
    "not_data = td001_sys.gen_ch_lib_infer_concat.isnull()\n",
    "td001_sys.loc[lib_final_eq_lib_data&(~ind_data),'fiab_gen_ch_lib']='libelle fiable et coherent ft desc et td012'\n",
    "\n",
    "is_redresse = td001_sys.gen_ch_lib_final!=td001_sys.gen_ch_lib_non_retraite\n",
    "td001_sys.loc[is_redresse,'fiab_gen_ch_lib'] = 'libelle redresse determine'\n",
    "\n",
    "is_ind = td001_sys.gen_ch_lib_final=='indetermine'\n",
    "\n",
    "td001_sys.loc[is_ind,'fiab_gen_ch_lib'] = 'libelle indetermine'\n",
    "\n",
    "is_ind = td001_sys.gen_ch_lib_final.str.contains('indetermine')\n",
    "\n",
    "td001_sys.loc[is_ind,'fiab_gen_ch_lib'] = td001_sys.loc[is_ind,'fiab_gen_ch_lib'].str.replace(' determine',' partiellement indetermine')\n",
    "\n"
   ]
  },
  {
   "cell_type": "code",
   "execution_count": null,
   "metadata": {},
   "outputs": [],
   "source": [
    "is_ind = td001_sys.gen_ecs_lib_final.str.contains('indetermine')\n"
   ]
  },
  {
   "cell_type": "code",
   "execution_count": null,
   "metadata": {},
   "outputs": [],
   "source": [
    "lib_final_eq_lib_data = (td001_sys.gen_ecs_lib_infer_concat==td001_sys.gen_ecs_lib_final).fillna(False)\n",
    "\n",
    "td001_sys['fiab_gen_ecs_lib'] = 'libelle non redresse determine'\n",
    "\n",
    "ind_data=td001_sys.gen_ecs_lib_infer_concat.str.contains('indetermine').fillna(False)\n",
    "not_data = td001_sys.gen_ecs_lib_infer_concat.isnull()\n",
    "td001_sys.loc[lib_final_eq_lib_data&(~ind_data),'fiab_gen_ecs_lib']='libelle fiable et coherent ft desc et td012'\n",
    "\n",
    "is_redresse = td001_sys.gen_ecs_lib_final!=td001_sys.gen_ecs_lib_non_retraite\n",
    "td001_sys.loc[is_redresse,'fiab_gen_ecs_lib'] = 'libelle redresse determine'\n",
    "\n",
    "is_ind = td001_sys.gen_ecs_lib_final=='indetermine'\n",
    "\n",
    "td001_sys.loc[is_ind,'fiab_gen_ecs_lib'] = 'libelle indetermine'\n",
    "\n",
    "is_ind = td001_sys.gen_ecs_lib_final.str.contains('indetermine')\n",
    "\n",
    "td001_sys.loc[is_ind,'fiab_gen_ecs_lib'] = td001_sys.loc[is_ind,'fiab_gen_ecs_lib'].str.replace(' determine',' partiellement indetermine')\n",
    "\n"
   ]
  },
  {
   "cell_type": "markdown",
   "metadata": {},
   "source": [
    "# nettoyage final"
   ]
  },
  {
   "cell_type": "markdown",
   "metadata": {},
   "source": [
    "## suppression des additions d'indeterminé"
   ]
  },
  {
   "cell_type": "markdown",
   "metadata": {},
   "source": [
    "# simplification "
   ]
  },
  {
   "cell_type": "markdown",
   "metadata": {},
   "source": [
    "## sys ch"
   ]
  },
  {
   "cell_type": "code",
   "execution_count": null,
   "metadata": {},
   "outputs": [],
   "source": [
    "td001_sys['gen_ch_lib_final_simp']=td001_sys['gen_ch_lib_final']"
   ]
  },
  {
   "cell_type": "markdown",
   "metadata": {},
   "source": [
    "### simplification des dénominations generateurs"
   ]
  },
  {
   "cell_type": "code",
   "execution_count": null,
   "metadata": {},
   "outputs": [],
   "source": [
    "gen_ch_simp_dict = {\n",
    "                        'convecteurs electriques nfc': 'generateurs a effet joule',\n",
    "                        'panneaux rayonnants electriques nfc': 'generateurs a effet joule',\n",
    "                        'radiateurs electriques': 'generateurs a effet joule',\n",
    "                        'autres emetteurs a effet joule': 'generateurs a effet joule',\n",
    "                        'plafonds/planchers rayonnants electriques nfc': 'generateurs a effet joule',\n",
    "                        'convecteurs bi-jonction': 'generateurs a effet joule',\n",
    "    \"convecteurs electriques\":'generateurs a effet joule',\n",
    "'chauffage electrique indetermine': 'generateurs a effet joule',\n",
    "}\n",
    "\n",
    "for ener in energie_chaudiere_mods:\n",
    "    gen_ch_simp_dict[f'chauffage {ener} indetermine']=f'chaudiere {ener} standard'\n",
    "    gen_ch_simp_dict[f'chauffage electricite + {ener} indetermine']=f'chaudiere {ener} standard'\n",
    "\n",
    "    gen_ch_simp_dict[f'chaudiere {ener} indetermine']=f'chaudiere {ener} standard'\n"
   ]
  },
  {
   "cell_type": "code",
   "execution_count": null,
   "metadata": {},
   "outputs": [],
   "source": [
    "for k,v in gen_ch_simp_dict.items():\n",
    "    td001_sys.gen_ch_lib_final_simp=td001_sys.gen_ch_lib_final_simp.str.replace(k,v)\n",
    "    "
   ]
  },
  {
   "cell_type": "markdown",
   "metadata": {},
   "source": [
    "### simplification réseau de chaleur\n",
    "si réseau de chaleur alors on considère que c'est le système de chauffage du bâtiment"
   ]
  },
  {
   "cell_type": "code",
   "execution_count": null,
   "metadata": {},
   "outputs": [],
   "source": [
    "is_reseau_ch = td001_sys.gen_ch_lib_final.str.contains('reseau de chaleur')\n",
    "\n",
    "td001_sys.loc[is_reseau_ch,'gen_ch_lib_final_simp']='reseau de chaleur'"
   ]
  },
  {
   "cell_type": "markdown",
   "metadata": {},
   "source": [
    "### limiter les combinaisons de systemes à 2"
   ]
  },
  {
   "cell_type": "code",
   "execution_count": null,
   "metadata": {},
   "outputs": [],
   "source": [
    "is_sup_2_sys=td001_sys.gen_ch_lib_final_simp.str.count(' \\+ ')>=2"
   ]
  },
  {
   "cell_type": "code",
   "execution_count": null,
   "metadata": {},
   "outputs": [],
   "source": [
    "td001_sys.loc[is_sup_2_sys,'gen_ch_lib_final_simp']=td001_sys.loc[is_sup_2_sys,'gen_ch_lib_final_simp'].apply(lambda x:' + '.join(x.split(' + ')[0:2]))"
   ]
  },
  {
   "cell_type": "markdown",
   "metadata": {},
   "source": [
    "### simplification de la mention en releve de chaudiere pour les systèmes thermo\n",
    "\n",
    "on considère les systèmes thermo comme le principal usage."
   ]
  },
  {
   "cell_type": "code",
   "execution_count": null,
   "metadata": {},
   "outputs": [],
   "source": [
    "td001_sys.gen_ch_lib_final_simp=td001_sys.gen_ch_lib_final_simp.str.replace(' en releve de chaudiere','')\n"
   ]
  },
  {
   "cell_type": "markdown",
   "metadata": {},
   "source": [
    "## sys ecs"
   ]
  },
  {
   "cell_type": "code",
   "execution_count": null,
   "metadata": {},
   "outputs": [],
   "source": [
    "td001_sys['gen_ecs_lib_final_simp']=td001_sys['gen_ecs_lib_final']"
   ]
  },
  {
   "cell_type": "code",
   "execution_count": null,
   "metadata": {},
   "outputs": [],
   "source": [
    "gen_ecs_simp_dict = {\n",
    "                        'convecteurs electriques nfc': 'generateurs a effet joule',\n",
    "                        'panneaux rayonnants electriques nfc': 'generateurs a effet joule',\n",
    "                        'radiateurs electriques': 'generateurs a effet joule',\n",
    "                        'autres emetteurs a effet joule': 'generateurs a effet joule',\n",
    "                        'plafonds/planchers rayonnants electriques nfc': 'generateurs a effet joule',\n",
    "                        'convecteurs bi-jonction': 'generateurs a effet joule',\n",
    "    \"convecteurs electriques\":'generateurs a effet joule',\n",
    "'chauffage electrique indetermine': 'generateurs a effet joule',\n",
    "}\n",
    "\n",
    "\n",
    "\n",
    "for ener in energie_chaudiere_mods:\n",
    "    gen_ecs_simp_dict[f'ecs {ener} indetermine']=f'chaudiere {ener} standard'\n",
    "    gen_ecs_simp_dict[f'ecs electricite + {ener} indetermine']=f'chaudiere {ener} standard'\n",
    "    gen_ecs_simp_dict[f'production mixte {ener}']=f'chaudiere {ener} standard'\n"
   ]
  },
  {
   "cell_type": "code",
   "execution_count": null,
   "metadata": {},
   "outputs": [],
   "source": [
    "td001_sys.gen_ecs_lib_final.value_counts().to_dict()"
   ]
  },
  {
   "cell_type": "markdown",
   "metadata": {},
   "source": [
    "# debug"
   ]
  },
  {
   "cell_type": "code",
   "execution_count": null,
   "metadata": {},
   "outputs": [],
   "source": [
    "ids=td001_sys.query('gen_ecs_lib_final==\"chaudiere energie indetermine standard + reseau de chaleur\"').td001_dpe_id.unique()\n",
    "\n",
    "gen_ecs_lib_from_txt=pd.concat([gen_ecs_lib_desc[['label','category','td001_dpe_id']],\n",
    "                               gen_ecs_lib_ft[['label','category','td001_dpe_id']]],axis=0)\n",
    "\n",
    "\n",
    "\n",
    "\n",
    "m=search_and_affect(td005_ecs,id_col='id',val_col='valeur_renseignee',\n",
    "                    search_dict=gen_ecs_search_dict_flat)\n",
    "m = categorize_search_res(m,label_cat = list(gen_ecs_search_dict_flat.keys())+['indetermine'],\n",
    "                           category_dict=reverse_cat_gen_ecs)\n",
    "gen_ecs_lib_ft=m.merge(td005_ecs[['id','td001_dpe_id']],how='left')\n",
    "\n",
    "gen_ecs_lib_ft\n",
    "\n",
    "td001_sys.loc[td001_sys.td001_dpe_id==\"8085231\"]\n",
    "\n",
    "gen_ecs_lib_ft.loc[gen_ecs_lib_ft.td001_dpe_id=='8085231']\n",
    "\n",
    "gen_ecs_lib_from_txt.loc[gen_ecs_lib_from_txt.td001_dpe_id=='8085231']\n",
    "\n",
    "gen_ecs_lib.loc[gen_ecs_lib.td001_dpe_id=='8085231']\n",
    "\n",
    "td005_ch.loc[td005_ch.td001_dpe_id.isin(ids)].to_dict(orient='records')\n",
    "\n",
    "td003_ch.loc[td003_ch.td001_dpe_id.isin(ids)].to_dict(orient='records')\n",
    "\n",
    "td003_ecs.loc[td003_ecs.td001_dpe_id.isin(ids)].to_dict(orient='records')\n",
    "\n",
    "td005_ecs.loc[td005_ecs.td001_dpe_id.isin(ids)].to_dict(orient='records')\n",
    "\n",
    "td001_sys.gen_ecs_lib_final.fillna('NA').value_counts()"
   ]
  },
  {
   "cell_type": "code",
   "execution_count": null,
   "metadata": {},
   "outputs": [],
   "source": [
    "ind = td001_sys.gen_ch_lib_final.str.contains('indetermine')"
   ]
  },
  {
   "cell_type": "code",
   "execution_count": null,
   "metadata": {},
   "outputs": [],
   "source": [
    "ind_dict=td001_sys.loc[ind,'gen_ch_lib_final'].value_counts().to_dict()"
   ]
  },
  {
   "cell_type": "code",
   "execution_count": 1104,
   "metadata": {},
   "outputs": [],
   "source": [
    "dpe_list=td001_sys.loc[td001_sys.gen_ch_lib_final=='pac eau/eau'].td001_dpe_id.tolist()"
   ]
  },
  {
   "cell_type": "code",
   "execution_count": null,
   "metadata": {},
   "outputs": [],
   "source": [
    "dpe_list = gen_ecs_lib.loc[gen_ecs_lib.label==\"ecs bois indetermine\"].td001_dpe_id.tolist()"
   ]
  },
  {
   "cell_type": "code",
   "execution_count": null,
   "metadata": {},
   "outputs": [],
   "source": [
    "dpe_list=td001_sys.loc[td001_sys.gen_ch_lib_final_simp== 'chaudiere energie indetermine standard'].td001_dpe_id.tolist()"
   ]
  },
  {
   "cell_type": "code",
   "execution_count": null,
   "metadata": {},
   "outputs": [],
   "source": [
    "dpe_list=gen_ecs_lib.loc[gen_ecs_lib.label== 'ecs gaz indetermine'].td001_dpe_id.tolist()"
   ]
  },
  {
   "cell_type": "code",
   "execution_count": null,
   "metadata": {},
   "outputs": [],
   "source": [
    "ind_keys = list(ind_dict.keys())"
   ]
  },
  {
   "cell_type": "code",
   "execution_count": null,
   "metadata": {},
   "outputs": [],
   "source": []
  },
  {
   "cell_type": "code",
   "execution_count": null,
   "metadata": {},
   "outputs": [],
   "source": [
    "ind_key=ind_keys.pop(0)\n",
    "dpe_list = td001_sys.loc[td001_sys.gen_ch_lib_final==  ind_key].td001_dpe_id.tolist()"
   ]
  },
  {
   "cell_type": "code",
   "execution_count": null,
   "metadata": {},
   "outputs": [],
   "source": [
    "ind_key"
   ]
  },
  {
   "cell_type": "code",
   "execution_count": null,
   "metadata": {},
   "outputs": [],
   "source": [
    "gen_ecs_lib.loc[gen_ecs_lib.td001_dpe_id==\"137882\"]"
   ]
  },
  {
   "cell_type": "code",
   "execution_count": 1106,
   "metadata": {},
   "outputs": [
    {
     "data": {
      "text/plain": [
       "'pac eau  eau sur plancher et radiateurs.'"
      ]
     },
     "execution_count": 1106,
     "metadata": {},
     "output_type": "execute_result"
    }
   ],
   "source": [
    "\"pac eau  eau sur plancher et radiateurs.\".strip()"
   ]
  },
  {
   "cell_type": "code",
   "execution_count": 1105,
   "metadata": {},
   "outputs": [
    {
     "data": {
      "text/plain": [
       "{'7243': 'pompe a chaleur eau eau reseau d eau isole \\r  emetteurs: planchers chauffants   radiateurs aluminium',\n",
       " '360928': 'pompe a chaleur eau eau systeme basse temperature \\r emetteurs: planchers chauffants',\n",
       " '517207': 'pompe a chaleur eau eau\\r ',\n",
       " '542426': 'installation de chauffage \\r - chauffage 1  pac eau eau  energie electrique  reseau individuel',\n",
       " '596369': 'pompe a chaleur eau eau \\r emetteurs: radiateurs aluminium munis de robinets thermostatiques',\n",
       " '610661': 'pompe a chaleur eau eau\\r ',\n",
       " '622002': 'pompe a chaleur eau eau reseau d eau isole \\r emetteurs: radiateurs munis de robinets thermostatiques',\n",
       " '694490': 'installation de chauffage \\r - chauffage 1  pac eau eau  energie electrique  reseau individuel',\n",
       " '754766': 'pompe a chaleur eau eau \\remetteurs: radiateurs',\n",
       " '821602': ' - effet joule  pac duo',\n",
       " '882965': 'pompe a chaleur eau eau electrique aucun equipement individuel',\n",
       " '887382': 'pompe a chaleur eau eau systeme basse temperature  systeme individuel) \\r emetteurs: planchers chauffants',\n",
       " '887442': 'pompe a chaleur eau eau systeme basse temperature  systeme individuel) \\r emetteurs: planchers chauffants',\n",
       " '909174': 'pompe a chaleur eau eau avec programmateur  systeme individuel) \\remetteurs: radiateurs',\n",
       " '919257': ' - pac daikin erlq006c ehvh08s18  effet joule',\n",
       " '975179': 'installation de chauffage \\r - chauffage 1  pac eau eau  energie electrique  reseau individuel',\n",
       " '991880': 'pompe a chaleur eau eau  electricite)  regule',\n",
       " '1106930': ' - pac atlantic alfea extensa duo plus6',\n",
       " '1126205': 'pompe a chaleur eau eau  systeme individuel) \\r emetteurs: planchers chauffants',\n",
       " '1183048': ' - pac atlantic alfea extensa duo plus 8  effet joule',\n",
       " '1195248': ' - pompe a chaleur double service panasonic aquarea',\n",
       " '1373946': ' - appoint elec. pac ds chauffage',\n",
       " '1389840': ' - climasol pac gmg 4 06 s m mt',\n",
       " '1398518': 'pompe a chaleur eau eau systeme basse temperature  systeme individuel) \\remetteurs: planchers chauffants',\n",
       " '1484503': 'installation 1 :  electricite  pac eau eau  individuel  annee d installation : 2007; distribution : eau chaude  = 65  equipement d intermittence : central avec programmation d un minimum de temperature  reduit fixe ou reglable). distribution avec portion de reseau en volume non chauffe non ou mal isole ',\n",
       " '1540646': 'installation 1 :  electricite  pac eau eau  individuel  annee d installation : 2009; distribution : eau chaude  = 65  equipement d intermittence : central avec programmation seule de la fonction arret marche. distribution avec portion de reseau en volume non chauffe isole',\n",
       " '1593775': 'pompe a chaleur eau eau reseau isole  systeme individuel) \\remetteurs: plafonds chauffants',\n",
       " '1630905': ' - pac',\n",
       " '1635640': ' - pac duo',\n",
       " '1730128': '1   installation de chauffage sans solaire',\n",
       " '1767132': 'pompe a chaleur eau eau regulee  avec programmateur  systeme individuel)',\n",
       " '1771900': ' - pac eau eau',\n",
       " '1773636': ' - appoint elec. pac ds chauffage  effet joule',\n",
       " '1779701': ' - pac duo',\n",
       " '1783071': 'installation de chauffage \\r - chauffage 1  pac eau eau  energie electrique  reseau individuel',\n",
       " '1785739': ' - pac eau eau',\n",
       " '1836907': 'pompe a chaleur eau eau avec programmateur  systeme individuel) \\remetteurs: radiateurs munis de robinets thermostatiques',\n",
       " '1855610': 'pompe a chaleur eau eau avec programmateur  systeme individuel)',\n",
       " '1931572': ' - appoint elec. pac ds chauffage  effet joule',\n",
       " '1938435': ' - appoint elec. pac ds chauffage  effet joule',\n",
       " '2009892': ' - appoint elec. pac ds chauffage  effet joule',\n",
       " '2050563': ' - pac duo atlantic',\n",
       " '2098901': 'pompe a chaleur eau eau regulee  avec programmateur  systeme collectif) \\remetteurs: radiateurs',\n",
       " '2098920': 'pompe a chaleur eau eau regulee  avec programmateur  systeme collectif) \\remetteurs: radiateurs',\n",
       " '2104150': 'pompe a chaleur eau eau  electricite)  regule',\n",
       " '2105495': 'installation de chauffage \\r - chauffage 1  pac eau eau  energie electrique  chauffage individuel',\n",
       " '2121100': 'pac elec',\n",
       " '2126475': ' - effet joule  appoint elec. pac ds chauffage',\n",
       " '2293287': ' - pac eau eau',\n",
       " '2351218': ' - effet joule  appoint elec. pac ds chauffage  pac daikin altherma double sevice 8 kw',\n",
       " '2355915': ' - effet joule  appoint elec. pac ds chauffage  pac daikin altherma double sevice 6 kw',\n",
       " '2427771': 'pompe a chaleur eau eau  systeme individuel)',\n",
       " '2615483': 'pompe a chaleur eau eau avec programmateur  systeme individuel) \\remetteurs: radiateurs',\n",
       " '2626700': 'pompe a chaleur  divise)   type split + un radiateur a eau chaude collectif sans roninet thermostatique',\n",
       " '2653863': ' - pac duo',\n",
       " '2654358': 'pompe a chaleur collective eau eau + plancher ',\n",
       " '2814770': 'pompe a chaleur  divise) - type split regulee  reseau d eau isole  systeme individuel)',\n",
       " '2839646': ' - appoint elec. pac ds chauffage  alfea extensa duo',\n",
       " '2909504': 'installation de chauffage \\r - chauffage 1  pac eau eau  energie electrique  chauffage individuel',\n",
       " '3014379': ' - alfea extensa duo + 6  thermodynamique)',\n",
       " '3037964': ' - appoint elec. pac ds chauffage',\n",
       " '3063687': 'pompe a chaleur eau eau  electricite)',\n",
       " '3177949': ' - appoint elec. pac ds chauffage',\n",
       " '3178638': 'pompe a chaleur eau eau  systeme collectif) \\remetteurs: radiateurs',\n",
       " '3180732': 'pompe a chaleur eau eau  systeme individuel)',\n",
       " '3188124': 'pompe a chaleur eau eau electrique',\n",
       " '3302445': ' - appoint elec. pac ds chauffage',\n",
       " '3324438': ' - appoint elec. pac ds chauffage  pac alfea extensa duo plus 5',\n",
       " '3423518': ' - alfea extensa duo + 6  thermodynamique)',\n",
       " '3477952': 'pompe a chaleur eau eau avec thermostat d ambiance  systeme individuel) \\remetteurs: planchers chauffants',\n",
       " '3499522': 'pompe a chaleur eau eau regulee  avec thermostat d ambiance  systeme individuel)',\n",
       " '3654266': ' - effet joule  appoint elec. pac ds chauffage  erlq006 ehvz08s18cb',\n",
       " '3714010': 'pompe a chaleur eau eau  electricite)  regule',\n",
       " '3753374': 'pompe a chaleur eau eau avec thermostat d ambiance  systeme individuel)',\n",
       " '3753995': 'pac elec',\n",
       " '3787599': 'pompe a chaleur collective eau eau + plancher ',\n",
       " '3906188': 'pompe a chaleur eau eau\\r ',\n",
       " '3907416': 'pac individuelle chauffage',\n",
       " '3969888': 'pompe a chaleur eau eau regulee  avec thermostat d ambiance  systeme individuel) \\remetteurs: radiateurs',\n",
       " '4026364': ' - appoint elec. pac ds chauffage  erlq004cv3   ehvh004c3v  effet joule',\n",
       " '4059804': ' - pac eau eau',\n",
       " '4059807': ' - pac eau eau',\n",
       " '4059808': ' - pac eau eau',\n",
       " '4059810': ' - pac eau eau',\n",
       " '4059812': ' - pac eau eau',\n",
       " '4059813': ' - pac eau eau',\n",
       " '4059815': ' - pac eau eau',\n",
       " '4059817': ' - pac eau eau',\n",
       " '4059820': ' - pac eau eau',\n",
       " '4059821': ' - pac eau eau',\n",
       " '4059822': ' - pac eau eau',\n",
       " '4059825': ' - pac eau eau',\n",
       " '4059826': ' - pac eau eau',\n",
       " '4059828': ' - pac eau eau',\n",
       " '4059831': ' - pac eau eau',\n",
       " '4059836': ' - pac eau eau',\n",
       " '4059839': ' - pac eau eau',\n",
       " '4059843': ' - pac eau eau',\n",
       " '4059846': ' - pac eau eau',\n",
       " '4059849': ' - pac eau eau',\n",
       " '4059853': ' - pac eau eau',\n",
       " '4059856': ' - pac eau eau',\n",
       " '4059859': ' - pac eau eau',\n",
       " '4059864': ' - pac eau eau',\n",
       " '4059866': ' - pac eau eau',\n",
       " '4059869': ' - pac eau eau',\n",
       " '4059872': ' - pac eau eau',\n",
       " '4059875': ' - pac eau eau',\n",
       " '4059878': ' - pac eau eau',\n",
       " '4059881': ' - pac eau eau',\n",
       " '4059884': ' - pac eau eau',\n",
       " '4059887': ' - pac eau eau',\n",
       " '4059888': ' - pac eau eau',\n",
       " '4059891': ' - pac eau eau',\n",
       " '4059892': ' - pac eau eau',\n",
       " '4059893': ' - pac eau eau',\n",
       " '4059895': ' - pac eau eau',\n",
       " '4059897': ' - pac eau eau',\n",
       " '4059898': ' - pac eau eau',\n",
       " '4059899': ' - pac eau eau',\n",
       " '4059902': ' - pac eau eau',\n",
       " '4059903': ' - pac eau eau',\n",
       " '4059907': ' - pac eau eau',\n",
       " '4059910': ' - pac eau eau',\n",
       " '4059911': ' - pac eau eau',\n",
       " '4375843': ' - pac de dietrich miv-4 e 4-8 v200 + awhp',\n",
       " '4375910': ' - pac de dietrich miv-4 e 4-8 v200 + awhp 6mr',\n",
       " '4376013': ' - pac de dietrich miv-4 e 4-8 v200 + awhp 6mr',\n",
       " '4376072': ' - pac de dietrich miv-4 e 4-8 v200 + awhp 6mr',\n",
       " '4376129': ' - pac de dietrich miv-4 e 4-8 v200 + awhp 6mr',\n",
       " '4404823': 'pompe a chaleur  divise) - type split reseau d eau isole  systeme individuel) \\remetteurs: split',\n",
       " '4505502': ' - pac eau eau',\n",
       " '4505504': ' - pac eau eau',\n",
       " '4505506': ' - pac eau eau',\n",
       " '4505507': ' - pac eau eau',\n",
       " '4505509': ' - pac eau eau',\n",
       " '4505514': ' - pac eau eau',\n",
       " '4505515': ' - pac eau eau',\n",
       " '4505516': ' - pac eau eau',\n",
       " '4505518': ' - pac eau eau',\n",
       " '4505519': ' - pac eau eau',\n",
       " '4505521': ' - pac eau eau',\n",
       " '4505525': ' - pac eau eau',\n",
       " '4505527': ' - pac eau eau',\n",
       " '4505529': ' - pac eau eau',\n",
       " '4505530': ' - pac eau eau',\n",
       " '4505532': ' - pac eau eau',\n",
       " '4505534': ' - pac eau eau',\n",
       " '4505537': ' - pac eau eau',\n",
       " '4505539': ' - pac eau eau',\n",
       " '4505541': ' - pac eau eau',\n",
       " '4505543': ' - pac eau eau',\n",
       " '4505545': ' - pac eau eau',\n",
       " '4505549': ' - pac eau eau',\n",
       " '4505552': ' - pac eau eau',\n",
       " '4505554': ' - pac eau eau',\n",
       " '4505556': ' - pac eau eau',\n",
       " '4505558': ' - pac eau eau',\n",
       " '4505559': ' - pac eau eau',\n",
       " '4529124': ' - pac eau eau',\n",
       " '4529127': ' - pac eau eau',\n",
       " '4529130': ' - pac eau eau',\n",
       " '4529131': ' - pac eau eau',\n",
       " '4529132': ' - pac eau eau',\n",
       " '4529135': ' - pac eau eau',\n",
       " '4529137': ' - pac eau eau',\n",
       " '4529138': ' - pac eau eau',\n",
       " '4529139': ' - pac eau eau',\n",
       " '4529140': ' - pac eau eau',\n",
       " '4529142': ' - pac eau eau',\n",
       " '4529143': ' - pac eau eau',\n",
       " '4529144': ' - pac eau eau',\n",
       " '4529146': ' - pac eau eau',\n",
       " '4529150': ' - pac eau eau',\n",
       " '4529153': ' - pac eau eau',\n",
       " '4529155': ' - pac eau eau',\n",
       " '4529157': ' - pac eau eau',\n",
       " '4529160': ' - pac eau eau',\n",
       " '4529164': ' - pac eau eau',\n",
       " '4529166': ' - pac eau eau',\n",
       " '4529167': ' - pac eau eau',\n",
       " '4529169': ' - pac eau eau',\n",
       " '4529171': ' - pac eau eau',\n",
       " '4529172': ' - pac eau eau',\n",
       " '4529175': ' - pac eau eau',\n",
       " '4529176': ' - pac eau eau',\n",
       " '4529177': ' - pac eau eau',\n",
       " '4529178': ' - pac eau eau',\n",
       " '4529180': ' - pac eau eau',\n",
       " '4529181': ' - pac eau eau',\n",
       " '4529183': ' - pac eau eau',\n",
       " '4529186': ' - pac eau eau',\n",
       " '4529377': ' - pac eau eau',\n",
       " '4529378': ' - pac eau eau',\n",
       " '4529379': ' - pac eau eau',\n",
       " '4529381': ' - pac eau eau',\n",
       " '4529384': ' - pac eau eau',\n",
       " '4529386': ' - pac eau eau',\n",
       " '4529389': ' - pac eau eau',\n",
       " '4529393': ' - pac eau eau',\n",
       " '4529394': ' - pac eau eau',\n",
       " '4529395': ' - pac eau eau',\n",
       " '4529396': ' - pac eau eau',\n",
       " '4529397': ' - pac eau eau',\n",
       " '4529401': ' - pac eau eau',\n",
       " '4529404': ' - pac eau eau',\n",
       " '4529406': ' - pac eau eau',\n",
       " '4529408': ' - pac eau eau',\n",
       " '4529410': ' - pac eau eau',\n",
       " '4529411': ' - pac eau eau',\n",
       " '4529415': ' - pac eau eau',\n",
       " '4529419': ' - pac eau eau',\n",
       " '4529422': ' - pac eau eau',\n",
       " '4529425': ' - pac eau eau',\n",
       " '4529428': ' - pac eau eau',\n",
       " '4529430': ' - pac eau eau',\n",
       " '4529435': ' - pac eau eau',\n",
       " '4529439': ' - pac eau eau',\n",
       " '4529443': ' - pac eau eau',\n",
       " '4529444': ' - pac eau eau',\n",
       " '4529448': ' - pac eau eau',\n",
       " '4529450': ' - pac eau eau',\n",
       " '4529452': ' - pac eau eau',\n",
       " '4529454': ' - pac eau eau',\n",
       " '4529455': ' - pac eau eau',\n",
       " '4529458': ' - pac eau eau',\n",
       " '4529461': ' - pac eau eau',\n",
       " '4529462': ' - pac eau eau',\n",
       " '4529463': ' - pac eau eau',\n",
       " '4529465': ' - pac eau eau',\n",
       " '4529468': ' - pac eau eau',\n",
       " '4529470': ' - pac eau eau',\n",
       " '4529475': ' - pac eau eau',\n",
       " '4529478': ' - pac eau eau',\n",
       " '4529480': ' - pac eau eau',\n",
       " '4529485': ' - pac eau eau',\n",
       " '4565220': 'pompe a chaleur eau eau regulee   systeme individuel) \\remetteurs: planchers chauffants',\n",
       " '4635803': 'pompe a chaleur eau eau\\r ',\n",
       " '4732521': 'pompe a chaleur  divise) - type split  systeme individuel)',\n",
       " '4737086': 'pompe a chaleur  sur groupe central eau tiede fourni par le centre commercial)',\n",
       " '4843880': 'pompe a chaleur eau eau\\r generateur effet joule electricite\\r ',\n",
       " '4873144': 'pompe a chaleur eau eau regulee  avec programmateur  systeme individuel) \\remetteurs: planchers chauffants',\n",
       " '4976305': ' - appoint elec. pac ds chauffage  eria aqua',\n",
       " '5022711': 'pompe a chaleur eau eau regulee alfea extensa duo +   avec programmateur  reseau isole  systeme basse temperature  systeme individuel) \\remetteurs: planchers chauffants',\n",
       " '5031257': 'pompe a chaleur eau eau  systeme collectif) \\remetteurs: planchers chauffants',\n",
       " '5031477': 'pompe a chaleur eau eau  systeme individuel) \\remetteurs: planchers chauffants',\n",
       " '5035091': '1   installation de chauffage sans solaire',\n",
       " '5171789': 'pompe a chaleur eau eau electrique aucun equipement individuel',\n",
       " '5232823': 'pompe a chaleur eau eau\\r ',\n",
       " '5378968': ' - appoint elec. pac ds chauffage  pac duo mitsubishi electric  seche serviette mixte',\n",
       " '5386154': 'pac elec',\n",
       " '5413057': 'systeme de chauffage : installation individuelle pompe a chaleur eau eau electrique',\n",
       " '5421079': ' - pompe a chaleur eau nappe   eau fonctionnant en double service - alpha innotec swp 1000h',\n",
       " '5421084': ' - pompe a chaleur eau nappe   eau fonctionnant en double service - alpha innotec swp 1000h',\n",
       " '5421086': ' - pompe a chaleur eau nappe   eau fonctionnant en double service - alpha innotec swp 1000h',\n",
       " '5421090': ' - pompe a chaleur eau nappe   eau fonctionnant en double service - alpha innotec swp 1000h',\n",
       " '5421093': ' - pompe a chaleur eau nappe   eau fonctionnant en double service - alpha innotec swp 1000h',\n",
       " '5421096': ' - pompe a chaleur eau nappe   eau fonctionnant en double service - alpha innotec swp 1000h',\n",
       " '5421099': ' - pompe a chaleur eau nappe   eau fonctionnant en double service - alpha innotec swp 1000h',\n",
       " '5421101': ' - pompe a chaleur eau nappe   eau fonctionnant en double service - alpha innotec swp 1000h',\n",
       " '5421104': ' - pompe a chaleur eau nappe   eau fonctionnant en double service - alpha innotec swp 1000h',\n",
       " '5421108': ' - pompe a chaleur eau nappe   eau fonctionnant en double service - alpha innotec swp 1000h',\n",
       " '5421112': ' - pompe a chaleur eau nappe   eau fonctionnant en double service - alpha innotec swp 1000h',\n",
       " '5421118': ' - pompe a chaleur eau nappe   eau fonctionnant en double service - alpha innotec swp 1000h',\n",
       " '5421120': ' - pompe a chaleur eau nappe   eau fonctionnant en double service - alpha innotec swp 1000h',\n",
       " '5421124': ' - pompe a chaleur eau nappe   eau fonctionnant en double service - alpha innotec swp 1000h',\n",
       " '5421126': ' - pompe a chaleur eau nappe   eau fonctionnant en double service - alpha innotec swp 1000h',\n",
       " '5421131': ' - pompe a chaleur eau nappe   eau fonctionnant en double service - alpha innotec swp 1000h',\n",
       " '5421134': ' - pompe a chaleur eau nappe   eau fonctionnant en double service - alpha innotec swp 1000h',\n",
       " '5421136': ' - pompe a chaleur eau nappe   eau fonctionnant en double service - alpha innotec swp 1000h',\n",
       " '5421144': ' - pompe a chaleur eau nappe   eau fonctionnant en double service - alpha innotec swp 1000h',\n",
       " '5421150': ' - pompe a chaleur eau nappe   eau fonctionnant en double service - alpha innotec swp 1000h',\n",
       " '5421152': ' - pompe a chaleur eau nappe   eau fonctionnant en double service - alpha innotec swp 1000h',\n",
       " '5421158': ' - pompe a chaleur eau nappe   eau fonctionnant en double service - alpha innotec swp 1000h',\n",
       " '5421160': ' - pompe a chaleur eau nappe   eau fonctionnant en double service - alpha innotec swp 1000h',\n",
       " '5421165': ' - pompe a chaleur eau nappe   eau fonctionnant en double service - alpha innotec swp 1000h',\n",
       " '5421167': ' - pompe a chaleur eau nappe   eau fonctionnant en double service - alpha innotec swp 1000h',\n",
       " '5421173': ' - pompe a chaleur eau nappe   eau fonctionnant en double service - alpha innotec swp 1000h',\n",
       " '5421177': ' - pompe a chaleur eau nappe   eau fonctionnant en double service - alpha innotec swp 1000h',\n",
       " '5421179': ' - pompe a chaleur eau nappe   eau fonctionnant en double service - alpha innotec swp 1000h',\n",
       " '5421182': ' - pompe a chaleur eau nappe   eau fonctionnant en double service - alpha innotec swp 1000h',\n",
       " '5421187': ' - pompe a chaleur eau nappe   eau fonctionnant en double service - alpha innotec swp 1000h',\n",
       " '5421190': ' - pompe a chaleur eau nappe   eau fonctionnant en double service - alpha innotec swp 1000h',\n",
       " '5421193': ' - pompe a chaleur eau nappe   eau fonctionnant en double service - alpha innotec swp 1000h',\n",
       " '5421195': ' - pompe a chaleur eau nappe   eau fonctionnant en double service - alpha innotec swp 1000h',\n",
       " '5421197': ' - pompe a chaleur eau nappe   eau fonctionnant en double service - alpha innotec swp 1000h',\n",
       " '5421200': ' - pompe a chaleur eau nappe   eau fonctionnant en double service - alpha innotec swp 1000h',\n",
       " '5421203': ' - pompe a chaleur eau nappe   eau fonctionnant en double service - alpha innotec swp 1000h',\n",
       " '5421207': ' - pompe a chaleur eau nappe   eau fonctionnant en double service - alpha innotec swp 1000h',\n",
       " '5421214': ' - pompe a chaleur eau nappe   eau fonctionnant en double service - alpha innotec swp 1000h',\n",
       " '5421219': ' - pompe a chaleur eau nappe   eau fonctionnant en double service - alpha innotec swp 1000h',\n",
       " '5435799': 'pompe a chaleur eau eau avec programmateur  systeme basse temperature  systeme individuel) \\remetteurs: planchers chauffants',\n",
       " '5526395': 'systeme de chauffage : installation individuelle pompe a chaleur eau eau electrique',\n",
       " '5630633': ' - pac duo',\n",
       " '5687463': 'pac elec',\n",
       " '5752636': 'pompe a chaleur eau eau  systeme individuel) \\remetteurs: planchers chauffants',\n",
       " '6052926': 'pompe a chaleur eau eau  systeme individuel) \\remetteurs: planchers chauffants',\n",
       " '6065776': ' - effet joule direct  appoint elec. pac ds chauffage  daikin altherma bizone bt ds bibloc ehvz taille',\n",
       " '6072011': 'pompe a chaleur  divise) - type split reseau d eau isole  systeme individuel) \\remetteurs: split',\n",
       " '6124576': ' - pac eau eau',\n",
       " '6124577': ' - pac eau eau',\n",
       " '6124579': ' - pac eau eau',\n",
       " '6124582': ' - pac eau eau',\n",
       " '6124584': ' - pac eau eau',\n",
       " '6124586': ' - pac eau eau',\n",
       " '6124588': ' - pac eau eau',\n",
       " '6124591': ' - pac eau eau',\n",
       " '6124596': ' - pac eau eau',\n",
       " '6124597': ' - pac eau eau',\n",
       " '6124598': ' - pac eau eau',\n",
       " '6124600': ' - pac eau eau',\n",
       " '6124602': ' - pac eau eau',\n",
       " '6124604': ' - pac eau eau',\n",
       " '6124606': ' - pac eau eau',\n",
       " '6124607': ' - pac eau eau',\n",
       " '6124608': ' - pac eau eau',\n",
       " '6124609': ' - pac eau eau',\n",
       " '6124610': ' - pac eau eau',\n",
       " '6184300': 'pompe a chaleur  divise) - type split reseau d eau isole  systeme individuel)',\n",
       " '6231645': 'pompe a chaleur  divise) - type split regulee  avec programmateur  reseau d eau isole  systeme individuel)',\n",
       " '6276456': 'pompe a chaleur eau eau avec programmateur  systeme individuel)',\n",
       " '6320163': 'pompe a chaleur eau eau regulee  avec programmateur  reseau isole  systeme individuel) \\remetteurs: planchers chauffants',\n",
       " '6451966': ' - pompe a chaleur sur eau de nappe eau',\n",
       " '6451968': ' - pompe a chaleur sur eau de nappe eau',\n",
       " '6451969': ' - pompe a chaleur sur eau de nappe eau',\n",
       " '6451970': ' - pompe a chaleur sur eau de nappe eau',\n",
       " '6451973': ' - pompe a chaleur sur eau de nappe eau',\n",
       " '6451974': ' - pompe a chaleur sur eau de nappe eau',\n",
       " '6451975': ' - pompe a chaleur sur eau de nappe eau',\n",
       " '6451976': ' - pompe a chaleur sur eau de nappe eau',\n",
       " '6451977': ' - pompe a chaleur sur eau de nappe eau',\n",
       " '6451978': ' - pompe a chaleur sur eau de nappe eau',\n",
       " '6451979': ' - pompe a chaleur sur eau de nappe eau',\n",
       " '6451980': ' - pompe a chaleur sur eau de nappe eau',\n",
       " '6451982': ' - pompe a chaleur sur eau de nappe eau',\n",
       " '6451984': ' - pompe a chaleur sur eau de nappe eau',\n",
       " '6451985': ' - pompe a chaleur sur eau de nappe eau',\n",
       " '6451987': ' - pompe a chaleur sur eau de nappe eau',\n",
       " '6451988': ' - pompe a chaleur sur eau de nappe eau',\n",
       " '6451989': ' - pompe a chaleur sur eau de nappe eau',\n",
       " '6451991': ' - pompe a chaleur sur eau de nappe eau',\n",
       " '6451993': ' - pompe a chaleur sur eau de nappe eau',\n",
       " '6451996': ' - pompe a chaleur sur eau de nappe eau',\n",
       " '6451999': ' - pompe a chaleur sur eau de nappe eau',\n",
       " '6452000': ' - pompe a chaleur sur eau de nappe eau',\n",
       " '6452001': ' - pompe a chaleur sur eau de nappe eau',\n",
       " '6452003': ' - pompe a chaleur sur eau de nappe eau',\n",
       " '6452004': ' - pompe a chaleur sur eau de nappe eau',\n",
       " '6452005': ' - pompe a chaleur sur eau de nappe eau',\n",
       " '6452008': ' - pompe a chaleur sur eau de nappe eau',\n",
       " '6452009': ' - pompe a chaleur sur eau de nappe eau',\n",
       " '6452011': ' - pompe a chaleur sur eau de nappe eau',\n",
       " '6452012': ' - pompe a chaleur sur eau de nappe eau',\n",
       " '6452014': ' - pompe a chaleur sur eau de nappe eau',\n",
       " '6452016': ' - pompe a chaleur sur eau de nappe eau',\n",
       " '6452018': ' - pompe a chaleur sur eau de nappe eau',\n",
       " '6452020': ' - pompe a chaleur sur eau de nappe eau',\n",
       " '6452022': ' - pompe a chaleur sur eau de nappe eau',\n",
       " '6452023': ' - pompe a chaleur sur eau de nappe eau',\n",
       " '6452025': ' - pompe a chaleur sur eau de nappe eau',\n",
       " '6452026': ' - pompe a chaleur sur eau de nappe eau',\n",
       " '6452028': ' - pompe a chaleur sur eau de nappe eau',\n",
       " '6452029': ' - pompe a chaleur sur eau de nappe eau',\n",
       " '6452033': ' - pompe a chaleur sur eau de nappe eau',\n",
       " '6452035': ' - pompe a chaleur sur eau de nappe eau',\n",
       " '6452036': ' - pompe a chaleur sur eau de nappe eau',\n",
       " '6452037': ' - pompe a chaleur sur eau de nappe eau',\n",
       " '6452039': ' - pompe a chaleur sur eau de nappe eau',\n",
       " '6452040': ' - pompe a chaleur sur eau de nappe eau',\n",
       " '6452041': ' - pompe a chaleur sur eau de nappe eau',\n",
       " '6452042': ' - pompe a chaleur sur eau de nappe eau',\n",
       " '6452043': ' - pompe a chaleur sur eau de nappe eau',\n",
       " '6452044': ' - pompe a chaleur sur eau de nappe eau',\n",
       " '6452046': ' - pompe a chaleur sur eau de nappe eau',\n",
       " '6452050': ' - pompe a chaleur sur eau de nappe eau',\n",
       " '6452051': ' - pompe a chaleur sur eau de nappe eau',\n",
       " '6452054': ' - pompe a chaleur sur eau de nappe eau',\n",
       " '6452055': ' - pompe a chaleur sur eau de nappe eau',\n",
       " '6452056': ' - pompe a chaleur sur eau de nappe eau',\n",
       " '6452057': ' - pompe a chaleur sur eau de nappe eau',\n",
       " '6452058': ' - pompe a chaleur sur eau de nappe eau',\n",
       " '6452060': ' - pompe a chaleur sur eau de nappe eau',\n",
       " '6452063': ' - pompe a chaleur sur eau de nappe eau',\n",
       " '6452064': ' - pompe a chaleur sur eau de nappe eau',\n",
       " '6452066': ' - pompe a chaleur sur eau de nappe eau',\n",
       " '6452068': ' - pompe a chaleur sur eau de nappe eau',\n",
       " '6452070': ' - pompe a chaleur sur eau de nappe eau',\n",
       " '6452071': ' - pompe a chaleur sur eau de nappe eau',\n",
       " '6452072': ' - pompe a chaleur sur eau de nappe eau',\n",
       " '6452074': ' - pompe a chaleur sur eau de nappe eau',\n",
       " '6452075': ' - pompe a chaleur sur eau de nappe eau',\n",
       " '6452076': ' - pompe a chaleur sur eau de nappe eau',\n",
       " '6452077': ' - pompe a chaleur sur eau de nappe eau',\n",
       " '6467964': 'pompe a chaleur eau eau  systeme individuel)',\n",
       " '6477498': 'pompe a chaleur eau eau regulee  avec programmateur  systeme basse temperature  systeme individuel)',\n",
       " '6540763': 'pompe a chaleur eau eau regulee  systeme individuel)',\n",
       " '6541346': 'pompe a chaleur eau eau regulee  systeme individuel)',\n",
       " '6544089': 'pompe a chaleur  divise) - type split regulee  reseau d eau isole  systeme collectif)',\n",
       " '6581271': 'pompe a chaleur  divise) - type split avec programmateur  reseau d eau isole  systeme individuel) \\remetteurs: split',\n",
       " '6581288': 'pompe a chaleur  divise) - type split avec programmateur  reseau d eau isole  systeme individuel) \\remetteurs: split',\n",
       " '6621038': 'pompe a chaleur eau eau regulee  avec programmateur  reseau isole  systeme basse temperature  systeme individuel) \\remetteurs: planchers chauffants et radiateurs',\n",
       " '6662095': 'generateur effet joule resistance appoint\\r pompe a chaleur eau eau\\r ',\n",
       " '6665487': 'installation de chauffage \\r - chauffage 1  pac eau eau  energie electrique  chauffage individuel',\n",
       " '6670743': 'pompe a chaleur eau eau regulee  reseau isole  systeme basse temperature  systeme individuel) \\remetteurs: planchers chauffants',\n",
       " '6671882': 'pompe a chaleur eau eau regulee  avec programmateur  systeme individuel) \\remetteurs: radiateurs fonte',\n",
       " '6690493': 'pompe a chaleur  divise) - type split  systeme individuel)',\n",
       " '6691957': 'pompe a chaleur eau eau regulee  avec programmateur  systeme individuel) \\remetteurs: planchers chauffants au 1er  au dire du proprietaire) et radiateur au rdc',\n",
       " '6693570': 'pompe a chaleur  divise) - type split  systeme individuel)',\n",
       " '6801637': 'pompe a chaleur eau eau regulee  avec thermostat d ambiance  systeme individuel) \\remetteurs: ventilo convecteurs  dynaciat ilg 240v 3x400v',\n",
       " '6849015': '1   installation de chauffage sans solaire',\n",
       " '6881000': ' - alfea extensa duo appoint elec. pac ds chauffage',\n",
       " '6902138': ' - effet joule  appoint elec. pac ds chauffage  daikin altherma bizone bt ds bibloc ehvz taille 8',\n",
       " '6902435': 'pompe a chaleur eau eau regulee  avec programmateur  systeme basse temperature  systeme individuel) \\remetteurs: planchers chauffants',\n",
       " '6902532': 'pompe a chaleur eau eau regulee  avec programmateur  systeme basse temperature  systeme individuel) \\remetteurs: planchers chauffants',\n",
       " '6980894': ' - nouveau generateur  appoint elec. pac ds chauffage  daikin altherma bizone bt ds bibloc ehvz taille',\n",
       " '7038116': ' - pac eau eau',\n",
       " '7038119': ' - pac eau eau',\n",
       " '7038122': ' - pac eau eau',\n",
       " '7038123': ' - pac eau eau',\n",
       " '7038124': ' - pac eau eau',\n",
       " '7038125': ' - pac eau eau',\n",
       " '7038126': ' - pac eau eau',\n",
       " '7038127': ' - pac eau eau',\n",
       " '7038129': ' - pac eau eau',\n",
       " '7038131': ' - pac eau eau',\n",
       " '7038134': ' - pac eau eau',\n",
       " '7038135': ' - pac eau eau',\n",
       " '7038139': ' - pac eau eau',\n",
       " '7038142': ' - pac eau eau',\n",
       " '7038145': ' - pac eau eau',\n",
       " '7038146': ' - pac eau eau',\n",
       " '7038148': ' - pac eau eau',\n",
       " '7038150': ' - pac eau eau',\n",
       " '7038153': ' - pac eau eau',\n",
       " '7038155': ' - pac eau eau',\n",
       " '7038157': ' - pac eau eau',\n",
       " '7038159': ' - pac eau eau',\n",
       " '7038161': ' - pac eau eau',\n",
       " '7038163': ' - pac eau eau',\n",
       " '7038164': ' - pac eau eau',\n",
       " '7038165': ' - pac eau eau',\n",
       " '7038168': ' - pac eau eau',\n",
       " '7038170': ' - pac eau eau',\n",
       " '7038173': ' - pac eau eau',\n",
       " '7038174': ' - pac eau eau',\n",
       " '7038175': ' - pac eau eau',\n",
       " '7038176': ' - pac eau eau',\n",
       " '7038178': ' - pac eau eau',\n",
       " '7038179': ' - pac eau eau',\n",
       " '7038181': ' - pac eau eau',\n",
       " '7038182': ' - pac eau eau',\n",
       " '7038184': ' - pac eau eau',\n",
       " '7038186': ' - pac eau eau',\n",
       " '7038188': ' - pac eau eau',\n",
       " '7038191': ' - pac eau eau',\n",
       " '7038193': ' - pac eau eau',\n",
       " '7038196': ' - pac eau eau',\n",
       " '7038198': ' - pac eau eau',\n",
       " '7038357': ' - alfea extensa duo a i  6  appoint elec. pac ds chauffage  seche serviette',\n",
       " '7058438': 'pompe a chaleur eau eau  systeme individuel) \\remetteurs: planchers chauffants',\n",
       " '7072189': ' - pac eau eau  electricite',\n",
       " '7271329': 'pompe a chaleur eau eau regulee  avec programmateur  systeme individuel) \\remetteurs: radiateurs aluminium munis de robinets thermostatiques',\n",
       " '7277722': 'pompe a chaleur  divise) - type split regulee  avec thermostat d ambiance  reseau d eau isole  systeme individuel) \\remetteurs: split',\n",
       " '7317053': 'installation de chauffage \\r - chauffage 1  pac eau eau  energie electrique  chauffage individuel',\n",
       " '7538339': ' - chauffage electrique  appoint elec. pac ds chauffage  daikin altherma bizone bt ds bibloc ehvz taill',\n",
       " '7545045': 'pompe a chaleur  divise) - type split avec programmateur  reseau d eau isole  systeme individuel) \\remetteurs: split',\n",
       " '7563339': 'pac eau  eau sur plancher et radiateurs.',\n",
       " '7589120': 'pompe a chaleur eau eau avec programmateur  systeme collectif) \\remetteurs: planchers chauffants',\n",
       " '7605046': 'pompe a chaleur eau eau  systeme individuel) \\remetteurs: radiateurs et plancher chauffant',\n",
       " '7605529': 'pompe a chaleur eau eau electrique aucun equipement individuel',\n",
       " '7641202': ' - pac eau eau',\n",
       " '7643633': 'pompe a chaleur eau eau avec programmateur  systeme basse temperature  systeme individuel) \\remetteurs: planchers chauffants',\n",
       " '7738467': 'pompe a chaleur eau eau regulee  avec programmateur  systeme individuel) \\remetteurs: split',\n",
       " '7889641': 'pompe a chaleur eau eau\\r ',\n",
       " '8017668': 'pompe a chaleur  divise) - type split reseau d eau isole  systeme individuel) \\remetteurs: split',\n",
       " '8068294': 'pompe a chaleur eau eau reseau isole  systeme individuel) \\remetteurs: radiateurs fonte',\n",
       " '8100874': 'pompe a chaleur eau eau  systeme individuel)',\n",
       " '8152704': 'electrique direct autre avec programmateur  systeme individuel)',\n",
       " '8152705': 'electrique direct autre avec programmateur  systeme individuel)',\n",
       " '8194069': 'pompe a chaleur  divise) - type split regulee  avec programmateur  reseau d eau isole  systeme individuel) \\remetteurs: split',\n",
       " '8198476': 'pompe a chaleur  divise) - type split regulee  avec programmateur  reseau d eau isole  systeme individuel) \\remetteurs: split',\n",
       " '8256148': 'pompe a chaleur eau eau systeme basse temperature  systeme individuel) \\remetteurs: planchers chauffants',\n",
       " '8256220': 'pompe a chaleur eau eau systeme basse temperature  systeme individuel) \\remetteurs: planchers chauffants',\n",
       " '8283232': ' - appoint elec. pac ds chauffage  alfea extensa duo a i  seche serviette',\n",
       " '8315416': ' - pac ds chauffage  alfea ex   alfea extensa duo   5',\n",
       " '8315418': ' - pac ds chauffage  alfea ex   alfea extensa duo   5',\n",
       " '8315422': ' - pac ds chauffage  alfea ex   alfea extensa duo   5',\n",
       " '8315427': ' - pac ds chauffage  alfea ex   alfea extensa duo   5',\n",
       " '8315429': ' - pac ds chauffage  alfea ex   alfea extensa duo   5',\n",
       " '8315433': ' - pac ds chauffage  alfea ex   alfea extensa duo   5',\n",
       " '8315438': ' - pac ds chauffage  alfea ex   alfea extensa duo   5',\n",
       " '8688492': 'pompe a chaleur  sur groupe central eau tiede fourni par le centre commercial)',\n",
       " '8689604': 'pompe a chaleur eau eau avec programmateur  systeme collectif) \\remetteurs: radiateurs',\n",
       " '8792909': 'electrique direct seche serviette  systeme individuel)',\n",
       " '8864955': 'pompe a chaleur  divise) - type split regulee  avec programmateur  reseau d eau isole  systeme individuel)',\n",
       " '8875611': 'pompe a chaleur  divise) - type split reseau d eau isole  systeme individuel)',\n",
       " '8877117': 'pompe a chaleur  divise) - type split regulee  avec programmateur  reseau d eau isole  systeme individuel) \\remetteurs: split',\n",
       " '8877430': 'pompe a chaleur  divise) - type split regulee  avec programmateur  reseau d eau isole  systeme individuel) \\remetteurs: split',\n",
       " '8957425': 'source pac\\r source pac\\r generateur effet joule chauffe-eau elec\\r source pac\\r source pac\\r generateur effet joule chauffe-eau elec\\r source pac\\r source pac\\r generateur effet joule chauffe-eau elec\\r ',\n",
       " '9104528': 'pompe a chaleur eau eau regulee  avec programmateur  systeme individuel) \\remetteurs: planchers chauffants',\n",
       " '9108108': 'pompe a chaleur eau eau avec programmateur  systeme individuel)',\n",
       " '9119297': 'pompe a chaleur eau eau regulee  avec programmateur  systeme individuel) \\remetteurs: planchers chauffants et radiateurs',\n",
       " '9126666': 'pompe a chaleur eau eau avec thermostat d ambiance  systeme individuel) \\remetteurs: planchers chauffants',\n",
       " '9260110': 'pompe a chaleur eau eau  systeme individuel)',\n",
       " '9299530': 'pompe a chaleur eau eau avec programmateur  systeme individuel)',\n",
       " '9334593': ' - appoint elec. pompe a chaleur chauffage et eau chaude  erga04dv ehvz04s18d6v',\n",
       " '9336588': ' - effet joule  appoint elec. pac ds chauffage',\n",
       " '9420482': ' - appoint elec. pompe a chaleur chauffage et eau chaude  erga04dv ehvh04s23d6v'}"
      ]
     },
     "execution_count": 1105,
     "metadata": {},
     "output_type": "execute_result"
    }
   ],
   "source": [
    "a_list =td003_ch.loc[td003_ch.td001_dpe_id.isin(dpe_list)].descriptif.tolist()\n",
    "\n",
    "words = list()\n",
    "for el in a_list:\n",
    "    words.extend(el.split(' '))\n",
    "\n",
    "pd.Series(words).value_counts().to_dict()\n",
    "\n",
    "sel=td003_ch.loc[td003_ch.td001_dpe_id.isin(dpe_list)].set_index('td001_dpe_id')\n",
    "sel.descriptif.to_dict()"
   ]
  },
  {
   "cell_type": "code",
   "execution_count": 1107,
   "metadata": {},
   "outputs": [],
   "source": [
    "sel=td005_ch.loc[td005_ch.td001_dpe_id.isin(dpe_list)]\n",
    "\n"
   ]
  },
  {
   "cell_type": "code",
   "execution_count": 1108,
   "metadata": {},
   "outputs": [
    {
     "data": {
      "text/plain": [
       "{1521: 'pompe a chaleur eau eau reseau d eau isole \\r  emetteurs: planchers chauffants   radiateurs aluminium<br  re : 1  rr : 1  rd : 1  rg : 3.2  pn : 0  fch : 0',\n",
       " 120697: 'pompe a chaleur eau eau systeme basse temperature \\r emetteurs: radiateurs fonte munis de robinets thermostatiques<br  ',\n",
       " 120698: 'pompe a chaleur eau eau systeme basse temperature \\r emetteurs: planchers chauffants<br  ',\n",
       " 175153: 'installation de chauffage  295\\xa0m²)\\xa0:\\r - chauffage 1 : pac eau eau  energie : electrique)  avec equipement d intermittence central avec minimum de temperature  absence de regulation par piece  reseau de distribution isole ; emetteurs : plancher chauffant avec regulation terminale fabrique s) apres 2000  plancher basse temperature) ',\n",
       " 190853: 'pompe a chaleur eau eau \\r emetteurs: radiateurs aluminium munis de robinets thermostatiques<br  re : 1  rr : 1  rd : 0 9  rg : 3 2  pn : 0  fch : 0',\n",
       " 199194: 'pompe a chaleur eau eau reseau d eau isole \\r emetteurs: radiateurs munis de robinets thermostatiques<br  re : 1  rr : 1  rd : 0 9  rg : 3 2  pn : 0  fch : 0',\n",
       " 223343: 'installation de chauffage  90\\xa0m²)\\xa0:\\r - chauffage 1 : pac eau eau  energie : electrique)  avec equipement d intermittence central sans minimum de temperature  absence de regulation par piece  reseau de distribution isole ; emetteurs : plancher chauffant avec regulation terminale fabrique s) apres 2000  plancher basse temperature) ',\n",
       " 245358: 'pompe a chaleur eau eau \\remetteurs: radiateurs<br  re : 1  rr : 1  rd : 0 8  rg : 3 2  pn : 0  fch : 0',\n",
       " 263946: ' - effet joule  pac duo seche serviette electrique  plancher chauffant eau chaude',\n",
       " 291855: 'pompe a chaleur eau eau electrique aucun equipement individuel',\n",
       " 293312: 'pompe a chaleur eau eau systeme basse temperature  systeme individuel) \\r emetteurs: planchers chauffants<br  re : 1  rr : 0 9  rd : 0 9  rg : 3 2  pn : 0  fch : 0',\n",
       " 293331: 'pompe a chaleur eau eau systeme basse temperature  systeme individuel) \\r emetteurs: planchers chauffants<br  re : 1  rr : 0 9  rd : 0 9  rg : 3 2  pn : 0  fch : 0',\n",
       " 300345: 'pompe a chaleur eau eau avec programmateur  systeme individuel) \\remetteurs: radiateurs<br  re : 1  rr : 0 9  rd : 0 9  rg : 3 2  pn : 0  fch : 0',\n",
       " 304377: ' - pac daikin erlq006c ehvh08s18  effet joule plancher chauffant a eau',\n",
       " 321235: 'installation de chauffage  220\\xa0m²)\\xa0:\\r - chauffage 1 : pac eau eau  energie : electrique)  avec equipement d intermittence central avec minimum de temperature  regulation par piece  reseau de distribution isole ; emetteurs : plancher chauffant avec regulation terminale fabrique s) apres 2000  plancher basse temperature) ',\n",
       " 326040: 'type d installation : installation de chauffage sans solaire description de l installation : chauffage individuel  98 m² de surface chauffee intermittence : central avec minimum de temperature  sans regulation piece par piece generateur : pompe a chaleur eau eau energie : electricite type de chauffage :  central distribution : pas de reseau de distribution  ou pac) emetteur : plancher   plafond chauffant a eau en individuel  d apres 2000  :  ',\n",
       " 362570: ' - pac atlantic alfea extensa duo plus6 radiateurs a eau + horloge',\n",
       " 368136: 'pompe a chaleur eau eau  systeme individuel) \\r emetteurs: planchers chauffants<br  re : 1  rr : 0 9  rd : 0 9  rg : 3 2  pn : 0  fch : 0',\n",
       " 384665: ' - pac atlantic alfea extensa duo plus 8  effet joule plancher chauffant a eau  rdc  plancher chauffant a eau  etage',\n",
       " 390276: ' - pompe a chaleur double service panasonic aquarea radiateurs a eau + horloge',\n",
       " 451918: ' - appoint elec. pac ds chauffage plancher chauffant a eau  rdc  plancher chauffant a eau  etage',\n",
       " 456222: ' - climasol pac gmg 4 06 s m mt plancher chauffant a eau  rdc  plancher chauffant a eau  etage',\n",
       " 458536: 'pompe a chaleur eau eau systeme basse temperature  systeme individuel) \\remetteurs: planchers chauffants<br  re : 1  rr : 0 9  rd : 1  rg : 3 2  pn : 0  fch : 0',\n",
       " 487601: 'installation 1 :  electricite  pac eau eau  individuel  annee d installation : 2007; distribution : eau chaude  = 65  equipement d intermittence : central avec programmation d un minimum de temperature  reduit fixe ou reglable). distribution avec portion de reseau en volume non chauffe non ou mal isole ',\n",
       " 508845: 'installation 1 :  electricite  pac eau eau  individuel  annee d installation : 2009; distribution : eau chaude  = 65  equipement d intermittence : central avec programmation seule de la fonction arret marche. distribution avec portion de reseau en volume non chauffe isole',\n",
       " 526679: 'pompe a chaleur eau eau reseau isole  systeme individuel) \\remetteurs: plafonds chauffants<br  re : 1  rr : 0 9  rd : 1  rg : 3 2  pn : 0  fch : 0',\n",
       " 539952: ' - pac radiateur a eau bt 45  rdc  seche serviette oleron',\n",
       " 541026: ' - pac duo pcbt  radiateur a eau bt 45 ',\n",
       " 574199: 'inst 1 : 1 - installation de chauffage sans solaire inst 2 : 1 - installation de chauffage sans solaire',\n",
       " 585085: 'pompe a chaleur eau eau regulee  avec programmateur  systeme individuel)<br  re : 1  rr : 0 9  rd : 0 9  rg : 3 2  pn : 0  fch : 0',\n",
       " 587196: ' - pac eau eau radiateur ht sans robinet therm.',\n",
       " 587874: ' - appoint elec. pac ds chauffage  effet joule plancher chauffant a eau  seche serviette electrique atlantic ulysse',\n",
       " 591526: ' - pac duo radiateur a eau bt 45  rdc',\n",
       " 593433: 'installation de chauffage  120\\xa0m²)\\xa0:\\r - chauffage 1 : pac eau eau  energie : electrique)  avec equipement d intermittence par piece avec minimum de temperature  regulation par piece  reseau de distribution isole ; emetteurs : plancher chauffant avec regulation terminale fabrique s) apres 2000  emetteurs haute temperature) ',\n",
       " 593949: ' - pac eau eau radiateur ht avec robinet therm.',\n",
       " 609819: 'pompe a chaleur eau eau avec programmateur  systeme individuel) \\remetteurs: radiateurs munis de robinets thermostatiques<br  ',\n",
       " 616916: 'pompe a chaleur eau eau avec programmateur  systeme individuel)<br  ',\n",
       " 642342: ' - appoint elec. pac ds chauffage  effet joule plancher chauffant a eau   circulateur panasonic  seche serviette electrique atlantic ulysse',\n",
       " 645380: ' - appoint elec. pac ds chauffage  effet joule plancher chauffant a eau  seche serviette electrique atlantic ulysse',\n",
       " 673649: ' - appoint elec. pac ds chauffage  effet joule plancher chauffant a eau  seche serviette electrique atlantic ulysse',\n",
       " 692448: ' - pac duo atlantic radiateur a eau bt 45  rdc  plancher chauffant a eau rdc',\n",
       " 711836: 'pompe a chaleur eau eau regulee  avec programmateur  systeme collectif) \\remetteurs: radiateurs<br  re : 1  rr : 0 9  rd : 0 9  rg : 3 2  pn : 0  fch : 0',\n",
       " 711872: 'pompe a chaleur eau eau regulee  avec programmateur  systeme collectif) \\remetteurs: radiateurs<br  re : 1  rr : 0 9  rd : 0 9  rg : 3 2  pn : 0  fch : 0',\n",
       " 713630: 'type d installation : installation de chauffage sans solaire description de l installation : chauffage individuel  123 m² de surface chauffee intermittence : central avec minimum de temperature  sans regulation piece par piece generateur : pompe a chaleur eau eau energie : electricite type de chauffage :  central distribution : reseau individuel eau chaude moyenne temperature isole emetteur : plancher   plafond chauffant a eau en individuel  d apres 2000  moyenne temperature  :  ',\n",
       " 714022: 'installation de chauffage  166\\xa0m²)\\xa0:\\r - chauffage 1 : pac eau eau  energie : electrique)  sans equipement d intermittence  absence de regulation par piece  reseau de distribution non isole ; emetteurs : plancher chauffant sans regulation terminale fabrique s) apres 2000  plancher basse temperature) ',\n",
       " 717953: 'ciat ageo   balonn ecs 40ht',\n",
       " 719579: ' - effet joule  appoint elec. pac ds chauffage pcbt a eau rdc   circulateur panasonic  seche serviettes electrique atlantic ulysse',\n",
       " 782430: ' - la generation est situee en volume chauffe  pac eau eau     plancher chauffant emetteurs relie a un chauffage central individuel pas de reseau de distribution  equipement d intermittence central avec minimun de temperature absence d une regulation par piece     - la generation est situee en volume chauffe  pac eau eau     radiateur ht avec robinet thermostatique emetteurs relie a un chauffage central individuel pas de reseau de distribution  equipement d intermittence central avec minimun de temperature presence d une regulation par piece   ',\n",
       " 818220: ' - effet joule  appoint elec. pac ds chauffage  pac daikin altherma double sevice 8 kw plancher chauffant a eau  seche serviette electrique atlantic ulysse',\n",
       " 819212: ' - effet joule  appoint elec. pac ds chauffage  pac daikin altherma double sevice 6 kw plancher chauffant a eau  seche serviette electrique atlantic ulysse',\n",
       " 841590: 'pompe a chaleur eau eau  systeme individuel)<br  ',\n",
       " 903012: 'pompe a chaleur eau eau avec programmateur  systeme individuel) \\remetteurs: radiateurs<br  ',\n",
       " 914687: ' - pac duo radiateur a eau bt 45  rdc  radiateur a eau bt 45  etg',\n",
       " 968174: 'pompe a chaleur  divise) - type split regulee  reseau d eau isole  systeme individuel)<br  ',\n",
       " 972088: ' - appoint elec. pac ds chauffage  alfea extensa duo plancher chauffant rdc etage  seche serviette sdb eau chaude',\n",
       " 995008: 'installation de chauffage  92 9\\xa0m²)\\xa0:\\r - chauffage 1 : pac eau eau  energie : electrique)  sans equipement d intermittence  absence de regulation par piece  reseau de distribution isole ; emetteurs : plancher chauffant sans regulation terminale fabrique s) entre 1981 et 2000  plancher basse temperature) ',\n",
       " 1029555: ' - alfea extensa duo + 6  thermodynamique) systeme de chauffage radiateur eau chaude',\n",
       " 1037047: ' - appoint elec. pac ds chauffage plancher chauffant  ss eau',\n",
       " 1056427: 'type d installation : installation de chauffage sans solaire description de l installation : chauffage individuel  142 m² de surface chauffee intermittence : central avec minimum de temperature  sans regulation piece par piece generateur : pompe a chaleur eau eau energie : electricite type de chauffage :  central distribution : reseau individuel eau chaude basse temperature isole emetteur : plancher   plafond chauffant a eau en individuel  d apres 2000  basse temperature  :  ',\n",
       " 1100719: ' - appoint elec. pac ds chauffage plancher chauffant   seche serviette sdb a eau chaude',\n",
       " 1100855: 'pompe a chaleur eau eau  systeme collectif) \\remetteurs: radiateurs<br  ',\n",
       " 1101663: 'pompe a chaleur eau eau  systeme individuel)<br  ',\n",
       " 1103450: 'pompe a chaleur eau eau electrique',\n",
       " 1147237: ' - appoint elec. pac ds chauffage plancher chauffant   seche serviette sdb a eau chaude',\n",
       " 1160526: ' - appoint elec. pac ds chauffage  pac alfea extensa duo plus 5 plancher chauffant a eau',\n",
       " 1192919: ' - alfea extensa duo + 6  thermodynamique) systeme de chauffage radiateur eau chaude',\n",
       " 1213117: 'pompe a chaleur eau eau avec thermostat d ambiance  systeme individuel) \\remetteurs: planchers chauffants<br  re : 1  rr : 0 95  rd : 0 91  rg : 3 2  pn : 0  fch : 0',\n",
       " 1219319: 'pompe a chaleur eau eau regulee  avec thermostat d ambiance  systeme individuel)<br  ',\n",
       " 1271294: ' - effet joule  appoint elec. pac ds chauffage  erlq006 ehvz08s18cb pcbt a eau rdc  seche serviettes electrique atlantic ulysse  pcbt a eau etage  pc chauffant sur porc',\n",
       " 1290672: 'type d installation : installation de chauffage sans solaire description de l installation : chauffage individuel  97 m² de surface chauffee intermittence : central sans minimum de temperature  sans regulation piece par piece generateur : pompe a chaleur eau eau energie : electricite type de chauffage :  central distribution : pas de reseau de distribution  ou pac) emetteur : plancher   plafond chauffant a eau en individuel  entre 1981 et 2000  :  ',\n",
       " 1303919: 'pompe a chaleur eau eau avec thermostat d ambiance  systeme individuel)<br  re : 0 95  rr : 0 9  rd : 0 91  rg : 3 2  pn : 0  fch : 0',\n",
       " 1304036: 'pac e%2fe-plancher chauffant',\n",
       " 1358740: 'chauffe eau thermodynamique<br  ',\n",
       " 1358741: 'seche serviette sdb<br  ',\n",
       " 1358742: 'pac individuelle chauffage<br  ',\n",
       " 1380251: 'pompe a chaleur eau eau regulee  avec thermostat d ambiance  systeme individuel) \\remetteurs: radiateurs<br  ',\n",
       " 1406067: ' - appoint elec. pac ds chauffage  erlq004cv3   ehvh004c3v  effet joule plancher chauffant a eau   rdc  panneau rayonant  seche serviettes',\n",
       " 1420137: ' - pac eau eau plancher chauffant',\n",
       " 1420153: ' - pac eau eau plancher chauffant',\n",
       " 1420169: ' - pac eau eau plancher chauffant',\n",
       " 1420185: ' - pac eau eau plancher chauffant',\n",
       " 1420201: ' - pac eau eau plancher chauffant',\n",
       " 1420217: ' - pac eau eau plancher chauffant',\n",
       " 1420233: ' - pac eau eau plancher chauffant',\n",
       " 1420249: ' - pac eau eau plancher chauffant',\n",
       " 1420281: ' - pac eau eau plancher chauffant',\n",
       " 1420297: ' - pac eau eau plancher chauffant',\n",
       " 1420313: ' - pac eau eau plancher chauffant',\n",
       " 1420329: ' - pac eau eau plancher chauffant',\n",
       " 1420345: ' - pac eau eau plancher chauffant',\n",
       " 1420361: ' - pac eau eau plancher chauffant',\n",
       " 1420377: ' - pac eau eau plancher chauffant',\n",
       " 1420393: ' - pac eau eau plancher chauffant',\n",
       " 1420409: ' - pac eau eau plancher chauffant',\n",
       " 1420425: ' - pac eau eau plancher chauffant',\n",
       " 1420441: ' - pac eau eau plancher chauffant',\n",
       " 1420457: ' - pac eau eau plancher chauffant',\n",
       " 1420473: ' - pac eau eau plancher chauffant',\n",
       " 1420489: ' - pac eau eau plancher chauffant',\n",
       " 1420505: ' - pac eau eau plancher chauffant',\n",
       " 1420521: ' - pac eau eau plancher chauffant',\n",
       " 1420537: ' - pac eau eau plancher chauffant',\n",
       " 1420553: ' - pac eau eau plancher chauffant',\n",
       " 1420569: ' - pac eau eau plancher chauffant',\n",
       " 1420585: ' - pac eau eau plancher chauffant',\n",
       " 1420601: ' - pac eau eau plancher chauffant',\n",
       " 1420617: ' - pac eau eau plancher chauffant',\n",
       " 1420633: ' - pac eau eau plancher chauffant',\n",
       " 1420649: ' - pac eau eau plancher chauffant',\n",
       " 1420665: ' - pac eau eau plancher chauffant',\n",
       " 1420681: ' - pac eau eau plancher chauffant',\n",
       " 1420697: ' - pac eau eau plancher chauffant',\n",
       " 1420713: ' - pac eau eau plancher chauffant',\n",
       " 1420729: ' - pac eau eau plancher chauffant',\n",
       " 1420745: ' - pac eau eau plancher chauffant',\n",
       " 1420761: ' - pac eau eau plancher chauffant',\n",
       " 1420777: ' - pac eau eau plancher chauffant',\n",
       " 1420793: ' - pac eau eau plancher chauffant',\n",
       " 1420809: ' - pac eau eau plancher chauffant',\n",
       " 1420825: ' - pac eau eau plancher chauffant',\n",
       " 1420841: ' - pac eau eau plancher chauffant',\n",
       " 1420857: ' - pac eau eau plancher chauffant',\n",
       " 1522399: ' - pac de dietrich miv-4 e 4-8 v200 + awhp plancher chauffant   seche serviette a eau chaude',\n",
       " 1522429: ' - pac de dietrich miv-4 e 4-8 v200 + awhp 6mr plancher chauffant   toutes pieces  seche serviettes eau chaude   sdb',\n",
       " 1522528: ' - pac de dietrich miv-4 e 4-8 v200 + awhp 6mr plancher chauffant   seche serviette sdb a eau chaude',\n",
       " 1522568: ' - pac de dietrich miv-4 e 4-8 v200 + awhp 6mr plancher chauffant   toutes pieces  seche serviettes eau chaude   sdb',\n",
       " 1522600: ' - pac de dietrich miv-4 e 4-8 v200 + awhp 6mr plancher chauffant   toutes pieces  seche serviettes eau chaude   sdb',\n",
       " 1536227: 'pompe a chaleur  divise) - type split reseau d eau isole  systeme individuel) \\remetteurs: split<br  ',\n",
       " 1572040: ' - pac eau eau plancher chauffant',\n",
       " 1572056: ' - pac eau eau plancher chauffant',\n",
       " 1572072: ' - pac eau eau plancher chauffant',\n",
       " 1572088: ' - pac eau eau plancher chauffant',\n",
       " 1572104: ' - pac eau eau plancher chauffant',\n",
       " 1572120: ' - pac eau eau plancher chauffant',\n",
       " 1572136: ' - pac eau eau plancher chauffant',\n",
       " 1572152: ' - pac eau eau plancher chauffant',\n",
       " 1572168: ' - pac eau eau plancher chauffant',\n",
       " 1572184: ' - pac eau eau plancher chauffant',\n",
       " 1572200: ' - pac eau eau plancher chauffant',\n",
       " 1572216: ' - pac eau eau plancher chauffant',\n",
       " 1572232: ' - pac eau eau plancher chauffant',\n",
       " 1572248: ' - pac eau eau plancher chauffant',\n",
       " 1572264: ' - pac eau eau plancher chauffant',\n",
       " 1572280: ' - pac eau eau plancher chauffant',\n",
       " 1572296: ' - pac eau eau plancher chauffant',\n",
       " 1572312: ' - pac eau eau plancher chauffant',\n",
       " 1572328: ' - pac eau eau plancher chauffant',\n",
       " 1572344: ' - pac eau eau plancher chauffant',\n",
       " 1572360: ' - pac eau eau plancher chauffant',\n",
       " 1572376: ' - pac eau eau plancher chauffant',\n",
       " 1572410: ' - pac eau eau plancher chauffant',\n",
       " 1572426: ' - pac eau eau plancher chauffant',\n",
       " 1572442: ' - pac eau eau plancher chauffant',\n",
       " 1572458: ' - pac eau eau plancher chauffant',\n",
       " 1572474: ' - pac eau eau plancher chauffant',\n",
       " 1572490: ' - pac eau eau plancher chauffant',\n",
       " 1580153: ' - pac eau eau plancher chauffant',\n",
       " 1580169: ' - pac eau eau plancher chauffant',\n",
       " 1580185: ' - pac eau eau plancher chauffant',\n",
       " 1580201: ' - pac eau eau plancher chauffant',\n",
       " 1580217: ' - pac eau eau plancher chauffant',\n",
       " 1580233: ' - pac eau eau plancher chauffant',\n",
       " 1580249: ' - pac eau eau plancher chauffant',\n",
       " 1580265: ' - pac eau eau plancher chauffant',\n",
       " 1580281: ' - pac eau eau plancher chauffant',\n",
       " 1580297: ' - pac eau eau plancher chauffant',\n",
       " 1580313: ' - pac eau eau plancher chauffant',\n",
       " 1580329: ' - pac eau eau plancher chauffant',\n",
       " 1580345: ' - pac eau eau plancher chauffant',\n",
       " 1580361: ' - pac eau eau plancher chauffant',\n",
       " 1580377: ' - pac eau eau plancher chauffant',\n",
       " 1580393: ' - pac eau eau plancher chauffant',\n",
       " 1580409: ' - pac eau eau plancher chauffant',\n",
       " 1580425: ' - pac eau eau plancher chauffant',\n",
       " 1580441: ' - pac eau eau plancher chauffant',\n",
       " 1580457: ' - pac eau eau plancher chauffant',\n",
       " 1580473: ' - pac eau eau plancher chauffant',\n",
       " 1580489: ' - pac eau eau plancher chauffant',\n",
       " 1580505: ' - pac eau eau plancher chauffant',\n",
       " 1580521: ' - pac eau eau plancher chauffant',\n",
       " 1580537: ' - pac eau eau plancher chauffant',\n",
       " 1580553: ' - pac eau eau plancher chauffant',\n",
       " 1580569: ' - pac eau eau plancher chauffant',\n",
       " 1580585: ' - pac eau eau plancher chauffant',\n",
       " 1580601: ' - pac eau eau plancher chauffant',\n",
       " 1580617: ' - pac eau eau plancher chauffant',\n",
       " 1580633: ' - pac eau eau plancher chauffant',\n",
       " 1580649: ' - pac eau eau plancher chauffant',\n",
       " 1580665: ' - pac eau eau plancher chauffant',\n",
       " 1580844: ' - pac eau eau plancher chauffant',\n",
       " 1580860: ' - pac eau eau plancher chauffant',\n",
       " 1580876: ' - pac eau eau plancher chauffant',\n",
       " 1580892: ' - pac eau eau plancher chauffant',\n",
       " 1580908: ' - pac eau eau plancher chauffant',\n",
       " 1580924: ' - pac eau eau plancher chauffant',\n",
       " 1580940: ' - pac eau eau plancher chauffant',\n",
       " 1580956: ' - pac eau eau plancher chauffant',\n",
       " 1580972: ' - pac eau eau plancher chauffant',\n",
       " 1580988: ' - pac eau eau plancher chauffant',\n",
       " 1581004: ' - pac eau eau plancher chauffant',\n",
       " 1581020: ' - pac eau eau plancher chauffant',\n",
       " 1581036: ' - pac eau eau plancher chauffant',\n",
       " 1581052: ' - pac eau eau plancher chauffant',\n",
       " 1581068: ' - pac eau eau plancher chauffant',\n",
       " 1581084: ' - pac eau eau plancher chauffant',\n",
       " 1581100: ' - pac eau eau plancher chauffant',\n",
       " 1581116: ' - pac eau eau plancher chauffant',\n",
       " 1581132: ' - pac eau eau plancher chauffant',\n",
       " 1581148: ' - pac eau eau plancher chauffant',\n",
       " 1581164: ' - pac eau eau plancher chauffant',\n",
       " 1581180: ' - pac eau eau plancher chauffant',\n",
       " 1581196: ' - pac eau eau plancher chauffant',\n",
       " 1581212: ' - pac eau eau plancher chauffant',\n",
       " 1581243: ' - pac eau eau plancher chauffant',\n",
       " 1581259: ' - pac eau eau plancher chauffant',\n",
       " 1581275: ' - pac eau eau plancher chauffant',\n",
       " 1581291: ' - pac eau eau plancher chauffant',\n",
       " 1581307: ' - pac eau eau plancher chauffant',\n",
       " 1581323: ' - pac eau eau plancher chauffant',\n",
       " 1581339: ' - pac eau eau plancher chauffant',\n",
       " 1581355: ' - pac eau eau plancher chauffant',\n",
       " 1581371: ' - pac eau eau plancher chauffant',\n",
       " 1581387: ' - pac eau eau plancher chauffant',\n",
       " 1581403: ' - pac eau eau plancher chauffant',\n",
       " 1581419: ' - pac eau eau plancher chauffant',\n",
       " 1581435: ' - pac eau eau plancher chauffant',\n",
       " 1581451: ' - pac eau eau plancher chauffant',\n",
       " 1581467: ' - pac eau eau plancher chauffant',\n",
       " 1581483: ' - pac eau eau plancher chauffant',\n",
       " 1581499: ' - pac eau eau plancher chauffant',\n",
       " 1581515: ' - pac eau eau plancher chauffant',\n",
       " 1581531: ' - pac eau eau plancher chauffant',\n",
       " 1581547: ' - pac eau eau plancher chauffant',\n",
       " 1593160: 'pompe a chaleur eau eau regulee   systeme individuel) \\remetteurs: planchers chauffants<br  re : 1  rr : 0.95  rd : 0.95  rg : 3.2  pn : 0  fch : 0',\n",
       " 1621995: 'pompe a chaleur eau eau :\\r  - type d energie : electrique\\r  - type de combustible : electricite\\r  - date de fabrication : 18 04 1997\\r  - fonctionnement au sein d une installation : \\r type d installation : installation de chauffage sans solaire\\r    - chauffage principal\\r  - emetteur s) associe s) : \\r    - basse temperature\\r    - surface chauffee : 240 m²\\r    - reseau de distribution : eau chaude basse t  isole  distribution entierement en volume chauffe)\\r    - intermittence : \\r  - chauffage central\\r      - sans regulation piece par piece\\r      - equipement d intermittence : central avec minimum de temperature\\r ',\n",
       " 1657476: 'pompe a chaleur eau eau  systeme individuel)<br  re : 0 95  rr : 0 9  rd : 0 91  rg : 3 2  pn : 0  fch : 0',\n",
       " 1657487: 'pompe a chaleur  divise) - type split  systeme individuel)<br  re : 0 95  rr : 0 96  rd : 0 8  rg : 2 2  pn : 0  fch : 0',\n",
       " 1659554: 'pompe a chaleur  sur groupe central eau tiede fourni par le centre commercial)',\n",
       " 1707097: 'pompe a chaleur eau eau regulee  avec programmateur  systeme individuel) \\remetteurs: planchers chauffants<br  s : 116 m²  re : 1  rr : 0 95  rd : 0 95  rg : 3 2  pn : 0  fch : 0',\n",
       " 1744372: ' - appoint elec. pac ds chauffage  eria aqua plancher chauffant  seche sevriette a eau chaude  sdb',\n",
       " 1760140: 'pompe a chaleur eau eau regulee alfea extensa duo +   avec programmateur  reseau isole  systeme basse temperature  systeme individuel) \\remetteurs: planchers chauffants<br  ',\n",
       " 1762660: 'pompe a chaleur eau eau  systeme collectif) \\remetteurs: planchers chauffants<br  ',\n",
       " 1762726: 'pompe a chaleur eau eau  systeme individuel) \\remetteurs: planchers chauffants<br  ',\n",
       " 1764542: 'inst 1 : 1 - installation de chauffage sans solaire',\n",
       " 1808156: 'pompe a chaleur eau eau electrique aucun equipement individuel',\n",
       " 1824766: 'pompe a chaleur eau eau :  type d energie : electrique  type de combustible : electricite  date de fabrication : 20 09 2009\\r type d installation : installation de chauffage sans solaire  chauffage principal\\r emetteur s) associe s) : plancher chauffant a eau  basse temperature  surface chauffee : 150 m²  reseau de distribution : eau chaude basse t  isole  distribution entierement en volume chauffe)  intermittence : chauffage central  sans regulation piece par piece  equipement d intermittence : central avec minimum de temperature',\n",
       " 1866120: ' - appoint elec. pac ds chauffage  pac duo mitsubishi electric  seche serviette mixte plancher chauffant   seche serviette mixte  partie eau chaude  seche serviette mixte  partie elec',\n",
       " 1867977: 'pac e e-plancher chauffant',\n",
       " 1879243: ' - pompe a chaleur eau nappe   eau fonctionnant en double service - alpha innotec swp 1000h plancher chauffant',\n",
       " 1879259: ' - pompe a chaleur eau nappe   eau fonctionnant en double service - alpha innotec swp 1000h plancher chauffant',\n",
       " 1879275: ' - pompe a chaleur eau nappe   eau fonctionnant en double service - alpha innotec swp 1000h plancher chauffant',\n",
       " 1879291: ' - pompe a chaleur eau nappe   eau fonctionnant en double service - alpha innotec swp 1000h plancher chauffant',\n",
       " 1879307: ' - pompe a chaleur eau nappe   eau fonctionnant en double service - alpha innotec swp 1000h plancher chauffant',\n",
       " 1879323: ' - pompe a chaleur eau nappe   eau fonctionnant en double service - alpha innotec swp 1000h plancher chauffant',\n",
       " 1879339: ' - pompe a chaleur eau nappe   eau fonctionnant en double service - alpha innotec swp 1000h plancher chauffant',\n",
       " 1879355: ' - pompe a chaleur eau nappe   eau fonctionnant en double service - alpha innotec swp 1000h plancher chauffant',\n",
       " 1879371: ' - pompe a chaleur eau nappe   eau fonctionnant en double service - alpha innotec swp 1000h plancher chauffant',\n",
       " 1879387: ' - pompe a chaleur eau nappe   eau fonctionnant en double service - alpha innotec swp 1000h plancher chauffant',\n",
       " 1879403: ' - pompe a chaleur eau nappe   eau fonctionnant en double service - alpha innotec swp 1000h plancher chauffant',\n",
       " 1879419: ' - pompe a chaleur eau nappe   eau fonctionnant en double service - alpha innotec swp 1000h plancher chauffant',\n",
       " 1879435: ' - pompe a chaleur eau nappe   eau fonctionnant en double service - alpha innotec swp 1000h plancher chauffant',\n",
       " 1879451: ' - pompe a chaleur eau nappe   eau fonctionnant en double service - alpha innotec swp 1000h plancher chauffant',\n",
       " 1879467: ' - pompe a chaleur eau nappe   eau fonctionnant en double service - alpha innotec swp 1000h plancher chauffant',\n",
       " 1879483: ' - pompe a chaleur eau nappe   eau fonctionnant en double service - alpha innotec swp 1000h plancher chauffant',\n",
       " 1879499: ' - pompe a chaleur eau nappe   eau fonctionnant en double service - alpha innotec swp 1000h plancher chauffant',\n",
       " 1879515: ' - pompe a chaleur eau nappe   eau fonctionnant en double service - alpha innotec swp 1000h plancher chauffant',\n",
       " 1879531: ' - pompe a chaleur eau nappe   eau fonctionnant en double service - alpha innotec swp 1000h plancher chauffant',\n",
       " 1879547: ' - pompe a chaleur eau nappe   eau fonctionnant en double service - alpha innotec swp 1000h plancher chauffant',\n",
       " 1879563: ' - pompe a chaleur eau nappe   eau fonctionnant en double service - alpha innotec swp 1000h plancher chauffant',\n",
       " 1879600: ' - pompe a chaleur eau nappe   eau fonctionnant en double service - alpha innotec swp 1000h plancher chauffant',\n",
       " 1879616: ' - pompe a chaleur eau nappe   eau fonctionnant en double service - alpha innotec swp 1000h plancher chauffant',\n",
       " 1879632: ' - pompe a chaleur eau nappe   eau fonctionnant en double service - alpha innotec swp 1000h plancher chauffant',\n",
       " 1879648: ' - pompe a chaleur eau nappe   eau fonctionnant en double service - alpha innotec swp 1000h plancher chauffant',\n",
       " 1879664: ' - pompe a chaleur eau nappe   eau fonctionnant en double service - alpha innotec swp 1000h plancher chauffant',\n",
       " 1879680: ' - pompe a chaleur eau nappe   eau fonctionnant en double service - alpha innotec swp 1000h plancher chauffant',\n",
       " 1879696: ' - pompe a chaleur eau nappe   eau fonctionnant en double service - alpha innotec swp 1000h plancher chauffant',\n",
       " 1879712: ' - pompe a chaleur eau nappe   eau fonctionnant en double service - alpha innotec swp 1000h plancher chauffant',\n",
       " 1879728: ' - pompe a chaleur eau nappe   eau fonctionnant en double service - alpha innotec swp 1000h plancher chauffant',\n",
       " 1879744: ' - pompe a chaleur eau nappe   eau fonctionnant en double service - alpha innotec swp 1000h plancher chauffant',\n",
       " 1879777: ' - pompe a chaleur eau nappe   eau fonctionnant en double service - alpha innotec swp 1000h plancher chauffant',\n",
       " 1879793: ' - pompe a chaleur eau nappe   eau fonctionnant en double service - alpha innotec swp 1000h plancher chauffant',\n",
       " 1879809: ' - pompe a chaleur eau nappe   eau fonctionnant en double service - alpha innotec swp 1000h plancher chauffant',\n",
       " 1879825: ' - pompe a chaleur eau nappe   eau fonctionnant en double service - alpha innotec swp 1000h plancher chauffant',\n",
       " 1879841: ' - pompe a chaleur eau nappe   eau fonctionnant en double service - alpha innotec swp 1000h plancher chauffant',\n",
       " 1879857: ' - pompe a chaleur eau nappe   eau fonctionnant en double service - alpha innotec swp 1000h plancher chauffant',\n",
       " 1879873: ' - pompe a chaleur eau nappe   eau fonctionnant en double service - alpha innotec swp 1000h plancher chauffant',\n",
       " 1879889: ' - pompe a chaleur eau nappe   eau fonctionnant en double service - alpha innotec swp 1000h plancher chauffant',\n",
       " 1884518: 'pompe a chaleur eau eau avec programmateur  systeme basse temperature  systeme individuel) \\remetteurs: planchers chauffants<br  ',\n",
       " 1938654: ' - pac duo radiateur a eau bt 45  rdc  seche serviette oleron',\n",
       " 1954461: '7617623   te 05 230v',\n",
       " 1978469: 'pompe a chaleur eau eau  systeme individuel) \\remetteurs: planchers chauffants<br  re : 1  rr : 0 95  rd : 0 91  rg : 3 2  pn : 0  fch : 0',\n",
       " 2085145: 'pompe a chaleur eau eau  systeme individuel) \\remetteurs: planchers chauffants<br  ',\n",
       " 2088500: ' - effet joule direct  appoint elec. pac ds chauffage  daikin altherma bizone bt ds bibloc ehvz taille plancher chauffant rdc  seche serviette electrique atlantic doris  plancher chauffant a eau etage',\n",
       " 2089949: 'pompe a chaleur  divise) - type split reseau d eau isole  systeme individuel) \\remetteurs: split<br  ',\n",
       " 2103516: ' - pac eau eau cassettes rdc  cassettes r+1  cassettes r+2  cassettes r+3  cassettes r+4  cassettes r+5',\n",
       " 2103532: ' - pac eau eau cassettes rdc  cassettes r+1  cassettes r+2  cassettes r+3  cassettes r+4  cassettes r+5',\n",
       " 2103548: ' - pac eau eau cassettes rdc  cassettes r+1  cassettes r+2  cassettes r+3  cassettes r+4  cassettes r+5',\n",
       " 2103564: ' - pac eau eau cassettes rdc  cassettes r+1  cassettes r+2  cassettes r+3  cassettes r+4  cassettes r+5',\n",
       " 2103580: ' - pac eau eau cassettes rdc  cassettes r+1  cassettes r+2  cassettes r+3  cassettes r+4  cassettes r+5',\n",
       " 2103596: ' - pac eau eau cassettes rdc  cassettes r+1  cassettes r+2  cassettes r+3  cassettes r+4  cassettes r+5',\n",
       " 2103612: ' - pac eau eau cassettes rdc  cassettes r+1  cassettes r+2  cassettes r+3  cassettes r+4  cassettes r+5',\n",
       " 2103628: ' - pac eau eau cassettes rdc  cassettes r+1  cassettes r+2  cassettes r+3  cassettes r+4  cassettes r+5',\n",
       " 2103644: ' - pac eau eau cassettes rdc  cassettes r+1  cassettes r+2  cassettes r+3  cassettes r+4  cassettes r+5',\n",
       " 2103660: ' - pac eau eau cassettes rdc  cassettes r+1  cassettes r+2  cassettes r+3  cassettes r+4  cassettes r+5',\n",
       " 2103676: ' - pac eau eau cassettes rdc  cassettes r+1  cassettes r+2  cassettes r+3  cassettes r+4  cassettes r+5',\n",
       " 2103692: ' - pac eau eau cassettes rdc  cassettes r+1  cassettes r+2  cassettes r+3  cassettes r+4  cassettes r+5',\n",
       " 2103708: ' - pac eau eau cassettes rdc  cassettes r+1  cassettes r+2  cassettes r+3  cassettes r+4  cassettes r+5',\n",
       " 2103724: ' - pac eau eau cassettes rdc  cassettes r+1  cassettes r+2  cassettes r+3  cassettes r+4  cassettes r+5',\n",
       " 2103740: ' - pac eau eau cassettes rdc  cassettes r+1  cassettes r+2  cassettes r+3  cassettes r+4  cassettes r+5',\n",
       " 2103756: ' - pac eau eau cassettes rdc  cassettes r+1  cassettes r+2  cassettes r+3  cassettes r+4  cassettes r+5',\n",
       " 2103772: ' - pac eau eau cassettes rdc  cassettes r+1  cassettes r+2  cassettes r+3  cassettes r+4  cassettes r+5',\n",
       " 2103788: ' - pac eau eau cassettes rdc  cassettes r+1  cassettes r+2  cassettes r+3  cassettes r+4  cassettes r+5',\n",
       " 2103804: ' - pac eau eau cassettes rdc  cassettes r+1  cassettes r+2  cassettes r+3  cassettes r+4  cassettes r+5',\n",
       " 2125482: 'pompe a chaleur  divise) - type split reseau d eau isole  systeme individuel)<br  re : 0 95  rr : 0 96  rd : 0 85  rg : 2 2  pn : 0  fch : 0',\n",
       " 2144200: 'pompe a chaleur  divise) - type split regulee  avec programmateur  reseau d eau isole  systeme individuel)<br  ',\n",
       " 2158648: 'pompe a chaleur eau eau avec programmateur  systeme individuel)<br  ',\n",
       " 2170890: 'pompe a chaleur eau eau regulee  avec programmateur  reseau isole  systeme individuel) \\remetteurs: planchers chauffants<br  re : 0 95  rr : 0 9  rd : 0 95  rg : 3 2  pn : 0  fch : 0',\n",
       " 2211609: ' - pompe a chaleur sur eau de nappe eau radiateur bt avec robinet therm.',\n",
       " 2211625: ' - pompe a chaleur sur eau de nappe eau radiateur bt avec robinet therm.',\n",
       " 2211641: ' - pompe a chaleur sur eau de nappe eau radiateur bt avec robinet therm.',\n",
       " 2211657: ' - pompe a chaleur sur eau de nappe eau radiateur bt avec robinet therm.',\n",
       " 2211673: ' - pompe a chaleur sur eau de nappe eau radiateur bt avec robinet therm.',\n",
       " 2211689: ' - pompe a chaleur sur eau de nappe eau radiateur bt avec robinet therm.',\n",
       " 2211705: ' - pompe a chaleur sur eau de nappe eau radiateur bt avec robinet therm.',\n",
       " 2211721: ' - pompe a chaleur sur eau de nappe eau radiateur bt avec robinet therm.',\n",
       " 2211737: ' - pompe a chaleur sur eau de nappe eau radiateur bt avec robinet therm.',\n",
       " 2211753: ' - pompe a chaleur sur eau de nappe eau radiateur bt avec robinet therm.',\n",
       " 2211769: ' - pompe a chaleur sur eau de nappe eau radiateur bt avec robinet therm.',\n",
       " 2211785: ' - pompe a chaleur sur eau de nappe eau radiateur bt avec robinet therm.',\n",
       " 2211801: ' - pompe a chaleur sur eau de nappe eau radiateur bt avec robinet therm.',\n",
       " 2211817: ' - pompe a chaleur sur eau de nappe eau radiateur bt avec robinet therm.',\n",
       " 2211833: ' - pompe a chaleur sur eau de nappe eau radiateur bt avec robinet therm.',\n",
       " 2211849: ' - pompe a chaleur sur eau de nappe eau radiateur bt avec robinet therm.',\n",
       " 2211865: ' - pompe a chaleur sur eau de nappe eau radiateur bt avec robinet therm.',\n",
       " 2211881: ' - pompe a chaleur sur eau de nappe eau radiateur bt avec robinet therm.',\n",
       " 2211897: ' - pompe a chaleur sur eau de nappe eau radiateur bt avec robinet therm.',\n",
       " 2211913: ' - pompe a chaleur sur eau de nappe eau radiateur bt avec robinet therm.',\n",
       " 2211929: ' - pompe a chaleur sur eau de nappe eau radiateur bt avec robinet therm.',\n",
       " 2211945: ' - pompe a chaleur sur eau de nappe eau radiateur bt avec robinet therm.',\n",
       " 2211961: ' - pompe a chaleur sur eau de nappe eau radiateur bt avec robinet therm.',\n",
       " 2211977: ' - pompe a chaleur sur eau de nappe eau radiateur bt avec robinet therm.',\n",
       " 2211993: ' - pompe a chaleur sur eau de nappe eau radiateur bt avec robinet therm.',\n",
       " 2212009: ' - pompe a chaleur sur eau de nappe eau radiateur bt avec robinet therm.',\n",
       " 2212025: ' - pompe a chaleur sur eau de nappe eau radiateur bt avec robinet therm.',\n",
       " 2212041: ' - pompe a chaleur sur eau de nappe eau radiateur bt avec robinet therm.',\n",
       " 2212057: ' - pompe a chaleur sur eau de nappe eau radiateur bt avec robinet therm.',\n",
       " 2212073: ' - pompe a chaleur sur eau de nappe eau radiateur bt avec robinet therm.',\n",
       " 2212089: ' - pompe a chaleur sur eau de nappe eau radiateur bt avec robinet therm.',\n",
       " 2212105: ' - pompe a chaleur sur eau de nappe eau radiateur bt avec robinet therm.',\n",
       " 2212121: ' - pompe a chaleur sur eau de nappe eau radiateur bt avec robinet therm.',\n",
       " 2212137: ' - pompe a chaleur sur eau de nappe eau radiateur bt avec robinet therm.',\n",
       " 2212153: ' - pompe a chaleur sur eau de nappe eau radiateur bt avec robinet therm.',\n",
       " 2212169: ' - pompe a chaleur sur eau de nappe eau radiateur bt avec robinet therm.',\n",
       " 2212185: ' - pompe a chaleur sur eau de nappe eau radiateur bt avec robinet therm.',\n",
       " 2212201: ' - pompe a chaleur sur eau de nappe eau radiateur bt avec robinet therm.',\n",
       " 2212217: ' - pompe a chaleur sur eau de nappe eau radiateur bt avec robinet therm.',\n",
       " 2212233: ' - pompe a chaleur sur eau de nappe eau radiateur bt avec robinet therm.',\n",
       " 2212249: ' - pompe a chaleur sur eau de nappe eau radiateur bt avec robinet therm.',\n",
       " 2212282: ' - pompe a chaleur sur eau de nappe eau radiateur bt avec robinet therm.',\n",
       " 2212298: ' - pompe a chaleur sur eau de nappe eau radiateur bt avec robinet therm.',\n",
       " 2212314: ' - pompe a chaleur sur eau de nappe eau radiateur bt avec robinet therm.',\n",
       " 2212330: ' - pompe a chaleur sur eau de nappe eau radiateur bt avec robinet therm.',\n",
       " 2212346: ' - pompe a chaleur sur eau de nappe eau radiateur bt avec robinet therm.',\n",
       " 2212362: ' - pompe a chaleur sur eau de nappe eau radiateur bt avec robinet therm.',\n",
       " 2212378: ' - pompe a chaleur sur eau de nappe eau radiateur bt avec robinet therm.',\n",
       " 2212394: ' - pompe a chaleur sur eau de nappe eau radiateur bt avec robinet therm.',\n",
       " 2212410: ' - pompe a chaleur sur eau de nappe eau radiateur bt avec robinet therm.',\n",
       " 2212426: ' - pompe a chaleur sur eau de nappe eau radiateur bt avec robinet therm.',\n",
       " 2212442: ' - pompe a chaleur sur eau de nappe eau radiateur bt avec robinet therm.',\n",
       " 2212458: ' - pompe a chaleur sur eau de nappe eau radiateur bt avec robinet therm.',\n",
       " 2212474: ' - pompe a chaleur sur eau de nappe eau radiateur bt avec robinet therm.',\n",
       " 2212490: ' - pompe a chaleur sur eau de nappe eau radiateur bt avec robinet therm.',\n",
       " 2212506: ' - pompe a chaleur sur eau de nappe eau radiateur bt avec robinet therm.',\n",
       " 2212522: ' - pompe a chaleur sur eau de nappe eau radiateur bt avec robinet therm.',\n",
       " 2212538: ' - pompe a chaleur sur eau de nappe eau radiateur bt avec robinet therm.',\n",
       " 2212554: ' - pompe a chaleur sur eau de nappe eau radiateur bt avec robinet therm.',\n",
       " 2212570: ' - pompe a chaleur sur eau de nappe eau radiateur bt avec robinet therm.',\n",
       " 2212586: ' - pompe a chaleur sur eau de nappe eau radiateur bt avec robinet therm.',\n",
       " 2212602: ' - pompe a chaleur sur eau de nappe eau radiateur bt avec robinet therm.',\n",
       " 2212618: ' - pompe a chaleur sur eau de nappe eau radiateur bt avec robinet therm.',\n",
       " 2212634: ' - pompe a chaleur sur eau de nappe eau radiateur bt avec robinet therm.',\n",
       " 2212650: ' - pompe a chaleur sur eau de nappe eau radiateur bt avec robinet therm.',\n",
       " 2212666: ' - pompe a chaleur sur eau de nappe eau radiateur bt avec robinet therm.',\n",
       " 2212682: ' - pompe a chaleur sur eau de nappe eau radiateur bt avec robinet therm.',\n",
       " 2212714: ' - pompe a chaleur sur eau de nappe eau radiateur bt avec robinet therm.',\n",
       " 2212730: ' - pompe a chaleur sur eau de nappe eau radiateur bt avec robinet therm.',\n",
       " 2212746: ' - pompe a chaleur sur eau de nappe eau radiateur bt avec robinet therm.',\n",
       " 2212762: ' - pompe a chaleur sur eau de nappe eau radiateur bt avec robinet therm.',\n",
       " 2217384: 'pompe a chaleur eau eau  systeme individuel)<br  ',\n",
       " 2220129: 'pompe a chaleur eau eau regulee  avec programmateur  systeme basse temperature  systeme individuel)<br  re : 0 95  rr : 0 9  rd : 0 91  rg : 3 2  pn : 0  fch : 0',\n",
       " 2243048: 'pompe a chaleur eau eau regulee  systeme individuel)<br  ',\n",
       " 2243304: 'pompe a chaleur eau eau regulee  systeme individuel)<br  ',\n",
       " 2244069: 'pompe a chaleur  divise) - type split regulee  reseau d eau isole  systeme collectif)<br  ',\n",
       " 2255742: 'pompe a chaleur  divise) - type split avec programmateur  reseau d eau isole  systeme individuel) \\remetteurs: split<br  ',\n",
       " 2255766: 'pompe a chaleur  divise) - type split avec programmateur  reseau d eau isole  systeme individuel) \\remetteurs: split<br  ',\n",
       " 2270987: 'pompe a chaleur eau eau regulee  avec programmateur  reseau isole  systeme basse temperature  systeme individuel) \\remetteurs: planchers chauffants et radiateurs<br  re : 1  rr : 0 95  rd : 0 95  rg : 3 2  pn : 0  fch : 0',\n",
       " 2281464: 'installation de chauffage  352\\xa0m²)\\xa0:\\r - chauffage 1 : pac eau eau  energie : electrique)  avec equipement d intermittence par piece avec minimum de temperature  regulation par piece  reseau de distribution isole ; emetteurs : plancher chauffant avec regulation terminale fabrique s) entre 1981 et 2000  plancher basse temperature) ',\n",
       " 2283137: 'pompe a chaleur eau eau regulee  reseau isole  systeme basse temperature  systeme individuel) \\remetteurs: planchers chauffants<br  re : 1  rr : 0.95  rd : 0.95  rg : 3.2  pn : 0  fch : 0',\n",
       " 2283352: 'pompe a chaleur eau eau regulee  avec programmateur  systeme individuel) \\remetteurs: radiateurs fonte<br  re : 0 95  rr : 0 9  rd : 0 95  rg : 3 2  pn : 0  fch : 0',\n",
       " 2288581: 'pompe a chaleur eau eau regulee  avec programmateur  systeme individuel) \\remetteurs: planchers chauffants<br  ',\n",
       " 2288585: 'pompe a chaleur  divise) - type split  systeme individuel)<br  ',\n",
       " 2288825: 'pompe a chaleur eau eau regulee  avec programmateur  systeme individuel) \\remetteurs: planchers chauffants au 1er  au dire du proprietaire) et radiateur au rdc<br  ',\n",
       " 2289248: 'pompe a chaleur eau eau regulee  avec programmateur  systeme individuel) \\remetteurs: radiateurs aluminium<br  ',\n",
       " 2289250: 'pompe a chaleur  divise) - type split  systeme individuel)<br  ',\n",
       " 2318368: 'pompe a chaleur eau eau regulee  avec thermostat d ambiance  systeme individuel) \\remetteurs: ventilo convecteurs  dynaciat ilg 240v 3x400v<br  re : 0 95  rr : 0 9  rd : 0 91  rg : 3 2  pn : 0  fch : 0',\n",
       " 2331034: 'inst 1 : 1 - installation de chauffage sans solaire inst 2 : 1 - installation de chauffage sans solaire',\n",
       " 2341338: ' - alfea extensa duo appoint elec. pac ds chauffage plancher chauffant   seche serviette a eau chaude',\n",
       " 2347884: ' - effet joule  appoint elec. pac ds chauffage  daikin altherma bizone bt ds bibloc ehvz taille 8 plancher chauffant a eau  seche serviette electrique doris',\n",
       " 2347905: 'pompe a chaleur eau eau regulee  avec programmateur  systeme basse temperature  systeme individuel) \\remetteurs: planchers chauffants<br  re : 0 95  rr : 0 9  rd : 0 95  rg : 3 2  pn : 0  fch : 0',\n",
       " 2347927: 'pompe a chaleur eau eau regulee  avec programmateur  systeme basse temperature  systeme individuel) \\remetteurs: planchers chauffants<br  re : 0 95  rr : 0 9  rd : 0 95  rg : 3 2  pn : 0  fch : 0',\n",
       " 2372698: ' - nouveau generateur  appoint elec. pac ds chauffage  daikin altherma bizone bt ds bibloc ehvz taille plancher chauffant a eau  seche serviette electrique doris copie',\n",
       " 2387088: ' - pac eau eau plancher chauffant ec et seche-serviettes electriques sdb',\n",
       " 2387104: ' - pac eau eau plancher chauffant ec et seche-serviettes electriques sdb',\n",
       " 2387120: ' - pac eau eau plancher chauffant ec et seche-serviettes electriques sdb',\n",
       " 2387136: ' - pac eau eau plancher chauffant ec et seche-serviettes electriques sdb',\n",
       " 2387152: ' - pac eau eau plancher chauffant ec et seche-serviettes electriques sdb',\n",
       " 2387168: ' - pac eau eau plancher chauffant ec et seche-serviettes electriques sdb',\n",
       " 2387184: ' - pac eau eau plancher chauffant ec et seche-serviettes electriques sdb',\n",
       " 2387200: ' - pac eau eau plancher chauffant ec et seche-serviettes electriques sdb',\n",
       " 2387216: ' - pac eau eau plancher chauffant ec et seche-serviettes electriques sdb',\n",
       " 2387232: ' - pac eau eau plancher chauffant ec et seche-serviettes electriques sdb',\n",
       " 2387248: ' - pac eau eau plancher chauffant ec et seche-serviettes electriques sdb',\n",
       " 2387264: ' - pac eau eau plancher chauffant ec et seche-serviettes electriques sdb',\n",
       " 2387280: ' - pac eau eau plancher chauffant ec et seche-serviettes electriques sdb',\n",
       " 2387296: ' - pac eau eau plancher chauffant ec et seche-serviettes electriques sdb',\n",
       " 2387312: ' - pac eau eau plancher chauffant ec et seche-serviettes electriques sdb',\n",
       " 2387328: ' - pac eau eau plancher chauffant ec et seche-serviettes electriques sdb',\n",
       " 2387344: ' - pac eau eau plancher chauffant ec et seche-serviettes electriques sdb',\n",
       " 2387360: ' - pac eau eau plancher chauffant ec et seche-serviettes electriques sdb',\n",
       " 2387376: ' - pac eau eau plancher chauffant ec et seche-serviettes electriques sdb',\n",
       " 2387392: ' - pac eau eau plancher chauffant ec et seche-serviettes electriques sdb',\n",
       " 2387408: ' - pac eau eau plancher chauffant ec et seche-serviettes electriques sdb',\n",
       " 2387424: ' - pac eau eau plancher chauffant ec et seche-serviettes electriques sdb',\n",
       " 2387440: ' - pac eau eau plancher chauffant ec et seche-serviettes electriques sdb',\n",
       " 2387456: ' - pac eau eau plancher chauffant ec et seche-serviettes electriques sdb',\n",
       " 2387472: ' - pac eau eau plancher chauffant ec et seche-serviettes electriques sdb',\n",
       " 2387488: ' - pac eau eau plancher chauffant ec et seche-serviettes electriques sdb',\n",
       " 2387504: ' - pac eau eau plancher chauffant ec et seche-serviettes electriques sdb',\n",
       " 2387520: ' - pac eau eau plancher chauffant ec et seche-serviettes electriques sdb',\n",
       " 2387536: ' - pac eau eau plancher chauffant ec et seche-serviettes electriques sdb',\n",
       " 2387552: ' - pac eau eau plancher chauffant ec et seche-serviettes electriques sdb',\n",
       " 2387568: ' - pac eau eau plancher chauffant ec et seche-serviettes electriques sdb',\n",
       " 2387584: ' - pac eau eau plancher chauffant ec et seche-serviettes electriques sdb',\n",
       " 2387600: ' - pac eau eau plancher chauffant ec et seche-serviettes electriques sdb',\n",
       " 2387616: ' - pac eau eau plancher chauffant ec et seche-serviettes electriques sdb',\n",
       " 2387632: ' - pac eau eau plancher chauffant ec et seche-serviettes electriques sdb',\n",
       " 2387648: ' - pac eau eau plancher chauffant ec et seche-serviettes electriques sdb',\n",
       " 2387664: ' - pac eau eau plancher chauffant ec et seche-serviettes electriques sdb',\n",
       " 2387680: ' - pac eau eau plancher chauffant ec et seche-serviettes electriques sdb',\n",
       " 2387696: ' - pac eau eau plancher chauffant ec et seche-serviettes electriques sdb',\n",
       " 2387712: ' - pac eau eau plancher chauffant ec et seche-serviettes electriques sdb',\n",
       " 2387728: ' - pac eau eau plancher chauffant ec et seche-serviettes electriques sdb',\n",
       " 2387744: ' - pac eau eau plancher chauffant ec et seche-serviettes electriques sdb',\n",
       " 2387760: ' - pac eau eau plancher chauffant ec et seche-serviettes electriques sdb',\n",
       " 2387812: ' - alfea extensa duo a i  6  appoint elec. pac ds chauffage  seche serviette plancher chauffant  ss sdb  electrique  ss sdb  eau chaude',\n",
       " 2393599: 'pompe a chaleur eau eau  systeme individuel) \\remetteurs: planchers chauffants<br  re : 1  rr : 0 95  rd : 0 95  rg : 3 2  pn : 0  fch : 0',\n",
       " 2400333: ' - pac eau eau  electricite emetteur electrique  plancher chauffant',\n",
       " 2466026: 'pompe a chaleur eau eau regulee  avec programmateur  systeme individuel) \\remetteurs: radiateurs aluminium munis de robinets thermostatiques<br  re : 0.95  rr : 0.95  rd : 0.91  rg : 3.2  pn : 0  fch : 0',\n",
       " 2467597: 'pompe a chaleur  divise) - type split regulee  avec thermostat d ambiance  reseau d eau isole  systeme individuel) \\remetteurs: split<br  ',\n",
       " 2478917: 'installation de chauffage  135\\xa0m²)\\xa0:\\r - chauffage 1 : pac eau eau  energie : electrique)  avec equipement d intermittence central sans minimum de temperature  absence de regulation par piece  reseau de distribution isole ; emetteurs : plancher chauffant sans regulation terminale fabrique s) avant 1981  plancher basse temperature) ',\n",
       " 2547208: ' - chauffage electrique  appoint elec. pac ds chauffage  daikin altherma bizone bt ds bibloc ehvz taill plancher chauffant a eau rdc  plancher chauffant a eau etage  seche serviette electrique doris',\n",
       " 2549818: 'pompe a chaleur  divise) - type split avec programmateur  reseau d eau isole  systeme individuel) \\remetteurs: split<br  ',\n",
       " 2564090: 'pompe a chaleur eau eau avec programmateur  systeme collectif) \\remetteurs: planchers chauffants<br  re : 1  rr : 0 9  rd : 0 87  rg : 3 2  pn : 0  fch : 0',\n",
       " 2569193: 'pompe a chaleur eau eau  systeme individuel) \\remetteurs: radiateurs et plancher chauffant<br  re : 0 95  rr : 0 9  rd : 0 91  rg : 3 2  pn : 0  fch : 0',\n",
       " 2569285: 'pompe a chaleur eau eau electrique aucun equipement individuel',\n",
       " 2580126: ' - pac eau eau plancher chauffant',\n",
       " 2581032: 'pompe a chaleur eau eau avec programmateur  systeme basse temperature  systeme individuel) \\remetteurs: planchers chauffants<br  re : 1  rr : 0 95  rd : 0 91  rg : 3 2  pn : 0  fch : 0',\n",
       " 2608536: 'pompe a chaleur eau eau regulee  avec programmateur  systeme individuel) \\remetteurs: split<br  ',\n",
       " 2705597: 'pompe a chaleur  divise) - type split reseau d eau isole  systeme individuel) \\remetteurs: split<br  ',\n",
       " 2725312: 'pompe a chaleur eau eau reseau isole  systeme individuel) \\remetteurs: radiateurs fonte<br  re : 0 95  rr : 0 9  rd : 0 95  rg : 3 2  pn : 0  fch : 0',\n",
       " 2738959: 'pompe a chaleur eau eau  systeme individuel)<br  ',\n",
       " 2759045: 'pompe a chaleur  divise) - type split regulee  avec programmateur  reseau d eau isole  systeme individuel) \\remetteurs: split<br  ',\n",
       " 2759046: 'electrique direct autre avec programmateur  systeme individuel)<br  ',\n",
       " 2759070: 'pompe a chaleur  divise) - type split regulee  avec programmateur  reseau d eau isole  systeme individuel) \\remetteurs: split<br  ',\n",
       " 2759071: 'electrique direct autre avec programmateur  systeme individuel)<br  ',\n",
       " 2784153: 'pompe a chaleur  divise) - type split regulee  avec programmateur  reseau d eau isole  systeme individuel) \\remetteurs: split<br  ',\n",
       " 2785574: 'pompe a chaleur  divise) - type split regulee  avec programmateur  reseau d eau isole  systeme individuel) \\remetteurs: split<br  ',\n",
       " 2803914: 'pompe a chaleur eau eau systeme basse temperature  systeme individuel) \\remetteurs: planchers chauffants<br  re : 0 95  rr : 0 9  rd : 0 95  rg : 3 2  pn : 0  fch : 0',\n",
       " 2803964: 'pompe a chaleur eau eau systeme basse temperature  systeme individuel) \\remetteurs: planchers chauffants<br  re : 0 95  rr : 0 9  rd : 0 95  rg : 3 2  pn : 0  fch : 0',\n",
       " 2814371: ' - appoint elec. pac ds chauffage  alfea extensa duo a i  seche serviette plancher chauffant  ss sdb  electrique  ss sdb  eau chaude',\n",
       " 2825965: ' - pac ds chauffage  alfea ex   alfea extensa duo   5 radiateurs eau chaude',\n",
       " 2825981: ' - pac ds chauffage  alfea ex   alfea extensa duo   5 radiateurs eau chaude',\n",
       " 2826014: ' - pac ds chauffage  alfea ex   alfea extensa duo   5 radiateurs eau chaude',\n",
       " 2826030: ' - pac ds chauffage  alfea ex   alfea extensa duo   5 radiateurs eau chaude',\n",
       " 2826046: ' - pac ds chauffage  alfea ex   alfea extensa duo   5 radiateurs eau chaude',\n",
       " 2826078: ' - pac ds chauffage  alfea ex   alfea extensa duo   5 radiateurs eau chaude',\n",
       " 2826094: ' - pac ds chauffage  alfea ex   alfea extensa duo   5 radiateurs eau chaude',\n",
       " 2958537: 'pompe a chaleur  sur groupe central eau tiede fourni par le centre commercial)',\n",
       " 2958923: 'pompe a chaleur eau eau avec programmateur  systeme collectif) \\remetteurs: planchers chauffants<br  re : 1  rr : 0 9  rd : 0 87  rg : 3 2  pn : 0  fch : 0',\n",
       " 2958924: 'pompe a chaleur eau eau avec programmateur  systeme collectif) \\remetteurs: radiateurs<br  re : 0 95  rr : 0 9  rd : 0 87  rg : 3 2  pn : 0  fch : 0',\n",
       " 2990647: 'pompe a chaleur eau eau regulee  avec thermostat d ambiance  systeme basse temperature  systeme individuel) \\remetteurs: planchers chauffants<br  ',\n",
       " 2990648: 'electrique direct seche serviette  systeme individuel)<br  ',\n",
       " 3020443: 'pompe a chaleur  divise) - type split regulee  avec programmateur  reseau d eau isole  systeme individuel)<br  ',\n",
       " 3024486: 'pompe a chaleur  divise) - type split reseau d eau isole  systeme individuel)<br  ',\n",
       " 3024703: 'pompe a chaleur  divise) - type split regulee  avec programmateur  reseau d eau isole  systeme individuel) \\remetteurs: split<br  ',\n",
       " 3024820: 'pompe a chaleur  divise) - type split regulee  avec programmateur  reseau d eau isole  systeme individuel) \\remetteurs: split<br  ',\n",
       " 3120551: 'pompe a chaleur eau eau regulee  avec programmateur  systeme individuel) \\remetteurs: planchers chauffants<br  re : 1  rr : 0 95  rd : 0 91  rg : 3 2  pn : 0  fch : 0',\n",
       " 3121264: 'pompe a chaleur eau eau avec programmateur  systeme individuel)<br  ',\n",
       " 3128432: 'pompe a chaleur eau eau regulee  avec programmateur  systeme individuel) \\remetteurs: planchers chauffants et radiateurs<br  re : 1  rr : 0 95  rd : 0 91  rg : 3 2  pn : 0  fch : 0',\n",
       " 3131050: 'pompe a chaleur eau eau avec thermostat d ambiance  systeme individuel) \\remetteurs: planchers chauffants<br  s : 250 m²  re : 1  rr : 0 95  rd : 0 91  rg : 3 2  pn : 0  fch : 0',\n",
       " 3194491: 'pompe a chaleur eau eau  systeme individuel)<br  re : 0 95  rr : 0 9  rd : 0 91  rg : 3 2  pn : 0  fch : 0',\n",
       " 3218100: 'pompe a chaleur eau eau avec programmateur  systeme individuel)<br  re : 1  rr : 0 95  rd : 0 91  rg : 3 2  pn : 0  fch : 0',\n",
       " 3234674: ' - appoint elec. pompe a chaleur chauffage et eau chaude  erga04dv ehvz04s18d6v plancher chauffant pcbt',\n",
       " 3236686: ' - effet joule  appoint elec. pac ds chauffage plancher eau chaude reversible rdc  plancher eau chaude reversible etage  seche serviette electrique',\n",
       " 3264026: ' - appoint elec. pompe a chaleur chauffage et eau chaude  erga04dv ehvh04s23d6v plancher chauffant pcbt'}"
      ]
     },
     "execution_count": 1108,
     "metadata": {},
     "output_type": "execute_result"
    }
   ],
   "source": [
    "sel.valeur_renseignee.to_dict()"
   ]
  },
  {
   "cell_type": "code",
   "execution_count": 563,
   "metadata": {},
   "outputs": [],
   "source": [
    "dpe_list=td001_sys.loc[td001_sys.gen_ecs_lib_final==   'ecs thermodynamique electrique(pac ou ballon) + reseau de chaleur'].td001_dpe_id.tolist()"
   ]
  },
  {
   "cell_type": "code",
   "execution_count": null,
   "metadata": {},
   "outputs": [],
   "source": [
    "dpe_list=gen_ecs_lib.loc[gen_ecs_lib.label== 'ecs gaz indetermine'].td001_dpe_id.tolist()"
   ]
  },
  {
   "cell_type": "code",
   "execution_count": 564,
   "metadata": {},
   "outputs": [
    {
     "data": {
      "text/plain": [
       "{'7288192': 'combine au systeme: pompe a chaleur air   air sur reseau de chaleur  systeme collectif)'}"
      ]
     },
     "execution_count": 564,
     "metadata": {},
     "output_type": "execute_result"
    }
   ],
   "source": [
    "sel=td003_ecs.loc[td003_ecs.td001_dpe_id.isin(dpe_list)].set_index('td001_dpe_id')\n",
    "\n",
    "sel.descriptif.to_dict()"
   ]
  },
  {
   "cell_type": "code",
   "execution_count": 567,
   "metadata": {},
   "outputs": [
    {
     "data": {
      "text/plain": [
       "{'103575': 'ecs n 1   type d installation : sans ecs solaire   energie : reseau de chaleur urbain   type equipement : reseau de chaleur   contiguite des pieces : pieces contigues   position de la production : en volume non chauffe   isolation du reseau : reseau non isole   volume de stockage : 1000   veilleuse : non   alimentation : heure pleine   ',\n",
       " '480207': 'ecs n 1   type d installation : sans ecs solaire   energie : reseau de chaleur urbain   type equipement : reseau de chaleur   contiguite des pieces : pieces non contigues   position de la production : en volume non chauffe   isolation du reseau : reseau isole   volume de stockage : 5000   veilleuse : non   alimentation : heure pleine   ',\n",
       " '885202': 'ecs n 1   type d installation : sans ecs solaire   energie : reseau de chaleur urbain   type equipement : reseau de chaleur   contiguite des pieces : pieces contigues   position de la production : en volume non chauffe   isolation du reseau : reseau non isole   volume de stockage : 200   veilleuse : non   alimentation : heure pleine   ',\n",
       " '1382671': 'ecs n 1   type d installation : sans ecs solaire   energie : reseau de chaleur urbain   type equipement : reseau de chaleur   contiguite des pieces : pieces non contigues   position de la production : en volume non chauffe   isolation du reseau : reseau non isole   volume de stockage : 200   veilleuse : non   alimentation : heure pleine   ',\n",
       " '2326297': 'ecs n 1   type d installation : sans ecs solaire   energie : reseau de chaleur urbain   type equipement : reseau de chaleur   contiguite des pieces : pieces non contigues   position de la production : en volume non chauffe   isolation du reseau : reseau isole   volume de stockage : 10   veilleuse : non   alimentation : heure pleine   ',\n",
       " '2709591': 'ecs n 1   type d installation : sans ecs solaire   energie : reseau de chaleur urbain   type equipement : reseau de chaleur   contiguite des pieces : pieces contigues   position de la production : en volume non chauffe   isolation du reseau : reseau isole   volume de stockage : 10   veilleuse : non   alimentation : heure pleine   ',\n",
       " '3379875': 'ecs n 1   type d installation : sans ecs solaire   energie : reseau de chaleur urbain   type equipement : reseau de chaleur   contiguite des pieces : pieces non contigues   position de la production : en volume non chauffe   isolation du reseau : reseau non isole   volume de stockage : 200   veilleuse : non   alimentation : heure pleine   ',\n",
       " '3490452': 'ecs n 1   type d installation : sans ecs solaire   energie : reseau de chaleur urbain   type equipement : reseau de chaleur   contiguite des pieces : pieces non contigues   position de la production : en volume non chauffe   isolation du reseau : reseau non isole   volume de stockage : 200   veilleuse : non   alimentation : heure pleine   ',\n",
       " '3667004': 'ecs n 1   type d installation : sans ecs solaire   energie : reseau de chaleur urbain   type equipement : reseau de chaleur   contiguite des pieces : pieces non contigues   position de la production : en volume non chauffe   isolation du reseau : reseau isole   volume de stockage : 200   veilleuse : non   alimentation : heure pleine   ',\n",
       " '3667007': 'ecs n 1   type d installation : sans ecs solaire   energie : reseau de chaleur urbain   type equipement : reseau de chaleur   contiguite des pieces : pieces contigues   position de la production : en volume non chauffe   isolation du reseau : reseau non isole   volume de stockage : 200   veilleuse : non   alimentation : heure pleine   ',\n",
       " '3667008': 'ecs n 1   type d installation : sans ecs solaire   energie : reseau de chaleur urbain   type equipement : reseau de chaleur   contiguite des pieces : pieces non contigues   position de la production : en volume non chauffe   isolation du reseau : reseau non isole   volume de stockage : 200   veilleuse : non   alimentation : heure pleine   ',\n",
       " '3667011': 'ecs n 1   type d installation : sans ecs solaire   energie : reseau de chaleur urbain   type equipement : reseau de chaleur   contiguite des pieces : pieces non contigues   position de la production : en volume non chauffe   isolation du reseau : reseau isole   volume de stockage : 200   veilleuse : non   alimentation : heure pleine   ',\n",
       " '3667015': 'ecs n 1   type d installation : sans ecs solaire   energie : reseau de chaleur urbain   type equipement : reseau de chaleur   contiguite des pieces : pieces non contigues   position de la production : en volume non chauffe   isolation du reseau : reseau non isole   volume de stockage : 200   veilleuse : non   alimentation : heure pleine   ',\n",
       " '3886857': 'ecs n 1   type d installation : sans ecs solaire   energie : reseau de chaleur urbain   type equipement : reseau de chaleur   contiguite des pieces : pieces non contigues   position de la production : en volume non chauffe   isolation du reseau : reseau non isole   volume de stockage : 200   veilleuse : non   alimentation : heure pleine   ',\n",
       " '3886858': 'ecs n 1   type d installation : sans ecs solaire   energie : reseau de chaleur urbain   type equipement : reseau de chaleur   contiguite des pieces : pieces non contigues   position de la production : en volume non chauffe   isolation du reseau : reseau non isole   volume de stockage : 200   veilleuse : non   alimentation : heure pleine   ',\n",
       " '3888504': 'ecs n 1   type d installation : sans ecs solaire   energie : reseau de chaleur urbain   type equipement : reseau de chaleur   contiguite des pieces : pieces non contigues   position de la production : en volume non chauffe   isolation du reseau : reseau non isole   volume de stockage : 200   veilleuse : non   alimentation : heure pleine   ',\n",
       " '3888505': 'ecs n 1   type d installation : sans ecs solaire   energie : reseau de chaleur urbain   type equipement : reseau de chaleur   contiguite des pieces : pieces non contigues   position de la production : en volume non chauffe   isolation du reseau : reseau non isole   volume de stockage : 200   veilleuse : non   alimentation : heure pleine   ',\n",
       " '3888520': 'ecs n 1   type d installation : sans ecs solaire   energie : reseau de chaleur urbain   type equipement : reseau de chaleur   contiguite des pieces : pieces non contigues   position de la production : en volume non chauffe   isolation du reseau : reseau non isole   volume de stockage : 200   veilleuse : non   alimentation : heure pleine   ',\n",
       " '3888523': 'ecs n 1   type d installation : sans ecs solaire   energie : reseau de chaleur urbain   type equipement : reseau de chaleur   contiguite des pieces : pieces non contigues   position de la production : en volume non chauffe   isolation du reseau : reseau non isole   volume de stockage : 200   veilleuse : non   alimentation : heure pleine   ',\n",
       " '3897113': 'ecs n 1   type d installation : sans ecs solaire   energie : reseau de chaleur urbain   type equipement : reseau de chaleur   contiguite des pieces : pieces non contigues   position de la production : en volume non chauffe   isolation du reseau : reseau non isole   volume de stockage : 1   veilleuse : non   alimentation : heure pleine   ',\n",
       " '3897116': 'ecs n 1   type d installation : sans ecs solaire   energie : reseau de chaleur urbain   type equipement : reseau de chaleur   contiguite des pieces : pieces non contigues   position de la production : en volume non chauffe   isolation du reseau : reseau non isole   volume de stockage : 1   veilleuse : non   alimentation : heure pleine   ',\n",
       " '3897129': 'ecs n 1   type d installation : sans ecs solaire   energie : reseau de chaleur urbain   type equipement : reseau de chaleur   contiguite des pieces : pieces non contigues   position de la production : en volume non chauffe   isolation du reseau : reseau non isole   volume de stockage : 1   veilleuse : non   alimentation : heure pleine   ',\n",
       " '3897133': 'ecs n 1   type d installation : sans ecs solaire   energie : reseau de chaleur urbain   type equipement : reseau de chaleur   contiguite des pieces : pieces non contigues   position de la production : en volume non chauffe   isolation du reseau : reseau non isole   volume de stockage : 1   veilleuse : non   alimentation : heure pleine   ',\n",
       " '3897138': 'ecs n 1   type d installation : sans ecs solaire   energie : reseau de chaleur urbain   type equipement : reseau de chaleur   contiguite des pieces : pieces non contigues   position de la production : en volume non chauffe   isolation du reseau : reseau non isole   volume de stockage : 1   veilleuse : non   alimentation : heure pleine   ',\n",
       " '3897142': 'ecs n 1   type d installation : sans ecs solaire   energie : reseau de chaleur urbain   type equipement : reseau de chaleur   contiguite des pieces : pieces contigues   position de la production : en volume non chauffe   isolation du reseau : reseau non isole   volume de stockage : 1   veilleuse : non   alimentation : heure pleine   ',\n",
       " '3897147': 'ecs n 1   type d installation : sans ecs solaire   energie : reseau de chaleur urbain   type equipement : reseau de chaleur   contiguite des pieces : pieces contigues   position de la production : en volume non chauffe   isolation du reseau : reseau non isole   volume de stockage : 1   veilleuse : non   alimentation : heure pleine   ',\n",
       " '3897151': 'ecs n 1   type d installation : sans ecs solaire   energie : reseau de chaleur urbain   type equipement : reseau de chaleur   contiguite des pieces : pieces non contigues   position de la production : en volume non chauffe   isolation du reseau : reseau non isole   volume de stockage : 1   veilleuse : non   alimentation : heure pleine   ',\n",
       " '3897155': 'ecs n 1   type d installation : sans ecs solaire   energie : reseau de chaleur urbain   type equipement : reseau de chaleur   contiguite des pieces : pieces non contigues   position de la production : en volume non chauffe   isolation du reseau : reseau non isole   volume de stockage : 1   veilleuse : non   alimentation : heure pleine   ',\n",
       " '3897163': 'ecs n 1   type d installation : sans ecs solaire   energie : reseau de chaleur urbain   type equipement : reseau de chaleur   contiguite des pieces : pieces non contigues   position de la production : en volume non chauffe   isolation du reseau : reseau non isole   volume de stockage : 1   veilleuse : non   alimentation : heure pleine   ',\n",
       " '3898882': 'ecs n 1   type d installation : sans ecs solaire   energie : reseau de chaleur urbain   type equipement : reseau de chaleur   contiguite des pieces : pieces non contigues   position de la production : en volume non chauffe   isolation du reseau : reseau non isole   volume de stockage : 1   veilleuse : non   alimentation : heure pleine   ',\n",
       " '3898885': 'ecs n 1   type d installation : sans ecs solaire   energie : reseau de chaleur urbain   type equipement : reseau de chaleur   contiguite des pieces : pieces non contigues   position de la production : en volume non chauffe   isolation du reseau : reseau non isole   volume de stockage : 1   veilleuse : non   alimentation : heure pleine   ',\n",
       " '3898891': 'ecs n 1   type d installation : sans ecs solaire   energie : reseau de chaleur urbain   type equipement : reseau de chaleur   contiguite des pieces : pieces non contigues   position de la production : en volume non chauffe   isolation du reseau : reseau non isole   volume de stockage : 1   veilleuse : non   alimentation : heure pleine   ',\n",
       " '3898892': 'ecs n 1   type d installation : sans ecs solaire   energie : reseau de chaleur urbain   type equipement : reseau de chaleur   contiguite des pieces : pieces non contigues   position de la production : en volume non chauffe   isolation du reseau : reseau non isole   volume de stockage : 1   veilleuse : non   alimentation : heure pleine   ',\n",
       " '3898894': 'ecs n 1   type d installation : sans ecs solaire   energie : reseau de chaleur urbain   type equipement : reseau de chaleur   contiguite des pieces : pieces non contigues   position de la production : en volume non chauffe   isolation du reseau : reseau non isole   volume de stockage : 1   veilleuse : non   alimentation : heure pleine   ',\n",
       " '3898895': 'ecs n 1   type d installation : sans ecs solaire   energie : reseau de chaleur urbain   type equipement : reseau de chaleur   contiguite des pieces : pieces non contigues   position de la production : en volume non chauffe   isolation du reseau : reseau non isole   volume de stockage : 1   veilleuse : non   alimentation : heure pleine   ',\n",
       " '3898897': 'ecs n 1   type d installation : sans ecs solaire   energie : reseau de chaleur urbain   type equipement : reseau de chaleur   contiguite des pieces : pieces non contigues   position de la production : en volume non chauffe   isolation du reseau : reseau non isole   volume de stockage : 1   veilleuse : non   alimentation : heure pleine   ',\n",
       " '3898904': 'ecs n 1   type d installation : sans ecs solaire   energie : reseau de chaleur urbain   type equipement : reseau de chaleur   contiguite des pieces : pieces non contigues   position de la production : en volume non chauffe   isolation du reseau : reseau non isole   volume de stockage : 1   veilleuse : non   alimentation : heure pleine   ',\n",
       " '3898908': 'ecs n 1   type d installation : sans ecs solaire   energie : reseau de chaleur urbain   type equipement : reseau de chaleur   contiguite des pieces : pieces non contigues   position de la production : en volume non chauffe   isolation du reseau : reseau non isole   volume de stockage : 1   veilleuse : non   alimentation : heure pleine   ',\n",
       " '3898910': 'ecs n 1   type d installation : sans ecs solaire   energie : reseau de chaleur urbain   type equipement : reseau de chaleur   contiguite des pieces : pieces non contigues   position de la production : en volume non chauffe   isolation du reseau : reseau non isole   volume de stockage : 1   veilleuse : non   alimentation : heure pleine   ',\n",
       " '3898914': 'ecs n 1   type d installation : sans ecs solaire   energie : reseau de chaleur urbain   type equipement : reseau de chaleur   contiguite des pieces : pieces non contigues   position de la production : en volume non chauffe   isolation du reseau : reseau non isole   volume de stockage : 1   veilleuse : non   alimentation : heure pleine   ',\n",
       " '3898919': 'ecs n 1   type d installation : sans ecs solaire   energie : reseau de chaleur urbain   type equipement : reseau de chaleur   contiguite des pieces : pieces non contigues   position de la production : en volume non chauffe   isolation du reseau : reseau non isole   volume de stockage : 1   veilleuse : non   alimentation : heure pleine   ',\n",
       " '3898920': 'ecs n 1   type d installation : sans ecs solaire   energie : reseau de chaleur urbain   type equipement : reseau de chaleur   contiguite des pieces : pieces non contigues   position de la production : en volume non chauffe   isolation du reseau : reseau non isole   volume de stockage : 1   veilleuse : non   alimentation : heure pleine   ',\n",
       " '3898922': 'ecs n 1   type d installation : sans ecs solaire   energie : reseau de chaleur urbain   type equipement : reseau de chaleur   contiguite des pieces : pieces non contigues   position de la production : en volume non chauffe   isolation du reseau : reseau non isole   volume de stockage : 1   veilleuse : non   alimentation : heure pleine   ',\n",
       " '3898925': 'ecs n 1   type d installation : sans ecs solaire   energie : reseau de chaleur urbain   type equipement : reseau de chaleur   contiguite des pieces : pieces non contigues   position de la production : en volume non chauffe   isolation du reseau : reseau non isole   volume de stockage : 1   veilleuse : non   alimentation : heure pleine   ',\n",
       " '3898927': 'ecs n 1   type d installation : sans ecs solaire   energie : reseau de chaleur urbain   type equipement : reseau de chaleur   contiguite des pieces : pieces non contigues   position de la production : en volume non chauffe   isolation du reseau : reseau non isole   volume de stockage : 1   veilleuse : non   alimentation : heure pleine   ',\n",
       " '3898929': 'ecs n 1   type d installation : sans ecs solaire   energie : reseau de chaleur urbain   type equipement : reseau de chaleur   contiguite des pieces : pieces non contigues   position de la production : en volume non chauffe   isolation du reseau : reseau non isole   volume de stockage : 1   veilleuse : non   alimentation : heure pleine   ',\n",
       " '3920465': 'ecs n 1   type d installation : sans ecs solaire   energie : reseau de chaleur urbain   type equipement : reseau de chaleur   contiguite des pieces : pieces non contigues   position de la production : en volume non chauffe   isolation du reseau : reseau non isole   volume de stockage : 1   veilleuse : non   alimentation : heure pleine   ',\n",
       " '3920469': 'ecs n 1   type d installation : sans ecs solaire   energie : reseau de chaleur urbain   type equipement : reseau de chaleur   contiguite des pieces : pieces non contigues   position de la production : en volume non chauffe   isolation du reseau : reseau non isole   volume de stockage : 1   veilleuse : non   alimentation : heure pleine   ',\n",
       " '3920476': 'ecs n 1   type d installation : sans ecs solaire   energie : reseau de chaleur urbain   type equipement : reseau de chaleur   contiguite des pieces : pieces non contigues   position de la production : en volume non chauffe   isolation du reseau : reseau non isole   volume de stockage : 1   veilleuse : non   alimentation : heure pleine   ',\n",
       " '3920480': 'ecs n 1   type d installation : sans ecs solaire   energie : reseau de chaleur urbain   type equipement : reseau de chaleur   contiguite des pieces : pieces non contigues   position de la production : en volume non chauffe   isolation du reseau : reseau non isole   volume de stockage : 1   veilleuse : non   alimentation : heure pleine   ',\n",
       " '3920481': 'ecs n 1   type d installation : sans ecs solaire   energie : reseau de chaleur urbain   type equipement : reseau de chaleur   contiguite des pieces : pieces non contigues   position de la production : en volume non chauffe   isolation du reseau : reseau non isole   volume de stockage : 1   veilleuse : non   alimentation : heure pleine   ',\n",
       " '3920493': 'ecs n 1   type d installation : sans ecs solaire   energie : reseau de chaleur urbain   type equipement : reseau de chaleur   contiguite des pieces : pieces non contigues   position de la production : en volume non chauffe   isolation du reseau : reseau non isole   volume de stockage : 1   veilleuse : non   alimentation : heure pleine   ',\n",
       " '3920494': 'ecs n 1   type d installation : sans ecs solaire   energie : reseau de chaleur urbain   type equipement : reseau de chaleur   contiguite des pieces : pieces non contigues   position de la production : en volume non chauffe   isolation du reseau : reseau non isole   volume de stockage : 1   veilleuse : non   alimentation : heure pleine   ',\n",
       " '3920496': 'ecs n 1   type d installation : sans ecs solaire   energie : reseau de chaleur urbain   type equipement : reseau de chaleur   contiguite des pieces : pieces non contigues   position de la production : en volume non chauffe   isolation du reseau : reseau non isole   volume de stockage : 1   veilleuse : non   alimentation : heure pleine   ',\n",
       " '3920502': 'ecs n 1   type d installation : sans ecs solaire   energie : reseau de chaleur urbain   type equipement : reseau de chaleur   contiguite des pieces : pieces non contigues   position de la production : en volume non chauffe   isolation du reseau : reseau non isole   volume de stockage : 1   veilleuse : non   alimentation : heure pleine   ',\n",
       " '3920503': 'ecs n 1   type d installation : sans ecs solaire   energie : reseau de chaleur urbain   type equipement : reseau de chaleur   contiguite des pieces : pieces non contigues   position de la production : en volume non chauffe   isolation du reseau : reseau non isole   volume de stockage : 1   veilleuse : non   alimentation : heure pleine   ',\n",
       " '3920507': 'ecs n 1   type d installation : sans ecs solaire   energie : reseau de chaleur urbain   type equipement : reseau de chaleur   contiguite des pieces : pieces non contigues   position de la production : en volume non chauffe   isolation du reseau : reseau non isole   volume de stockage : 1   veilleuse : non   alimentation : heure pleine   ',\n",
       " '3920511': 'ecs n 1   type d installation : sans ecs solaire   energie : reseau de chaleur urbain   type equipement : reseau de chaleur   contiguite des pieces : pieces non contigues   position de la production : en volume non chauffe   isolation du reseau : reseau non isole   volume de stockage : 1   veilleuse : non   alimentation : heure pleine   ',\n",
       " '3920513': 'ecs n 1   type d installation : sans ecs solaire   energie : reseau de chaleur urbain   type equipement : reseau de chaleur   contiguite des pieces : pieces non contigues   position de la production : en volume non chauffe   isolation du reseau : reseau non isole   volume de stockage : 1   veilleuse : non   alimentation : heure pleine   ',\n",
       " '3920519': 'ecs n 1   type d installation : sans ecs solaire   energie : reseau de chaleur urbain   type equipement : reseau de chaleur   contiguite des pieces : pieces non contigues   position de la production : en volume non chauffe   isolation du reseau : reseau non isole   volume de stockage : 1   veilleuse : non   alimentation : heure pleine   ',\n",
       " '3920522': 'ecs n 1   type d installation : sans ecs solaire   energie : reseau de chaleur urbain   type equipement : reseau de chaleur   contiguite des pieces : pieces non contigues   position de la production : en volume non chauffe   isolation du reseau : reseau non isole   volume de stockage : 1   veilleuse : non   alimentation : heure pleine   ',\n",
       " '3920527': 'ecs n 1   type d installation : sans ecs solaire   energie : reseau de chaleur urbain   type equipement : reseau de chaleur   contiguite des pieces : pieces non contigues   position de la production : en volume non chauffe   isolation du reseau : reseau non isole   volume de stockage : 1   veilleuse : non   alimentation : heure pleine   ',\n",
       " '3920531': 'ecs n 1   type d installation : sans ecs solaire   energie : reseau de chaleur urbain   type equipement : reseau de chaleur   contiguite des pieces : pieces non contigues   position de la production : en volume non chauffe   isolation du reseau : reseau non isole   volume de stockage : 1   veilleuse : non   alimentation : heure pleine   ',\n",
       " '3920532': 'ecs n 1   type d installation : sans ecs solaire   energie : reseau de chaleur urbain   type equipement : reseau de chaleur   contiguite des pieces : pieces non contigues   position de la production : en volume non chauffe   isolation du reseau : reseau non isole   volume de stockage : 1   veilleuse : non   alimentation : heure pleine   ',\n",
       " '3924582': 'ecs n 1   type d installation : sans ecs solaire   energie : reseau de chaleur urbain   type equipement : reseau de chaleur   contiguite des pieces : pieces non contigues   position de la production : en volume non chauffe   isolation du reseau : reseau non isole   volume de stockage : 1   veilleuse : non   alimentation : heure pleine   ',\n",
       " '3924585': 'ecs n 1   type d installation : sans ecs solaire   energie : reseau de chaleur urbain   type equipement : reseau de chaleur   contiguite des pieces : pieces non contigues   position de la production : en volume non chauffe   isolation du reseau : reseau non isole   volume de stockage : 1   veilleuse : non   alimentation : heure pleine   ',\n",
       " '3924588': 'ecs n 1   type d installation : sans ecs solaire   energie : reseau de chaleur urbain   type equipement : reseau de chaleur   contiguite des pieces : pieces non contigues   position de la production : en volume non chauffe   isolation du reseau : reseau non isole   volume de stockage : 1   veilleuse : non   alimentation : heure pleine   ',\n",
       " '3924595': 'ecs n 1   type d installation : sans ecs solaire   energie : reseau de chaleur urbain   type equipement : reseau de chaleur   contiguite des pieces : pieces non contigues   position de la production : en volume non chauffe   isolation du reseau : reseau non isole   volume de stockage : 1   veilleuse : non   alimentation : heure pleine   ',\n",
       " '3924604': 'ecs n 1   type d installation : sans ecs solaire   energie : reseau de chaleur urbain   type equipement : reseau de chaleur   contiguite des pieces : pieces non contigues   position de la production : en volume non chauffe   isolation du reseau : reseau non isole   volume de stockage : 1   veilleuse : non   alimentation : heure pleine   ',\n",
       " '3924607': 'ecs n 1   type d installation : sans ecs solaire   energie : reseau de chaleur urbain   type equipement : reseau de chaleur   contiguite des pieces : pieces non contigues   position de la production : en volume non chauffe   isolation du reseau : reseau non isole   volume de stockage : 1   veilleuse : non   alimentation : heure pleine   ',\n",
       " '3924608': 'ecs n 1   type d installation : sans ecs solaire   energie : reseau de chaleur urbain   type equipement : reseau de chaleur   contiguite des pieces : pieces non contigues   position de la production : en volume non chauffe   isolation du reseau : reseau non isole   volume de stockage : 1   veilleuse : non   alimentation : heure pleine   ',\n",
       " '3924612': 'ecs n 1   type d installation : sans ecs solaire   energie : reseau de chaleur urbain   type equipement : reseau de chaleur   contiguite des pieces : pieces non contigues   position de la production : en volume non chauffe   isolation du reseau : reseau non isole   volume de stockage : 1   veilleuse : non   alimentation : heure pleine   ',\n",
       " '3924615': 'ecs n 1   type d installation : sans ecs solaire   energie : reseau de chaleur urbain   type equipement : reseau de chaleur   contiguite des pieces : pieces non contigues   position de la production : en volume non chauffe   isolation du reseau : reseau non isole   volume de stockage : 1   veilleuse : non   alimentation : heure pleine   ',\n",
       " '3924617': 'ecs n 1   type d installation : sans ecs solaire   energie : reseau de chaleur urbain   type equipement : reseau de chaleur   contiguite des pieces : pieces non contigues   position de la production : en volume non chauffe   isolation du reseau : reseau non isole   volume de stockage : 1   veilleuse : non   alimentation : heure pleine   ',\n",
       " '3924625': 'ecs n 1   type d installation : sans ecs solaire   energie : reseau de chaleur urbain   type equipement : reseau de chaleur   contiguite des pieces : pieces non contigues   position de la production : en volume non chauffe   isolation du reseau : reseau non isole   volume de stockage : 1   veilleuse : non   alimentation : heure pleine   ',\n",
       " '3924628': 'ecs n 1   type d installation : sans ecs solaire   energie : reseau de chaleur urbain   type equipement : reseau de chaleur   contiguite des pieces : pieces non contigues   position de la production : en volume non chauffe   isolation du reseau : reseau non isole   volume de stockage : 1   veilleuse : non   alimentation : heure pleine   ',\n",
       " '3924631': 'ecs n 1   type d installation : sans ecs solaire   energie : reseau de chaleur urbain   type equipement : reseau de chaleur   contiguite des pieces : pieces non contigues   position de la production : en volume non chauffe   isolation du reseau : reseau non isole   volume de stockage : 1   veilleuse : non   alimentation : heure pleine   ',\n",
       " '3924637': 'ecs n 1   type d installation : sans ecs solaire   energie : reseau de chaleur urbain   type equipement : reseau de chaleur   contiguite des pieces : pieces non contigues   position de la production : en volume non chauffe   isolation du reseau : reseau non isole   volume de stockage : 1   veilleuse : non   alimentation : heure pleine   ',\n",
       " '3924640': 'ecs n 1   type d installation : sans ecs solaire   energie : reseau de chaleur urbain   type equipement : reseau de chaleur   contiguite des pieces : pieces non contigues   position de la production : en volume non chauffe   isolation du reseau : reseau non isole   volume de stockage : 1   veilleuse : non   alimentation : heure pleine   ',\n",
       " '3927404': 'ecs n 1   type d installation : sans ecs solaire   energie : reseau de chaleur urbain   type equipement : reseau de chaleur   contiguite des pieces : pieces non contigues   position de la production : en volume non chauffe   isolation du reseau : reseau non isole   volume de stockage : 1   veilleuse : non   alimentation : heure pleine   ',\n",
       " '3927409': 'ecs n 1   type d installation : sans ecs solaire   energie : reseau de chaleur urbain   type equipement : reseau de chaleur   contiguite des pieces : pieces non contigues   position de la production : en volume non chauffe   isolation du reseau : reseau non isole   volume de stockage : 1   veilleuse : non   alimentation : heure pleine   ',\n",
       " '3927410': 'ecs n 1   type d installation : sans ecs solaire   energie : reseau de chaleur urbain   type equipement : reseau de chaleur   contiguite des pieces : pieces non contigues   position de la production : en volume non chauffe   isolation du reseau : reseau non isole   volume de stockage : 1   veilleuse : non   alimentation : heure pleine   ',\n",
       " '3927412': 'ecs n 1   type d installation : sans ecs solaire   energie : reseau de chaleur urbain   type equipement : reseau de chaleur   contiguite des pieces : pieces non contigues   position de la production : en volume non chauffe   isolation du reseau : reseau non isole   volume de stockage : 200   veilleuse : non   alimentation : heure pleine   ',\n",
       " '3927413': 'ecs n 1   type d installation : sans ecs solaire   energie : reseau de chaleur urbain   type equipement : reseau de chaleur   contiguite des pieces : pieces non contigues   position de la production : en volume non chauffe   isolation du reseau : reseau non isole   volume de stockage : 1   veilleuse : non   alimentation : heure pleine   ',\n",
       " '3927415': 'ecs n 1   type d installation : sans ecs solaire   energie : reseau de chaleur urbain   type equipement : reseau de chaleur   contiguite des pieces : pieces non contigues   position de la production : en volume non chauffe   isolation du reseau : reseau non isole   volume de stockage : 1   veilleuse : non   alimentation : heure pleine   ',\n",
       " '3927417': 'ecs n 1   type d installation : sans ecs solaire   energie : reseau de chaleur urbain   type equipement : reseau de chaleur   contiguite des pieces : pieces non contigues   position de la production : en volume non chauffe   isolation du reseau : reseau non isole   volume de stockage : 1   veilleuse : non   alimentation : heure pleine   ',\n",
       " '3927421': 'ecs n 1   type d installation : sans ecs solaire   energie : reseau de chaleur urbain   type equipement : reseau de chaleur   contiguite des pieces : pieces non contigues   position de la production : en volume non chauffe   isolation du reseau : reseau non isole   volume de stockage : 200   veilleuse : non   alimentation : heure pleine   ',\n",
       " '3930467': 'ecs n 1   type d installation : sans ecs solaire   energie : reseau de chaleur urbain   type equipement : reseau de chaleur   contiguite des pieces : pieces non contigues   position de la production : en volume non chauffe   isolation du reseau : reseau non isole   volume de stockage : 1   veilleuse : non   alimentation : heure pleine   ',\n",
       " '3930472': 'ecs n 1   type d installation : sans ecs solaire   energie : reseau de chaleur urbain   type equipement : reseau de chaleur   contiguite des pieces : pieces non contigues   position de la production : en volume non chauffe   isolation du reseau : reseau non isole   volume de stockage : 1   veilleuse : non   alimentation : heure pleine   ',\n",
       " '3933973': 'ecs n 1   type d installation : sans ecs solaire   energie : reseau de chaleur urbain   type equipement : reseau de chaleur   contiguite des pieces : pieces non contigues   position de la production : en volume non chauffe   isolation du reseau : reseau non isole   volume de stockage : 1   veilleuse : non   alimentation : heure pleine   ',\n",
       " '3933980': 'ecs n 1   type d installation : sans ecs solaire   energie : reseau de chaleur urbain   type equipement : reseau de chaleur   contiguite des pieces : pieces non contigues   position de la production : en volume non chauffe   isolation du reseau : reseau non isole   volume de stockage : 1   veilleuse : non   alimentation : heure pleine   ',\n",
       " '3933982': 'ecs n 1   type d installation : sans ecs solaire   energie : reseau de chaleur urbain   type equipement : reseau de chaleur   contiguite des pieces : pieces non contigues   position de la production : en volume non chauffe   isolation du reseau : reseau non isole   volume de stockage : 1   veilleuse : non   alimentation : heure pleine   ',\n",
       " '3933990': 'ecs n 1   type d installation : sans ecs solaire   energie : reseau de chaleur urbain   type equipement : reseau de chaleur   contiguite des pieces : pieces non contigues   position de la production : en volume non chauffe   isolation du reseau : reseau non isole   volume de stockage : 1   veilleuse : non   alimentation : heure pleine   ',\n",
       " '3933993': 'ecs n 1   type d installation : sans ecs solaire   energie : reseau de chaleur urbain   type equipement : reseau de chaleur   contiguite des pieces : pieces non contigues   position de la production : en volume non chauffe   isolation du reseau : reseau non isole   volume de stockage : 1   veilleuse : non   alimentation : heure pleine   ',\n",
       " '3934006': 'ecs n 1   type d installation : sans ecs solaire   energie : reseau de chaleur urbain   type equipement : reseau de chaleur   contiguite des pieces : pieces non contigues   position de la production : en volume non chauffe   isolation du reseau : reseau non isole   volume de stockage : 1   veilleuse : non   alimentation : heure pleine   ',\n",
       " '3934011': 'ecs n 1   type d installation : sans ecs solaire   energie : reseau de chaleur urbain   type equipement : reseau de chaleur   contiguite des pieces : pieces non contigues   position de la production : en volume non chauffe   isolation du reseau : reseau non isole   volume de stockage : 1   veilleuse : non   alimentation : heure pleine   ',\n",
       " '3934018': 'ecs n 1   type d installation : sans ecs solaire   energie : reseau de chaleur urbain   type equipement : reseau de chaleur   contiguite des pieces : pieces non contigues   position de la production : en volume non chauffe   isolation du reseau : reseau non isole   volume de stockage : 1   veilleuse : non   alimentation : heure pleine   ',\n",
       " '3934021': 'ecs n 1   type d installation : sans ecs solaire   energie : reseau de chaleur urbain   type equipement : reseau de chaleur   contiguite des pieces : pieces non contigues   position de la production : en volume non chauffe   isolation du reseau : reseau non isole   volume de stockage : 1   veilleuse : non   alimentation : heure pleine   ',\n",
       " '3934034': 'ecs n 1   type d installation : sans ecs solaire   energie : reseau de chaleur urbain   type equipement : reseau de chaleur   contiguite des pieces : pieces non contigues   position de la production : en volume non chauffe   isolation du reseau : reseau non isole   volume de stockage : 10   veilleuse : non   alimentation : heure pleine   ',\n",
       " '3934046': 'ecs n 1   type d installation : sans ecs solaire   energie : reseau de chaleur urbain   type equipement : reseau de chaleur   contiguite des pieces : pieces non contigues   position de la production : en volume non chauffe   isolation du reseau : reseau non isole   volume de stockage : 1   veilleuse : non   alimentation : heure pleine   ',\n",
       " '3934054': 'ecs n 1   type d installation : sans ecs solaire   energie : reseau de chaleur urbain   type equipement : reseau de chaleur   contiguite des pieces : pieces non contigues   position de la production : en volume non chauffe   isolation du reseau : reseau non isole   volume de stockage : 1   veilleuse : non   alimentation : heure pleine   ',\n",
       " '3934057': 'ecs n 1   type d installation : sans ecs solaire   energie : reseau de chaleur urbain   type equipement : reseau de chaleur   contiguite des pieces : pieces non contigues   position de la production : en volume non chauffe   isolation du reseau : reseau non isole   volume de stockage : 1   veilleuse : non   alimentation : heure pleine   ',\n",
       " '3934067': 'ecs n 1   type d installation : sans ecs solaire   energie : reseau de chaleur urbain   type equipement : reseau de chaleur   contiguite des pieces : pieces non contigues   position de la production : en volume non chauffe   isolation du reseau : reseau non isole   volume de stockage : 1   veilleuse : non   alimentation : heure pleine   ',\n",
       " '3934149': 'ecs n 1   type d installation : sans ecs solaire   energie : reseau de chaleur urbain   type equipement : reseau de chaleur   contiguite des pieces : pieces non contigues   position de la production : en volume non chauffe   isolation du reseau : reseau non isole   volume de stockage : 1   veilleuse : non   alimentation : heure pleine   ',\n",
       " '3934152': 'ecs n 1   type d installation : sans ecs solaire   energie : reseau de chaleur urbain   type equipement : reseau de chaleur   contiguite des pieces : pieces non contigues   position de la production : en volume non chauffe   isolation du reseau : reseau non isole   volume de stockage : 1   veilleuse : non   alimentation : heure pleine   ',\n",
       " '3934156': 'ecs n 1   type d installation : sans ecs solaire   energie : reseau de chaleur urbain   type equipement : reseau de chaleur   contiguite des pieces : pieces non contigues   position de la production : en volume non chauffe   isolation du reseau : reseau non isole   volume de stockage : 1   veilleuse : non   alimentation : heure pleine   ',\n",
       " '3934169': 'ecs n 1   type d installation : sans ecs solaire   energie : reseau de chaleur urbain   type equipement : reseau de chaleur   contiguite des pieces : pieces non contigues   position de la production : en volume non chauffe   isolation du reseau : reseau non isole   volume de stockage : 1   veilleuse : non   alimentation : heure pleine   ',\n",
       " '3934170': 'ecs n 1   type d installation : sans ecs solaire   energie : reseau de chaleur urbain   type equipement : reseau de chaleur   contiguite des pieces : pieces non contigues   position de la production : en volume non chauffe   isolation du reseau : reseau non isole   volume de stockage : 1   veilleuse : non   alimentation : heure pleine   ',\n",
       " '3934172': 'ecs n 1   type d installation : sans ecs solaire   energie : reseau de chaleur urbain   type equipement : reseau de chaleur   contiguite des pieces : pieces non contigues   position de la production : en volume non chauffe   isolation du reseau : reseau non isole   volume de stockage : 1   veilleuse : non   alimentation : heure pleine   ',\n",
       " '3934175': 'ecs n 1   type d installation : sans ecs solaire   energie : reseau de chaleur urbain   type equipement : reseau de chaleur   contiguite des pieces : pieces non contigues   position de la production : en volume non chauffe   isolation du reseau : reseau non isole   volume de stockage : 1   veilleuse : non   alimentation : heure pleine   ',\n",
       " '3934178': 'ecs n 1   type d installation : sans ecs solaire   energie : reseau de chaleur urbain   type equipement : reseau de chaleur   contiguite des pieces : pieces non contigues   position de la production : en volume non chauffe   isolation du reseau : reseau non isole   volume de stockage : 1   veilleuse : non   alimentation : heure pleine   ',\n",
       " '3939183': 'ecs n 1   type d installation : sans ecs solaire   energie : reseau de chaleur urbain   type equipement : reseau de chaleur   contiguite des pieces : pieces non contigues   position de la production : en volume non chauffe   isolation du reseau : reseau non isole   volume de stockage : 1   veilleuse : non   alimentation : heure pleine   ',\n",
       " '3939184': 'ecs n 1   type d installation : sans ecs solaire   energie : reseau de chaleur urbain   type equipement : reseau de chaleur   contiguite des pieces : pieces non contigues   position de la production : en volume non chauffe   isolation du reseau : reseau non isole   volume de stockage : 1   veilleuse : non   alimentation : heure pleine   ',\n",
       " '3939185': 'ecs n 1   type d installation : sans ecs solaire   energie : reseau de chaleur urbain   type equipement : reseau de chaleur   contiguite des pieces : pieces non contigues   position de la production : en volume non chauffe   isolation du reseau : reseau non isole   volume de stockage : 1   veilleuse : non   alimentation : heure pleine   ',\n",
       " '3939186': 'ecs n 1   type d installation : sans ecs solaire   energie : reseau de chaleur urbain   type equipement : reseau de chaleur   contiguite des pieces : pieces non contigues   position de la production : en volume non chauffe   isolation du reseau : reseau non isole   volume de stockage : 1   veilleuse : non   alimentation : heure pleine   ',\n",
       " '3939187': 'ecs n 1   type d installation : sans ecs solaire   energie : reseau de chaleur urbain   type equipement : reseau de chaleur   contiguite des pieces : pieces non contigues   position de la production : en volume non chauffe   isolation du reseau : reseau non isole   volume de stockage : 1   veilleuse : non   alimentation : heure pleine   ',\n",
       " '3939188': 'ecs n 1   type d installation : sans ecs solaire   energie : reseau de chaleur urbain   type equipement : reseau de chaleur   contiguite des pieces : pieces non contigues   position de la production : en volume non chauffe   isolation du reseau : reseau non isole   volume de stockage : 1   veilleuse : non   alimentation : heure pleine   ',\n",
       " '3939190': 'ecs n 1   type d installation : sans ecs solaire   energie : reseau de chaleur urbain   type equipement : reseau de chaleur   contiguite des pieces : pieces non contigues   position de la production : en volume non chauffe   isolation du reseau : reseau non isole   volume de stockage : 1   veilleuse : non   alimentation : heure pleine   ',\n",
       " '3939191': 'ecs n 1   type d installation : sans ecs solaire   energie : reseau de chaleur urbain   type equipement : reseau de chaleur   contiguite des pieces : pieces non contigues   position de la production : en volume non chauffe   isolation du reseau : reseau non isole   volume de stockage : 1   veilleuse : non   alimentation : heure pleine   ',\n",
       " '3939192': 'ecs n 1   type d installation : sans ecs solaire   energie : reseau de chaleur urbain   type equipement : reseau de chaleur   contiguite des pieces : pieces non contigues   position de la production : en volume non chauffe   isolation du reseau : reseau non isole   volume de stockage : 1   veilleuse : non   alimentation : heure pleine   ',\n",
       " '3939193': 'ecs n 1   type d installation : sans ecs solaire   energie : reseau de chaleur urbain   type equipement : reseau de chaleur   contiguite des pieces : pieces non contigues   position de la production : en volume non chauffe   isolation du reseau : reseau non isole   volume de stockage : 1   veilleuse : non   alimentation : heure pleine   ',\n",
       " '3939194': 'ecs n 1   type d installation : sans ecs solaire   energie : reseau de chaleur urbain   type equipement : reseau de chaleur   contiguite des pieces : pieces non contigues   position de la production : en volume non chauffe   isolation du reseau : reseau non isole   volume de stockage : 1   veilleuse : non   alimentation : heure pleine   ',\n",
       " '3939197': 'ecs n 1   type d installation : sans ecs solaire   energie : reseau de chaleur urbain   type equipement : reseau de chaleur   contiguite des pieces : pieces non contigues   position de la production : en volume non chauffe   isolation du reseau : reseau non isole   volume de stockage : 1   veilleuse : non   alimentation : heure pleine   ',\n",
       " '3939199': 'ecs n 1   type d installation : sans ecs solaire   energie : reseau de chaleur urbain   type equipement : reseau de chaleur   contiguite des pieces : pieces non contigues   position de la production : en volume non chauffe   isolation du reseau : reseau non isole   volume de stockage : 1   veilleuse : non   alimentation : heure pleine   ',\n",
       " '3939200': 'ecs n 1   type d installation : sans ecs solaire   energie : reseau de chaleur urbain   type equipement : reseau de chaleur   contiguite des pieces : pieces non contigues   position de la production : en volume non chauffe   isolation du reseau : reseau non isole   volume de stockage : 200   veilleuse : non   alimentation : heure pleine   ',\n",
       " '3939202': 'ecs n 1   type d installation : sans ecs solaire   energie : reseau de chaleur urbain   type equipement : reseau de chaleur   contiguite des pieces : pieces non contigues   position de la production : en volume non chauffe   isolation du reseau : reseau non isole   volume de stockage : 1   veilleuse : non   alimentation : heure pleine   ',\n",
       " '3939203': 'ecs n 1   type d installation : sans ecs solaire   energie : reseau de chaleur urbain   type equipement : reseau de chaleur   contiguite des pieces : pieces non contigues   position de la production : en volume non chauffe   isolation du reseau : reseau non isole   volume de stockage : 1   veilleuse : non   alimentation : heure pleine   ',\n",
       " '3939204': 'ecs n 1   type d installation : sans ecs solaire   energie : reseau de chaleur urbain   type equipement : reseau de chaleur   contiguite des pieces : pieces non contigues   position de la production : en volume non chauffe   isolation du reseau : reseau non isole   volume de stockage : 1   veilleuse : non   alimentation : heure pleine   ',\n",
       " '3996837': 'ecs n 1   type d installation : sans ecs solaire   energie : reseau de chaleur urbain   type equipement : reseau de chaleur   contiguite des pieces : pieces non contigues   position de la production : en volume non chauffe   isolation du reseau : reseau non isole   volume de stockage : 1   veilleuse : non   alimentation : heure pleine   ',\n",
       " '3996839': 'ecs n 1   type d installation : sans ecs solaire   energie : reseau de chaleur urbain   type equipement : reseau de chaleur   contiguite des pieces : pieces non contigues   position de la production : en volume non chauffe   isolation du reseau : reseau non isole   volume de stockage : 1   veilleuse : non   alimentation : heure pleine   ',\n",
       " '3996840': 'ecs n 1   type d installation : sans ecs solaire   energie : reseau de chaleur urbain   type equipement : reseau de chaleur   contiguite des pieces : pieces non contigues   position de la production : en volume non chauffe   isolation du reseau : reseau non isole   volume de stockage : 1   veilleuse : non   alimentation : heure pleine   ',\n",
       " '3996841': 'ecs n 1   type d installation : sans ecs solaire   energie : reseau de chaleur urbain   type equipement : reseau de chaleur   contiguite des pieces : pieces non contigues   position de la production : en volume non chauffe   isolation du reseau : reseau non isole   volume de stockage : 1   veilleuse : non   alimentation : heure pleine   ',\n",
       " '3996842': 'ecs n 1   type d installation : sans ecs solaire   energie : reseau de chaleur urbain   type equipement : reseau de chaleur   contiguite des pieces : pieces non contigues   position de la production : en volume non chauffe   isolation du reseau : reseau non isole   volume de stockage : 1   veilleuse : non   alimentation : heure pleine   ',\n",
       " '3996843': 'ecs n 1   type d installation : sans ecs solaire   energie : reseau de chaleur urbain   type equipement : reseau de chaleur   contiguite des pieces : pieces non contigues   position de la production : en volume non chauffe   isolation du reseau : reseau non isole   volume de stockage : 1   veilleuse : non   alimentation : heure pleine   ',\n",
       " '3996848': 'ecs n 1   type d installation : sans ecs solaire   energie : reseau de chaleur urbain   type equipement : reseau de chaleur   contiguite des pieces : pieces non contigues   position de la production : en volume non chauffe   isolation du reseau : reseau non isole   volume de stockage : 1   veilleuse : non   alimentation : heure pleine   ',\n",
       " '3996849': 'ecs n 1   type d installation : sans ecs solaire   energie : reseau de chaleur urbain   type equipement : reseau de chaleur   contiguite des pieces : pieces non contigues   position de la production : en volume non chauffe   isolation du reseau : reseau non isole   volume de stockage : 1   veilleuse : non   alimentation : heure pleine   ',\n",
       " '3996850': 'ecs n 1   type d installation : sans ecs solaire   energie : reseau de chaleur urbain   type equipement : reseau de chaleur   contiguite des pieces : pieces non contigues   position de la production : en volume non chauffe   isolation du reseau : reseau non isole   volume de stockage : 1   veilleuse : non   alimentation : heure pleine   ',\n",
       " '3996952': 'ecs n 1   type d installation : sans ecs solaire   energie : reseau de chaleur urbain   type equipement : reseau de chaleur   contiguite des pieces : pieces non contigues   position de la production : en volume non chauffe   isolation du reseau : reseau non isole   volume de stockage : 200   veilleuse : non   alimentation : heure pleine   ',\n",
       " '3997363': 'ecs n 1   type d installation : sans ecs solaire   energie : reseau de chaleur urbain   type equipement : reseau de chaleur   contiguite des pieces : pieces non contigues   position de la production : en volume non chauffe   isolation du reseau : reseau non isole   volume de stockage : 1   veilleuse : non   alimentation : heure pleine   ',\n",
       " '3997364': 'ecs n 1   type d installation : sans ecs solaire   energie : reseau de chaleur urbain   type equipement : reseau de chaleur   contiguite des pieces : pieces non contigues   position de la production : en volume non chauffe   isolation du reseau : reseau non isole   volume de stockage : 1   veilleuse : non   alimentation : heure pleine   ',\n",
       " '3997365': 'ecs n 1   type d installation : sans ecs solaire   energie : reseau de chaleur urbain   type equipement : reseau de chaleur   contiguite des pieces : pieces non contigues   position de la production : en volume non chauffe   isolation du reseau : reseau non isole   volume de stockage : 200   veilleuse : non   alimentation : heure pleine   ',\n",
       " '3997366': 'ecs n 1   type d installation : sans ecs solaire   energie : reseau de chaleur urbain   type equipement : reseau de chaleur   contiguite des pieces : pieces non contigues   position de la production : en volume non chauffe   isolation du reseau : reseau non isole   volume de stockage : 1   veilleuse : non   alimentation : heure pleine   ',\n",
       " '3997367': 'ecs n 1   type d installation : sans ecs solaire   energie : reseau de chaleur urbain   type equipement : reseau de chaleur   contiguite des pieces : pieces non contigues   position de la production : en volume non chauffe   isolation du reseau : reseau non isole   volume de stockage : 200   veilleuse : non   alimentation : heure pleine   ',\n",
       " '3997368': 'ecs n 1   type d installation : sans ecs solaire   energie : reseau de chaleur urbain   type equipement : reseau de chaleur   contiguite des pieces : pieces non contigues   position de la production : en volume non chauffe   isolation du reseau : reseau non isole   volume de stockage : 1   veilleuse : non   alimentation : heure pleine   ',\n",
       " '3997373': 'ecs n 1   type d installation : sans ecs solaire   energie : reseau de chaleur urbain   type equipement : reseau de chaleur   contiguite des pieces : pieces non contigues   position de la production : en volume non chauffe   isolation du reseau : reseau non isole   volume de stockage : 200   veilleuse : non   alimentation : heure pleine   ',\n",
       " '3997374': 'ecs n 1   type d installation : sans ecs solaire   energie : reseau de chaleur urbain   type equipement : reseau de chaleur   contiguite des pieces : pieces contigues   position de la production : en volume non chauffe   isolation du reseau : reseau non isole   volume de stockage : 1   veilleuse : non   alimentation : heure pleine   ',\n",
       " '3997375': 'ecs n 1   type d installation : sans ecs solaire   energie : reseau de chaleur urbain   type equipement : reseau de chaleur   contiguite des pieces : pieces non contigues   position de la production : en volume non chauffe   isolation du reseau : reseau non isole   volume de stockage : 200   veilleuse : non   alimentation : heure pleine   ',\n",
       " '3997376': 'ecs n 1   type d installation : sans ecs solaire   energie : reseau de chaleur urbain   type equipement : reseau de chaleur   contiguite des pieces : pieces non contigues   position de la production : en volume non chauffe   isolation du reseau : reseau non isole   volume de stockage : 1   veilleuse : non   alimentation : heure pleine   ',\n",
       " '3997377': 'ecs n 1   type d installation : sans ecs solaire   energie : reseau de chaleur urbain   type equipement : reseau de chaleur   contiguite des pieces : pieces non contigues   position de la production : en volume non chauffe   isolation du reseau : reseau non isole   volume de stockage : 1   veilleuse : non   alimentation : heure pleine   ',\n",
       " '3997379': 'ecs n 1   type d installation : sans ecs solaire   energie : reseau de chaleur urbain   type equipement : reseau de chaleur   contiguite des pieces : pieces non contigues   position de la production : en volume non chauffe   isolation du reseau : reseau non isole   volume de stockage : 1   veilleuse : non   alimentation : heure pleine   ',\n",
       " '3997380': 'ecs n 1   type d installation : sans ecs solaire   energie : reseau de chaleur urbain   type equipement : reseau de chaleur   contiguite des pieces : pieces non contigues   position de la production : en volume non chauffe   isolation du reseau : reseau non isole   volume de stockage : 1   veilleuse : non   alimentation : heure pleine   ',\n",
       " '3997383': 'ecs n 1   type d installation : sans ecs solaire   energie : reseau de chaleur urbain   type equipement : reseau de chaleur   contiguite des pieces : pieces non contigues   position de la production : en volume non chauffe   isolation du reseau : reseau non isole   volume de stockage : 1   veilleuse : non   alimentation : heure pleine   ',\n",
       " '3997384': 'ecs n 1   type d installation : sans ecs solaire   energie : reseau de chaleur urbain   type equipement : reseau de chaleur   contiguite des pieces : pieces non contigues   position de la production : en volume non chauffe   isolation du reseau : reseau non isole   volume de stockage : 1   veilleuse : non   alimentation : heure pleine   ',\n",
       " '3997385': 'ecs n 1   type d installation : sans ecs solaire   energie : reseau de chaleur urbain   type equipement : reseau de chaleur   contiguite des pieces : pieces non contigues   position de la production : en volume non chauffe   isolation du reseau : reseau non isole   volume de stockage : 1   veilleuse : non   alimentation : heure pleine   ',\n",
       " '3997386': 'ecs n 1   type d installation : sans ecs solaire   energie : reseau de chaleur urbain   type equipement : reseau de chaleur   contiguite des pieces : pieces non contigues   position de la production : en volume non chauffe   isolation du reseau : reseau non isole   volume de stockage : 1   veilleuse : non   alimentation : heure pleine   ',\n",
       " '3997387': 'ecs n 1   type d installation : sans ecs solaire   energie : reseau de chaleur urbain   type equipement : reseau de chaleur   contiguite des pieces : pieces non contigues   position de la production : en volume non chauffe   isolation du reseau : reseau non isole   volume de stockage : 1   veilleuse : non   alimentation : heure pleine   ',\n",
       " '3997805': 'ecs n 1   type d installation : sans ecs solaire   energie : reseau de chaleur urbain   type equipement : reseau de chaleur   contiguite des pieces : pieces non contigues   position de la production : en volume non chauffe   isolation du reseau : reseau non isole   volume de stockage : 1   veilleuse : non   alimentation : heure pleine   ',\n",
       " '3997808': 'ecs n 1   type d installation : sans ecs solaire   energie : reseau de chaleur urbain   type equipement : reseau de chaleur   contiguite des pieces : pieces non contigues   position de la production : en volume non chauffe   isolation du reseau : reseau non isole   volume de stockage : 1   veilleuse : non   alimentation : heure pleine   ',\n",
       " '3997810': 'ecs n 1   type d installation : sans ecs solaire   energie : reseau de chaleur urbain   type equipement : reseau de chaleur   contiguite des pieces : pieces non contigues   position de la production : en volume non chauffe   isolation du reseau : reseau non isole   volume de stockage : 1   veilleuse : non   alimentation : heure pleine   ',\n",
       " '3997811': 'ecs n 1   type d installation : sans ecs solaire   energie : reseau de chaleur urbain   type equipement : reseau de chaleur   contiguite des pieces : pieces non contigues   position de la production : en volume non chauffe   isolation du reseau : reseau non isole   volume de stockage : 1   veilleuse : non   alimentation : heure pleine   ',\n",
       " '3997814': 'ecs n 1   type d installation : sans ecs solaire   energie : reseau de chaleur urbain   type equipement : reseau de chaleur   contiguite des pieces : pieces non contigues   position de la production : en volume non chauffe   isolation du reseau : reseau non isole   volume de stockage : 1   veilleuse : non   alimentation : heure pleine   ',\n",
       " '3997815': 'ecs n 1   type d installation : sans ecs solaire   energie : reseau de chaleur urbain   type equipement : reseau de chaleur   contiguite des pieces : pieces non contigues   position de la production : en volume non chauffe   isolation du reseau : reseau non isole   volume de stockage : 1   veilleuse : non   alimentation : heure pleine   ',\n",
       " '3997818': 'ecs n 1   type d installation : sans ecs solaire   energie : reseau de chaleur urbain   type equipement : reseau de chaleur   contiguite des pieces : pieces non contigues   position de la production : en volume non chauffe   isolation du reseau : reseau non isole   volume de stockage : 1   veilleuse : non   alimentation : heure pleine   ',\n",
       " '3997819': 'ecs n 1   type d installation : sans ecs solaire   energie : reseau de chaleur urbain   type equipement : reseau de chaleur   contiguite des pieces : pieces non contigues   position de la production : en volume non chauffe   isolation du reseau : reseau non isole   volume de stockage : 1   veilleuse : non   alimentation : heure pleine   ',\n",
       " '3997820': 'ecs n 1   type d installation : sans ecs solaire   energie : reseau de chaleur urbain   type equipement : reseau de chaleur   contiguite des pieces : pieces non contigues   position de la production : en volume non chauffe   isolation du reseau : reseau non isole   volume de stockage : 1   veilleuse : non   alimentation : heure pleine   ',\n",
       " '3997821': 'ecs n 1   type d installation : sans ecs solaire   energie : reseau de chaleur urbain   type equipement : reseau de chaleur   contiguite des pieces : pieces non contigues   position de la production : en volume non chauffe   isolation du reseau : reseau non isole   volume de stockage : 1   veilleuse : non   alimentation : heure pleine   ',\n",
       " '3997823': 'ecs n 1   type d installation : sans ecs solaire   energie : reseau de chaleur urbain   type equipement : reseau de chaleur   contiguite des pieces : pieces non contigues   position de la production : en volume non chauffe   isolation du reseau : reseau non isole   volume de stockage : 1   veilleuse : non   alimentation : heure pleine   ',\n",
       " '3997824': 'ecs n 1   type d installation : sans ecs solaire   energie : reseau de chaleur urbain   type equipement : reseau de chaleur   contiguite des pieces : pieces non contigues   position de la production : en volume non chauffe   isolation du reseau : reseau non isole   volume de stockage : 1   veilleuse : non   alimentation : heure pleine   ',\n",
       " '3998016': 'ecs n 1   type d installation : sans ecs solaire   energie : reseau de chaleur urbain   type equipement : reseau de chaleur   contiguite des pieces : pieces non contigues   position de la production : en volume non chauffe   isolation du reseau : reseau non isole   volume de stockage : 1   veilleuse : non   alimentation : heure pleine   ',\n",
       " '3998017': 'ecs n 1   type d installation : sans ecs solaire   energie : reseau de chaleur urbain   type equipement : reseau de chaleur   contiguite des pieces : pieces non contigues   position de la production : en volume non chauffe   isolation du reseau : reseau non isole   volume de stockage : 1   veilleuse : non   alimentation : heure pleine   ',\n",
       " '3998019': 'ecs n 1   type d installation : sans ecs solaire   energie : reseau de chaleur urbain   type equipement : reseau de chaleur   contiguite des pieces : pieces non contigues   position de la production : en volume non chauffe   isolation du reseau : reseau non isole   volume de stockage : 1   veilleuse : non   alimentation : heure pleine   ',\n",
       " '3998020': 'ecs n 1   type d installation : sans ecs solaire   energie : reseau de chaleur urbain   type equipement : reseau de chaleur   contiguite des pieces : pieces non contigues   position de la production : en volume non chauffe   isolation du reseau : reseau non isole   volume de stockage : 1   veilleuse : non   alimentation : heure pleine   ',\n",
       " '3998021': 'ecs n 1   type d installation : sans ecs solaire   energie : reseau de chaleur urbain   type equipement : reseau de chaleur   contiguite des pieces : pieces non contigues   position de la production : en volume non chauffe   isolation du reseau : reseau non isole   volume de stockage : 1   veilleuse : non   alimentation : heure pleine   ',\n",
       " '3998784': 'ecs n 1   type d installation : sans ecs solaire   energie : reseau de chaleur urbain   type equipement : reseau de chaleur   contiguite des pieces : pieces non contigues   position de la production : en volume non chauffe   isolation du reseau : reseau non isole   volume de stockage : 1   veilleuse : non   alimentation : heure pleine   ',\n",
       " '3998879': 'ecs n 1   type d installation : sans ecs solaire   energie : reseau de chaleur urbain   type equipement : reseau de chaleur   contiguite des pieces : pieces non contigues   position de la production : en volume non chauffe   isolation du reseau : reseau non isole   volume de stockage : 1   veilleuse : non   alimentation : heure pleine   ',\n",
       " '3998894': 'ecs n 1   type d installation : sans ecs solaire   energie : reseau de chaleur urbain   type equipement : reseau de chaleur   contiguite des pieces : pieces non contigues   position de la production : en volume non chauffe   isolation du reseau : reseau non isole   volume de stockage : 1   veilleuse : non   alimentation : heure pleine   ',\n",
       " '3998905': 'ecs n 1   type d installation : sans ecs solaire   energie : reseau de chaleur urbain   type equipement : reseau de chaleur   contiguite des pieces : pieces non contigues   position de la production : en volume non chauffe   isolation du reseau : reseau non isole   volume de stockage : 1   veilleuse : non   alimentation : heure pleine   ',\n",
       " '3998921': 'ecs n 1   type d installation : sans ecs solaire   energie : reseau de chaleur urbain   type equipement : reseau de chaleur   contiguite des pieces : pieces non contigues   position de la production : en volume non chauffe   isolation du reseau : reseau non isole   volume de stockage : 1   veilleuse : non   alimentation : heure pleine   ',\n",
       " '3998932': 'ecs n 1   type d installation : sans ecs solaire   energie : reseau de chaleur urbain   type equipement : reseau de chaleur   contiguite des pieces : pieces non contigues   position de la production : en volume non chauffe   isolation du reseau : reseau non isole   volume de stockage : 1   veilleuse : non   alimentation : heure pleine   ',\n",
       " '3998944': 'ecs n 1   type d installation : sans ecs solaire   energie : reseau de chaleur urbain   type equipement : reseau de chaleur   contiguite des pieces : pieces non contigues   position de la production : en volume non chauffe   isolation du reseau : reseau non isole   volume de stockage : 1   veilleuse : non   alimentation : heure pleine   ',\n",
       " '3998956': 'ecs n 1   type d installation : sans ecs solaire   energie : reseau de chaleur urbain   type equipement : reseau de chaleur   contiguite des pieces : pieces non contigues   position de la production : en volume non chauffe   isolation du reseau : reseau non isole   volume de stockage : 1   veilleuse : non   alimentation : heure pleine   ',\n",
       " '3998967': 'ecs n 1   type d installation : sans ecs solaire   energie : reseau de chaleur urbain   type equipement : reseau de chaleur   contiguite des pieces : pieces non contigues   position de la production : en volume non chauffe   isolation du reseau : reseau non isole   volume de stockage : 1   veilleuse : non   alimentation : heure pleine   ',\n",
       " '3998981': 'ecs n 1   type d installation : sans ecs solaire   energie : reseau de chaleur urbain   type equipement : reseau de chaleur   contiguite des pieces : pieces non contigues   position de la production : en volume non chauffe   isolation du reseau : reseau non isole   volume de stockage : 1   veilleuse : non   alimentation : heure pleine   ',\n",
       " '3998993': 'ecs n 1   type d installation : sans ecs solaire   energie : reseau de chaleur urbain   type equipement : reseau de chaleur   contiguite des pieces : pieces non contigues   position de la production : en volume non chauffe   isolation du reseau : reseau non isole   volume de stockage : 1   veilleuse : non   alimentation : heure pleine   ',\n",
       " '3999005': 'ecs n 1   type d installation : sans ecs solaire   energie : reseau de chaleur urbain   type equipement : reseau de chaleur   contiguite des pieces : pieces non contigues   position de la production : en volume non chauffe   isolation du reseau : reseau non isole   volume de stockage : 1   veilleuse : non   alimentation : heure pleine   ',\n",
       " '4001930': 'ecs n 1   type d installation : sans ecs solaire   energie : reseau de chaleur urbain   type equipement : reseau de chaleur   contiguite des pieces : pieces non contigues   position de la production : en volume non chauffe   isolation du reseau : reseau non isole   volume de stockage : 1   veilleuse : non   alimentation : heure pleine   ',\n",
       " '4001937': 'ecs n 1   type d installation : sans ecs solaire   energie : reseau de chaleur urbain   type equipement : reseau de chaleur   contiguite des pieces : pieces non contigues   position de la production : en volume non chauffe   isolation du reseau : reseau non isole   volume de stockage : 1   veilleuse : non   alimentation : heure pleine   ',\n",
       " '4001939': 'ecs n 1   type d installation : sans ecs solaire   energie : reseau de chaleur urbain   type equipement : reseau de chaleur   contiguite des pieces : pieces non contigues   position de la production : en volume non chauffe   isolation du reseau : reseau non isole   volume de stockage : 1   veilleuse : non   alimentation : heure pleine   ',\n",
       " '4001947': 'ecs n 1   type d installation : sans ecs solaire   energie : reseau de chaleur urbain   type equipement : reseau de chaleur   contiguite des pieces : pieces non contigues   position de la production : en volume non chauffe   isolation du reseau : reseau non isole   volume de stockage : 1   veilleuse : non   alimentation : heure pleine   ',\n",
       " '4001950': 'ecs n 1   type d installation : sans ecs solaire   energie : reseau de chaleur urbain   type equipement : reseau de chaleur   contiguite des pieces : pieces non contigues   position de la production : en volume non chauffe   isolation du reseau : reseau non isole   volume de stockage : 1   veilleuse : non   alimentation : heure pleine   ',\n",
       " '4001958': 'ecs n 1   type d installation : sans ecs solaire   energie : reseau de chaleur urbain   type equipement : reseau de chaleur   contiguite des pieces : pieces non contigues   position de la production : en volume non chauffe   isolation du reseau : reseau non isole   volume de stockage : 1   veilleuse : non   alimentation : heure pleine   ',\n",
       " '4001960': 'ecs n 1   type d installation : sans ecs solaire   energie : reseau de chaleur urbain   type equipement : reseau de chaleur   contiguite des pieces : pieces non contigues   position de la production : en volume non chauffe   isolation du reseau : reseau non isole   volume de stockage : 1   veilleuse : non   alimentation : heure pleine   ',\n",
       " '4001964': 'ecs n 1   type d installation : sans ecs solaire   energie : reseau de chaleur urbain   type equipement : reseau de chaleur   contiguite des pieces : pieces non contigues   position de la production : en volume non chauffe   isolation du reseau : reseau non isole   volume de stockage : 1   veilleuse : non   alimentation : heure pleine   ',\n",
       " '4001968': 'ecs n 1   type d installation : sans ecs solaire   energie : reseau de chaleur urbain   type equipement : reseau de chaleur   contiguite des pieces : pieces non contigues   position de la production : en volume non chauffe   isolation du reseau : reseau non isole   volume de stockage : 1   veilleuse : non   alimentation : heure pleine   ',\n",
       " '4001973': 'ecs n 1   type d installation : sans ecs solaire   energie : reseau de chaleur urbain   type equipement : reseau de chaleur   contiguite des pieces : pieces non contigues   position de la production : en volume non chauffe   isolation du reseau : reseau non isole   volume de stockage : 1   veilleuse : non   alimentation : heure pleine   ',\n",
       " '4001979': 'ecs n 1   type d installation : sans ecs solaire   energie : reseau de chaleur urbain   type equipement : reseau de chaleur   contiguite des pieces : pieces non contigues   position de la production : en volume non chauffe   isolation du reseau : reseau non isole   volume de stockage : 1   veilleuse : non   alimentation : heure pleine   ',\n",
       " '4001986': 'ecs n 1   type d installation : sans ecs solaire   energie : reseau de chaleur urbain   type equipement : reseau de chaleur   contiguite des pieces : pieces non contigues   position de la production : en volume non chauffe   isolation du reseau : reseau non isole   volume de stockage : 1   veilleuse : non   alimentation : heure pleine   ',\n",
       " '4001988': 'ecs n 1   type d installation : sans ecs solaire   energie : reseau de chaleur urbain   type equipement : reseau de chaleur   contiguite des pieces : pieces non contigues   position de la production : en volume non chauffe   isolation du reseau : reseau non isole   volume de stockage : 1   veilleuse : non   alimentation : heure pleine   ',\n",
       " '4002285': 'ecs n 1   type d installation : sans ecs solaire   energie : reseau de chaleur urbain   type equipement : reseau de chaleur   contiguite des pieces : pieces non contigues   position de la production : en volume non chauffe   isolation du reseau : reseau non isole   volume de stockage : 1   veilleuse : non   alimentation : heure pleine   ',\n",
       " '4002293': 'ecs n 1   type d installation : sans ecs solaire   energie : reseau de chaleur urbain   type equipement : reseau de chaleur   contiguite des pieces : pieces non contigues   position de la production : en volume non chauffe   isolation du reseau : reseau non isole   volume de stockage : 1   veilleuse : non   alimentation : heure pleine   ',\n",
       " '4002298': 'ecs n 1   type d installation : sans ecs solaire   energie : reseau de chaleur urbain   type equipement : reseau de chaleur   contiguite des pieces : pieces non contigues   position de la production : en volume non chauffe   isolation du reseau : reseau non isole   volume de stockage : 1   veilleuse : non   alimentation : heure pleine   ',\n",
       " '4002306': 'ecs n 1   type d installation : sans ecs solaire   energie : reseau de chaleur urbain   type equipement : reseau de chaleur   contiguite des pieces : pieces non contigues   position de la production : en volume non chauffe   isolation du reseau : reseau non isole   volume de stockage : 1   veilleuse : non   alimentation : heure pleine   ',\n",
       " '4002308': 'ecs n 1   type d installation : sans ecs solaire   energie : reseau de chaleur urbain   type equipement : reseau de chaleur   contiguite des pieces : pieces non contigues   position de la production : en volume non chauffe   isolation du reseau : reseau non isole   volume de stockage : 1   veilleuse : non   alimentation : heure pleine   ',\n",
       " '4002314': 'ecs n 1   type d installation : sans ecs solaire   energie : reseau de chaleur urbain   type equipement : reseau de chaleur   contiguite des pieces : pieces non contigues   position de la production : en volume non chauffe   isolation du reseau : reseau non isole   volume de stockage : 1   veilleuse : non   alimentation : heure pleine   ',\n",
       " '4002320': 'ecs n 1   type d installation : sans ecs solaire   energie : reseau de chaleur urbain   type equipement : reseau de chaleur   contiguite des pieces : pieces non contigues   position de la production : en volume non chauffe   isolation du reseau : reseau non isole   volume de stockage : 1   veilleuse : non   alimentation : heure pleine   ',\n",
       " '4002323': 'ecs n 1   type d installation : sans ecs solaire   energie : reseau de chaleur urbain   type equipement : reseau de chaleur   contiguite des pieces : pieces non contigues   position de la production : en volume non chauffe   isolation du reseau : reseau non isole   volume de stockage : 1   veilleuse : non   alimentation : heure pleine   ',\n",
       " '4002335': 'ecs n 1   type d installation : sans ecs solaire   energie : reseau de chaleur urbain   type equipement : reseau de chaleur   contiguite des pieces : pieces non contigues   position de la production : en volume non chauffe   isolation du reseau : reseau non isole   volume de stockage : 1   veilleuse : non   alimentation : heure pleine   ',\n",
       " '4006890': 'ecs n 1   type d installation : sans ecs solaire   energie : reseau de chaleur urbain   type equipement : reseau de chaleur   contiguite des pieces : pieces non contigues   position de la production : en volume non chauffe   isolation du reseau : reseau non isole   volume de stockage : 1   veilleuse : non   alimentation : heure pleine   ',\n",
       " '4006891': 'ecs n 1   type d installation : sans ecs solaire   energie : reseau de chaleur urbain   type equipement : reseau de chaleur   contiguite des pieces : pieces non contigues   position de la production : en volume non chauffe   isolation du reseau : reseau non isole   volume de stockage : 1   veilleuse : non   alimentation : heure pleine   ',\n",
       " '4006892': 'ecs n 1   type d installation : sans ecs solaire   energie : reseau de chaleur urbain   type equipement : reseau de chaleur   contiguite des pieces : pieces non contigues   position de la production : en volume non chauffe   isolation du reseau : reseau isole   volume de stockage : 1   veilleuse : non   alimentation : heure pleine   ',\n",
       " '4006893': 'ecs n 1   type d installation : sans ecs solaire   energie : reseau de chaleur urbain   type equipement : reseau de chaleur   contiguite des pieces : pieces non contigues   position de la production : en volume non chauffe   isolation du reseau : reseau non isole   volume de stockage : 1   veilleuse : non   alimentation : heure pleine   ',\n",
       " '4006907': 'ecs n 1   type d installation : sans ecs solaire   energie : reseau de chaleur urbain   type equipement : reseau de chaleur   contiguite des pieces : pieces non contigues   position de la production : en volume non chauffe   isolation du reseau : reseau non isole   volume de stockage : 1   veilleuse : non   alimentation : heure pleine   ',\n",
       " '4006908': 'ecs n 1   type d installation : sans ecs solaire   energie : reseau de chaleur urbain   type equipement : reseau de chaleur   contiguite des pieces : pieces non contigues   position de la production : en volume non chauffe   isolation du reseau : reseau isole   volume de stockage : 1   veilleuse : non   alimentation : heure pleine   ',\n",
       " '4006909': 'ecs n 1   type d installation : sans ecs solaire   energie : reseau de chaleur urbain   type equipement : reseau de chaleur   contiguite des pieces : pieces non contigues   position de la production : en volume non chauffe   isolation du reseau : reseau isole   volume de stockage : 1   veilleuse : non   alimentation : heure pleine   ',\n",
       " '4006910': 'ecs n 1   type d installation : sans ecs solaire   energie : reseau de chaleur urbain   type equipement : reseau de chaleur   contiguite des pieces : pieces non contigues   position de la production : en volume non chauffe   isolation du reseau : reseau non isole   volume de stockage : 1   veilleuse : non   alimentation : heure pleine   ',\n",
       " '4006925': 'ecs n 1   type d installation : sans ecs solaire   energie : reseau de chaleur urbain   type equipement : reseau de chaleur   contiguite des pieces : pieces non contigues   position de la production : en volume non chauffe   isolation du reseau : reseau non isole   volume de stockage : 1   veilleuse : non   alimentation : heure pleine   ',\n",
       " '4006927': 'ecs n 1   type d installation : sans ecs solaire   energie : reseau de chaleur urbain   type equipement : reseau de chaleur   contiguite des pieces : pieces non contigues   position de la production : en volume non chauffe   isolation du reseau : reseau isole   volume de stockage : 1   veilleuse : non   alimentation : heure pleine   ',\n",
       " '4006928': 'ecs n 1   type d installation : sans ecs solaire   energie : reseau de chaleur urbain   type equipement : reseau de chaleur   contiguite des pieces : pieces non contigues   position de la production : en volume non chauffe   isolation du reseau : reseau non isole   volume de stockage : 1   veilleuse : non   alimentation : heure pleine   ',\n",
       " '4006929': 'ecs n 1   type d installation : sans ecs solaire   energie : reseau de chaleur urbain   type equipement : reseau de chaleur   contiguite des pieces : pieces non contigues   position de la production : en volume non chauffe   isolation du reseau : reseau non isole   volume de stockage : 1   veilleuse : non   alimentation : heure pleine   ',\n",
       " '4006936': 'ecs n 1   type d installation : sans ecs solaire   energie : reseau de chaleur urbain   type equipement : reseau de chaleur   contiguite des pieces : pieces non contigues   position de la production : en volume non chauffe   isolation du reseau : reseau non isole   volume de stockage : 200   veilleuse : non   alimentation : heure pleine   ',\n",
       " '4006937': 'ecs n 1   type d installation : sans ecs solaire   energie : reseau de chaleur urbain   type equipement : reseau de chaleur   contiguite des pieces : pieces non contigues   position de la production : en volume non chauffe   isolation du reseau : reseau non isole   volume de stockage : 1   veilleuse : non   alimentation : heure pleine   ',\n",
       " '4006938': 'ecs n 1   type d installation : sans ecs solaire   energie : reseau de chaleur urbain   type equipement : reseau de chaleur   contiguite des pieces : pieces non contigues   position de la production : en volume non chauffe   isolation du reseau : reseau isole   volume de stockage : 1   veilleuse : non   alimentation : heure pleine   ',\n",
       " '4006939': 'ecs n 1   type d installation : sans ecs solaire   energie : reseau de chaleur urbain   type equipement : reseau de chaleur   contiguite des pieces : pieces non contigues   position de la production : en volume non chauffe   isolation du reseau : reseau non isole   volume de stockage : 1   veilleuse : non   alimentation : heure pleine   ',\n",
       " '4006947': 'ecs n 1   type d installation : sans ecs solaire   energie : reseau de chaleur urbain   type equipement : reseau de chaleur   contiguite des pieces : pieces non contigues   position de la production : en volume non chauffe   isolation du reseau : reseau non isole   volume de stockage : 1   veilleuse : non   alimentation : heure pleine   ',\n",
       " '4006948': 'ecs n 1   type d installation : sans ecs solaire   energie : reseau de chaleur urbain   type equipement : reseau de chaleur   contiguite des pieces : pieces non contigues   position de la production : en volume non chauffe   isolation du reseau : reseau non isole   volume de stockage : 1   veilleuse : non   alimentation : heure pleine   ',\n",
       " '4006950': 'ecs n 1   type d installation : sans ecs solaire   energie : reseau de chaleur urbain   type equipement : reseau de chaleur   contiguite des pieces : pieces non contigues   position de la production : en volume non chauffe   isolation du reseau : reseau non isole   volume de stockage : 1   veilleuse : non   alimentation : heure pleine   ',\n",
       " '4006959': 'ecs n 1   type d installation : sans ecs solaire   energie : reseau de chaleur urbain   type equipement : reseau de chaleur   contiguite des pieces : pieces non contigues   position de la production : en volume non chauffe   isolation du reseau : reseau non isole   volume de stockage : 1   veilleuse : non   alimentation : heure pleine   ',\n",
       " '4006962': 'ecs n 1   type d installation : sans ecs solaire   energie : reseau de chaleur urbain   type equipement : reseau de chaleur   contiguite des pieces : pieces non contigues   position de la production : en volume non chauffe   isolation du reseau : reseau non isole   volume de stockage : 1   veilleuse : non   alimentation : heure pleine   ',\n",
       " '4006963': 'ecs n 1   type d installation : sans ecs solaire   energie : reseau de chaleur urbain   type equipement : reseau de chaleur   contiguite des pieces : pieces non contigues   position de la production : en volume non chauffe   isolation du reseau : reseau non isole   volume de stockage : 1   veilleuse : non   alimentation : heure pleine   ',\n",
       " '4006964': 'ecs n 1   type d installation : sans ecs solaire   energie : reseau de chaleur urbain   type equipement : reseau de chaleur   contiguite des pieces : pieces non contigues   position de la production : en volume non chauffe   isolation du reseau : reseau non isole   volume de stockage : 1   veilleuse : non   alimentation : heure pleine   ',\n",
       " '4006970': 'ecs n 1   type d installation : sans ecs solaire   energie : reseau de chaleur urbain   type equipement : reseau de chaleur   contiguite des pieces : pieces non contigues   position de la production : en volume non chauffe   isolation du reseau : reseau non isole   volume de stockage : 1   veilleuse : non   alimentation : heure pleine   ',\n",
       " '4006971': 'ecs n 1   type d installation : sans ecs solaire   energie : reseau de chaleur urbain   type equipement : reseau de chaleur   contiguite des pieces : pieces non contigues   position de la production : en volume non chauffe   isolation du reseau : reseau non isole   volume de stockage : 1   veilleuse : non   alimentation : heure pleine   ',\n",
       " '4006972': 'ecs n 1   type d installation : sans ecs solaire   energie : reseau de chaleur urbain   type equipement : reseau de chaleur   contiguite des pieces : pieces non contigues   position de la production : en volume non chauffe   isolation du reseau : reseau non isole   volume de stockage : 1   veilleuse : non   alimentation : heure pleine   ',\n",
       " '4006973': 'ecs n 1   type d installation : sans ecs solaire   energie : reseau de chaleur urbain   type equipement : reseau de chaleur   contiguite des pieces : pieces non contigues   position de la production : en volume non chauffe   isolation du reseau : reseau non isole   volume de stockage : 1   veilleuse : non   alimentation : heure pleine   ',\n",
       " '4006979': 'ecs n 1   type d installation : sans ecs solaire   energie : reseau de chaleur urbain   type equipement : reseau de chaleur   contiguite des pieces : pieces non contigues   position de la production : en volume non chauffe   isolation du reseau : reseau non isole   volume de stockage : 1   veilleuse : non   alimentation : heure pleine   ',\n",
       " '4006981': 'ecs n 1   type d installation : sans ecs solaire   energie : reseau de chaleur urbain   type equipement : reseau de chaleur   contiguite des pieces : pieces non contigues   position de la production : en volume non chauffe   isolation du reseau : reseau non isole   volume de stockage : 1   veilleuse : non   alimentation : heure pleine   ',\n",
       " '4006982': 'ecs n 1   type d installation : sans ecs solaire   energie : reseau de chaleur urbain   type equipement : reseau de chaleur   contiguite des pieces : pieces non contigues   position de la production : en volume non chauffe   isolation du reseau : reseau non isole   volume de stockage : 1   veilleuse : non   alimentation : heure pleine   ',\n",
       " '4006983': 'ecs n 1   type d installation : sans ecs solaire   energie : reseau de chaleur urbain   type equipement : reseau de chaleur   contiguite des pieces : pieces non contigues   position de la production : en volume non chauffe   isolation du reseau : reseau non isole   volume de stockage : 1   veilleuse : non   alimentation : heure pleine   ',\n",
       " '4006989': 'ecs n 1   type d installation : sans ecs solaire   energie : reseau de chaleur urbain   type equipement : reseau de chaleur   contiguite des pieces : pieces non contigues   position de la production : en volume non chauffe   isolation du reseau : reseau non isole   volume de stockage : 1   veilleuse : non   alimentation : heure pleine   ',\n",
       " '4006990': 'ecs n 1   type d installation : sans ecs solaire   energie : reseau de chaleur urbain   type equipement : reseau de chaleur   contiguite des pieces : pieces non contigues   position de la production : en volume non chauffe   isolation du reseau : reseau non isole   volume de stockage : 1   veilleuse : non   alimentation : heure pleine   ',\n",
       " '4006991': 'ecs n 1   type d installation : sans ecs solaire   energie : reseau de chaleur urbain   type equipement : reseau de chaleur   contiguite des pieces : pieces non contigues   position de la production : en volume non chauffe   isolation du reseau : reseau non isole   volume de stockage : 1   veilleuse : non   alimentation : heure pleine   ',\n",
       " '4006993': 'ecs n 1   type d installation : sans ecs solaire   energie : reseau de chaleur urbain   type equipement : reseau de chaleur   contiguite des pieces : pieces non contigues   position de la production : en volume non chauffe   isolation du reseau : reseau non isole   volume de stockage : 1   veilleuse : non   alimentation : heure pleine   ',\n",
       " '4007003': 'ecs n 1   type d installation : sans ecs solaire   energie : reseau de chaleur urbain   type equipement : reseau de chaleur   contiguite des pieces : pieces non contigues   position de la production : en volume non chauffe   isolation du reseau : reseau non isole   volume de stockage : 1   veilleuse : non   alimentation : heure pleine   ',\n",
       " '4007004': 'ecs n 1   type d installation : sans ecs solaire   energie : reseau de chaleur urbain   type equipement : reseau de chaleur   contiguite des pieces : pieces non contigues   position de la production : en volume non chauffe   isolation du reseau : reseau non isole   volume de stockage : 1   veilleuse : non   alimentation : heure pleine   ',\n",
       " '4007005': 'ecs n 1   type d installation : sans ecs solaire   energie : reseau de chaleur urbain   type equipement : reseau de chaleur   contiguite des pieces : pieces non contigues   position de la production : en volume non chauffe   isolation du reseau : reseau non isole   volume de stockage : 1   veilleuse : non   alimentation : heure pleine   ',\n",
       " '4007006': 'ecs n 1   type d installation : sans ecs solaire   energie : reseau de chaleur urbain   type equipement : reseau de chaleur   contiguite des pieces : pieces non contigues   position de la production : en volume non chauffe   isolation du reseau : reseau non isole   volume de stockage : 1   veilleuse : non   alimentation : heure pleine   ',\n",
       " '4007011': 'ecs n 1   type d installation : sans ecs solaire   energie : reseau de chaleur urbain   type equipement : reseau de chaleur   contiguite des pieces : pieces non contigues   position de la production : en volume non chauffe   isolation du reseau : reseau non isole   volume de stockage : 1   veilleuse : non   alimentation : heure pleine   ',\n",
       " '4007012': 'ecs n 1   type d installation : sans ecs solaire   energie : reseau de chaleur urbain   type equipement : reseau de chaleur   contiguite des pieces : pieces non contigues   position de la production : en volume non chauffe   isolation du reseau : reseau non isole   volume de stockage : 1   veilleuse : non   alimentation : heure pleine   ',\n",
       " '4007013': 'ecs n 1   type d installation : sans ecs solaire   energie : reseau de chaleur urbain   type equipement : reseau de chaleur   contiguite des pieces : pieces non contigues   position de la production : en volume non chauffe   isolation du reseau : reseau non isole   volume de stockage : 1   veilleuse : non   alimentation : heure pleine   ',\n",
       " '4007019': 'ecs n 1   type d installation : sans ecs solaire   energie : reseau de chaleur urbain   type equipement : reseau de chaleur   contiguite des pieces : pieces non contigues   position de la production : en volume non chauffe   isolation du reseau : reseau non isole   volume de stockage : 1   veilleuse : non   alimentation : heure pleine   ',\n",
       " '4007022': 'ecs n 1   type d installation : sans ecs solaire   energie : reseau de chaleur urbain   type equipement : reseau de chaleur   contiguite des pieces : pieces non contigues   position de la production : en volume non chauffe   isolation du reseau : reseau non isole   volume de stockage : 1   veilleuse : non   alimentation : heure pleine   ',\n",
       " '4007023': 'ecs n 1   type d installation : sans ecs solaire   energie : reseau de chaleur urbain   type equipement : reseau de chaleur   contiguite des pieces : pieces non contigues   position de la production : en volume non chauffe   isolation du reseau : reseau non isole   volume de stockage : 1   veilleuse : non   alimentation : heure pleine   ',\n",
       " '4007024': 'ecs n 1   type d installation : sans ecs solaire   energie : reseau de chaleur urbain   type equipement : reseau de chaleur   contiguite des pieces : pieces non contigues   position de la production : en volume non chauffe   isolation du reseau : reseau non isole   volume de stockage : 1   veilleuse : non   alimentation : heure pleine   ',\n",
       " '4007034': 'ecs n 1   type d installation : sans ecs solaire   energie : reseau de chaleur urbain   type equipement : reseau de chaleur   contiguite des pieces : pieces non contigues   position de la production : en volume non chauffe   isolation du reseau : reseau non isole   volume de stockage : 1   veilleuse : non   alimentation : heure pleine   ',\n",
       " '4018278': 'ecs n 1   type d installation : sans ecs solaire   energie : reseau de chaleur urbain   type equipement : reseau de chaleur   contiguite des pieces : pieces non contigues   position de la production : en volume non chauffe   isolation du reseau : reseau non isole   volume de stockage : 1   veilleuse : non   alimentation : heure pleine   ',\n",
       " '4018281': 'ecs n 1   type d installation : sans ecs solaire   energie : reseau de chaleur urbain   type equipement : reseau de chaleur   contiguite des pieces : pieces non contigues   position de la production : en volume non chauffe   isolation du reseau : reseau non isole   volume de stockage : 1   veilleuse : non   alimentation : heure pleine   ',\n",
       " '4018285': 'ecs n 1   type d installation : sans ecs solaire   energie : reseau de chaleur urbain   type equipement : reseau de chaleur   contiguite des pieces : pieces non contigues   position de la production : en volume non chauffe   isolation du reseau : reseau non isole   volume de stockage : 1   veilleuse : non   alimentation : heure pleine   ',\n",
       " '4018287': 'ecs n 1   type d installation : sans ecs solaire   energie : reseau de chaleur urbain   type equipement : reseau de chaleur   contiguite des pieces : pieces non contigues   position de la production : en volume non chauffe   isolation du reseau : reseau non isole   volume de stockage : 1   veilleuse : non   alimentation : heure pleine   ',\n",
       " '4018295': 'ecs n 1   type d installation : sans ecs solaire   energie : reseau de chaleur urbain   type equipement : reseau de chaleur   contiguite des pieces : pieces non contigues   position de la production : en volume non chauffe   isolation du reseau : reseau non isole   volume de stockage : 1   veilleuse : non   alimentation : heure pleine   ',\n",
       " '4018296': 'ecs n 1   type d installation : sans ecs solaire   energie : reseau de chaleur urbain   type equipement : reseau de chaleur   contiguite des pieces : pieces non contigues   position de la production : en volume non chauffe   isolation du reseau : reseau non isole   volume de stockage : 1   veilleuse : non   alimentation : heure pleine   ',\n",
       " '4018301': 'ecs n 1   type d installation : sans ecs solaire   energie : reseau de chaleur urbain   type equipement : reseau de chaleur   contiguite des pieces : pieces non contigues   position de la production : en volume non chauffe   isolation du reseau : reseau non isole   volume de stockage : 1   veilleuse : non   alimentation : heure pleine   ',\n",
       " '4018303': 'ecs n 1   type d installation : sans ecs solaire   energie : reseau de chaleur urbain   type equipement : reseau de chaleur   contiguite des pieces : pieces non contigues   position de la production : en volume non chauffe   isolation du reseau : reseau non isole   volume de stockage : 1   veilleuse : non   alimentation : heure pleine   ',\n",
       " '4018306': 'ecs n 1   type d installation : sans ecs solaire   energie : reseau de chaleur urbain   type equipement : reseau de chaleur   contiguite des pieces : pieces non contigues   position de la production : en volume non chauffe   isolation du reseau : reseau non isole   volume de stockage : 1   veilleuse : non   alimentation : heure pleine   ',\n",
       " '4018309': 'ecs n 1   type d installation : sans ecs solaire   energie : reseau de chaleur urbain   type equipement : reseau de chaleur   contiguite des pieces : pieces non contigues   position de la production : en volume non chauffe   isolation du reseau : reseau non isole   volume de stockage : 1   veilleuse : non   alimentation : heure pleine   ',\n",
       " '4018312': 'ecs n 1   type d installation : sans ecs solaire   energie : reseau de chaleur urbain   type equipement : reseau de chaleur   contiguite des pieces : pieces non contigues   position de la production : en volume non chauffe   isolation du reseau : reseau non isole   volume de stockage : 1   veilleuse : non   alimentation : heure pleine   ',\n",
       " '4018313': 'ecs n 1   type d installation : sans ecs solaire   energie : reseau de chaleur urbain   type equipement : reseau de chaleur   contiguite des pieces : pieces non contigues   position de la production : en volume non chauffe   isolation du reseau : reseau non isole   volume de stockage : 1   veilleuse : non   alimentation : heure pleine   ',\n",
       " '4018316': 'ecs n 1   type d installation : sans ecs solaire   energie : reseau de chaleur urbain   type equipement : reseau de chaleur   contiguite des pieces : pieces non contigues   position de la production : en volume non chauffe   isolation du reseau : reseau non isole   volume de stockage : 1   veilleuse : non   alimentation : heure pleine   ',\n",
       " '4018318': 'ecs n 1   type d installation : sans ecs solaire   energie : reseau de chaleur urbain   type equipement : reseau de chaleur   contiguite des pieces : pieces non contigues   position de la production : en volume non chauffe   isolation du reseau : reseau non isole   volume de stockage : 1   veilleuse : non   alimentation : heure pleine   ',\n",
       " '4018321': 'ecs n 1   type d installation : sans ecs solaire   energie : reseau de chaleur urbain   type equipement : reseau de chaleur   contiguite des pieces : pieces non contigues   position de la production : en volume non chauffe   isolation du reseau : reseau non isole   volume de stockage : 1   veilleuse : non   alimentation : heure pleine   ',\n",
       " '4019585': 'ecs n 1   type d installation : sans ecs solaire   energie : reseau de chaleur urbain   type equipement : reseau de chaleur   contiguite des pieces : pieces non contigues   position de la production : en volume non chauffe   isolation du reseau : reseau non isole   volume de stockage : 1   veilleuse : non   alimentation : heure pleine   ',\n",
       " '4019589': 'ecs n 1   type d installation : sans ecs solaire   energie : reseau de chaleur urbain   type equipement : reseau de chaleur   contiguite des pieces : pieces non contigues   position de la production : en volume non chauffe   isolation du reseau : reseau non isole   volume de stockage : 1   veilleuse : non   alimentation : heure pleine   ',\n",
       " '4019597': 'ecs n 1   type d installation : sans ecs solaire   energie : reseau de chaleur urbain   type equipement : reseau de chaleur   contiguite des pieces : pieces non contigues   position de la production : en volume non chauffe   isolation du reseau : reseau non isole   volume de stockage : 1   veilleuse : non   alimentation : heure pleine   ',\n",
       " '4019598': 'ecs n 1   type d installation : sans ecs solaire   energie : reseau de chaleur urbain   type equipement : reseau de chaleur   contiguite des pieces : pieces non contigues   position de la production : en volume non chauffe   isolation du reseau : reseau non isole   volume de stockage : 1   veilleuse : non   alimentation : heure pleine   ',\n",
       " '4019603': 'ecs n 1   type d installation : sans ecs solaire   energie : reseau de chaleur urbain   type equipement : reseau de chaleur   contiguite des pieces : pieces non contigues   position de la production : en volume non chauffe   isolation du reseau : reseau non isole   volume de stockage : 1   veilleuse : non   alimentation : heure pleine   ',\n",
       " '4019605': 'ecs n 1   type d installation : sans ecs solaire   energie : reseau de chaleur urbain   type equipement : reseau de chaleur   contiguite des pieces : pieces non contigues   position de la production : en volume non chauffe   isolation du reseau : reseau non isole   volume de stockage : 1   veilleuse : non   alimentation : heure pleine   ',\n",
       " '4022843': 'ecs n 1   type d installation : sans ecs solaire   energie : reseau de chaleur urbain   type equipement : reseau de chaleur   contiguite des pieces : pieces non contigues   position de la production : en volume non chauffe   isolation du reseau : reseau non isole   volume de stockage : 1   veilleuse : non   alimentation : heure pleine   ',\n",
       " '4022848': 'ecs n 1   type d installation : sans ecs solaire   energie : reseau de chaleur urbain   type equipement : reseau de chaleur   contiguite des pieces : pieces non contigues   position de la production : en volume non chauffe   isolation du reseau : reseau non isole   volume de stockage : 1   veilleuse : non   alimentation : heure pleine   ',\n",
       " '4022854': 'ecs n 1   type d installation : sans ecs solaire   energie : reseau de chaleur urbain   type equipement : reseau de chaleur   contiguite des pieces : pieces non contigues   position de la production : en volume non chauffe   isolation du reseau : reseau non isole   volume de stockage : 1   veilleuse : non   alimentation : heure pleine   ',\n",
       " '4022856': 'ecs n 1   type d installation : sans ecs solaire   energie : reseau de chaleur urbain   type equipement : reseau de chaleur   contiguite des pieces : pieces non contigues   position de la production : en volume non chauffe   isolation du reseau : reseau non isole   volume de stockage : 1   veilleuse : non   alimentation : heure pleine   ',\n",
       " '4022857': 'ecs n 1   type d installation : sans ecs solaire   energie : reseau de chaleur urbain   type equipement : reseau de chaleur   contiguite des pieces : pieces non contigues   position de la production : en volume non chauffe   isolation du reseau : reseau non isole   volume de stockage : 1   veilleuse : non   alimentation : heure pleine   ',\n",
       " '4022859': 'ecs n 1   type d installation : sans ecs solaire   energie : reseau de chaleur urbain   type equipement : reseau de chaleur   contiguite des pieces : pieces non contigues   position de la production : en volume non chauffe   isolation du reseau : reseau non isole   volume de stockage : 200   veilleuse : non   alimentation : heure pleine   ',\n",
       " '4022880': 'ecs n 1   type d installation : sans ecs solaire   energie : reseau de chaleur urbain   type equipement : reseau de chaleur   contiguite des pieces : pieces non contigues   position de la production : en volume non chauffe   isolation du reseau : reseau non isole   volume de stockage : 1   veilleuse : non   alimentation : heure pleine   ',\n",
       " '4022886': 'ecs n 1   type d installation : sans ecs solaire   energie : reseau de chaleur urbain   type equipement : reseau de chaleur   contiguite des pieces : pieces non contigues   position de la production : en volume non chauffe   isolation du reseau : reseau non isole   volume de stockage : 1   veilleuse : non   alimentation : heure pleine   ',\n",
       " '4022894': 'ecs n 1   type d installation : sans ecs solaire   energie : reseau de chaleur urbain   type equipement : reseau de chaleur   contiguite des pieces : pieces non contigues   position de la production : en volume non chauffe   isolation du reseau : reseau non isole   volume de stockage : 1   veilleuse : non   alimentation : heure pleine   ',\n",
       " '4022899': 'ecs n 1   type d installation : sans ecs solaire   energie : reseau de chaleur urbain   type equipement : reseau de chaleur   contiguite des pieces : pieces non contigues   position de la production : en volume non chauffe   isolation du reseau : reseau non isole   volume de stockage : 1   veilleuse : non   alimentation : heure pleine   ',\n",
       " '4022904': 'ecs n 1   type d installation : sans ecs solaire   energie : reseau de chaleur urbain   type equipement : reseau de chaleur   contiguite des pieces : pieces non contigues   position de la production : en volume non chauffe   isolation du reseau : reseau non isole   volume de stockage : 1   veilleuse : non   alimentation : heure pleine   ',\n",
       " '4022910': 'ecs n 1   type d installation : sans ecs solaire   energie : reseau de chaleur urbain   type equipement : reseau de chaleur   contiguite des pieces : pieces non contigues   position de la production : en volume non chauffe   isolation du reseau : reseau non isole   volume de stockage : 1   veilleuse : non   alimentation : heure pleine   ',\n",
       " '4024458': 'ecs n 1   type d installation : sans ecs solaire   energie : reseau de chaleur urbain   type equipement : reseau de chaleur   contiguite des pieces : pieces non contigues   position de la production : en volume non chauffe   isolation du reseau : reseau non isole   volume de stockage : 1   veilleuse : non   alimentation : heure pleine   ',\n",
       " '4024460': 'ecs n 1   type d installation : sans ecs solaire   energie : reseau de chaleur urbain   type equipement : reseau de chaleur   contiguite des pieces : pieces non contigues   position de la production : en volume non chauffe   isolation du reseau : reseau non isole   volume de stockage : 1   veilleuse : non   alimentation : heure pleine   ',\n",
       " '4024469': 'ecs n 1   type d installation : sans ecs solaire   energie : reseau de chaleur urbain   type equipement : reseau de chaleur   contiguite des pieces : pieces non contigues   position de la production : en volume non chauffe   isolation du reseau : reseau non isole   volume de stockage : 200   veilleuse : non   alimentation : heure pleine   ',\n",
       " '4024470': 'ecs n 1   type d installation : sans ecs solaire   energie : reseau de chaleur urbain   type equipement : reseau de chaleur   contiguite des pieces : pieces non contigues   position de la production : en volume non chauffe   isolation du reseau : reseau non isole   volume de stockage : 1   veilleuse : non   alimentation : heure pleine   ',\n",
       " '4024482': 'ecs n 1   type d installation : sans ecs solaire   energie : reseau de chaleur urbain   type equipement : reseau de chaleur   contiguite des pieces : pieces non contigues   position de la production : en volume non chauffe   isolation du reseau : reseau non isole   volume de stockage : 1   veilleuse : non   alimentation : heure pleine   ',\n",
       " '4024485': 'ecs n 1   type d installation : sans ecs solaire   energie : reseau de chaleur urbain   type equipement : reseau de chaleur   contiguite des pieces : pieces non contigues   position de la production : en volume non chauffe   isolation du reseau : reseau non isole   volume de stockage : 1   veilleuse : non   alimentation : heure pleine   ',\n",
       " '4028496': 'ecs n 1   type d installation : sans ecs solaire   energie : reseau de chaleur urbain   type equipement : reseau de chaleur   contiguite des pieces : pieces non contigues   position de la production : en volume non chauffe   isolation du reseau : reseau non isole   volume de stockage : 1   veilleuse : non   alimentation : heure pleine   ',\n",
       " '4028503': 'ecs n 1   type d installation : sans ecs solaire   energie : reseau de chaleur urbain   type equipement : reseau de chaleur   contiguite des pieces : pieces non contigues   position de la production : en volume non chauffe   isolation du reseau : reseau non isole   volume de stockage : 1   veilleuse : non   alimentation : heure pleine   ',\n",
       " '4028509': 'ecs n 1   type d installation : sans ecs solaire   energie : reseau de chaleur urbain   type equipement : reseau de chaleur   contiguite des pieces : pieces non contigues   position de la production : en volume non chauffe   isolation du reseau : reseau non isole   volume de stockage : 1   veilleuse : non   alimentation : heure pleine   ',\n",
       " '4028513': 'ecs n 1   type d installation : sans ecs solaire   energie : reseau de chaleur urbain   type equipement : reseau de chaleur   contiguite des pieces : pieces non contigues   position de la production : en volume non chauffe   isolation du reseau : reseau non isole   volume de stockage : 1   veilleuse : non   alimentation : heure pleine   ',\n",
       " '4028515': 'ecs n 1   type d installation : sans ecs solaire   energie : reseau de chaleur urbain   type equipement : reseau de chaleur   contiguite des pieces : pieces non contigues   position de la production : en volume non chauffe   isolation du reseau : reseau non isole   volume de stockage : 200   veilleuse : non   alimentation : heure pleine   ',\n",
       " '4028521': 'ecs n 1   type d installation : sans ecs solaire   energie : reseau de chaleur urbain   type equipement : reseau de chaleur   contiguite des pieces : pieces non contigues   position de la production : en volume non chauffe   isolation du reseau : reseau non isole   volume de stockage : 1   veilleuse : non   alimentation : heure pleine   ',\n",
       " '4057542': 'ecs n 1   type d installation : sans ecs solaire   energie : reseau de chaleur urbain   type equipement : reseau de chaleur   contiguite des pieces : pieces non contigues   position de la production : en volume non chauffe   isolation du reseau : reseau non isole   volume de stockage : 1   veilleuse : non   alimentation : heure pleine   ',\n",
       " '4222724': 'ecs n 1   type d installation : sans ecs solaire   energie : reseau de chaleur urbain   type equipement : reseau de chaleur   contiguite des pieces : pieces non contigues   position de la production : en volume non chauffe   isolation du reseau : reseau non isole   volume de stockage : 1   veilleuse : non   alimentation : heure pleine   ',\n",
       " '4222725': 'ecs n 1   type d installation : sans ecs solaire   energie : reseau de chaleur urbain   type equipement : reseau de chaleur   contiguite des pieces : pieces non contigues   position de la production : en volume non chauffe   isolation du reseau : reseau non isole   volume de stockage : 1   veilleuse : non   alimentation : heure pleine   ',\n",
       " '4222726': 'ecs n 1   type d installation : sans ecs solaire   energie : reseau de chaleur urbain   type equipement : reseau de chaleur   contiguite des pieces : pieces non contigues   position de la production : en volume non chauffe   isolation du reseau : reseau non isole   volume de stockage : 1   veilleuse : non   alimentation : heure pleine   ',\n",
       " '4222727': 'ecs n 1   type d installation : sans ecs solaire   energie : reseau de chaleur urbain   type equipement : reseau de chaleur   contiguite des pieces : pieces non contigues   position de la production : en volume non chauffe   isolation du reseau : reseau non isole   volume de stockage : 1   veilleuse : non   alimentation : heure pleine   ',\n",
       " '4222728': 'ecs n 1   type d installation : sans ecs solaire   energie : reseau de chaleur urbain   type equipement : reseau de chaleur   contiguite des pieces : pieces non contigues   position de la production : en volume non chauffe   isolation du reseau : reseau non isole   volume de stockage : 1   veilleuse : non   alimentation : heure pleine   ',\n",
       " '4222729': 'ecs n 1   type d installation : sans ecs solaire   energie : reseau de chaleur urbain   type equipement : reseau de chaleur   contiguite des pieces : pieces non contigues   position de la production : en volume non chauffe   isolation du reseau : reseau non isole   volume de stockage : 1   veilleuse : non   alimentation : heure pleine   ',\n",
       " '4233584': 'ecs n 1   type d installation : sans ecs solaire   energie : reseau de chaleur urbain   type equipement : reseau de chaleur   contiguite des pieces : pieces non contigues   position de la production : en volume non chauffe   isolation du reseau : reseau non isole   volume de stockage : 1   veilleuse : non   alimentation : heure pleine   ',\n",
       " '4233586': 'ecs n 1   type d installation : sans ecs solaire   energie : reseau de chaleur urbain   type equipement : reseau de chaleur   contiguite des pieces : pieces non contigues   position de la production : en volume non chauffe   isolation du reseau : reseau non isole   volume de stockage : 1   veilleuse : non   alimentation : heure pleine   ',\n",
       " '4233587': 'ecs n 1   type d installation : sans ecs solaire   energie : reseau de chaleur urbain   type equipement : reseau de chaleur   contiguite des pieces : pieces non contigues   position de la production : en volume non chauffe   isolation du reseau : reseau non isole   volume de stockage : 1   veilleuse : non   alimentation : heure pleine   ',\n",
       " '4233588': 'ecs n 1   type d installation : sans ecs solaire   energie : reseau de chaleur urbain   type equipement : reseau de chaleur   contiguite des pieces : pieces non contigues   position de la production : en volume non chauffe   isolation du reseau : reseau non isole   volume de stockage : 1   veilleuse : non   alimentation : heure pleine   ',\n",
       " '4233589': 'ecs n 1   type d installation : sans ecs solaire   energie : reseau de chaleur urbain   type equipement : reseau de chaleur   contiguite des pieces : pieces non contigues   position de la production : en volume non chauffe   isolation du reseau : reseau non isole   volume de stockage : 1   veilleuse : non   alimentation : heure pleine   ',\n",
       " '4236072': 'ecs n 1   type d installation : sans ecs solaire   energie : reseau de chaleur urbain   type equipement : reseau de chaleur   contiguite des pieces : pieces non contigues   position de la production : en volume non chauffe   isolation du reseau : reseau non isole   volume de stockage : 1   veilleuse : non   alimentation : heure pleine   ',\n",
       " '4236074': 'ecs n 1   type d installation : sans ecs solaire   energie : reseau de chaleur urbain   type equipement : reseau de chaleur   contiguite des pieces : pieces non contigues   position de la production : en volume non chauffe   isolation du reseau : reseau non isole   volume de stockage : 1   veilleuse : non   alimentation : heure pleine   ',\n",
       " '4236075': 'ecs n 1   type d installation : sans ecs solaire   energie : reseau de chaleur urbain   type equipement : reseau de chaleur   contiguite des pieces : pieces non contigues   position de la production : en volume non chauffe   isolation du reseau : reseau non isole   volume de stockage : 1   veilleuse : non   alimentation : heure pleine   ',\n",
       " '4236077': 'ecs n 1   type d installation : sans ecs solaire   energie : reseau de chaleur urbain   type equipement : reseau de chaleur   contiguite des pieces : pieces non contigues   position de la production : en volume non chauffe   isolation du reseau : reseau non isole   volume de stockage : 1   veilleuse : non   alimentation : heure pleine   ',\n",
       " '4236079': 'ecs n 1   type d installation : sans ecs solaire   energie : reseau de chaleur urbain   type equipement : reseau de chaleur   contiguite des pieces : pieces non contigues   position de la production : en volume non chauffe   isolation du reseau : reseau non isole   volume de stockage : 1   veilleuse : non   alimentation : heure pleine   ',\n",
       " '4236081': 'ecs n 1   type d installation : sans ecs solaire   energie : reseau de chaleur urbain   type equipement : reseau de chaleur   contiguite des pieces : pieces non contigues   position de la production : en volume non chauffe   isolation du reseau : reseau non isole   volume de stockage : 1   veilleuse : non   alimentation : heure pleine   ',\n",
       " '4236082': 'ecs n 1   type d installation : sans ecs solaire   energie : reseau de chaleur urbain   type equipement : reseau de chaleur   contiguite des pieces : pieces non contigues   position de la production : en volume non chauffe   isolation du reseau : reseau non isole   volume de stockage : 1   veilleuse : non   alimentation : heure pleine   ',\n",
       " '4237080': 'ecs n 1   type d installation : sans ecs solaire   energie : reseau de chaleur urbain   type equipement : reseau de chaleur   contiguite des pieces : pieces non contigues   position de la production : en volume non chauffe   isolation du reseau : reseau non isole   volume de stockage : 1   veilleuse : non   alimentation : heure pleine   ',\n",
       " '4237081': 'ecs n 1   type d installation : sans ecs solaire   energie : reseau de chaleur urbain   type equipement : reseau de chaleur   contiguite des pieces : pieces non contigues   position de la production : en volume non chauffe   isolation du reseau : reseau non isole   volume de stockage : 1   veilleuse : non   alimentation : heure pleine   ',\n",
       " '4237082': 'ecs n 1   type d installation : sans ecs solaire   energie : reseau de chaleur urbain   type equipement : reseau de chaleur   contiguite des pieces : pieces non contigues   position de la production : en volume non chauffe   isolation du reseau : reseau non isole   volume de stockage : 1   veilleuse : non   alimentation : heure pleine   ',\n",
       " '4237083': 'ecs n 1   type d installation : sans ecs solaire   energie : reseau de chaleur urbain   type equipement : reseau de chaleur   contiguite des pieces : pieces non contigues   position de la production : en volume non chauffe   isolation du reseau : reseau non isole   volume de stockage : 1   veilleuse : non   alimentation : heure pleine   ',\n",
       " '4237084': 'ecs n 1   type d installation : sans ecs solaire   energie : reseau de chaleur urbain   type equipement : reseau de chaleur   contiguite des pieces : pieces non contigues   position de la production : en volume non chauffe   isolation du reseau : reseau non isole   volume de stockage : 1   veilleuse : non   alimentation : heure pleine   ',\n",
       " '4242060': 'ecs n 1   type d installation : sans ecs solaire   energie : reseau de chaleur urbain   type equipement : reseau de chaleur   contiguite des pieces : pieces non contigues   position de la production : en volume non chauffe   isolation du reseau : reseau non isole   volume de stockage : 1   veilleuse : non   alimentation : heure pleine   ',\n",
       " '4242061': 'ecs n 1   type d installation : sans ecs solaire   energie : reseau de chaleur urbain   type equipement : reseau de chaleur   contiguite des pieces : pieces non contigues   position de la production : en volume non chauffe   isolation du reseau : reseau non isole   volume de stockage : 1   veilleuse : non   alimentation : heure pleine   ',\n",
       " '4242062': 'ecs n 1   type d installation : sans ecs solaire   energie : reseau de chaleur urbain   type equipement : reseau de chaleur   contiguite des pieces : pieces non contigues   position de la production : en volume non chauffe   isolation du reseau : reseau non isole   volume de stockage : 1   veilleuse : non   alimentation : heure pleine   ',\n",
       " '4242063': 'ecs n 1   type d installation : sans ecs solaire   energie : reseau de chaleur urbain   type equipement : reseau de chaleur   contiguite des pieces : pieces non contigues   position de la production : en volume non chauffe   isolation du reseau : reseau non isole   volume de stockage : 1   veilleuse : non   alimentation : heure pleine   ',\n",
       " '4242064': 'ecs n 1   type d installation : sans ecs solaire   energie : reseau de chaleur urbain   type equipement : reseau de chaleur   contiguite des pieces : pieces non contigues   position de la production : en volume non chauffe   isolation du reseau : reseau non isole   volume de stockage : 1   veilleuse : non   alimentation : heure pleine   ',\n",
       " '4248232': 'ecs n 1   type d installation : sans ecs solaire   energie : reseau de chaleur urbain   type equipement : reseau de chaleur   contiguite des pieces : pieces non contigues   position de la production : en volume non chauffe   isolation du reseau : reseau non isole   volume de stockage : 1   veilleuse : non   alimentation : heure pleine   ',\n",
       " '4248233': 'ecs n 1   type d installation : sans ecs solaire   energie : reseau de chaleur urbain   type equipement : reseau de chaleur   contiguite des pieces : pieces non contigues   position de la production : en volume non chauffe   isolation du reseau : reseau non isole   volume de stockage : 1   veilleuse : non   alimentation : heure pleine   ',\n",
       " '4248234': 'ecs n 1   type d installation : sans ecs solaire   energie : reseau de chaleur urbain   type equipement : reseau de chaleur   contiguite des pieces : pieces non contigues   position de la production : en volume non chauffe   isolation du reseau : reseau non isole   volume de stockage : 1   veilleuse : non   alimentation : heure pleine   ',\n",
       " '4248236': 'ecs n 1   type d installation : sans ecs solaire   energie : reseau de chaleur urbain   type equipement : reseau de chaleur   contiguite des pieces : pieces non contigues   position de la production : en volume non chauffe   isolation du reseau : reseau non isole   volume de stockage : 1   veilleuse : non   alimentation : heure pleine   ',\n",
       " '4248235': 'ecs n 1   type d installation : sans ecs solaire   energie : reseau de chaleur urbain   type equipement : reseau de chaleur   contiguite des pieces : pieces non contigues   position de la production : en volume non chauffe   isolation du reseau : reseau non isole   volume de stockage : 1   veilleuse : non   alimentation : heure pleine   ',\n",
       " '4248237': 'ecs n 1   type d installation : sans ecs solaire   energie : reseau de chaleur urbain   type equipement : reseau de chaleur   contiguite des pieces : pieces non contigues   position de la production : en volume non chauffe   isolation du reseau : reseau non isole   volume de stockage : 1   veilleuse : non   alimentation : heure pleine   ',\n",
       " '4248238': 'ecs n 1   type d installation : sans ecs solaire   energie : reseau de chaleur urbain   type equipement : reseau de chaleur   contiguite des pieces : pieces non contigues   position de la production : en volume non chauffe   isolation du reseau : reseau non isole   volume de stockage : 1   veilleuse : non   alimentation : heure pleine   ',\n",
       " '4248239': 'ecs n 1   type d installation : sans ecs solaire   energie : reseau de chaleur urbain   type equipement : reseau de chaleur   contiguite des pieces : pieces non contigues   position de la production : en volume non chauffe   isolation du reseau : reseau non isole   volume de stockage : 1   veilleuse : non   alimentation : heure pleine   ',\n",
       " '4252522': 'ecs n 1   type d installation : sans ecs solaire   energie : reseau de chaleur urbain   type equipement : reseau de chaleur   contiguite des pieces : pieces non contigues   position de la production : en volume non chauffe   isolation du reseau : reseau non isole   volume de stockage : 1   veilleuse : non   alimentation : heure pleine   ',\n",
       " '4252523': 'ecs n 1   type d installation : sans ecs solaire   energie : reseau de chaleur urbain   type equipement : reseau de chaleur   contiguite des pieces : pieces non contigues   position de la production : en volume non chauffe   isolation du reseau : reseau non isole   volume de stockage : 1   veilleuse : non   alimentation : heure pleine   ',\n",
       " '4256426': 'ecs n 1   type d installation : sans ecs solaire   energie : reseau de chaleur urbain   type equipement : reseau de chaleur   contiguite des pieces : pieces non contigues   position de la production : en volume non chauffe   isolation du reseau : reseau non isole   volume de stockage : 1   veilleuse : non   alimentation : heure pleine   ',\n",
       " '4256428': 'ecs n 1   type d installation : sans ecs solaire   energie : reseau de chaleur urbain   type equipement : reseau de chaleur   contiguite des pieces : pieces non contigues   position de la production : en volume non chauffe   isolation du reseau : reseau non isole   volume de stockage : 1   veilleuse : non   alimentation : heure pleine   ',\n",
       " '4256429': 'ecs n 1   type d installation : sans ecs solaire   energie : reseau de chaleur urbain   type equipement : reseau de chaleur   contiguite des pieces : pieces non contigues   position de la production : en volume non chauffe   isolation du reseau : reseau non isole   volume de stockage : 1   veilleuse : non   alimentation : heure pleine   ',\n",
       " '4256427': 'ecs n 1   type d installation : sans ecs solaire   energie : reseau de chaleur urbain   type equipement : reseau de chaleur   contiguite des pieces : pieces non contigues   position de la production : en volume non chauffe   isolation du reseau : reseau non isole   volume de stockage : 1   veilleuse : non   alimentation : heure pleine   ',\n",
       " '4256430': 'ecs n 1   type d installation : sans ecs solaire   energie : reseau de chaleur urbain   type equipement : reseau de chaleur   contiguite des pieces : pieces non contigues   position de la production : en volume non chauffe   isolation du reseau : reseau non isole   volume de stockage : 1   veilleuse : non   alimentation : heure pleine   ',\n",
       " '4256431': 'ecs n 1   type d installation : sans ecs solaire   energie : reseau de chaleur urbain   type equipement : reseau de chaleur   contiguite des pieces : pieces non contigues   position de la production : en volume non chauffe   isolation du reseau : reseau non isole   volume de stockage : 1   veilleuse : non   alimentation : heure pleine   ',\n",
       " '4260559': 'ecs n 1   type d installation : sans ecs solaire   energie : reseau de chaleur urbain   type equipement : reseau de chaleur   contiguite des pieces : pieces non contigues   position de la production : en volume non chauffe   isolation du reseau : reseau non isole   volume de stockage : 1   veilleuse : non   alimentation : heure pleine   ',\n",
       " '4260560': 'ecs n 1   type d installation : sans ecs solaire   energie : reseau de chaleur urbain   type equipement : reseau de chaleur   contiguite des pieces : pieces non contigues   position de la production : en volume non chauffe   isolation du reseau : reseau non isole   volume de stockage : 1   veilleuse : non   alimentation : heure pleine   ',\n",
       " '4260563': 'ecs n 1   type d installation : sans ecs solaire   energie : reseau de chaleur urbain   type equipement : reseau de chaleur   contiguite des pieces : pieces non contigues   position de la production : en volume non chauffe   isolation du reseau : reseau non isole   volume de stockage : 1   veilleuse : non   alimentation : heure pleine   ',\n",
       " '4260564': 'ecs n 1   type d installation : sans ecs solaire   energie : reseau de chaleur urbain   type equipement : reseau de chaleur   contiguite des pieces : pieces non contigues   position de la production : en volume non chauffe   isolation du reseau : reseau non isole   volume de stockage : 1   veilleuse : non   alimentation : heure pleine   ',\n",
       " '4260565': 'ecs n 1   type d installation : sans ecs solaire   energie : reseau de chaleur urbain   type equipement : reseau de chaleur   contiguite des pieces : pieces non contigues   position de la production : en volume non chauffe   isolation du reseau : reseau non isole   volume de stockage : 1   veilleuse : non   alimentation : heure pleine   ',\n",
       " '4260566': 'ecs n 1   type d installation : sans ecs solaire   energie : reseau de chaleur urbain   type equipement : reseau de chaleur   contiguite des pieces : pieces non contigues   position de la production : en volume non chauffe   isolation du reseau : reseau non isole   volume de stockage : 1   veilleuse : non   alimentation : heure pleine   ',\n",
       " '4265409': 'ecs n 1   type d installation : sans ecs solaire   energie : reseau de chaleur urbain   type equipement : reseau de chaleur   contiguite des pieces : pieces non contigues   position de la production : en volume non chauffe   isolation du reseau : reseau non isole   volume de stockage : 1   veilleuse : non   alimentation : heure pleine   ',\n",
       " '4265410': 'ecs n 1   type d installation : sans ecs solaire   energie : reseau de chaleur urbain   type equipement : reseau de chaleur   contiguite des pieces : pieces non contigues   position de la production : en volume non chauffe   isolation du reseau : reseau non isole   volume de stockage : 1   veilleuse : non   alimentation : heure pleine   ',\n",
       " '4265411': 'ecs n 1   type d installation : sans ecs solaire   energie : reseau de chaleur urbain   type equipement : reseau de chaleur   contiguite des pieces : pieces non contigues   position de la production : en volume non chauffe   isolation du reseau : reseau non isole   volume de stockage : 1   veilleuse : non   alimentation : heure pleine   ',\n",
       " '4265412': 'ecs n 1   type d installation : sans ecs solaire   energie : reseau de chaleur urbain   type equipement : reseau de chaleur   contiguite des pieces : pieces non contigues   position de la production : en volume non chauffe   isolation du reseau : reseau non isole   volume de stockage : 1   veilleuse : non   alimentation : heure pleine   ',\n",
       " '4270920': 'ecs n 1   type d installation : sans ecs solaire   energie : reseau de chaleur urbain   type equipement : reseau de chaleur   contiguite des pieces : pieces non contigues   position de la production : en volume non chauffe   isolation du reseau : reseau non isole   volume de stockage : 1   veilleuse : non   alimentation : heure pleine   ',\n",
       " '4270921': 'ecs n 1   type d installation : sans ecs solaire   energie : reseau de chaleur urbain   type equipement : reseau de chaleur   contiguite des pieces : pieces non contigues   position de la production : en volume non chauffe   isolation du reseau : reseau non isole   volume de stockage : 1   veilleuse : non   alimentation : heure pleine   ',\n",
       " '4270922': 'ecs n 1   type d installation : sans ecs solaire   energie : reseau de chaleur urbain   type equipement : reseau de chaleur   contiguite des pieces : pieces non contigues   position de la production : en volume non chauffe   isolation du reseau : reseau non isole   volume de stockage : 1   veilleuse : non   alimentation : heure pleine   ',\n",
       " '4270923': 'ecs n 1   type d installation : sans ecs solaire   energie : reseau de chaleur urbain   type equipement : reseau de chaleur   contiguite des pieces : pieces non contigues   position de la production : en volume non chauffe   isolation du reseau : reseau non isole   volume de stockage : 1   veilleuse : non   alimentation : heure pleine   ',\n",
       " '4270924': 'ecs n 1   type d installation : sans ecs solaire   energie : reseau de chaleur urbain   type equipement : reseau de chaleur   contiguite des pieces : pieces non contigues   position de la production : en volume non chauffe   isolation du reseau : reseau non isole   volume de stockage : 1   veilleuse : non   alimentation : heure pleine   ',\n",
       " '4270926': 'ecs n 1   type d installation : sans ecs solaire   energie : reseau de chaleur urbain   type equipement : reseau de chaleur   contiguite des pieces : pieces non contigues   position de la production : en volume non chauffe   isolation du reseau : reseau non isole   volume de stockage : 1   veilleuse : non   alimentation : heure pleine   ',\n",
       " '4270927': 'ecs n 1   type d installation : sans ecs solaire   energie : reseau de chaleur urbain   type equipement : reseau de chaleur   contiguite des pieces : pieces non contigues   position de la production : en volume non chauffe   isolation du reseau : reseau non isole   volume de stockage : 1   veilleuse : non   alimentation : heure pleine   ',\n",
       " '4274742': 'ecs n 1   type d installation : sans ecs solaire   energie : reseau de chaleur urbain   type equipement : reseau de chaleur   contiguite des pieces : pieces non contigues   position de la production : en volume non chauffe   isolation du reseau : reseau non isole   volume de stockage : 1   veilleuse : non   alimentation : heure pleine   ',\n",
       " '4274743': 'ecs n 1   type d installation : sans ecs solaire   energie : reseau de chaleur urbain   type equipement : reseau de chaleur   contiguite des pieces : pieces non contigues   position de la production : en volume non chauffe   isolation du reseau : reseau non isole   volume de stockage : 1   veilleuse : non   alimentation : heure pleine   ',\n",
       " '4274744': 'ecs n 1   type d installation : sans ecs solaire   energie : reseau de chaleur urbain   type equipement : reseau de chaleur   contiguite des pieces : pieces non contigues   position de la production : en volume non chauffe   isolation du reseau : reseau non isole   volume de stockage : 1   veilleuse : non   alimentation : heure pleine   ',\n",
       " '4274745': 'ecs n 1   type d installation : sans ecs solaire   energie : reseau de chaleur urbain   type equipement : reseau de chaleur   contiguite des pieces : pieces non contigues   position de la production : en volume non chauffe   isolation du reseau : reseau non isole   volume de stockage : 1   veilleuse : non   alimentation : heure pleine   ',\n",
       " '4274746': 'ecs n 1   type d installation : sans ecs solaire   energie : reseau de chaleur urbain   type equipement : reseau de chaleur   contiguite des pieces : pieces non contigues   position de la production : en volume non chauffe   isolation du reseau : reseau non isole   volume de stockage : 1   veilleuse : non   alimentation : heure pleine   ',\n",
       " '4275000': 'ecs n 1   type d installation : sans ecs solaire   energie : reseau de chaleur urbain   type equipement : reseau de chaleur   contiguite des pieces : pieces non contigues   position de la production : en volume non chauffe   isolation du reseau : reseau non isole   volume de stockage : 1   veilleuse : non   alimentation : heure pleine   ',\n",
       " '4275002': 'ecs n 1   type d installation : sans ecs solaire   energie : reseau de chaleur urbain   type equipement : reseau de chaleur   contiguite des pieces : pieces non contigues   position de la production : en volume non chauffe   isolation du reseau : reseau non isole   volume de stockage : 1   veilleuse : non   alimentation : heure pleine   ',\n",
       " '4275003': 'ecs n 1   type d installation : sans ecs solaire   energie : reseau de chaleur urbain   type equipement : reseau de chaleur   contiguite des pieces : pieces non contigues   position de la production : en volume non chauffe   isolation du reseau : reseau non isole   volume de stockage : 1   veilleuse : non   alimentation : heure pleine   ',\n",
       " '4275420': 'ecs n 1   type d installation : sans ecs solaire   energie : reseau de chaleur urbain   type equipement : reseau de chaleur   contiguite des pieces : pieces non contigues   position de la production : en volume non chauffe   isolation du reseau : reseau non isole   volume de stockage : 1   veilleuse : non   alimentation : heure pleine   ',\n",
       " '4275421': 'ecs n 1   type d installation : sans ecs solaire   energie : reseau de chaleur urbain   type equipement : reseau de chaleur   contiguite des pieces : pieces non contigues   position de la production : en volume non chauffe   isolation du reseau : reseau non isole   volume de stockage : 1   veilleuse : non   alimentation : heure pleine   ',\n",
       " '4276840': 'ecs n 1   type d installation : sans ecs solaire   energie : reseau de chaleur urbain   type equipement : reseau de chaleur   contiguite des pieces : pieces non contigues   position de la production : en volume non chauffe   isolation du reseau : reseau non isole   volume de stockage : 1   veilleuse : non   alimentation : heure pleine   ',\n",
       " '4276841': 'ecs n 1   type d installation : sans ecs solaire   energie : reseau de chaleur urbain   type equipement : reseau de chaleur   contiguite des pieces : pieces non contigues   position de la production : en volume non chauffe   isolation du reseau : reseau non isole   volume de stockage : 1   veilleuse : non   alimentation : heure pleine   ',\n",
       " '4276842': 'ecs n 1   type d installation : sans ecs solaire   energie : reseau de chaleur urbain   type equipement : reseau de chaleur   contiguite des pieces : pieces non contigues   position de la production : en volume non chauffe   isolation du reseau : reseau non isole   volume de stockage : 1   veilleuse : non   alimentation : heure pleine   ',\n",
       " '4276844': 'ecs n 1   type d installation : sans ecs solaire   energie : reseau de chaleur urbain   type equipement : reseau de chaleur   contiguite des pieces : pieces non contigues   position de la production : en volume non chauffe   isolation du reseau : reseau non isole   volume de stockage : 1   veilleuse : non   alimentation : heure pleine   ',\n",
       " '4276845': 'ecs n 1   type d installation : sans ecs solaire   energie : reseau de chaleur urbain   type equipement : reseau de chaleur   contiguite des pieces : pieces non contigues   position de la production : en volume non chauffe   isolation du reseau : reseau non isole   volume de stockage : 1   veilleuse : non   alimentation : heure pleine   ',\n",
       " '4276846': 'ecs n 1   type d installation : sans ecs solaire   energie : reseau de chaleur urbain   type equipement : reseau de chaleur   contiguite des pieces : pieces non contigues   position de la production : en volume non chauffe   isolation du reseau : reseau non isole   volume de stockage : 1   veilleuse : non   alimentation : heure pleine   ',\n",
       " '4276848': 'ecs n 1   type d installation : sans ecs solaire   energie : reseau de chaleur urbain   type equipement : reseau de chaleur   contiguite des pieces : pieces non contigues   position de la production : en volume non chauffe   isolation du reseau : reseau non isole   volume de stockage : 1   veilleuse : non   alimentation : heure pleine   ',\n",
       " '4276849': 'ecs n 1   type d installation : sans ecs solaire   energie : reseau de chaleur urbain   type equipement : reseau de chaleur   contiguite des pieces : pieces non contigues   position de la production : en volume non chauffe   isolation du reseau : reseau non isole   volume de stockage : 1   veilleuse : non   alimentation : heure pleine   ',\n",
       " '4278712': 'ecs n 1   type d installation : sans ecs solaire   energie : reseau de chaleur urbain   type equipement : reseau de chaleur   contiguite des pieces : pieces non contigues   position de la production : en volume non chauffe   isolation du reseau : reseau non isole   volume de stockage : 1   veilleuse : non   alimentation : heure pleine   ',\n",
       " '4278714': 'ecs n 1   type d installation : sans ecs solaire   energie : reseau de chaleur urbain   type equipement : reseau de chaleur   contiguite des pieces : pieces non contigues   position de la production : en volume non chauffe   isolation du reseau : reseau non isole   volume de stockage : 1   veilleuse : non   alimentation : heure pleine   ',\n",
       " '4278715': 'ecs n 1   type d installation : sans ecs solaire   energie : reseau de chaleur urbain   type equipement : reseau de chaleur   contiguite des pieces : pieces non contigues   position de la production : en volume non chauffe   isolation du reseau : reseau non isole   volume de stockage : 1   veilleuse : non   alimentation : heure pleine   ',\n",
       " '4278717': 'ecs n 1   type d installation : sans ecs solaire   energie : reseau de chaleur urbain   type equipement : reseau de chaleur   contiguite des pieces : pieces non contigues   position de la production : en volume non chauffe   isolation du reseau : reseau non isole   volume de stockage : 1   veilleuse : non   alimentation : heure pleine   ',\n",
       " '4278719': 'ecs n 1   type d installation : sans ecs solaire   energie : reseau de chaleur urbain   type equipement : reseau de chaleur   contiguite des pieces : pieces non contigues   position de la production : en volume non chauffe   isolation du reseau : reseau non isole   volume de stockage : 1   veilleuse : non   alimentation : heure pleine   ',\n",
       " '4278723': 'ecs n 1   type d installation : sans ecs solaire   energie : reseau de chaleur urbain   type equipement : reseau de chaleur   contiguite des pieces : pieces non contigues   position de la production : en volume non chauffe   isolation du reseau : reseau non isole   volume de stockage : 1   veilleuse : non   alimentation : heure pleine   ',\n",
       " '4278732': 'ecs n 1   type d installation : sans ecs solaire   energie : reseau de chaleur urbain   type equipement : reseau de chaleur   contiguite des pieces : pieces non contigues   position de la production : en volume non chauffe   isolation du reseau : reseau non isole   volume de stockage : 1   veilleuse : non   alimentation : heure pleine   ',\n",
       " '4278733': 'ecs n 1   type d installation : sans ecs solaire   energie : reseau de chaleur urbain   type equipement : reseau de chaleur   contiguite des pieces : pieces non contigues   position de la production : en volume non chauffe   isolation du reseau : reseau non isole   volume de stockage : 1   veilleuse : non   alimentation : heure pleine   ',\n",
       " '4278734': 'ecs n 1   type d installation : sans ecs solaire   energie : reseau de chaleur urbain   type equipement : reseau de chaleur   contiguite des pieces : pieces non contigues   position de la production : en volume non chauffe   isolation du reseau : reseau non isole   volume de stockage : 1   veilleuse : non   alimentation : heure pleine   ',\n",
       " '4278737': 'ecs n 1   type d installation : sans ecs solaire   energie : reseau de chaleur urbain   type equipement : reseau de chaleur   contiguite des pieces : pieces non contigues   position de la production : en volume non chauffe   isolation du reseau : reseau non isole   volume de stockage : 1   veilleuse : non   alimentation : heure pleine   ',\n",
       " '4278739': 'ecs n 1   type d installation : sans ecs solaire   energie : reseau de chaleur urbain   type equipement : reseau de chaleur   contiguite des pieces : pieces non contigues   position de la production : en volume non chauffe   isolation du reseau : reseau non isole   volume de stockage : 1   veilleuse : non   alimentation : heure pleine   ',\n",
       " '4278740': 'ecs n 1   type d installation : sans ecs solaire   energie : reseau de chaleur urbain   type equipement : reseau de chaleur   contiguite des pieces : pieces non contigues   position de la production : en volume non chauffe   isolation du reseau : reseau non isole   volume de stockage : 1   veilleuse : non   alimentation : heure pleine   ',\n",
       " '4278742': 'ecs n 1   type d installation : sans ecs solaire   energie : reseau de chaleur urbain   type equipement : reseau de chaleur   contiguite des pieces : pieces non contigues   position de la production : en volume non chauffe   isolation du reseau : reseau non isole   volume de stockage : 1   veilleuse : non   alimentation : heure pleine   ',\n",
       " '4278743': 'ecs n 1   type d installation : sans ecs solaire   energie : reseau de chaleur urbain   type equipement : reseau de chaleur   contiguite des pieces : pieces non contigues   position de la production : en volume non chauffe   isolation du reseau : reseau non isole   volume de stockage : 1   veilleuse : non   alimentation : heure pleine   ',\n",
       " '4284243': 'ecs n 1   type d installation : sans ecs solaire   energie : reseau de chaleur urbain   type equipement : reseau de chaleur   contiguite des pieces : pieces non contigues   position de la production : en volume non chauffe   isolation du reseau : reseau non isole   volume de stockage : 1   veilleuse : non   alimentation : heure pleine   ',\n",
       " '4284244': 'ecs n 1   type d installation : sans ecs solaire   energie : reseau de chaleur urbain   type equipement : reseau de chaleur   contiguite des pieces : pieces non contigues   position de la production : en volume non chauffe   isolation du reseau : reseau non isole   volume de stockage : 1   veilleuse : non   alimentation : heure pleine   ',\n",
       " '4284246': 'ecs n 1   type d installation : sans ecs solaire   energie : reseau de chaleur urbain   type equipement : reseau de chaleur   contiguite des pieces : pieces non contigues   position de la production : en volume non chauffe   isolation du reseau : reseau non isole   volume de stockage : 1   veilleuse : non   alimentation : heure pleine   ',\n",
       " '4284247': 'ecs n 1   type d installation : sans ecs solaire   energie : reseau de chaleur urbain   type equipement : reseau de chaleur   contiguite des pieces : pieces non contigues   position de la production : en volume non chauffe   isolation du reseau : reseau non isole   volume de stockage : 1   veilleuse : non   alimentation : heure pleine   ',\n",
       " '4284248': 'ecs n 1   type d installation : sans ecs solaire   energie : reseau de chaleur urbain   type equipement : reseau de chaleur   contiguite des pieces : pieces non contigues   position de la production : en volume non chauffe   isolation du reseau : reseau non isole   volume de stockage : 1   veilleuse : non   alimentation : heure pleine   ',\n",
       " '4284249': 'ecs n 1   type d installation : sans ecs solaire   energie : reseau de chaleur urbain   type equipement : reseau de chaleur   contiguite des pieces : pieces non contigues   position de la production : en volume non chauffe   isolation du reseau : reseau non isole   volume de stockage : 1   veilleuse : non   alimentation : heure pleine   ',\n",
       " '4284250': 'ecs n 1   type d installation : sans ecs solaire   energie : reseau de chaleur urbain   type equipement : reseau de chaleur   contiguite des pieces : pieces non contigues   position de la production : en volume non chauffe   isolation du reseau : reseau non isole   volume de stockage : 1   veilleuse : non   alimentation : heure pleine   ',\n",
       " '4289350': 'ecs n 1   type d installation : sans ecs solaire   energie : reseau de chaleur urbain   type equipement : reseau de chaleur   contiguite des pieces : pieces non contigues   position de la production : en volume non chauffe   isolation du reseau : reseau non isole   volume de stockage : 1   veilleuse : non   alimentation : heure pleine   ',\n",
       " '4289351': 'ecs n 1   type d installation : sans ecs solaire   energie : reseau de chaleur urbain   type equipement : reseau de chaleur   contiguite des pieces : pieces non contigues   position de la production : en volume non chauffe   isolation du reseau : reseau non isole   volume de stockage : 1   veilleuse : non   alimentation : heure pleine   ',\n",
       " '4289352': 'ecs n 1   type d installation : sans ecs solaire   energie : reseau de chaleur urbain   type equipement : reseau de chaleur   contiguite des pieces : pieces non contigues   position de la production : en volume non chauffe   isolation du reseau : reseau non isole   volume de stockage : 1   veilleuse : non   alimentation : heure pleine   ',\n",
       " '4289353': 'ecs n 1   type d installation : sans ecs solaire   energie : reseau de chaleur urbain   type equipement : reseau de chaleur   contiguite des pieces : pieces non contigues   position de la production : en volume non chauffe   isolation du reseau : reseau non isole   volume de stockage : 1   veilleuse : non   alimentation : heure pleine   ',\n",
       " '4289354': 'ecs n 1   type d installation : sans ecs solaire   energie : reseau de chaleur urbain   type equipement : reseau de chaleur   contiguite des pieces : pieces non contigues   position de la production : en volume non chauffe   isolation du reseau : reseau non isole   volume de stockage : 1   veilleuse : non   alimentation : heure pleine   ',\n",
       " '4289355': 'ecs n 1   type d installation : sans ecs solaire   energie : reseau de chaleur urbain   type equipement : reseau de chaleur   contiguite des pieces : pieces non contigues   position de la production : en volume non chauffe   isolation du reseau : reseau non isole   volume de stockage : 1   veilleuse : non   alimentation : heure pleine   ',\n",
       " '4289356': 'ecs n 1   type d installation : sans ecs solaire   energie : reseau de chaleur urbain   type equipement : reseau de chaleur   contiguite des pieces : pieces non contigues   position de la production : en volume non chauffe   isolation du reseau : reseau non isole   volume de stockage : 1   veilleuse : non   alimentation : heure pleine   ',\n",
       " '4289357': 'ecs n 1   type d installation : sans ecs solaire   energie : reseau de chaleur urbain   type equipement : reseau de chaleur   contiguite des pieces : pieces non contigues   position de la production : en volume non chauffe   isolation du reseau : reseau non isole   volume de stockage : 1   veilleuse : non   alimentation : heure pleine   ',\n",
       " '4289359': 'ecs n 1   type d installation : sans ecs solaire   energie : reseau de chaleur urbain   type equipement : reseau de chaleur   contiguite des pieces : pieces non contigues   position de la production : en volume non chauffe   isolation du reseau : reseau non isole   volume de stockage : 1   veilleuse : non   alimentation : heure pleine   ',\n",
       " '4289360': 'ecs n 1   type d installation : sans ecs solaire   energie : reseau de chaleur urbain   type equipement : reseau de chaleur   contiguite des pieces : pieces non contigues   position de la production : en volume non chauffe   isolation du reseau : reseau non isole   volume de stockage : 1   veilleuse : non   alimentation : heure pleine   ',\n",
       " '4289365': 'ecs n 1   type d installation : sans ecs solaire   energie : reseau de chaleur urbain   type equipement : reseau de chaleur   contiguite des pieces : pieces non contigues   position de la production : en volume non chauffe   isolation du reseau : reseau non isole   volume de stockage : 1   veilleuse : non   alimentation : heure pleine   ',\n",
       " '4679194': 'ecs n 1   type d installation : sans ecs solaire   energie : reseau de chaleur urbain   type equipement : reseau de chaleur   contiguite des pieces : pieces non contigues   position de la production : en volume non chauffe   isolation du reseau : reseau non isole   volume de stockage : 200   veilleuse : non   alimentation : heure pleine   ',\n",
       " '4679198': 'ecs n 1   type d installation : sans ecs solaire   energie : reseau de chaleur urbain   type equipement : reseau de chaleur   contiguite des pieces : pieces non contigues   position de la production : en volume non chauffe   isolation du reseau : reseau non isole   volume de stockage : 1   veilleuse : non   alimentation : heure pleine   ',\n",
       " '4679204': 'ecs n 1   type d installation : sans ecs solaire   energie : reseau de chaleur urbain   type equipement : reseau de chaleur   contiguite des pieces : pieces non contigues   position de la production : en volume non chauffe   isolation du reseau : reseau non isole   volume de stockage : 1   veilleuse : non   alimentation : heure pleine   ',\n",
       " '4679207': 'ecs n 1   type d installation : sans ecs solaire   energie : reseau de chaleur urbain   type equipement : reseau de chaleur   contiguite des pieces : pieces non contigues   position de la production : en volume non chauffe   isolation du reseau : reseau non isole   volume de stockage : 1   veilleuse : non   alimentation : heure pleine   ',\n",
       " '4679224': 'ecs n 1   type d installation : sans ecs solaire   energie : reseau de chaleur urbain   type equipement : reseau de chaleur   contiguite des pieces : pieces non contigues   position de la production : en volume non chauffe   isolation du reseau : reseau non isole   volume de stockage : 1   veilleuse : non   alimentation : heure pleine   ',\n",
       " '4679226': 'ecs n 1   type d installation : sans ecs solaire   energie : reseau de chaleur urbain   type equipement : reseau de chaleur   contiguite des pieces : pieces non contigues   position de la production : en volume non chauffe   isolation du reseau : reseau non isole   volume de stockage : 1   veilleuse : non   alimentation : heure pleine   ',\n",
       " '4679260': 'ecs n 1   type d installation : sans ecs solaire   energie : reseau de chaleur urbain   type equipement : reseau de chaleur   contiguite des pieces : pieces non contigues   position de la production : en volume non chauffe   isolation du reseau : reseau non isole   volume de stockage : 1   veilleuse : non   alimentation : heure pleine   ',\n",
       " '4679284': 'ecs n 1   type d installation : sans ecs solaire   energie : reseau de chaleur urbain   type equipement : reseau de chaleur   contiguite des pieces : pieces non contigues   position de la production : en volume non chauffe   isolation du reseau : reseau non isole   volume de stockage : 1   veilleuse : non   alimentation : heure pleine   ',\n",
       " '4685161': 'ecs n 1   type d installation : sans ecs solaire   energie : reseau de chaleur urbain   type equipement : reseau de chaleur   contiguite des pieces : pieces non contigues   position de la production : en volume non chauffe   isolation du reseau : reseau non isole   volume de stockage : 1   veilleuse : non   alimentation : heure pleine   ',\n",
       " '4685162': 'ecs n 1   type d installation : sans ecs solaire   energie : reseau de chaleur urbain   type equipement : reseau de chaleur   contiguite des pieces : pieces non contigues   position de la production : en volume non chauffe   isolation du reseau : reseau non isole   volume de stockage : 1   veilleuse : non   alimentation : heure pleine   ',\n",
       " '4685163': 'ecs n 1   type d installation : sans ecs solaire   energie : reseau de chaleur urbain   type equipement : reseau de chaleur   contiguite des pieces : pieces non contigues   position de la production : en volume non chauffe   isolation du reseau : reseau non isole   volume de stockage : 1   veilleuse : non   alimentation : heure pleine   ',\n",
       " '4685164': 'ecs n 1   type d installation : sans ecs solaire   energie : reseau de chaleur urbain   type equipement : reseau de chaleur   contiguite des pieces : pieces non contigues   position de la production : en volume non chauffe   isolation du reseau : reseau non isole   volume de stockage : 1   veilleuse : non   alimentation : heure pleine   ',\n",
       " '4685165': 'ecs n 1   type d installation : sans ecs solaire   energie : reseau de chaleur urbain   type equipement : reseau de chaleur   contiguite des pieces : pieces non contigues   position de la production : en volume non chauffe   isolation du reseau : reseau non isole   volume de stockage : 1   veilleuse : non   alimentation : heure pleine   ',\n",
       " '4685166': 'ecs n 1   type d installation : sans ecs solaire   energie : reseau de chaleur urbain   type equipement : reseau de chaleur   contiguite des pieces : pieces non contigues   position de la production : en volume non chauffe   isolation du reseau : reseau non isole   volume de stockage : 1   veilleuse : non   alimentation : heure pleine   ',\n",
       " '4685167': 'ecs n 1   type d installation : sans ecs solaire   energie : reseau de chaleur urbain   type equipement : reseau de chaleur   contiguite des pieces : pieces non contigues   position de la production : en volume non chauffe   isolation du reseau : reseau non isole   volume de stockage : 200   veilleuse : non   alimentation : heure pleine   ',\n",
       " '4685168': 'ecs n 1   type d installation : sans ecs solaire   energie : reseau de chaleur urbain   type equipement : reseau de chaleur   contiguite des pieces : pieces non contigues   position de la production : en volume non chauffe   isolation du reseau : reseau non isole   volume de stockage : 1   veilleuse : non   alimentation : heure pleine   ',\n",
       " '4700181': 'ecs n 1   type d installation : sans ecs solaire   energie : reseau de chaleur urbain   type equipement : reseau de chaleur   contiguite des pieces : pieces non contigues   position de la production : en volume non chauffe   isolation du reseau : reseau non isole   volume de stockage : 1   veilleuse : non   alimentation : heure pleine   ',\n",
       " '4700187': 'ecs n 1   type d installation : sans ecs solaire   energie : reseau de chaleur urbain   type equipement : reseau de chaleur   contiguite des pieces : pieces non contigues   position de la production : en volume non chauffe   isolation du reseau : reseau non isole   volume de stockage : 1   veilleuse : non   alimentation : heure pleine   ',\n",
       " '4700191': 'ecs n 1   type d installation : sans ecs solaire   energie : reseau de chaleur urbain   type equipement : reseau de chaleur   contiguite des pieces : pieces non contigues   position de la production : en volume non chauffe   isolation du reseau : reseau non isole   volume de stockage : 1   veilleuse : non   alimentation : heure pleine   ',\n",
       " '4704394': 'ecs n 1   type d installation : sans ecs solaire   energie : reseau de chaleur urbain   type equipement : reseau de chaleur   contiguite des pieces : pieces non contigues   position de la production : en volume non chauffe   isolation du reseau : reseau non isole   volume de stockage : 1   veilleuse : non   alimentation : heure pleine   ',\n",
       " '4704397': 'ecs n 1   type d installation : sans ecs solaire   energie : reseau de chaleur urbain   type equipement : reseau de chaleur   contiguite des pieces : pieces non contigues   position de la production : en volume non chauffe   isolation du reseau : reseau non isole   volume de stockage : 1   veilleuse : non   alimentation : heure pleine   ',\n",
       " '4704404': 'ecs n 1   type d installation : sans ecs solaire   energie : reseau de chaleur urbain   type equipement : reseau de chaleur   contiguite des pieces : pieces non contigues   position de la production : en volume non chauffe   isolation du reseau : reseau non isole   volume de stockage : 1   veilleuse : non   alimentation : heure pleine   ',\n",
       " '4704406': 'ecs n 1   type d installation : sans ecs solaire   energie : reseau de chaleur urbain   type equipement : reseau de chaleur   contiguite des pieces : pieces non contigues   position de la production : en volume non chauffe   isolation du reseau : reseau non isole   volume de stockage : 1   veilleuse : non   alimentation : heure pleine   ',\n",
       " '4792469': 'ecs n 1   type d installation : sans ecs solaire   energie : reseau de chaleur urbain   type equipement : reseau de chaleur   contiguite des pieces : pieces non contigues   position de la production : en volume non chauffe   isolation du reseau : reseau non isole   volume de stockage : 1   veilleuse : non   alimentation : heure pleine   ',\n",
       " '4792470': 'ecs n 1   type d installation : sans ecs solaire   energie : reseau de chaleur urbain   type equipement : reseau de chaleur   contiguite des pieces : pieces non contigues   position de la production : en volume non chauffe   isolation du reseau : reseau non isole   volume de stockage : 1   veilleuse : non   alimentation : heure pleine   ',\n",
       " '4792481': 'ecs n 1   type d installation : sans ecs solaire   energie : reseau de chaleur urbain   type equipement : reseau de chaleur   contiguite des pieces : pieces non contigues   position de la production : en volume non chauffe   isolation du reseau : reseau non isole   volume de stockage : 1   veilleuse : non   alimentation : heure pleine   ',\n",
       " '4792485': 'ecs n 1   type d installation : sans ecs solaire   energie : reseau de chaleur urbain   type equipement : reseau de chaleur   contiguite des pieces : pieces non contigues   position de la production : en volume non chauffe   isolation du reseau : reseau non isole   volume de stockage : 1   veilleuse : non   alimentation : heure pleine   ',\n",
       " '4792515': 'ecs n 1   type d installation : sans ecs solaire   energie : reseau de chaleur urbain   type equipement : reseau de chaleur   contiguite des pieces : pieces non contigues   position de la production : en volume non chauffe   isolation du reseau : reseau non isole   volume de stockage : 1   veilleuse : non   alimentation : heure pleine   ',\n",
       " '4798474': 'ecs n 1   type d installation : sans ecs solaire   energie : reseau de chaleur urbain   type equipement : reseau de chaleur   contiguite des pieces : pieces non contigues   position de la production : en volume non chauffe   isolation du reseau : reseau non isole   volume de stockage : 1   veilleuse : non   alimentation : heure pleine   ',\n",
       " '4798479': 'ecs n 1   type d installation : sans ecs solaire   energie : reseau de chaleur urbain   type equipement : reseau de chaleur   contiguite des pieces : pieces non contigues   position de la production : en volume non chauffe   isolation du reseau : reseau non isole   volume de stockage : 1   veilleuse : non   alimentation : heure pleine   ',\n",
       " '4798481': 'ecs n 1   type d installation : sans ecs solaire   energie : reseau de chaleur urbain   type equipement : reseau de chaleur   contiguite des pieces : pieces non contigues   position de la production : en volume non chauffe   isolation du reseau : reseau non isole   volume de stockage : 1   veilleuse : non   alimentation : heure pleine   ',\n",
       " '4798486': 'ecs n 1   type d installation : sans ecs solaire   energie : reseau de chaleur urbain   type equipement : reseau de chaleur   contiguite des pieces : pieces non contigues   position de la production : en volume non chauffe   isolation du reseau : reseau non isole   volume de stockage : 1   veilleuse : non   alimentation : heure pleine   ',\n",
       " '4804114': 'ecs n 1   type d installation : sans ecs solaire   energie : reseau de chaleur urbain   type equipement : reseau de chaleur   contiguite des pieces : pieces non contigues   position de la production : en volume non chauffe   isolation du reseau : reseau non isole   volume de stockage : 1   veilleuse : non   alimentation : heure pleine   ',\n",
       " '4804121': 'ecs n 1   type d installation : sans ecs solaire   energie : reseau de chaleur urbain   type equipement : reseau de chaleur   contiguite des pieces : pieces non contigues   position de la production : en volume non chauffe   isolation du reseau : reseau non isole   volume de stockage : 1   veilleuse : non   alimentation : heure pleine   ',\n",
       " '4804128': 'ecs n 1   type d installation : sans ecs solaire   energie : reseau de chaleur urbain   type equipement : reseau de chaleur   contiguite des pieces : pieces non contigues   position de la production : en volume non chauffe   isolation du reseau : reseau non isole   volume de stockage : 1   veilleuse : non   alimentation : heure pleine   ',\n",
       " '4804130': 'ecs n 1   type d installation : sans ecs solaire   energie : reseau de chaleur urbain   type equipement : reseau de chaleur   contiguite des pieces : pieces non contigues   position de la production : en volume non chauffe   isolation du reseau : reseau non isole   volume de stockage : 1   veilleuse : non   alimentation : heure pleine   ',\n",
       " '4804150': 'ecs n 1   type d installation : sans ecs solaire   energie : reseau de chaleur urbain   type equipement : reseau de chaleur   contiguite des pieces : pieces non contigues   position de la production : en volume non chauffe   isolation du reseau : reseau non isole   volume de stockage : 1   veilleuse : non   alimentation : heure pleine   ',\n",
       " '4809535': 'ecs n 1   type d installation : sans ecs solaire   energie : reseau de chaleur urbain   type equipement : reseau de chaleur   contiguite des pieces : pieces non contigues   position de la production : en volume non chauffe   isolation du reseau : reseau non isole   volume de stockage : 1   veilleuse : non   alimentation : heure pleine   ',\n",
       " '4809545': 'ecs n 1   type d installation : sans ecs solaire   energie : reseau de chaleur urbain   type equipement : reseau de chaleur   contiguite des pieces : pieces non contigues   position de la production : en volume non chauffe   isolation du reseau : reseau non isole   volume de stockage : 1   veilleuse : non   alimentation : heure pleine   ',\n",
       " '4809561': 'ecs n 1   type d installation : sans ecs solaire   energie : reseau de chaleur urbain   type equipement : reseau de chaleur   contiguite des pieces : pieces non contigues   position de la production : en volume non chauffe   isolation du reseau : reseau non isole   volume de stockage : 1   veilleuse : non   alimentation : heure pleine   ',\n",
       " '4809566': 'ecs n 1   type d installation : sans ecs solaire   energie : reseau de chaleur urbain   type equipement : reseau de chaleur   contiguite des pieces : pieces non contigues   position de la production : en volume non chauffe   isolation du reseau : reseau non isole   volume de stockage : 1   veilleuse : non   alimentation : heure pleine   ',\n",
       " '4809567': 'ecs n 1   type d installation : sans ecs solaire   energie : reseau de chaleur urbain   type equipement : reseau de chaleur   contiguite des pieces : pieces non contigues   position de la production : en volume non chauffe   isolation du reseau : reseau non isole   volume de stockage : 1   veilleuse : non   alimentation : heure pleine   ',\n",
       " '4809581': 'ecs n 1   type d installation : sans ecs solaire   energie : reseau de chaleur urbain   type equipement : reseau de chaleur   contiguite des pieces : pieces non contigues   position de la production : en volume non chauffe   isolation du reseau : reseau non isole   volume de stockage : 1   veilleuse : non   alimentation : heure pleine   ',\n",
       " '4814278': 'ecs n 1   type d installation : sans ecs solaire   energie : reseau de chaleur urbain   type equipement : reseau de chaleur   contiguite des pieces : pieces non contigues   position de la production : en volume non chauffe   isolation du reseau : reseau non isole   volume de stockage : 1   veilleuse : non   alimentation : heure pleine   ',\n",
       " '4814293': 'ecs n 1   type d installation : sans ecs solaire   energie : reseau de chaleur urbain   type equipement : reseau de chaleur   contiguite des pieces : pieces non contigues   position de la production : en volume non chauffe   isolation du reseau : reseau non isole   volume de stockage : 10   veilleuse : non   alimentation : heure pleine   ',\n",
       " '4814302': 'ecs n 1   type d installation : sans ecs solaire   energie : reseau de chaleur urbain   type equipement : reseau de chaleur   contiguite des pieces : pieces non contigues   position de la production : en volume non chauffe   isolation du reseau : reseau non isole   volume de stockage : 1   veilleuse : non   alimentation : heure pleine   ',\n",
       " '4814304': 'ecs n 1   type d installation : sans ecs solaire   energie : reseau de chaleur urbain   type equipement : reseau de chaleur   contiguite des pieces : pieces non contigues   position de la production : en volume non chauffe   isolation du reseau : reseau non isole   volume de stockage : 1   veilleuse : non   alimentation : heure pleine   ',\n",
       " '4885436': 'ecs n 1   type d installation : sans ecs solaire   energie : reseau de chaleur urbain   type equipement : reseau de chaleur   contiguite des pieces : pieces non contigues   position de la production : en volume non chauffe   isolation du reseau : reseau isole   volume de stockage : 200   veilleuse : non   alimentation : heure pleine   ',\n",
       " '4885552': 'ecs n 1   type d installation : sans ecs solaire   energie : reseau de chaleur urbain   type equipement : reseau de chaleur   contiguite des pieces : pieces non contigues   position de la production : en volume non chauffe   isolation du reseau : reseau non isole   volume de stockage : 1   veilleuse : non   alimentation : heure pleine   ',\n",
       " '4885558': 'ecs n 1   type d installation : sans ecs solaire   energie : reseau de chaleur urbain   type equipement : reseau de chaleur   contiguite des pieces : pieces non contigues   position de la production : en volume non chauffe   isolation du reseau : reseau non isole   volume de stockage : 1   veilleuse : non   alimentation : heure pleine   ',\n",
       " '4885566': 'ecs n 1   type d installation : sans ecs solaire   energie : reseau de chaleur urbain   type equipement : reseau de chaleur   contiguite des pieces : pieces non contigues   position de la production : en volume non chauffe   isolation du reseau : reseau non isole   volume de stockage : 1   veilleuse : non   alimentation : heure pleine   ',\n",
       " '4894658': 'ecs n 1   type d installation : sans ecs solaire   energie : reseau de chaleur urbain   type equipement : reseau de chaleur   contiguite des pieces : pieces non contigues   position de la production : en volume non chauffe   isolation du reseau : reseau non isole   volume de stockage : 1   veilleuse : non   alimentation : heure pleine   ',\n",
       " '4897225': 'ecs n 1   type d installation : sans ecs solaire   energie : reseau de chaleur urbain   type equipement : reseau de chaleur   contiguite des pieces : pieces non contigues   position de la production : en volume non chauffe   isolation du reseau : reseau non isole   volume de stockage : 1   veilleuse : non   alimentation : heure pleine   ',\n",
       " '4903623': 'ecs n 1   type d installation : sans ecs solaire   energie : reseau de chaleur urbain   type equipement : reseau de chaleur   contiguite des pieces : pieces non contigues   position de la production : en volume non chauffe   isolation du reseau : reseau non isole   volume de stockage : 1   veilleuse : non   alimentation : heure pleine   ',\n",
       " '4903628': 'ecs n 1   type d installation : sans ecs solaire   energie : reseau de chaleur urbain   type equipement : reseau de chaleur   contiguite des pieces : pieces non contigues   position de la production : en volume non chauffe   isolation du reseau : reseau non isole   volume de stockage : 1   veilleuse : non   alimentation : heure pleine   ',\n",
       " '5497931': 'ecs n 1   type d installation : sans ecs solaire   energie : reseau de chaleur urbain   type equipement : reseau de chaleur   contiguite des pieces : pieces non contigues   position de la production : en volume non chauffe   isolation du reseau : reseau non isole   volume de stockage : 1   veilleuse : non   alimentation : heure pleine   ',\n",
       " '5498071': 'ecs n 1   type d installation : sans ecs solaire   energie : reseau de chaleur urbain   type equipement : reseau de chaleur   contiguite des pieces : pieces non contigues   position de la production : en volume non chauffe   isolation du reseau : reseau non isole   volume de stockage : 1   veilleuse : non   alimentation : heure pleine   ',\n",
       " '5504424': 'ecs n 1   type d installation : sans ecs solaire   energie : reseau de chaleur urbain   type equipement : reseau de chaleur   contiguite des pieces : pieces non contigues   position de la production : en volume non chauffe   isolation du reseau : reseau non isole   volume de stockage : 1   veilleuse : non   alimentation : heure pleine   ',\n",
       " '5504430': 'ecs n 1   type d installation : sans ecs solaire   energie : reseau de chaleur urbain   type equipement : reseau de chaleur   contiguite des pieces : pieces non contigues   position de la production : en volume non chauffe   isolation du reseau : reseau non isole   volume de stockage : 1   veilleuse : non   alimentation : heure pleine   ',\n",
       " '5504433': 'ecs n 1   type d installation : sans ecs solaire   energie : reseau de chaleur urbain   type equipement : reseau de chaleur   contiguite des pieces : pieces non contigues   position de la production : en volume non chauffe   isolation du reseau : reseau non isole   volume de stockage : 1   veilleuse : non   alimentation : heure pleine   ',\n",
       " '5504440': 'ecs n 1   type d installation : sans ecs solaire   energie : reseau de chaleur urbain   type equipement : reseau de chaleur   contiguite des pieces : pieces non contigues   position de la production : en volume non chauffe   isolation du reseau : reseau non isole   volume de stockage : 1   veilleuse : non   alimentation : heure pleine   ',\n",
       " '5504586': 'ecs n 1   type d installation : sans ecs solaire   energie : reseau de chaleur urbain   type equipement : reseau de chaleur   contiguite des pieces : pieces non contigues   position de la production : en volume non chauffe   isolation du reseau : reseau non isole   volume de stockage : 1   veilleuse : non   alimentation : heure pleine   ',\n",
       " '5508604': 'ecs n 1   type d installation : sans ecs solaire   energie : reseau de chaleur urbain   type equipement : reseau de chaleur   contiguite des pieces : pieces non contigues   position de la production : en volume non chauffe   isolation du reseau : reseau non isole   volume de stockage : 1   veilleuse : non   alimentation : heure pleine   ',\n",
       " '5508606': 'ecs n 1   type d installation : sans ecs solaire   energie : reseau de chaleur urbain   type equipement : reseau de chaleur   contiguite des pieces : pieces non contigues   position de la production : en volume non chauffe   isolation du reseau : reseau non isole   volume de stockage : 1   veilleuse : non   alimentation : heure pleine   ',\n",
       " '5509442': 'ecs n 1   type d installation : sans ecs solaire   energie : reseau de chaleur urbain   type equipement : reseau de chaleur   contiguite des pieces : pieces non contigues   position de la production : en volume non chauffe   isolation du reseau : reseau non isole   volume de stockage : 1   veilleuse : non   alimentation : heure pleine   ',\n",
       " '5529427': 'ecs n 1   type d installation : sans ecs solaire   energie : reseau de chaleur urbain   type equipement : reseau de chaleur   contiguite des pieces : pieces non contigues   position de la production : en volume non chauffe   isolation du reseau : reseau non isole   volume de stockage : 1   veilleuse : non   alimentation : heure pleine   ',\n",
       " '5529430': 'ecs n 1   type d installation : sans ecs solaire   energie : reseau de chaleur urbain   type equipement : reseau de chaleur   contiguite des pieces : pieces non contigues   position de la production : en volume non chauffe   isolation du reseau : reseau non isole   volume de stockage : 1   veilleuse : non   alimentation : heure pleine   ',\n",
       " '5553422': 'ecs n 1   type d installation : sans ecs solaire   energie : reseau de chaleur urbain   type equipement : reseau de chaleur   contiguite des pieces : pieces non contigues   position de la production : en volume non chauffe   isolation du reseau : reseau non isole   volume de stockage : 1   veilleuse : non   alimentation : heure pleine   ',\n",
       " '5660704': 'ecs n 1   type d installation : sans ecs solaire   energie : reseau de chaleur urbain   type equipement : reseau de chaleur   contiguite des pieces : pieces non contigues   position de la production : en volume non chauffe   isolation du reseau : reseau non isole   volume de stockage : 100   veilleuse : non   alimentation : heure pleine   ',\n",
       " '6157279': 'ecs n 1   type d installation : sans ecs solaire   energie : reseau de chaleur urbain   type equipement : reseau de chaleur   contiguite des pieces : pieces non contigues   position de la production : en volume non chauffe   isolation du reseau : reseau isole   volume de stockage : 200   veilleuse : non   alimentation : heure pleine   ',\n",
       " '6322264': 'ecs n 1   type d installation : sans ecs solaire   energie : reseau de chaleur urbain   type equipement : reseau de chaleur   contiguite des pieces : pieces non contigues   position de la production : en volume chauffe   isolation du reseau : reseau non isole   volume de stockage : 1   veilleuse : non   alimentation : heure pleine   ',\n",
       " '6352705': 'ecs n 1   type d installation : sans ecs solaire   energie : bois   type equipement : reseau de chaleur   contiguite des pieces : pieces non contigues   position de la production : en volume chauffe   isolation du reseau : reseau isole   volume de stockage : 100   veilleuse : non   alimentation : heure pleine   ',\n",
       " '6600566': 'ecs n 1   type d installation : sans ecs solaire   energie : reseau de chaleur urbain   type equipement : reseau de chaleur   contiguite des pieces : pieces non contigues   position de la production : en volume non chauffe   isolation du reseau : reseau isole   volume de stockage : 600   veilleuse : non   alimentation : heure pleine   ',\n",
       " '6893855': 'ecs n 1   type d installation : sans ecs solaire   energie : reseau de chaleur urbain   type equipement : reseau de chaleur   contiguite des pieces : pieces non contigues   position de la production : en volume non chauffe   isolation du reseau : reseau isole   volume de stockage : 100   veilleuse : non   alimentation : heure pleine   ',\n",
       " '7288192': 'combine au systeme: pompe a chaleur air   air sur reseau de chaleur  systeme collectif)<br  ',\n",
       " '7311563': 'ecs n 1   type d installation : sans ecs solaire   energie : bois   type equipement : reseau de chaleur   contiguite des pieces : pieces non contigues   position de la production : en volume non chauffe   isolation du reseau : reseau non isole   volume de stockage : 100   veilleuse : non   alimentation : heure pleine   ',\n",
       " '7314319': 'ecs n 1   type d installation : sans ecs solaire   energie : bois   type equipement : reseau de chaleur   contiguite des pieces : pieces non contigues   position de la production : en volume non chauffe   isolation du reseau : reseau non isole   volume de stockage : 200   veilleuse : non   alimentation : heure pleine   ',\n",
       " '8375736': 'ecs n 1   type d installation : sans ecs solaire   energie : reseau de chaleur urbain   type equipement : reseau de chaleur   contiguite des pieces : pieces contigues   position de la production : en volume non chauffe   isolation du reseau : reseau non isole   volume de stockage : 1   veilleuse : non   alimentation : heure pleine   ',\n",
       " '8819765': 'ecs n 1   type d installation : sans ecs solaire   energie : reseau de chaleur urbain   type equipement : reseau de chaleur   contiguite des pieces : pieces contigues   position de la production : en volume non chauffe   isolation du reseau : reseau isole   volume de stockage : 100   veilleuse : non   alimentation : heure pleine   '}"
      ]
     },
     "execution_count": 567,
     "metadata": {},
     "output_type": "execute_result"
    }
   ],
   "source": [
    "sel=td005_ecs.loc[td005_ecs.td001_dpe_id.isin(dpe_list)].set_index('td001_dpe_id')\n",
    "\n",
    "sel.valeur_renseignee.to_dict()"
   ]
  },
  {
   "cell_type": "code",
   "execution_count": 568,
   "metadata": {},
   "outputs": [
    {
     "data": {
      "text/html": [
       "<div>\n",
       "<style scoped>\n",
       "    .dataframe tbody tr th:only-of-type {\n",
       "        vertical-align: middle;\n",
       "    }\n",
       "\n",
       "    .dataframe tbody tr th {\n",
       "        vertical-align: top;\n",
       "    }\n",
       "\n",
       "    .dataframe thead th {\n",
       "        text-align: right;\n",
       "    }\n",
       "</style>\n",
       "<table border=\"1\" class=\"dataframe\">\n",
       "  <thead>\n",
       "    <tr style=\"text-align: right;\">\n",
       "      <th></th>\n",
       "      <th>td001_dpe_id</th>\n",
       "      <th>tr002_type_batiment_id</th>\n",
       "      <th>gen_ch_lib_infer_concat</th>\n",
       "      <th>gen_ecs_lib_infer_concat</th>\n",
       "      <th>gen_ch_lib_final</th>\n",
       "      <th>is_ch_solaire_data</th>\n",
       "      <th>is_ch_solaire_txt</th>\n",
       "      <th>is_ch_solaire</th>\n",
       "      <th>type_installation_ch</th>\n",
       "      <th>type_energie_ch</th>\n",
       "      <th>...</th>\n",
       "      <th>is_ecs_solaire</th>\n",
       "      <th>type_installation_ecs</th>\n",
       "      <th>type_energie_ecs</th>\n",
       "      <th>gen_ch_lib_non_retraite</th>\n",
       "      <th>gen_ecs_lib_non_retraite</th>\n",
       "      <th>td002_type_energie_ch</th>\n",
       "      <th>td002_type_energie_ecs</th>\n",
       "      <th>td016_type_energie_ch</th>\n",
       "      <th>td016_type_energie_ecs</th>\n",
       "      <th>concat</th>\n",
       "    </tr>\n",
       "  </thead>\n",
       "  <tbody>\n",
       "    <tr>\n",
       "      <th>1691</th>\n",
       "      <td>103575</td>\n",
       "      <td>2</td>\n",
       "      <td>reseau de chaleur</td>\n",
       "      <td>ecs thermodynamique electrique(pac ou ballon)</td>\n",
       "      <td>reseau de chaleur</td>\n",
       "      <td>False</td>\n",
       "      <td>NaN</td>\n",
       "      <td>False</td>\n",
       "      <td>individuel</td>\n",
       "      <td>reseau de chaleur</td>\n",
       "      <td>...</td>\n",
       "      <td>False</td>\n",
       "      <td>collectif</td>\n",
       "      <td>reseau de chaleur</td>\n",
       "      <td>reseau de chaleur</td>\n",
       "      <td>ecs thermodynamique electrique(pac ou ballon) ...</td>\n",
       "      <td>reseau de chaleur</td>\n",
       "      <td>reseau de chaleur</td>\n",
       "      <td>reseau de chaleur</td>\n",
       "      <td>reseau de chaleur</td>\n",
       "      <td>reseau de chaleur////ecs thermodynamique elect...</td>\n",
       "    </tr>\n",
       "    <tr>\n",
       "      <th>8456</th>\n",
       "      <td>480207</td>\n",
       "      <td>2</td>\n",
       "      <td>reseau de chaleur</td>\n",
       "      <td>ecs thermodynamique electrique(pac ou ballon)</td>\n",
       "      <td>reseau de chaleur</td>\n",
       "      <td>False</td>\n",
       "      <td>NaN</td>\n",
       "      <td>False</td>\n",
       "      <td>individuel</td>\n",
       "      <td>reseau de chaleur</td>\n",
       "      <td>...</td>\n",
       "      <td>False</td>\n",
       "      <td>collectif</td>\n",
       "      <td>reseau de chaleur</td>\n",
       "      <td>reseau de chaleur</td>\n",
       "      <td>ecs thermodynamique electrique(pac ou ballon) ...</td>\n",
       "      <td>reseau de chaleur</td>\n",
       "      <td>reseau de chaleur</td>\n",
       "      <td>reseau de chaleur</td>\n",
       "      <td>reseau de chaleur</td>\n",
       "      <td>reseau de chaleur////ecs thermodynamique elect...</td>\n",
       "    </tr>\n",
       "    <tr>\n",
       "      <th>15714</th>\n",
       "      <td>885202</td>\n",
       "      <td>2</td>\n",
       "      <td>reseau de chaleur</td>\n",
       "      <td>ecs thermodynamique electrique(pac ou ballon)</td>\n",
       "      <td>reseau de chaleur + plafonds/planchers rayonna...</td>\n",
       "      <td>False</td>\n",
       "      <td>NaN</td>\n",
       "      <td>False</td>\n",
       "      <td>individuel</td>\n",
       "      <td>reseau de chaleur</td>\n",
       "      <td>...</td>\n",
       "      <td>False</td>\n",
       "      <td>collectif</td>\n",
       "      <td>reseau de chaleur</td>\n",
       "      <td>plafonds/planchers rayonnants electriques nfc ...</td>\n",
       "      <td>ecs thermodynamique electrique(pac ou ballon) ...</td>\n",
       "      <td>reseau de chaleur</td>\n",
       "      <td>reseau de chaleur</td>\n",
       "      <td>reseau de chaleur</td>\n",
       "      <td>reseau de chaleur</td>\n",
       "      <td>plafonds/planchers rayonnants electriques nfc ...</td>\n",
       "    </tr>\n",
       "    <tr>\n",
       "      <th>24434</th>\n",
       "      <td>1382671</td>\n",
       "      <td>2</td>\n",
       "      <td>reseau de chaleur</td>\n",
       "      <td>ecs thermodynamique electrique(pac ou ballon)</td>\n",
       "      <td>reseau de chaleur</td>\n",
       "      <td>False</td>\n",
       "      <td>NaN</td>\n",
       "      <td>False</td>\n",
       "      <td>individuel</td>\n",
       "      <td>reseau de chaleur</td>\n",
       "      <td>...</td>\n",
       "      <td>False</td>\n",
       "      <td>collectif</td>\n",
       "      <td>reseau de chaleur</td>\n",
       "      <td>reseau de chaleur</td>\n",
       "      <td>ecs thermodynamique electrique(pac ou ballon) ...</td>\n",
       "      <td>reseau de chaleur</td>\n",
       "      <td>NaN</td>\n",
       "      <td>reseau de chaleur</td>\n",
       "      <td>NaN</td>\n",
       "      <td>reseau de chaleur////ecs thermodynamique elect...</td>\n",
       "    </tr>\n",
       "    <tr>\n",
       "      <th>42744</th>\n",
       "      <td>2326297</td>\n",
       "      <td>2</td>\n",
       "      <td>reseau de chaleur</td>\n",
       "      <td>ecs thermodynamique electrique(pac ou ballon)</td>\n",
       "      <td>reseau de chaleur</td>\n",
       "      <td>False</td>\n",
       "      <td>NaN</td>\n",
       "      <td>False</td>\n",
       "      <td>individuel</td>\n",
       "      <td>reseau de chaleur</td>\n",
       "      <td>...</td>\n",
       "      <td>False</td>\n",
       "      <td>collectif</td>\n",
       "      <td>reseau de chaleur</td>\n",
       "      <td>reseau de chaleur</td>\n",
       "      <td>ecs thermodynamique electrique(pac ou ballon) ...</td>\n",
       "      <td>reseau de chaleur</td>\n",
       "      <td>reseau de chaleur</td>\n",
       "      <td>reseau de chaleur</td>\n",
       "      <td>reseau de chaleur</td>\n",
       "      <td>reseau de chaleur////ecs thermodynamique elect...</td>\n",
       "    </tr>\n",
       "    <tr>\n",
       "      <th>...</th>\n",
       "      <td>...</td>\n",
       "      <td>...</td>\n",
       "      <td>...</td>\n",
       "      <td>...</td>\n",
       "      <td>...</td>\n",
       "      <td>...</td>\n",
       "      <td>...</td>\n",
       "      <td>...</td>\n",
       "      <td>...</td>\n",
       "      <td>...</td>\n",
       "      <td>...</td>\n",
       "      <td>...</td>\n",
       "      <td>...</td>\n",
       "      <td>...</td>\n",
       "      <td>...</td>\n",
       "      <td>...</td>\n",
       "      <td>...</td>\n",
       "      <td>...</td>\n",
       "      <td>...</td>\n",
       "      <td>...</td>\n",
       "      <td>...</td>\n",
       "    </tr>\n",
       "    <tr>\n",
       "      <th>129464</th>\n",
       "      <td>7288192</td>\n",
       "      <td>2</td>\n",
       "      <td>NaN</td>\n",
       "      <td>NaN</td>\n",
       "      <td>pac air/air + reseau de chaleur</td>\n",
       "      <td>NaN</td>\n",
       "      <td>NaN</td>\n",
       "      <td>False</td>\n",
       "      <td>collectif</td>\n",
       "      <td>NaN</td>\n",
       "      <td>...</td>\n",
       "      <td>False</td>\n",
       "      <td>collectif</td>\n",
       "      <td>NaN</td>\n",
       "      <td>pac air/air + reseau de chaleur</td>\n",
       "      <td>ecs thermodynamique electrique(pac ou ballon) ...</td>\n",
       "      <td>autre</td>\n",
       "      <td>NaN</td>\n",
       "      <td>NaN</td>\n",
       "      <td>NaN</td>\n",
       "      <td>pac air/air + reseau de chaleur////ecs thermod...</td>\n",
       "    </tr>\n",
       "    <tr>\n",
       "      <th>129833</th>\n",
       "      <td>7311563</td>\n",
       "      <td>3</td>\n",
       "      <td>chaudiere bois</td>\n",
       "      <td>ecs thermodynamique electrique(pac ou ballon)</td>\n",
       "      <td>chaudiere bois</td>\n",
       "      <td>False</td>\n",
       "      <td>NaN</td>\n",
       "      <td>False</td>\n",
       "      <td>individuel</td>\n",
       "      <td>bois</td>\n",
       "      <td>...</td>\n",
       "      <td>False</td>\n",
       "      <td>individuel</td>\n",
       "      <td>bois</td>\n",
       "      <td>chaudiere bois + chaudiere energie indetermine...</td>\n",
       "      <td>ecs thermodynamique electrique(pac ou ballon) ...</td>\n",
       "      <td>bois</td>\n",
       "      <td>bois</td>\n",
       "      <td>bois</td>\n",
       "      <td>bois</td>\n",
       "      <td>chaudiere bois////ecs thermodynamique electriq...</td>\n",
       "    </tr>\n",
       "    <tr>\n",
       "      <th>129886</th>\n",
       "      <td>7314319</td>\n",
       "      <td>2</td>\n",
       "      <td>chaudiere bois</td>\n",
       "      <td>ecs thermodynamique electrique(pac ou ballon)</td>\n",
       "      <td>chaudiere bois</td>\n",
       "      <td>False</td>\n",
       "      <td>NaN</td>\n",
       "      <td>False</td>\n",
       "      <td>individuel</td>\n",
       "      <td>bois</td>\n",
       "      <td>...</td>\n",
       "      <td>False</td>\n",
       "      <td>collectif</td>\n",
       "      <td>bois</td>\n",
       "      <td>chaudiere bois + chaudiere energie indetermine...</td>\n",
       "      <td>ecs thermodynamique electrique(pac ou ballon) ...</td>\n",
       "      <td>bois</td>\n",
       "      <td>bois</td>\n",
       "      <td>bois</td>\n",
       "      <td>bois</td>\n",
       "      <td>chaudiere bois////ecs thermodynamique electriq...</td>\n",
       "    </tr>\n",
       "    <tr>\n",
       "      <th>148368</th>\n",
       "      <td>8375736</td>\n",
       "      <td>2</td>\n",
       "      <td>reseau de chaleur</td>\n",
       "      <td>ecs thermodynamique electrique(pac ou ballon)</td>\n",
       "      <td>reseau de chaleur + plafonds/planchers rayonna...</td>\n",
       "      <td>False</td>\n",
       "      <td>NaN</td>\n",
       "      <td>False</td>\n",
       "      <td>individuel</td>\n",
       "      <td>reseau de chaleur</td>\n",
       "      <td>...</td>\n",
       "      <td>False</td>\n",
       "      <td>collectif</td>\n",
       "      <td>reseau de chaleur</td>\n",
       "      <td>plafonds/planchers rayonnants electriques nfc ...</td>\n",
       "      <td>ecs thermodynamique electrique(pac ou ballon) ...</td>\n",
       "      <td>reseau de chaleur</td>\n",
       "      <td>reseau de chaleur</td>\n",
       "      <td>reseau de chaleur</td>\n",
       "      <td>reseau de chaleur</td>\n",
       "      <td>plafonds/planchers rayonnants electriques nfc ...</td>\n",
       "    </tr>\n",
       "    <tr>\n",
       "      <th>156474</th>\n",
       "      <td>8819765</td>\n",
       "      <td>2</td>\n",
       "      <td>reseau de chaleur</td>\n",
       "      <td>ecs thermodynamique electrique(pac ou ballon)</td>\n",
       "      <td>reseau de chaleur</td>\n",
       "      <td>False</td>\n",
       "      <td>NaN</td>\n",
       "      <td>False</td>\n",
       "      <td>individuel</td>\n",
       "      <td>reseau de chaleur</td>\n",
       "      <td>...</td>\n",
       "      <td>False</td>\n",
       "      <td>collectif</td>\n",
       "      <td>reseau de chaleur</td>\n",
       "      <td>reseau de chaleur</td>\n",
       "      <td>ecs thermodynamique electrique(pac ou ballon) ...</td>\n",
       "      <td>reseau de chaleur</td>\n",
       "      <td>reseau de chaleur</td>\n",
       "      <td>reseau de chaleur</td>\n",
       "      <td>reseau de chaleur</td>\n",
       "      <td>reseau de chaleur////ecs thermodynamique elect...</td>\n",
       "    </tr>\n",
       "  </tbody>\n",
       "</table>\n",
       "<p>490 rows × 25 columns</p>\n",
       "</div>"
      ],
      "text/plain": [
       "       td001_dpe_id tr002_type_batiment_id gen_ch_lib_infer_concat  \\\n",
       "1691         103575                      2       reseau de chaleur   \n",
       "8456         480207                      2       reseau de chaleur   \n",
       "15714        885202                      2       reseau de chaleur   \n",
       "24434       1382671                      2       reseau de chaleur   \n",
       "42744       2326297                      2       reseau de chaleur   \n",
       "...             ...                    ...                     ...   \n",
       "129464      7288192                      2                     NaN   \n",
       "129833      7311563                      3          chaudiere bois   \n",
       "129886      7314319                      2          chaudiere bois   \n",
       "148368      8375736                      2       reseau de chaleur   \n",
       "156474      8819765                      2       reseau de chaleur   \n",
       "\n",
       "                             gen_ecs_lib_infer_concat  \\\n",
       "1691    ecs thermodynamique electrique(pac ou ballon)   \n",
       "8456    ecs thermodynamique electrique(pac ou ballon)   \n",
       "15714   ecs thermodynamique electrique(pac ou ballon)   \n",
       "24434   ecs thermodynamique electrique(pac ou ballon)   \n",
       "42744   ecs thermodynamique electrique(pac ou ballon)   \n",
       "...                                               ...   \n",
       "129464                                            NaN   \n",
       "129833  ecs thermodynamique electrique(pac ou ballon)   \n",
       "129886  ecs thermodynamique electrique(pac ou ballon)   \n",
       "148368  ecs thermodynamique electrique(pac ou ballon)   \n",
       "156474  ecs thermodynamique electrique(pac ou ballon)   \n",
       "\n",
       "                                         gen_ch_lib_final is_ch_solaire_data  \\\n",
       "1691                                    reseau de chaleur              False   \n",
       "8456                                    reseau de chaleur              False   \n",
       "15714   reseau de chaleur + plafonds/planchers rayonna...              False   \n",
       "24434                                   reseau de chaleur              False   \n",
       "42744                                   reseau de chaleur              False   \n",
       "...                                                   ...                ...   \n",
       "129464                    pac air/air + reseau de chaleur                NaN   \n",
       "129833                                     chaudiere bois              False   \n",
       "129886                                     chaudiere bois              False   \n",
       "148368  reseau de chaleur + plafonds/planchers rayonna...              False   \n",
       "156474                                  reseau de chaleur              False   \n",
       "\n",
       "       is_ch_solaire_txt  is_ch_solaire type_installation_ch  \\\n",
       "1691                 NaN          False           individuel   \n",
       "8456                 NaN          False           individuel   \n",
       "15714                NaN          False           individuel   \n",
       "24434                NaN          False           individuel   \n",
       "42744                NaN          False           individuel   \n",
       "...                  ...            ...                  ...   \n",
       "129464               NaN          False            collectif   \n",
       "129833               NaN          False           individuel   \n",
       "129886               NaN          False           individuel   \n",
       "148368               NaN          False           individuel   \n",
       "156474               NaN          False           individuel   \n",
       "\n",
       "          type_energie_ch  ... is_ecs_solaire type_installation_ecs  \\\n",
       "1691    reseau de chaleur  ...          False             collectif   \n",
       "8456    reseau de chaleur  ...          False             collectif   \n",
       "15714   reseau de chaleur  ...          False             collectif   \n",
       "24434   reseau de chaleur  ...          False             collectif   \n",
       "42744   reseau de chaleur  ...          False             collectif   \n",
       "...                   ...  ...            ...                   ...   \n",
       "129464                NaN  ...          False             collectif   \n",
       "129833               bois  ...          False            individuel   \n",
       "129886               bois  ...          False             collectif   \n",
       "148368  reseau de chaleur  ...          False             collectif   \n",
       "156474  reseau de chaleur  ...          False             collectif   \n",
       "\n",
       "         type_energie_ecs                            gen_ch_lib_non_retraite  \\\n",
       "1691    reseau de chaleur                                  reseau de chaleur   \n",
       "8456    reseau de chaleur                                  reseau de chaleur   \n",
       "15714   reseau de chaleur  plafonds/planchers rayonnants electriques nfc ...   \n",
       "24434   reseau de chaleur                                  reseau de chaleur   \n",
       "42744   reseau de chaleur                                  reseau de chaleur   \n",
       "...                   ...                                                ...   \n",
       "129464                NaN                    pac air/air + reseau de chaleur   \n",
       "129833               bois  chaudiere bois + chaudiere energie indetermine...   \n",
       "129886               bois  chaudiere bois + chaudiere energie indetermine...   \n",
       "148368  reseau de chaleur  plafonds/planchers rayonnants electriques nfc ...   \n",
       "156474  reseau de chaleur                                  reseau de chaleur   \n",
       "\n",
       "                                 gen_ecs_lib_non_retraite  \\\n",
       "1691    ecs thermodynamique electrique(pac ou ballon) ...   \n",
       "8456    ecs thermodynamique electrique(pac ou ballon) ...   \n",
       "15714   ecs thermodynamique electrique(pac ou ballon) ...   \n",
       "24434   ecs thermodynamique electrique(pac ou ballon) ...   \n",
       "42744   ecs thermodynamique electrique(pac ou ballon) ...   \n",
       "...                                                   ...   \n",
       "129464  ecs thermodynamique electrique(pac ou ballon) ...   \n",
       "129833  ecs thermodynamique electrique(pac ou ballon) ...   \n",
       "129886  ecs thermodynamique electrique(pac ou ballon) ...   \n",
       "148368  ecs thermodynamique electrique(pac ou ballon) ...   \n",
       "156474  ecs thermodynamique electrique(pac ou ballon) ...   \n",
       "\n",
       "        td002_type_energie_ch td002_type_energie_ecs td016_type_energie_ch  \\\n",
       "1691        reseau de chaleur      reseau de chaleur     reseau de chaleur   \n",
       "8456        reseau de chaleur      reseau de chaleur     reseau de chaleur   \n",
       "15714       reseau de chaleur      reseau de chaleur     reseau de chaleur   \n",
       "24434       reseau de chaleur                    NaN     reseau de chaleur   \n",
       "42744       reseau de chaleur      reseau de chaleur     reseau de chaleur   \n",
       "...                       ...                    ...                   ...   \n",
       "129464                  autre                    NaN                   NaN   \n",
       "129833                   bois                   bois                  bois   \n",
       "129886                   bois                   bois                  bois   \n",
       "148368      reseau de chaleur      reseau de chaleur     reseau de chaleur   \n",
       "156474      reseau de chaleur      reseau de chaleur     reseau de chaleur   \n",
       "\n",
       "       td016_type_energie_ecs  \\\n",
       "1691        reseau de chaleur   \n",
       "8456        reseau de chaleur   \n",
       "15714       reseau de chaleur   \n",
       "24434                     NaN   \n",
       "42744       reseau de chaleur   \n",
       "...                       ...   \n",
       "129464                    NaN   \n",
       "129833                   bois   \n",
       "129886                   bois   \n",
       "148368      reseau de chaleur   \n",
       "156474      reseau de chaleur   \n",
       "\n",
       "                                                   concat  \n",
       "1691    reseau de chaleur////ecs thermodynamique elect...  \n",
       "8456    reseau de chaleur////ecs thermodynamique elect...  \n",
       "15714   plafonds/planchers rayonnants electriques nfc ...  \n",
       "24434   reseau de chaleur////ecs thermodynamique elect...  \n",
       "42744   reseau de chaleur////ecs thermodynamique elect...  \n",
       "...                                                   ...  \n",
       "129464  pac air/air + reseau de chaleur////ecs thermod...  \n",
       "129833  chaudiere bois////ecs thermodynamique electriq...  \n",
       "129886  chaudiere bois////ecs thermodynamique electriq...  \n",
       "148368  plafonds/planchers rayonnants electriques nfc ...  \n",
       "156474  reseau de chaleur////ecs thermodynamique elect...  \n",
       "\n",
       "[490 rows x 25 columns]"
      ]
     },
     "execution_count": 568,
     "metadata": {},
     "output_type": "execute_result"
    }
   ],
   "source": [
    "td001_sys.loc[td001_sys.td001_dpe_id.isin(dpe_list)]"
   ]
  },
  {
   "cell_type": "markdown",
   "metadata": {},
   "source": [
    "# debug ind\n"
   ]
  },
  {
   "cell_type": "code",
   "execution_count": 1146,
   "metadata": {},
   "outputs": [
    {
     "data": {
      "text/html": [
       "<div>\n",
       "<style scoped>\n",
       "    .dataframe tbody tr th:only-of-type {\n",
       "        vertical-align: middle;\n",
       "    }\n",
       "\n",
       "    .dataframe tbody tr th {\n",
       "        vertical-align: top;\n",
       "    }\n",
       "\n",
       "    .dataframe thead th {\n",
       "        text-align: right;\n",
       "    }\n",
       "</style>\n",
       "<table border=\"1\" class=\"dataframe\">\n",
       "  <thead>\n",
       "    <tr style=\"text-align: right;\">\n",
       "      <th></th>\n",
       "      <th>gen_ch_lib_final</th>\n",
       "      <th>gen_ecs_lib_final</th>\n",
       "    </tr>\n",
       "  </thead>\n",
       "  <tbody>\n",
       "    <tr>\n",
       "      <th>42</th>\n",
       "      <td>chaudiere gaz standard</td>\n",
       "      <td>chaudiere bois</td>\n",
       "    </tr>\n",
       "  </tbody>\n",
       "</table>\n",
       "</div>"
      ],
      "text/plain": [
       "          gen_ch_lib_final gen_ecs_lib_final\n",
       "42  chaudiere gaz standard    chaudiere bois"
      ]
     },
     "execution_count": 1146,
     "metadata": {},
     "output_type": "execute_result"
    }
   ],
   "source": [
    "td001_sys.loc[td001_sys.td001_dpe_id==\"4728\"][['gen_ch_lib_final','gen_ecs_lib_final']]"
   ]
  },
  {
   "cell_type": "code",
   "execution_count": null,
   "metadata": {},
   "outputs": [],
   "source": [
    "gen_ch_lib.loc[gen_ch_lib.td001_dpe_id.isin(dpe_list)]"
   ]
  },
  {
   "cell_type": "code",
   "execution_count": 1143,
   "metadata": {},
   "outputs": [
    {
     "data": {
      "text/html": [
       "<div>\n",
       "<style scoped>\n",
       "    .dataframe tbody tr th:only-of-type {\n",
       "        vertical-align: middle;\n",
       "    }\n",
       "\n",
       "    .dataframe tbody tr th {\n",
       "        vertical-align: top;\n",
       "    }\n",
       "\n",
       "    .dataframe thead th {\n",
       "        text-align: right;\n",
       "    }\n",
       "</style>\n",
       "<table border=\"1\" class=\"dataframe\">\n",
       "  <thead>\n",
       "    <tr style=\"text-align: right;\">\n",
       "      <th></th>\n",
       "      <th>gen_ecs_lib_final</th>\n",
       "    </tr>\n",
       "    <tr>\n",
       "      <th>td001_dpe_id</th>\n",
       "      <th></th>\n",
       "    </tr>\n",
       "  </thead>\n",
       "  <tbody>\n",
       "    <tr>\n",
       "      <th>1000252</th>\n",
       "      <td>chaudiere gaz standard</td>\n",
       "    </tr>\n",
       "    <tr>\n",
       "      <th>1000635</th>\n",
       "      <td>chaudiere fioul indetermine</td>\n",
       "    </tr>\n",
       "    <tr>\n",
       "      <th>100076</th>\n",
       "      <td>chaudiere energie indetermine standard</td>\n",
       "    </tr>\n",
       "    <tr>\n",
       "      <th>1000917</th>\n",
       "      <td>ecs thermodynamique electrique(pac ou ballon)</td>\n",
       "    </tr>\n",
       "    <tr>\n",
       "      <th>100094</th>\n",
       "      <td>chaudiere bois + chaudiere gaz indetermine</td>\n",
       "    </tr>\n",
       "    <tr>\n",
       "      <th>...</th>\n",
       "      <td>...</td>\n",
       "    </tr>\n",
       "    <tr>\n",
       "      <th>998811</th>\n",
       "      <td>chaudiere gaz condensation</td>\n",
       "    </tr>\n",
       "    <tr>\n",
       "      <th>998869</th>\n",
       "      <td>chaudiere energie indetermine indetermine</td>\n",
       "    </tr>\n",
       "    <tr>\n",
       "      <th>999090</th>\n",
       "      <td>chaudiere energie indetermine indetermine</td>\n",
       "    </tr>\n",
       "    <tr>\n",
       "      <th>99953</th>\n",
       "      <td>chaudiere energie indetermine indetermine</td>\n",
       "    </tr>\n",
       "    <tr>\n",
       "      <th>999710</th>\n",
       "      <td>chaudiere gaz indetermine</td>\n",
       "    </tr>\n",
       "  </tbody>\n",
       "</table>\n",
       "<p>75234 rows × 1 columns</p>\n",
       "</div>"
      ],
      "text/plain": [
       "                                          gen_ecs_lib_final\n",
       "td001_dpe_id                                               \n",
       "1000252                              chaudiere gaz standard\n",
       "1000635                         chaudiere fioul indetermine\n",
       "100076               chaudiere energie indetermine standard\n",
       "1000917       ecs thermodynamique electrique(pac ou ballon)\n",
       "100094           chaudiere bois + chaudiere gaz indetermine\n",
       "...                                                     ...\n",
       "998811                           chaudiere gaz condensation\n",
       "998869            chaudiere energie indetermine indetermine\n",
       "999090            chaudiere energie indetermine indetermine\n",
       "99953             chaudiere energie indetermine indetermine\n",
       "999710                            chaudiere gaz indetermine\n",
       "\n",
       "[75234 rows x 1 columns]"
      ]
     },
     "execution_count": 1143,
     "metadata": {},
     "output_type": "execute_result"
    }
   ],
   "source": [
    "gen_ecs_lib_princ"
   ]
  },
  {
   "cell_type": "code",
   "execution_count": 1169,
   "metadata": {},
   "outputs": [
    {
     "data": {
      "text/plain": [
       "gen_ecs_lib_final    chaudiere energie indetermine condensation\n",
       "Name: 13978, dtype: object"
      ]
     },
     "execution_count": 1169,
     "metadata": {},
     "output_type": "execute_result"
    }
   ],
   "source": [
    "gen_ecs_lib_princ.loc['13978']"
   ]
  },
  {
   "cell_type": "code",
   "execution_count": 1170,
   "metadata": {},
   "outputs": [
    {
     "data": {
      "text/html": [
       "<div>\n",
       "<style scoped>\n",
       "    .dataframe tbody tr th:only-of-type {\n",
       "        vertical-align: middle;\n",
       "    }\n",
       "\n",
       "    .dataframe tbody tr th {\n",
       "        vertical-align: top;\n",
       "    }\n",
       "\n",
       "    .dataframe thead th {\n",
       "        text-align: right;\n",
       "    }\n",
       "</style>\n",
       "<table border=\"1\" class=\"dataframe\">\n",
       "  <thead>\n",
       "    <tr style=\"text-align: right;\">\n",
       "      <th></th>\n",
       "      <th>td001_dpe_id</th>\n",
       "      <th>label</th>\n",
       "      <th>category</th>\n",
       "      <th>source</th>\n",
       "      <th>chaudiere_ener_ind</th>\n",
       "      <th>chaudiere_ind</th>\n",
       "      <th>priorite</th>\n",
       "    </tr>\n",
       "  </thead>\n",
       "  <tbody>\n",
       "    <tr>\n",
       "      <th>242174</th>\n",
       "      <td>4728</td>\n",
       "      <td>chaudiere gaz indetermine</td>\n",
       "      <td>chaudiere</td>\n",
       "      <td>txt</td>\n",
       "      <td>False</td>\n",
       "      <td>True</td>\n",
       "      <td>principal</td>\n",
       "    </tr>\n",
       "    <tr>\n",
       "      <th>242175</th>\n",
       "      <td>4728</td>\n",
       "      <td>chaudiere bois</td>\n",
       "      <td>chaudiere bois</td>\n",
       "      <td>txt</td>\n",
       "      <td>False</td>\n",
       "      <td>False</td>\n",
       "      <td>principal</td>\n",
       "    </tr>\n",
       "    <tr>\n",
       "      <th>242177</th>\n",
       "      <td>4728</td>\n",
       "      <td>ecs fioul indetermine</td>\n",
       "      <td>ecs fioul indetermine</td>\n",
       "      <td>txt</td>\n",
       "      <td>False</td>\n",
       "      <td>False</td>\n",
       "      <td>defaut</td>\n",
       "    </tr>\n",
       "  </tbody>\n",
       "</table>\n",
       "</div>"
      ],
      "text/plain": [
       "       td001_dpe_id                      label               category source  \\\n",
       "242174         4728  chaudiere gaz indetermine              chaudiere    txt   \n",
       "242175         4728             chaudiere bois         chaudiere bois    txt   \n",
       "242177         4728      ecs fioul indetermine  ecs fioul indetermine    txt   \n",
       "\n",
       "        chaudiere_ener_ind  chaudiere_ind   priorite  \n",
       "242174               False           True  principal  \n",
       "242175               False          False  principal  \n",
       "242177               False          False     defaut  "
      ]
     },
     "execution_count": 1170,
     "metadata": {},
     "output_type": "execute_result"
    }
   ],
   "source": [
    "gen_ecs_lib.loc[gen_ecs_lib.td001_dpe_id=='4728']"
   ]
  },
  {
   "cell_type": "code",
   "execution_count": 1171,
   "metadata": {},
   "outputs": [
    {
     "data": {
      "text/html": [
       "<div>\n",
       "<style scoped>\n",
       "    .dataframe tbody tr th:only-of-type {\n",
       "        vertical-align: middle;\n",
       "    }\n",
       "\n",
       "    .dataframe tbody tr th {\n",
       "        vertical-align: top;\n",
       "    }\n",
       "\n",
       "    .dataframe thead th {\n",
       "        text-align: right;\n",
       "    }\n",
       "</style>\n",
       "<table border=\"1\" class=\"dataframe\">\n",
       "  <thead>\n",
       "    <tr style=\"text-align: right;\">\n",
       "      <th></th>\n",
       "      <th>td001_dpe_id</th>\n",
       "      <th>label</th>\n",
       "      <th>category</th>\n",
       "      <th>source</th>\n",
       "      <th>chaudiere_ener_ind</th>\n",
       "      <th>chaudiere_ind</th>\n",
       "      <th>priorite</th>\n",
       "    </tr>\n",
       "  </thead>\n",
       "  <tbody>\n",
       "    <tr>\n",
       "      <th>0</th>\n",
       "      <td>291</td>\n",
       "      <td>ballon a accumulation electrique</td>\n",
       "      <td>effet joule</td>\n",
       "      <td>data</td>\n",
       "      <td>False</td>\n",
       "      <td>False</td>\n",
       "      <td>secondaire</td>\n",
       "    </tr>\n",
       "    <tr>\n",
       "      <th>1</th>\n",
       "      <td>493</td>\n",
       "      <td>ballon a accumulation electrique</td>\n",
       "      <td>effet joule</td>\n",
       "      <td>data</td>\n",
       "      <td>False</td>\n",
       "      <td>False</td>\n",
       "      <td>secondaire</td>\n",
       "    </tr>\n",
       "    <tr>\n",
       "      <th>2</th>\n",
       "      <td>708</td>\n",
       "      <td>ballon a accumulation electrique</td>\n",
       "      <td>effet joule</td>\n",
       "      <td>data</td>\n",
       "      <td>False</td>\n",
       "      <td>False</td>\n",
       "      <td>secondaire</td>\n",
       "    </tr>\n",
       "    <tr>\n",
       "      <th>3</th>\n",
       "      <td>1466</td>\n",
       "      <td>chaudiere fioul indetermine</td>\n",
       "      <td>chaudiere</td>\n",
       "      <td>data</td>\n",
       "      <td>False</td>\n",
       "      <td>True</td>\n",
       "      <td>principal</td>\n",
       "    </tr>\n",
       "    <tr>\n",
       "      <th>4</th>\n",
       "      <td>1708</td>\n",
       "      <td>ballon a accumulation electrique</td>\n",
       "      <td>effet joule</td>\n",
       "      <td>data</td>\n",
       "      <td>False</td>\n",
       "      <td>False</td>\n",
       "      <td>secondaire</td>\n",
       "    </tr>\n",
       "    <tr>\n",
       "      <th>...</th>\n",
       "      <td>...</td>\n",
       "      <td>...</td>\n",
       "      <td>...</td>\n",
       "      <td>...</td>\n",
       "      <td>...</td>\n",
       "      <td>...</td>\n",
       "      <td>...</td>\n",
       "    </tr>\n",
       "    <tr>\n",
       "      <th>434915</th>\n",
       "      <td>99972</td>\n",
       "      <td>ballon a accumulation electrique</td>\n",
       "      <td>effet joule</td>\n",
       "      <td>txt</td>\n",
       "      <td>False</td>\n",
       "      <td>False</td>\n",
       "      <td>secondaire</td>\n",
       "    </tr>\n",
       "    <tr>\n",
       "      <th>434916</th>\n",
       "      <td>999768</td>\n",
       "      <td>chauffe-eau independant indetermine</td>\n",
       "      <td>chauffe-eau_independant</td>\n",
       "      <td>txt</td>\n",
       "      <td>False</td>\n",
       "      <td>False</td>\n",
       "      <td>defaut</td>\n",
       "    </tr>\n",
       "    <tr>\n",
       "      <th>434917</th>\n",
       "      <td>999768</td>\n",
       "      <td>ballon a accumulation electrique</td>\n",
       "      <td>effet joule</td>\n",
       "      <td>txt</td>\n",
       "      <td>False</td>\n",
       "      <td>False</td>\n",
       "      <td>secondaire</td>\n",
       "    </tr>\n",
       "    <tr>\n",
       "      <th>434918</th>\n",
       "      <td>999890</td>\n",
       "      <td>chauffe-eau independant indetermine</td>\n",
       "      <td>chauffe-eau_independant</td>\n",
       "      <td>txt</td>\n",
       "      <td>False</td>\n",
       "      <td>False</td>\n",
       "      <td>defaut</td>\n",
       "    </tr>\n",
       "    <tr>\n",
       "      <th>434919</th>\n",
       "      <td>999890</td>\n",
       "      <td>ballon a accumulation electrique</td>\n",
       "      <td>effet joule</td>\n",
       "      <td>txt</td>\n",
       "      <td>False</td>\n",
       "      <td>False</td>\n",
       "      <td>secondaire</td>\n",
       "    </tr>\n",
       "  </tbody>\n",
       "</table>\n",
       "<p>432051 rows × 7 columns</p>\n",
       "</div>"
      ],
      "text/plain": [
       "       td001_dpe_id                                label  \\\n",
       "0               291     ballon a accumulation electrique   \n",
       "1               493     ballon a accumulation electrique   \n",
       "2               708     ballon a accumulation electrique   \n",
       "3              1466          chaudiere fioul indetermine   \n",
       "4              1708     ballon a accumulation electrique   \n",
       "...             ...                                  ...   \n",
       "434915        99972     ballon a accumulation electrique   \n",
       "434916       999768  chauffe-eau independant indetermine   \n",
       "434917       999768     ballon a accumulation electrique   \n",
       "434918       999890  chauffe-eau independant indetermine   \n",
       "434919       999890     ballon a accumulation electrique   \n",
       "\n",
       "                       category source  chaudiere_ener_ind  chaudiere_ind  \\\n",
       "0                   effet joule   data               False          False   \n",
       "1                   effet joule   data               False          False   \n",
       "2                   effet joule   data               False          False   \n",
       "3                     chaudiere   data               False           True   \n",
       "4                   effet joule   data               False          False   \n",
       "...                         ...    ...                 ...            ...   \n",
       "434915              effet joule    txt               False          False   \n",
       "434916  chauffe-eau_independant    txt               False          False   \n",
       "434917              effet joule    txt               False          False   \n",
       "434918  chauffe-eau_independant    txt               False          False   \n",
       "434919              effet joule    txt               False          False   \n",
       "\n",
       "          priorite  \n",
       "0       secondaire  \n",
       "1       secondaire  \n",
       "2       secondaire  \n",
       "3        principal  \n",
       "4       secondaire  \n",
       "...            ...  \n",
       "434915  secondaire  \n",
       "434916      defaut  \n",
       "434917  secondaire  \n",
       "434918      defaut  \n",
       "434919  secondaire  \n",
       "\n",
       "[432051 rows x 7 columns]"
      ]
     },
     "execution_count": 1171,
     "metadata": {},
     "output_type": "execute_result"
    }
   ],
   "source": [
    "gen_ecs_lib"
   ]
  },
  {
   "cell_type": "code",
   "execution_count": 1172,
   "metadata": {},
   "outputs": [],
   "source": [
    "id_=\"4728\""
   ]
  },
  {
   "cell_type": "code",
   "execution_count": 1173,
   "metadata": {},
   "outputs": [
    {
     "data": {
      "text/html": [
       "<div>\n",
       "<style scoped>\n",
       "    .dataframe tbody tr th:only-of-type {\n",
       "        vertical-align: middle;\n",
       "    }\n",
       "\n",
       "    .dataframe tbody tr th {\n",
       "        vertical-align: top;\n",
       "    }\n",
       "\n",
       "    .dataframe thead th {\n",
       "        text-align: right;\n",
       "    }\n",
       "</style>\n",
       "<table border=\"1\" class=\"dataframe\">\n",
       "  <thead>\n",
       "    <tr style=\"text-align: right;\">\n",
       "      <th></th>\n",
       "      <th>td001_dpe_id</th>\n",
       "      <th>tr002_type_batiment_id</th>\n",
       "      <th>gen_ch_lib_infer_concat</th>\n",
       "      <th>mix_energetique_ch</th>\n",
       "      <th>gen_ecs_lib_infer_concat</th>\n",
       "      <th>gen_ch_lib_final</th>\n",
       "      <th>is_ch_solaire_data</th>\n",
       "      <th>is_ch_solaire_txt</th>\n",
       "      <th>is_ch_solaire</th>\n",
       "      <th>type_installation_ch</th>\n",
       "      <th>...</th>\n",
       "      <th>td002_type_energie_ecs</th>\n",
       "      <th>td016_type_energie_ch</th>\n",
       "      <th>td016_type_energie_ecs</th>\n",
       "      <th>concat</th>\n",
       "      <th>type_energie_ch_from_gen</th>\n",
       "      <th>type_energie_ecs_from_gen</th>\n",
       "      <th>chaudiere_ecs</th>\n",
       "      <th>chaudiere_ch</th>\n",
       "      <th>not_chaudiere_ecs</th>\n",
       "      <th>not_chaudiere_ch</th>\n",
       "    </tr>\n",
       "  </thead>\n",
       "  <tbody>\n",
       "    <tr>\n",
       "      <th>42</th>\n",
       "      <td>4728</td>\n",
       "      <td>1</td>\n",
       "      <td>chaudiere gaz standard</td>\n",
       "      <td>gaz</td>\n",
       "      <td>ecs gaz indetermine</td>\n",
       "      <td>chaudiere gaz standard</td>\n",
       "      <td>False</td>\n",
       "      <td>NaN</td>\n",
       "      <td>False</td>\n",
       "      <td>individuel</td>\n",
       "      <td>...</td>\n",
       "      <td>gaz</td>\n",
       "      <td>NaN</td>\n",
       "      <td>NaN</td>\n",
       "      <td>chaudiere gaz standard////chaudiere bois</td>\n",
       "      <td>gaz</td>\n",
       "      <td>bois</td>\n",
       "      <td>chaudiere bois</td>\n",
       "      <td>chaudiere gaz standard</td>\n",
       "      <td></td>\n",
       "      <td></td>\n",
       "    </tr>\n",
       "  </tbody>\n",
       "</table>\n",
       "<p>1 rows × 32 columns</p>\n",
       "</div>"
      ],
      "text/plain": [
       "   td001_dpe_id tr002_type_batiment_id gen_ch_lib_infer_concat  \\\n",
       "42         4728                      1  chaudiere gaz standard   \n",
       "\n",
       "   mix_energetique_ch gen_ecs_lib_infer_concat        gen_ch_lib_final  \\\n",
       "42                gaz      ecs gaz indetermine  chaudiere gaz standard   \n",
       "\n",
       "   is_ch_solaire_data is_ch_solaire_txt  is_ch_solaire type_installation_ch  \\\n",
       "42              False               NaN          False           individuel   \n",
       "\n",
       "    ... td002_type_energie_ecs td016_type_energie_ch td016_type_energie_ecs  \\\n",
       "42  ...                    gaz                   NaN                    NaN   \n",
       "\n",
       "                                      concat type_energie_ch_from_gen  \\\n",
       "42  chaudiere gaz standard////chaudiere bois                      gaz   \n",
       "\n",
       "   type_energie_ecs_from_gen   chaudiere_ecs            chaudiere_ch  \\\n",
       "42                      bois  chaudiere bois  chaudiere gaz standard   \n",
       "\n",
       "   not_chaudiere_ecs not_chaudiere_ch  \n",
       "42                                     \n",
       "\n",
       "[1 rows x 32 columns]"
      ]
     },
     "execution_count": 1173,
     "metadata": {},
     "output_type": "execute_result"
    }
   ],
   "source": [
    "td001_sys.query(f'td001_dpe_id==\"{id_}\"')"
   ]
  },
  {
   "cell_type": "code",
   "execution_count": 1174,
   "metadata": {},
   "outputs": [
    {
     "data": {
      "text/plain": [
       "[{'id': '91578',\n",
       "  'td001_dpe_id': '4728',\n",
       "  'tr011_sous_categorie_fiche_technique_id': '17',\n",
       "  'valeur_renseignee': 'ecs 1 : production par chaudiere gaz  fioul  bois  0l)',\n",
       "  'est_efface': '0'}]"
      ]
     },
     "execution_count": 1174,
     "metadata": {},
     "output_type": "execute_result"
    }
   ],
   "source": [
    "td005_ecs.loc[td005_ecs.td001_dpe_id==id_].to_dict(orient='records')\n"
   ]
  },
  {
   "cell_type": "code",
   "execution_count": 1175,
   "metadata": {},
   "outputs": [
    {
     "data": {
      "text/plain": [
       "[{'id': '55675',\n",
       "  'td001_dpe_id': '4728',\n",
       "  'tr007_type_descriptif_id': '11',\n",
       "  'descriptif': '1 - installation de chauffage sans solaire',\n",
       "  'est_efface': '0'}]"
      ]
     },
     "execution_count": 1175,
     "metadata": {},
     "output_type": "execute_result"
    }
   ],
   "source": [
    "td003_ch.loc[td003_ch.td001_dpe_id==id_].to_dict(orient='records')\n"
   ]
  },
  {
   "cell_type": "code",
   "execution_count": 1176,
   "metadata": {},
   "outputs": [
    {
     "data": {
      "text/plain": [
       "[{'id': '91577',\n",
       "  'td001_dpe_id': '4728',\n",
       "  'tr011_sous_categorie_fiche_technique_id': '16',\n",
       "  'valeur_renseignee': 'inst 1 : 1 - installation de chauffage sans solaire',\n",
       "  'est_efface': '0'}]"
      ]
     },
     "execution_count": 1176,
     "metadata": {},
     "output_type": "execute_result"
    }
   ],
   "source": [
    "td005_ch.loc[td005_ch.td001_dpe_id==id_].to_dict(orient='records')\n"
   ]
  },
  {
   "cell_type": "code",
   "execution_count": 1177,
   "metadata": {},
   "outputs": [
    {
     "data": {
      "text/plain": [
       "[{'id': '55674',\n",
       "  'td001_dpe_id': '4728',\n",
       "  'tr007_type_descriptif_id': '10',\n",
       "  'descriptif': 'production par chaudiere gaz  fioul  bois',\n",
       "  'est_efface': '0'}]"
      ]
     },
     "execution_count": 1177,
     "metadata": {},
     "output_type": "execute_result"
    }
   ],
   "source": [
    "td003_ecs.loc[td003_ecs.td001_dpe_id==id_].to_dict(orient='records')\n"
   ]
  },
  {
   "cell_type": "code",
   "execution_count": null,
   "metadata": {},
   "outputs": [],
   "source": [
    "gen_ch_lib_ft.loc[gen_ch_lib_ft.td001_dpe_id==id_]"
   ]
  },
  {
   "cell_type": "code",
   "execution_count": null,
   "metadata": {},
   "outputs": [],
   "source": [
    "m.loc[m.id=='174001369']"
   ]
  },
  {
   "cell_type": "code",
   "execution_count": null,
   "metadata": {},
   "outputs": [],
   "source": [
    "energie_ch_ft.loc[energie_ch_ft.td001_dpe_id==id_]"
   ]
  },
  {
   "cell_type": "code",
   "execution_count": null,
   "metadata": {},
   "outputs": [],
   "source": [
    "m.loc[gen_ch_lib_ft.td001_dpe_id==id_]"
   ]
  },
  {
   "cell_type": "code",
   "execution_count": null,
   "metadata": {},
   "outputs": [],
   "source": [
    "m"
   ]
  },
  {
   "cell_type": "code",
   "execution_count": null,
   "metadata": {
    "scrolled": true
   },
   "outputs": [],
   "source": [
    "999852"
   ]
  },
  {
   "cell_type": "code",
   "execution_count": null,
   "metadata": {},
   "outputs": [],
   "source": [
    "data_to_search = td005_ch\n"
   ]
  },
  {
   "cell_type": "code",
   "execution_count": null,
   "metadata": {},
   "outputs": [],
   "source": [
    "id_col='id'\n",
    "val_col='valeur_renseignee'\n",
    "search_dict=gen_ch_search_dict_flat"
   ]
  },
  {
   "cell_type": "code",
   "execution_count": null,
   "metadata": {},
   "outputs": [],
   "source": [
    "es_client = setup_es_client()\n",
    "bulk(es_client, gendata(index_name,data_to_search[id_col],data_to_search[val_col]))\n",
    "# res_serie = search_from_search_dict(es_client,search_dict,index_name=index_name)\n",
    "\n",
    "# res_table=res_serie.to_frame('label')\n",
    "\n",
    "# res_table.index.name = 'id'\n",
    "# res_table=res_table.reset_index()"
   ]
  },
  {
   "cell_type": "code",
   "execution_count": null,
   "metadata": {},
   "outputs": [],
   "source": [
    "res_table.loc[res_table.id=='174001369']"
   ]
  },
  {
   "cell_type": "code",
   "execution_count": null,
   "metadata": {},
   "outputs": [],
   "source": [
    "s_list = list()\n",
    "for label,char_list in  search_dict.items():\n",
    "\n",
    "    search_instruction =generate_instruction_from_list(char_list)\n",
    "    search_body = {\n",
    "        \"query\": {\n",
    "            \"query_string\": {\n",
    "                \"query\": search_instruction,\n",
    "                \"default_field\": \"text_to_analyze\"\n",
    "            },\n",
    "\n",
    "        },\n",
    "\n",
    "    }\n",
    "    #es_client.count(index=index_name, body=search_body)\n",
    "\n",
    "    a_dict=es_client.search(index=index_name, body=search_body,size=500000)\n",
    "\n",
    "    hits = a_dict['hits']['hits']\n",
    "\n",
    "    s=pd.Series(index=[el['_source']['id'] for el in hits])\n",
    "    \n",
    "    s[:]=label\n",
    "    s_list.append(s)\n",
    "s_all=pd.concat(s_list)"
   ]
  },
  {
   "cell_type": "code",
   "execution_count": null,
   "metadata": {},
   "outputs": [],
   "source": [
    "[el['_source'] for el in hits if  el['_source']['id']=='174001369']"
   ]
  },
  {
   "cell_type": "code",
   "execution_count": null,
   "metadata": {},
   "outputs": [],
   "source": [
    "s[:]=label"
   ]
  },
  {
   "cell_type": "code",
   "execution_count": null,
   "metadata": {},
   "outputs": [],
   "source": [
    "s"
   ]
  },
  {
   "cell_type": "code",
   "execution_count": null,
   "metadata": {},
   "outputs": [],
   "source": []
  },
  {
   "cell_type": "code",
   "execution_count": null,
   "metadata": {},
   "outputs": [],
   "source": [
    "[el for el in s_all el =='174001369']"
   ]
  },
  {
   "cell_type": "code",
   "execution_count": null,
   "metadata": {},
   "outputs": [],
   "source": [
    "hits"
   ]
  },
  {
   "cell_type": "markdown",
   "metadata": {},
   "source": [
    "# debug search"
   ]
  },
  {
   "cell_type": "code",
   "execution_count": null,
   "metadata": {},
   "outputs": [],
   "source": [
    "toto=\"\"\"\n",
    "systeme de production d ecs principal surface couverte = 60.0 m2 ancien ballon electrique installe en 2007. les pieces desservies sont contigues. la production est en volume chauffe. production : indiv.  ecs solaire : non  vs = 1 x 200 \n",
    "\"\"\"\n",
    "toto=\"\"\"\n",
    " - collectif : solaire avec appoint chaudiere a condensation gaz naturel\"\"\"\n",
    "\n",
    "toto=\"\"\"\n",
    "\n",
    "'type d equipement : chaudiere bois classe 4 energie : bois type d installation : individuelle  sans solaire description : standard  anciennete 0 distribution : production dans le volume chauffe  pieces alimentees contigues  :  '\n",
    "\"\"\"\n",
    "toto =\"\"\"\n",
    "'installation d ecs 34 9\\xa0m²\\r - ecs 1 : chauffe-eau standard  energie : electrique) avec accumulation horizontale 75\\xa0l ; production en volume habitable  alimentant des pieces non contigues'\n",
    "\"\"\"\n",
    "toto =\"\"\"\n",
    "poele au charbon   insert installe apres 2001 avec label flamme verte  systeme individuel)<br  \n",
    "\"\"\"\n",
    "#toto = td005_ch.loc[td005_ch.td001_dpe_id==id_].to_dict(orient='records')[1]['valeur_renseignee']\n",
    "\n",
    "toto ='chaudiere elec.'\n",
    "toto = ' - thema as condens f as 12 tn'\n",
    "toto = ' - chaudiere gaz standard depuis 2001'"
   ]
  },
  {
   "cell_type": "code",
   "execution_count": null,
   "metadata": {},
   "outputs": [],
   "source": []
  },
  {
   "cell_type": "code",
   "execution_count": null,
   "metadata": {},
   "outputs": [],
   "source": [
    "search_instruction = '((reseau de chaleur) OR (reseaux de chaleurs) OR (reseaux de chaleur))'\n",
    "search_instruction = generate_instruction_from_list(gen_ecs_search_dict_flat['ecs thermodynamique electrique(pac ou ballon)'])\n",
    "search_instruction = generate_instruction_from_list(gen_ecs_search_dict_flat['abscence ecs solaire'])\n",
    "\n",
    "search_instruction = generate_instruction_from_list(gen_ch_search_dict_flat['chaudiere energie indetermine condensation'])\n"
   ]
  },
  {
   "cell_type": "code",
   "execution_count": null,
   "metadata": {},
   "outputs": [],
   "source": [
    "search_instruction = generate_instruction_from_list(gen_ecs_search_dict_flat['chaudiere bois exact'])\n",
    "\n",
    "search_instruction = generate_instruction_from_list(gen_ecs_search_dict_flat['production mixte indetermine'])\n",
    "search_instruction = generate_instruction_from_list(gen_ch_search_dict_flat['poele ou insert bois'])"
   ]
  },
  {
   "cell_type": "code",
   "execution_count": null,
   "metadata": {},
   "outputs": [],
   "source": [
    "search_instruction = generate_instruction_from_list(energie_dict['gaz'])\n",
    "search_instruction = generate_instruction_from_list(installation_dict['collectif'])"
   ]
  },
  {
   "cell_type": "code",
   "execution_count": null,
   "metadata": {},
   "outputs": [],
   "source": [
    "#search_instruction='((mixte) OR (combine) OR (chauffage AND ecs) OR (lie ) OR (combine ) OR (idem))'"
   ]
  },
  {
   "cell_type": "code",
   "execution_count": null,
   "metadata": {},
   "outputs": [],
   "source": [
    "from generate_dpe_annexes_scripts.text_matching_dict import *"
   ]
  },
  {
   "cell_type": "code",
   "execution_count": null,
   "metadata": {},
   "outputs": [],
   "source": [
    "search_instruction = generate_instruction_from_list(gen_ecs_search_dict_flat['chaudiere gaz standard'])"
   ]
  },
  {
   "cell_type": "code",
   "execution_count": null,
   "metadata": {},
   "outputs": [],
   "source": [
    "search_instruction"
   ]
  },
  {
   "cell_type": "code",
   "execution_count": null,
   "metadata": {},
   "outputs": [],
   "source": [
    "gen_ecs_search_dict_flat"
   ]
  },
  {
   "cell_type": "code",
   "execution_count": null,
   "metadata": {},
   "outputs": [],
   "source": [
    "toto"
   ]
  },
  {
   "cell_type": "code",
   "execution_count": null,
   "metadata": {},
   "outputs": [],
   "source": [
    "index_name = 'dpe_extract_text'\n",
    "search_body = {\n",
    "    \"query\": {\n",
    "        \"query_string\": {\n",
    "            \"query\": search_instruction,\n",
    "            \"default_field\": \"text_to_analyze\"\n",
    "        },\n",
    "\n",
    "    },\n",
    "\n",
    "}\n",
    "\n",
    "es_client = setup_es_client(index_name=index_name)\n",
    "bulk(es_client, gendata(index_name,['id']*1000,[toto]*1000))\n",
    "\n",
    "time.sleep(1)\n",
    "a_dict=es_client.search(index=index_name, body=search_body,size=500000)\n"
   ]
  },
  {
   "cell_type": "code",
   "execution_count": null,
   "metadata": {},
   "outputs": [],
   "source": [
    "len(a_dict['hits']['hits'])"
   ]
  },
  {
   "cell_type": "code",
   "execution_count": null,
   "metadata": {},
   "outputs": [],
   "source": [
    "a_dict=es_client.search(index=index_name, body=search_body,size=500000)\n",
    "a_dict"
   ]
  },
  {
   "cell_type": "code",
   "execution_count": null,
   "metadata": {},
   "outputs": [],
   "source": [
    "bulk(es_client, gendata(index_name,['id'],[toto]))\n"
   ]
  },
  {
   "cell_type": "code",
   "execution_count": null,
   "metadata": {},
   "outputs": [],
   "source": [
    "es_client"
   ]
  },
  {
   "cell_type": "code",
   "execution_count": null,
   "metadata": {},
   "outputs": [],
   "source": [
    "a_dict"
   ]
  },
  {
   "cell_type": "code",
   "execution_count": null,
   "metadata": {},
   "outputs": [],
   "source": [
    "\n",
    "s_all = search_from_search_dict(es_client,search_dict,index_name=index_name)"
   ]
  },
  {
   "cell_type": "code",
   "execution_count": null,
   "metadata": {},
   "outputs": [],
   "source": []
  },
  {
   "cell_type": "code",
   "execution_count": null,
   "metadata": {},
   "outputs": [],
   "source": [
    "m_ch = m"
   ]
  },
  {
   "cell_type": "code",
   "execution_count": null,
   "metadata": {},
   "outputs": [],
   "source": [
    "id_=m_ch.vr_source_ft.str.contains('air')&m_ch.vr_source_ft.str.contains('eau')&m_ch.vr_source_ft.str.contains('pac')"
   ]
  },
  {
   "cell_type": "code",
   "execution_count": null,
   "metadata": {},
   "outputs": [],
   "source": [
    "m_ch.loc[m_ch.gen_ch_lib_ft.fillna('na').str.contains('air/eau')]"
   ]
  },
  {
   "cell_type": "code",
   "execution_count": null,
   "metadata": {},
   "outputs": [],
   "source": [
    "m_ch.gen_ch_lib_<Q<"
   ]
  },
  {
   "cell_type": "code",
   "execution_count": null,
   "metadata": {},
   "outputs": [],
   "source": [
    "s=m_ch.loc[m_ch.nom_methode_dpe_norm=='FACTURE'].gen_ch_lib_ft.fillna('indetermine').value_counts()"
   ]
  },
  {
   "cell_type": "code",
   "execution_count": null,
   "metadata": {},
   "outputs": [],
   "source": [
    "s.loc['indetermine']/s.sum()"
   ]
  },
  {
   "cell_type": "code",
   "execution_count": null,
   "metadata": {},
   "outputs": [],
   "source": [
    "(s=='indetermine').mean()"
   ]
  },
  {
   "cell_type": "code",
   "execution_count": null,
   "metadata": {},
   "outputs": [],
   "source": [
    "m_ch.groupby('nom_methode_dpe_norm').gen_ch_lib_ft.value_counts()"
   ]
  },
  {
   "cell_type": "code",
   "execution_count": null,
   "metadata": {},
   "outputs": [],
   "source": [
    "m.type_installation_ch_ft.value_counts()"
   ]
  },
  {
   "cell_type": "code",
   "execution_count": null,
   "metadata": {},
   "outputs": [],
   "source": [
    "m.loc[m.gen_ch_lib_ft=='indetermine'].head(470).to_dict(orient='records')"
   ]
  },
  {
   "cell_type": "code",
   "execution_count": null,
   "metadata": {},
   "outputs": [],
   "source": []
  },
  {
   "cell_type": "code",
   "execution_count": null,
   "metadata": {},
   "outputs": [],
   "source": []
  },
  {
   "cell_type": "code",
   "execution_count": null,
   "metadata": {},
   "outputs": [],
   "source": []
  },
  {
   "cell_type": "code",
   "execution_count": null,
   "metadata": {},
   "outputs": [],
   "source": []
  }
 ],
 "metadata": {
  "kernelspec": {
   "display_name": "Python 3",
   "language": "python",
   "name": "python3"
  },
  "language_info": {
   "codemirror_mode": {
    "name": "ipython",
    "version": 3
   },
   "file_extension": ".py",
   "mimetype": "text/x-python",
   "name": "python",
   "nbconvert_exporter": "python",
   "pygments_lexer": "ipython3",
   "version": "3.6.5"
  },
  "toc": {
   "base_numbering": 1,
   "nav_menu": {},
   "number_sections": true,
   "sideBar": true,
   "skip_h1_title": false,
   "title_cell": "Table of Contents",
   "title_sidebar": "Contents",
   "toc_cell": false,
   "toc_position": {
    "height": "calc(100% - 180px)",
    "left": "10px",
    "top": "150px",
    "width": "362.967px"
   },
   "toc_section_display": true,
   "toc_window_display": true
  }
 },
 "nbformat": 4,
 "nbformat_minor": 4
}
