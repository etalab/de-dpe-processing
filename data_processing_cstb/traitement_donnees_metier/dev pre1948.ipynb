{
 "cells": [
  {
   "cell_type": "code",
   "execution_count": 1,
   "metadata": {},
   "outputs": [],
   "source": []
  },
  {
   "cell_type": "markdown",
   "metadata": {},
   "source": [
    "# main"
   ]
  },
  {
   "cell_type": "code",
   "execution_count": 5,
   "metadata": {},
   "outputs": [
    {
     "name": "stdout",
     "output_type": "stream",
     "text": [
      "D:\\data\\dpe_full\\depts\\1\n"
     ]
    }
   ],
   "source": [
    "import numpy as np\n",
    "\n",
    "import pandas as pd\n",
    "from pathlib import Path\n",
    "import json\n",
    "from scripts.utils import round_float_cols, unique_ordered\n",
    "from config import paths\n",
    "\n",
    "\n",
    "if __name__ == '__main__':\n",
    "\n",
    "    data_dir = paths['DPE_DEPT_PATH']\n",
    "    annexe_dir = paths['DPE_DEPT_ANNEXE_PATH']\n",
    "    annexe_dir = Path(annexe_dir)\n",
    "    annexe_dir.mkdir(exist_ok=True, parents=True)\n",
    "    for dept_dir in Path(data_dir).iterdir():\n",
    "        print(dept_dir)\n",
    "        annexe_dept_dir = annexe_dir / dept_dir.name\n",
    "        annexe_dept_dir.mkdir(exist_ok=True, parents=True)\n",
    "        # LOAD TABLES\n",
    "        td001 = pd.read_csv(dept_dir / 'td001_dpe.csv', dtype=str)\n",
    "        td003 = pd.read_csv(dept_dir / 'td003_descriptif.csv', dtype=str)\n",
    "        td005 = pd.read_csv(dept_dir / 'td005_fiche_technique.csv', dtype=str)\n",
    "        td006 = pd.read_csv(dept_dir / 'td001_dpe.csv', dtype=str)\n",
    "\n",
    "        break\n",
    "        # ENVELOPPE PROCESSING\n"
   ]
  },
  {
   "cell_type": "code",
   "execution_count": 27,
   "metadata": {},
   "outputs": [],
   "source": [
    "from scripts.td001_processing import postprocessing_td001\n",
    "td001 = postprocessing_td001(td001)\n",
    "td001 = td001.rename(columns ={'id':'td001_dpe_id'})"
   ]
  },
  {
   "cell_type": "markdown",
   "metadata": {},
   "source": [
    "# ecs"
   ]
  },
  {
   "cell_type": "code",
   "execution_count": 95,
   "metadata": {},
   "outputs": [],
   "source": [
    "mixte = ('mixte', 'combine', 'chauffage + ecs','chauffage et ecs','lie ','combine ',\"idem\")\n",
    "\n",
    "\n",
    "gen_ecs_normalized_lib_matching_dict_ft = {\n",
    "    \"ECS thermodynamique electrique(PAC ou ballon)\": [\n",
    "        ('pompe a chaleur', 'pac', 'thermodynamique', 'air extrait', 'air exterieur', 'air ambiant')],\n",
    "    \n",
    "    \"ballon a accumulation electrique\": [('ballon', 'classique', 'accumulation'), ('electricite', 'electrique','elec.')],\n",
    "    \"ecs electrique indeterminee\": [('electricite', 'electrique','elec.')],\n",
    "    \"ecs instantanee electrique\": ['instantanee', ('electricite', 'electrique','elec.')],\n",
    "\n",
    "    'chaudiere mixte gaz': [\"chaudiere\", mixte, \"gaz\"],\n",
    "    'chaudiere mixte fioul': [\"chaudiere\", mixte, \"fioul\"],\n",
    "    'chaudiere mixte bois': [(\"bois\", \"biomasse\")],\n",
    "\n",
    "    'chauffe-eau gaz independant': [(\"individuelle ballon\", \"chauffe-eau\", \"accumulateur\", \"chauffe bain\"), \"gaz\"],\n",
    "    'chauffe-eau gpl independant': [(\"individuelle ballon\", \"chauffe-eau\", \"accumulateur\", \"chauffe bain\"), \"gpl\"],\n",
    "\n",
    "    'chauffe-eau fioul independant': [(\"individuelle ballon\", \"chauffe-eau\", \"accumulateur\", \"chauffe bain\"),\n",
    "                                      \"fioul\"],\n",
    "    \"ecs collective reseau chaleur\": [\"reseau\", \"chaleur\"],\n",
    "\n",
    "    'chaudiere gaz': [\"chaudiere\", \"gaz\"],\n",
    "    'chaudiere gpl': [\"chaudiere\", \"gpl\"],\n",
    "\n",
    "    'chaudiere fioul': [\"chaudiere\", \"fioul\"],\n",
    "    'chaudiere non déterminee': [\"chaudiere\"],\n",
    "    'production mixte indeterminee': [ mixte],\n",
    "\n",
    "}"
   ]
  },
  {
   "cell_type": "code",
   "execution_count": 100,
   "metadata": {},
   "outputs": [],
   "source": [
    "\n",
    "\n",
    "def postprocessing_ecs_ft(td005):\n",
    "    td005_ecs = td005.loc[td005.tr011_sous_categorie_fiche_technique_id == '17']\n",
    "    vr_ecs = td005_ecs.valeur_renseignee.str.lower().apply(lambda x: strip_accents(x))\n",
    "    sys_ecs_lib_infer_ft=vr_ecs.apply(lambda x:affect_lib_by_matching_score(x,gen_ecs_normalized_lib_matching_dict_ft))"
   ]
  },
  {
   "cell_type": "code",
   "execution_count": 101,
   "metadata": {},
   "outputs": [],
   "source": [
    "from scripts.utils import strip_accents,affect_lib_by_matching_score"
   ]
  },
  {
   "cell_type": "code",
   "execution_count": 102,
   "metadata": {},
   "outputs": [
    {
     "data": {
      "text/plain": [
       "ecs electrique indeterminee                      10790\n",
       "ballon a accumulation electrique                  8548\n",
       "indetermine                                       5413\n",
       "chaudiere mixte gaz                               4963\n",
       "ECS thermodynamique electrique(PAC ou ballon)     3782\n",
       "chaudiere gaz                                     3511\n",
       "production mixte indeterminee                     3482\n",
       "chaudiere mixte fioul                             2355\n",
       "NA                                                1261\n",
       "chaudiere non déterminee                           779\n",
       "chaudiere fioul                                    571\n",
       "ecs collective reseau chaleur                      513\n",
       "chaudiere gpl                                      308\n",
       "chaudiere mixte bois                               196\n",
       "chauffe-eau gaz independant                        193\n",
       "ecs instantanee electrique                         130\n",
       "chauffe-eau gpl independant                         13\n",
       "chauffe-eau fioul independant                        3\n",
       "Name: lib, dtype: int64"
      ]
     },
     "execution_count": 102,
     "metadata": {},
     "output_type": "execute_result"
    }
   ],
   "source": [
    "td005_ecs = td005.loc[td005.tr011_sous_categorie_fiche_technique_id == '17']\n",
    "vr_ecs = td005_ecs.valeur_renseignee.str.lower().apply(lambda x: strip_accents(x))\n",
    "\n",
    "unique_gen_ecs = vr_ecs.unique()\n",
    "gen_ecs_lib_infer_dict = {k: affect_lib_by_matching_score(k, gen_ecs_normalized_lib_matching_dict_ft) for k in\n",
    "                         unique_gen_ecs}\n",
    "sys_ecs_lib_infer_ft=vr_ecs.replace(gen_ecs_lib_infer_dict)\n",
    "\n",
    "df=pd.concat([vr_ecs.to_frame('vr'),sys_ecs_lib_infer_ft.to_frame('lib'),td005_ecs.td001_dpe_id],axis=1)\n",
    "\n",
    "df_ecs =df.merge(td001[['td001_dpe_id','nom_methode_dpe_norm']],on='td001_dpe_id',how='right')\n",
    "\n",
    "df_ecs.loc[df_ecs.nom_methode_dpe_norm=='FACTURE'].lib.fillna('NA').value_counts()"
   ]
  },
  {
   "cell_type": "code",
   "execution_count": 103,
   "metadata": {},
   "outputs": [],
   "source": [
    "sel=df_ecs.loc[df_ecs.lib=='indetermine']\n",
    "vc = sel.vr.apply(lambda x: pd.value_counts(x.split(\" \"))).sum(axis = 0)"
   ]
  },
  {
   "cell_type": "code",
   "execution_count": 94,
   "metadata": {},
   "outputs": [
    {
     "data": {
      "text/plain": [
       "1487      - pac air/eau a accumulation vertical 190 litres\n",
       "1761                                       pac unical 2009\n",
       "3730      - preparateur thermodynamique, appoint elec. ...\n",
       "4175             - magna aqua 300/2, appoint elec. pac ecs\n",
       "4717        - odyssee 2 / aeromax 3, appoint elec. pac ecs\n",
       "                               ...                        \n",
       "92027     - alfea ex   alfea extensa duo a i  6, appoin...\n",
       "92036     - alfea ex   alfea extensa duo   8, appoint e...\n",
       "92040                           pac alfea extensa duo ai 6\n",
       "92136     - alfea ex   alfea extensa duo   6, appoint e...\n",
       "92181                           pac alfea extensa duo ai 5\n",
       "Name: vr, Length: 1821, dtype: object"
      ]
     },
     "execution_count": 94,
     "metadata": {},
     "output_type": "execute_result"
    }
   ],
   "source": [
    "sel.vr.loc[sel.vr.str.contains('pac')]"
   ]
  },
  {
   "cell_type": "code",
   "execution_count": 104,
   "metadata": {},
   "outputs": [
    {
     "data": {
      "text/plain": [
       "{'': 4877.0,\n",
       " '-': 2918.0,\n",
       " 'production': 1645.0,\n",
       " ':': 1285.0,\n",
       " 'collective<br/>': 908.0,\n",
       " 'ballon': 825.0,\n",
       " 'chaude': 747.0,\n",
       " '25': 681.0,\n",
       " 'litres': 581.0,\n",
       " 'condens': 567.0,\n",
       " 'volume': 557.0,\n",
       " \"d'eau\": 529.0,\n",
       " 'en': 514.0,\n",
       " 'c': 500.0,\n",
       " 'green': 479.0,\n",
       " 'individuelle': 460.0,\n",
       " 'habitable': 457.0,\n",
       " 'chauffe<br/>': 457.0,\n",
       " \"d'ecs\": 429.0,\n",
       " 'installation': 416.0,\n",
       " 'mira': 386.0,\n",
       " 'themaplus': 311.0,\n",
       " 'stockage': 309.0,\n",
       " 'a': 306.0,\n",
       " 'duo': 305.0,\n",
       " 'atlantic': 297.0,\n",
       " 'ff': 293.0,\n",
       " 'de': 277.0,\n",
       " 'eu': 248.0,\n",
       " '1<br/>': 235.0,\n",
       " 'eau': 231.0,\n",
       " 'gaz': 231.0,\n",
       " 'f': 225.0,\n",
       " 'naia': 199.0,\n",
       " 'source': 195.0,\n",
       " 'ecs': 194.0,\n",
       " 'varmax': 185.0,\n",
       " '1000': 184.0,\n",
       " '30': 184.0,\n",
       " 'evo': 178.0}"
      ]
     },
     "execution_count": 104,
     "metadata": {},
     "output_type": "execute_result"
    }
   ],
   "source": [
    "vc.sort_values(ascending=False).iloc[0:40].to_dict()"
   ]
  },
  {
   "cell_type": "markdown",
   "metadata": {},
   "source": [
    "# chauffage"
   ]
  },
  {
   "cell_type": "code",
   "execution_count": 79,
   "metadata": {},
   "outputs": [],
   "source": [
    "# GEN CH NORMALIZED DICT\n",
    "gen_ch_normalized_lib_matching_dict = {\"pac air/air\": ['pac', 'air/air', ('electricite', 'electrique')],\n",
    "                                       \"pac air/eau\": ['pac', 'air/eau', ('electricite', 'electrique')],\n",
    "                                       \"pac eau/eau\": ['pac', 'eau/eau', ('electricite', 'electrique')],\n",
    "                                       \"pac geothermique\": ['pac', (\n",
    "                                           'geothermique', 'géothermique', 'géothermie', 'geothermie'),\n",
    "                                                            ('electricite', 'electrique')],\n",
    "                                       'panneaux rayonnants electriques nfc': ['panneau', ('electricite', 'electrique'),\n",
    "                                                                               'nfc'],\n",
    "                                       'radiateurs electriques': ['radiateur', ('electricite', 'electrique')],\n",
    "                                       'plafonds/planchers rayonnants electriques nfc': [('plancher', 'plafond'),\n",
    "                                                                                         ('electricite', 'electrique')],\n",
    "                                       \"convecteurs electriques nfc\": ['convecteur', ('electricite', 'electrique'),\n",
    "                                                                       'nfc'],\n",
    "                                       \"poele ou insert bois\": [('poele', 'insert'), ('bois', 'biomasse')],\n",
    "                                       \"poele ou insert fioul/gpl\": [('poele', 'insert'), ('fioul', 'gpl')],\n",
    "\n",
    "                                       \"autres emetteurs a effet joule\": [('electricite', 'electrique')],\n",
    "                                       \"reseau de chaleur\": ['reseau', 'chaleur'],\n",
    "                                       \"convecteurs bi-jonction\": ['bi', 'jonction', ('electricite', 'electrique')],\n",
    "                                       }\n",
    "\n",
    "for type_chaudiere, type_chaudiere_keys in zip(['standard', 'basse temperature', 'condensation', 'non déterminee'],\n",
    "                                               [('standard', 'classique'), 'basse temperature',\n",
    "                                                ('condensation', 'condenseurs'), None]):\n",
    "    for energie in ['fioul', 'gaz']:\n",
    "        if type_chaudiere_keys is not None:\n",
    "            gen_ch_normalized_lib_matching_dict[f'chaudiere {energie} {type_chaudiere}'] = ['chaudiere', energie,\n",
    "                                                                                            type_chaudiere_keys]\n",
    "        else:\n",
    "            gen_ch_normalized_lib_matching_dict[f'chaudiere {energie} {type_chaudiere}'] = ['chaudiere', energie\n",
    "                                                                                            ]\n",
    "    energie_gaz = gen_ch_normalized_lib_matching_dict[f'chaudiere gaz {type_chaudiere}'][1]\n",
    "    energie_gaz = (energie_gaz, 'gpl', 'butane', 'propane')\n",
    "    gen_ch_normalized_lib_matching_dict[f'chaudiere gaz {type_chaudiere}'][1] = energie_gaz\n",
    "\n",
    "gen_ch_normalized_lib_matching_dict['chaudiere bois/biomasse'] = ['chaudiere',\n",
    "                                                                  ('bois', 'biomasse')]\n",
    "gen_ch_normalized_lib_matching_dict['chaudiere electrique'] = ['chaudiere',\n",
    "                                                               ('electricite', 'electrique')]"
   ]
  },
  {
   "cell_type": "code",
   "execution_count": 80,
   "metadata": {},
   "outputs": [
    {
     "data": {
      "text/plain": [
       "indetermine                                      8978\n",
       "chaudiere gaz non déterminee                     6900\n",
       "chaudiere gaz condensation                       4997\n",
       "chaudiere fioul non déterminee                   4208\n",
       "radiateurs electriques                           3484\n",
       "poele ou insert bois                             3482\n",
       "panneaux rayonnants electriques nfc              3180\n",
       "convecteurs electriques nfc                      2871\n",
       "autres emetteurs a effet joule                   2384\n",
       "chaudiere gaz standard                           2043\n",
       "chaudiere gaz basse temperature                  1991\n",
       "plafonds/planchers rayonnants electriques nfc    1079\n",
       "NA                                               1020\n",
       "chaudiere bois/biomasse                           978\n",
       "chaudiere fioul condensation                      827\n",
       "chaudiere fioul standard                          770\n",
       "reseau de chaleur                                 737\n",
       "pac air/air                                       489\n",
       "chaudiere fioul basse temperature                 370\n",
       "pac air/eau                                       361\n",
       "chaudiere electrique                              353\n",
       "poele ou insert fioul/gpl                         185\n",
       "convecteurs bi-jonction                           146\n",
       "pac geothermique                                   22\n",
       "pac eau/eau                                         7\n",
       "Name: lib, dtype: int64"
      ]
     },
     "execution_count": 80,
     "metadata": {},
     "output_type": "execute_result"
    }
   ],
   "source": [
    "td005_ch = td005.loc[td005.tr011_sous_categorie_fiche_technique_id == '16']\n",
    "vr_ch = td005_ch.valeur_renseignee.str.lower().apply(lambda x: strip_accents(x))\n",
    "\n",
    "unique_gen_ch = vr_ch.unique()\n",
    "gen_ch_lib_infer_dict = {k: affect_lib_by_matching_score(k, gen_ch_normalized_lib_matching_dict) for k in\n",
    "                         unique_gen_ch}\n",
    "sys_ch_lib_infer_ft=vr_ch.replace(gen_ch_lib_infer_dict)\n",
    "\n",
    "df=pd.concat([vr_ch.to_frame('vr'),sys_ch_lib_infer_ft.to_frame('lib'),td005_ch.td001_dpe_id],axis=1)\n",
    "\n",
    "df_ch =df.merge(td001[['td001_dpe_id','nom_methode_dpe_norm']],on='td001_dpe_id',how='right')\n",
    "\n",
    "df_ch.loc[df_ch.nom_methode_dpe_norm=='FACTURE'].lib.fillna('NA').value_counts()"
   ]
  },
  {
   "cell_type": "code",
   "execution_count": null,
   "metadata": {},
   "outputs": [],
   "source": [
    "from collections import Counter\n",
    "result = Counter(\" \".join(df['text'].values.tolist()).split(\" \")).items()\n",
    "result"
   ]
  }
 ],
 "metadata": {
  "kernelspec": {
   "display_name": "Python 3",
   "language": "python",
   "name": "python3"
  },
  "language_info": {
   "codemirror_mode": {
    "name": "ipython",
    "version": 3
   },
   "file_extension": ".py",
   "mimetype": "text/x-python",
   "name": "python",
   "nbconvert_exporter": "python",
   "pygments_lexer": "ipython3",
   "version": "3.6.5"
  },
  "toc": {
   "base_numbering": 1,
   "nav_menu": {},
   "number_sections": true,
   "sideBar": true,
   "skip_h1_title": false,
   "title_cell": "Table of Contents",
   "title_sidebar": "Contents",
   "toc_cell": false,
   "toc_position": {
    "height": "calc(100% - 180px)",
    "left": "10px",
    "top": "150px",
    "width": "172.533px"
   },
   "toc_section_display": true,
   "toc_window_display": true
  }
 },
 "nbformat": 4,
 "nbformat_minor": 4
}
